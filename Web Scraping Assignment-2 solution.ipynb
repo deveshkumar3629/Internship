{
 "cells": [
  {
   "cell_type": "code",
   "execution_count": 86,
   "id": "d1eff905",
   "metadata": {},
   "outputs": [],
   "source": [
    "import selenium\n",
    "import pandas as pd\n",
    "from selenium import webdriver\n",
    "import warnings\n",
    "warnings.filterwarnings('ignore')\n",
    "import time"
   ]
  },
  {
   "cell_type": "code",
   "execution_count": 108,
   "id": "2bbc371b",
   "metadata": {},
   "outputs": [],
   "source": [
    "driver=webdriver.Chrome('chromedriver.exe')\n",
    "time.sleep(2)"
   ]
  },
  {
   "cell_type": "markdown",
   "id": "a043c6c3",
   "metadata": {},
   "source": [
    "### Que.1"
   ]
  },
  {
   "cell_type": "code",
   "execution_count": 88,
   "id": "8529fb13",
   "metadata": {},
   "outputs": [],
   "source": [
    "driver.get('https://www.naukri.com/')"
   ]
  },
  {
   "cell_type": "code",
   "execution_count": 89,
   "id": "b64ac7da",
   "metadata": {},
   "outputs": [],
   "source": [
    "search_field_designation=driver.find_element_by_class_name('suggestor-input ')\n",
    "search_field_designation.send_keys(\"Data Analyst\")\n",
    "search_field_location=driver.find_element_by_xpath(\"/html/body/div/div[2]/div[3]/div/div/div[3]/div/div/div/input\")\n",
    "search_field_location.send_keys(\"Bangalore\")"
   ]
  },
  {
   "cell_type": "code",
   "execution_count": 90,
   "id": "9758a6be",
   "metadata": {},
   "outputs": [],
   "source": [
    "search_button=driver.find_element_by_xpath('/html/body/div/div[2]/div[3]/div/div/div[6]')\n",
    "search_button.click()"
   ]
  },
  {
   "cell_type": "code",
   "execution_count": 91,
   "id": "6572bb1d",
   "metadata": {},
   "outputs": [],
   "source": [
    "url=\"https://www.naukri.com/data-analyst-jobs-in-bangalore?k=data%20analyst&l=bangalore\""
   ]
  },
  {
   "cell_type": "code",
   "execution_count": 92,
   "id": "4f0fccc4",
   "metadata": {},
   "outputs": [],
   "source": [
    "driver.get(url)"
   ]
  },
  {
   "cell_type": "code",
   "execution_count": 93,
   "id": "925f7d5f",
   "metadata": {},
   "outputs": [],
   "source": [
    "job_title=[]\n",
    "job_location=[]\n",
    "company_names=[]\n",
    "experience_required=[]"
   ]
  },
  {
   "cell_type": "code",
   "execution_count": 94,
   "id": "eeb6c6cd",
   "metadata": {},
   "outputs": [
    {
     "data": {
      "text/plain": [
       "[<selenium.webdriver.remote.webelement.WebElement (session=\"ed5e34e6c5510af6113042ee0e9eeee4\", element=\"1e1fa393-6260-47d5-ac21-0013322dc222\")>,\n",
       " <selenium.webdriver.remote.webelement.WebElement (session=\"ed5e34e6c5510af6113042ee0e9eeee4\", element=\"f1d47012-ed54-4ec6-8bc7-f7ed298edb92\")>,\n",
       " <selenium.webdriver.remote.webelement.WebElement (session=\"ed5e34e6c5510af6113042ee0e9eeee4\", element=\"72dfb200-9b11-4e40-92f1-a4f6e228b01f\")>,\n",
       " <selenium.webdriver.remote.webelement.WebElement (session=\"ed5e34e6c5510af6113042ee0e9eeee4\", element=\"93a1b461-f1af-4546-b60c-ee288f13a1e8\")>,\n",
       " <selenium.webdriver.remote.webelement.WebElement (session=\"ed5e34e6c5510af6113042ee0e9eeee4\", element=\"93ce4fb0-bb33-4e4b-a2b7-26b5e00800b5\")>,\n",
       " <selenium.webdriver.remote.webelement.WebElement (session=\"ed5e34e6c5510af6113042ee0e9eeee4\", element=\"3e8d7a57-6153-4358-b23e-fe21f49f7445\")>,\n",
       " <selenium.webdriver.remote.webelement.WebElement (session=\"ed5e34e6c5510af6113042ee0e9eeee4\", element=\"90ed6f14-19a0-4bd3-b02f-bb427365b0c0\")>,\n",
       " <selenium.webdriver.remote.webelement.WebElement (session=\"ed5e34e6c5510af6113042ee0e9eeee4\", element=\"d56487c6-1802-4e6e-af71-178465922fa3\")>,\n",
       " <selenium.webdriver.remote.webelement.WebElement (session=\"ed5e34e6c5510af6113042ee0e9eeee4\", element=\"2605fb53-154a-4219-907c-8e0b388b27c6\")>,\n",
       " <selenium.webdriver.remote.webelement.WebElement (session=\"ed5e34e6c5510af6113042ee0e9eeee4\", element=\"785a79d7-ecac-4f4f-9c29-47504ab350b4\")>]"
      ]
     },
     "execution_count": 94,
     "metadata": {},
     "output_type": "execute_result"
    }
   ],
   "source": [
    "titles_tags=driver.find_elements_by_xpath('//a[@class=\"title fw500 ellipsis\"]')\n",
    "titles_tags[0:10]"
   ]
  },
  {
   "cell_type": "code",
   "execution_count": 95,
   "id": "4a1ee153",
   "metadata": {},
   "outputs": [
    {
     "data": {
      "text/plain": [
       "['Senior Data Analyst II',\n",
       " 'Senior Data Analyst II',\n",
       " 'Data Analysts with Business Analysis',\n",
       " 'Data Analyst / Data Engineer',\n",
       " 'Senior Data Analyst',\n",
       " 'Sr Domain Expert -Data Analysts',\n",
       " 'Business Analyst/Data Analyst',\n",
       " 'Senior Data Analyst - KPO',\n",
       " 'Senior Data Analyst',\n",
       " 'Consultant - Data Analyst']"
      ]
     },
     "execution_count": 95,
     "metadata": {},
     "output_type": "execute_result"
    }
   ],
   "source": [
    "for i in titles_tags:\n",
    "    title=i.text\n",
    "    job_title.append(title)\n",
    "job_title[0:10]"
   ]
  },
  {
   "cell_type": "code",
   "execution_count": 96,
   "id": "ee71a50a",
   "metadata": {},
   "outputs": [
    {
     "data": {
      "text/plain": [
       "[<selenium.webdriver.remote.webelement.WebElement (session=\"ed5e34e6c5510af6113042ee0e9eeee4\", element=\"a54b34fb-6eba-4fec-b68c-e25f5aa6b4a7\")>,\n",
       " <selenium.webdriver.remote.webelement.WebElement (session=\"ed5e34e6c5510af6113042ee0e9eeee4\", element=\"2ccac3a7-a711-49c5-9260-42500fae1b81\")>,\n",
       " <selenium.webdriver.remote.webelement.WebElement (session=\"ed5e34e6c5510af6113042ee0e9eeee4\", element=\"03eacf34-59b6-446e-80a6-ab64a464ed4c\")>,\n",
       " <selenium.webdriver.remote.webelement.WebElement (session=\"ed5e34e6c5510af6113042ee0e9eeee4\", element=\"71db292b-4a98-4f62-ba68-e1fc3ceea9b4\")>,\n",
       " <selenium.webdriver.remote.webelement.WebElement (session=\"ed5e34e6c5510af6113042ee0e9eeee4\", element=\"3a8d01a2-6542-45c7-a4d0-0cd1d6e89ee1\")>,\n",
       " <selenium.webdriver.remote.webelement.WebElement (session=\"ed5e34e6c5510af6113042ee0e9eeee4\", element=\"787c17cc-502e-4656-a6bd-4ab7baaecd75\")>,\n",
       " <selenium.webdriver.remote.webelement.WebElement (session=\"ed5e34e6c5510af6113042ee0e9eeee4\", element=\"55bd001c-9780-4e98-90f9-32f3c1ae16e7\")>,\n",
       " <selenium.webdriver.remote.webelement.WebElement (session=\"ed5e34e6c5510af6113042ee0e9eeee4\", element=\"df798e50-cec2-484c-8800-7cb5d31768fc\")>,\n",
       " <selenium.webdriver.remote.webelement.WebElement (session=\"ed5e34e6c5510af6113042ee0e9eeee4\", element=\"0bb4223b-05b6-4550-af99-688364d0908b\")>,\n",
       " <selenium.webdriver.remote.webelement.WebElement (session=\"ed5e34e6c5510af6113042ee0e9eeee4\", element=\"c2fa1371-0f8a-4d2a-bfdf-34ff85a92a95\")>]"
      ]
     },
     "execution_count": 96,
     "metadata": {},
     "output_type": "execute_result"
    }
   ],
   "source": [
    "location_tags=driver.find_elements_by_xpath(\"//li[@class='fleft grey-text br2 placeHolderLi location']/span[1]\")\n",
    "location_tags[0:10]"
   ]
  },
  {
   "cell_type": "code",
   "execution_count": 97,
   "id": "2b06ba22",
   "metadata": {},
   "outputs": [
    {
     "data": {
      "text/plain": [
       "['Bangalore/Bengaluru',\n",
       " 'Bangalore/Bengaluru',\n",
       " 'Bangalore/Bengaluru',\n",
       " 'Indore, Pune, Bangalore/Bengaluru',\n",
       " 'Bangalore/Bengaluru',\n",
       " 'Bangalore/Bengaluru',\n",
       " 'Hyderabad/Secunderabad, Bangalore/Bengaluru, Delhi / NCR',\n",
       " 'Gurgaon/Gurugram, Bangalore/Bengaluru',\n",
       " 'Bangalore/Bengaluru',\n",
       " 'Bangalore/Bengaluru']"
      ]
     },
     "execution_count": 97,
     "metadata": {},
     "output_type": "execute_result"
    }
   ],
   "source": [
    "for i in location_tags:\n",
    "    location=i.text\n",
    "    job_location.append(location)\n",
    "job_location[0:10]"
   ]
  },
  {
   "cell_type": "code",
   "execution_count": 98,
   "id": "4f4f53b1",
   "metadata": {},
   "outputs": [
    {
     "data": {
      "text/plain": [
       "[<selenium.webdriver.remote.webelement.WebElement (session=\"ed5e34e6c5510af6113042ee0e9eeee4\", element=\"0f0e7228-efb6-4c79-a495-105e07088296\")>,\n",
       " <selenium.webdriver.remote.webelement.WebElement (session=\"ed5e34e6c5510af6113042ee0e9eeee4\", element=\"4ff830d7-1bc7-4c52-90c2-a3aaf5a2b36a\")>,\n",
       " <selenium.webdriver.remote.webelement.WebElement (session=\"ed5e34e6c5510af6113042ee0e9eeee4\", element=\"3b6e21d0-70f5-43d6-9f67-bed0fc5ed06c\")>,\n",
       " <selenium.webdriver.remote.webelement.WebElement (session=\"ed5e34e6c5510af6113042ee0e9eeee4\", element=\"c77868ec-191e-45e8-beab-32461c1d523b\")>,\n",
       " <selenium.webdriver.remote.webelement.WebElement (session=\"ed5e34e6c5510af6113042ee0e9eeee4\", element=\"eaa282c8-c355-48fa-8b2a-f4a38f212038\")>,\n",
       " <selenium.webdriver.remote.webelement.WebElement (session=\"ed5e34e6c5510af6113042ee0e9eeee4\", element=\"02e6933b-ecac-49a5-ad82-9339ded60309\")>,\n",
       " <selenium.webdriver.remote.webelement.WebElement (session=\"ed5e34e6c5510af6113042ee0e9eeee4\", element=\"9e62f8cc-001f-4eae-ba07-a07d93daea38\")>,\n",
       " <selenium.webdriver.remote.webelement.WebElement (session=\"ed5e34e6c5510af6113042ee0e9eeee4\", element=\"5eef1b72-8d32-4f9b-994c-8d721f1039c0\")>,\n",
       " <selenium.webdriver.remote.webelement.WebElement (session=\"ed5e34e6c5510af6113042ee0e9eeee4\", element=\"e3a424a9-aff6-4e5f-85c0-5a6c2f2b1655\")>,\n",
       " <selenium.webdriver.remote.webelement.WebElement (session=\"ed5e34e6c5510af6113042ee0e9eeee4\", element=\"f5b0fdbe-811d-4168-b173-96bb1273001a\")>]"
      ]
     },
     "execution_count": 98,
     "metadata": {},
     "output_type": "execute_result"
    }
   ],
   "source": [
    "companies_tags=driver.find_elements_by_xpath(\"//a[@class='subTitle ellipsis fleft']\")\n",
    "companies_tags[0:10]"
   ]
  },
  {
   "cell_type": "code",
   "execution_count": 99,
   "id": "2df665dd",
   "metadata": {},
   "outputs": [
    {
     "data": {
      "text/plain": [
       "['Flipkart',\n",
       " 'Flipkart',\n",
       " 'Avanze Technologies India Pvt. Ltd.',\n",
       " 'TALENT MAX HR & MANAGEMENT CONSULTANTS',\n",
       " 'Flipkart',\n",
       " 'Siemens',\n",
       " 'Telamon HR Solutions',\n",
       " 'Huquo Consulting Pvt. Ltd',\n",
       " 'Cerner',\n",
       " 'Flipkart']"
      ]
     },
     "execution_count": 99,
     "metadata": {},
     "output_type": "execute_result"
    }
   ],
   "source": [
    "for i in companies_tags:\n",
    "    company_name=i.text\n",
    "    company_names.append(company_name)\n",
    "company_names[0:10]"
   ]
  },
  {
   "cell_type": "code",
   "execution_count": 100,
   "id": "80889b21",
   "metadata": {},
   "outputs": [
    {
     "data": {
      "text/plain": [
       "[<selenium.webdriver.remote.webelement.WebElement (session=\"ed5e34e6c5510af6113042ee0e9eeee4\", element=\"d8847e99-fe87-4e64-b92a-635f93c38119\")>,\n",
       " <selenium.webdriver.remote.webelement.WebElement (session=\"ed5e34e6c5510af6113042ee0e9eeee4\", element=\"651bf5cb-3432-42a0-bda7-5cd47ad98742\")>,\n",
       " <selenium.webdriver.remote.webelement.WebElement (session=\"ed5e34e6c5510af6113042ee0e9eeee4\", element=\"0447cdb2-5d29-4146-a395-d7ee2c021b4a\")>,\n",
       " <selenium.webdriver.remote.webelement.WebElement (session=\"ed5e34e6c5510af6113042ee0e9eeee4\", element=\"b4804521-b521-4697-8e88-94db80fc37f0\")>,\n",
       " <selenium.webdriver.remote.webelement.WebElement (session=\"ed5e34e6c5510af6113042ee0e9eeee4\", element=\"58e2490b-f910-4510-9563-f293b877c6fb\")>,\n",
       " <selenium.webdriver.remote.webelement.WebElement (session=\"ed5e34e6c5510af6113042ee0e9eeee4\", element=\"bf35b018-8977-4f61-b099-d7b65e0c1717\")>,\n",
       " <selenium.webdriver.remote.webelement.WebElement (session=\"ed5e34e6c5510af6113042ee0e9eeee4\", element=\"0a103bae-6047-4715-81d7-1755d050cbde\")>,\n",
       " <selenium.webdriver.remote.webelement.WebElement (session=\"ed5e34e6c5510af6113042ee0e9eeee4\", element=\"35a80c5c-baf0-4850-973b-06431305f751\")>,\n",
       " <selenium.webdriver.remote.webelement.WebElement (session=\"ed5e34e6c5510af6113042ee0e9eeee4\", element=\"4e08781a-fa62-47c9-8cfa-f30f3aad2f2b\")>,\n",
       " <selenium.webdriver.remote.webelement.WebElement (session=\"ed5e34e6c5510af6113042ee0e9eeee4\", element=\"49bc5576-975c-409d-9c75-49547f3845bf\")>]"
      ]
     },
     "execution_count": 100,
     "metadata": {},
     "output_type": "execute_result"
    }
   ],
   "source": [
    "experience_tags=driver.find_elements_by_xpath(\"//li[@class='fleft grey-text br2 placeHolderLi experience']/span[1]\")\n",
    "experience_tags[0:10]"
   ]
  },
  {
   "cell_type": "code",
   "execution_count": 101,
   "id": "e1fec2df",
   "metadata": {},
   "outputs": [
    {
     "data": {
      "text/plain": [
       "['2-4 Yrs',\n",
       " '3-6 Yrs',\n",
       " '6-8 Yrs',\n",
       " '8-13 Yrs',\n",
       " '4-6 Yrs',\n",
       " '0-10 Yrs',\n",
       " '3-5 Yrs',\n",
       " '7-12 Yrs',\n",
       " '8-12 Yrs',\n",
       " '1-3 Yrs']"
      ]
     },
     "execution_count": 101,
     "metadata": {},
     "output_type": "execute_result"
    }
   ],
   "source": [
    "for i in experience_tags:\n",
    "    experience=i.text\n",
    "    experience_required.append(experience)\n",
    "experience_required[0:10]"
   ]
  },
  {
   "cell_type": "code",
   "execution_count": 102,
   "id": "ceff895d",
   "metadata": {},
   "outputs": [
    {
     "name": "stdout",
     "output_type": "stream",
     "text": [
      "20 20 20 20\n"
     ]
    }
   ],
   "source": [
    "print(len(job_title),len(job_location),len(company_names),len(experience_required))"
   ]
  },
  {
   "cell_type": "code",
   "execution_count": 103,
   "id": "c9451f4d",
   "metadata": {},
   "outputs": [],
   "source": [
    "jobs=pd.DataFrame({})\n",
    "jobs['Title']=job_title\n",
    "jobs['Location']=job_location\n",
    "jobs['Company']=company_names\n",
    "jobs['Experience_Required']=experience_required"
   ]
  },
  {
   "cell_type": "code",
   "execution_count": 104,
   "id": "4be7774b",
   "metadata": {},
   "outputs": [
    {
     "data": {
      "text/html": [
       "<div>\n",
       "<style scoped>\n",
       "    .dataframe tbody tr th:only-of-type {\n",
       "        vertical-align: middle;\n",
       "    }\n",
       "\n",
       "    .dataframe tbody tr th {\n",
       "        vertical-align: top;\n",
       "    }\n",
       "\n",
       "    .dataframe thead th {\n",
       "        text-align: right;\n",
       "    }\n",
       "</style>\n",
       "<table border=\"1\" class=\"dataframe\">\n",
       "  <thead>\n",
       "    <tr style=\"text-align: right;\">\n",
       "      <th></th>\n",
       "      <th>Title</th>\n",
       "      <th>Location</th>\n",
       "      <th>Company</th>\n",
       "      <th>Experience_Required</th>\n",
       "    </tr>\n",
       "  </thead>\n",
       "  <tbody>\n",
       "    <tr>\n",
       "      <th>0</th>\n",
       "      <td>Senior Data Analyst II</td>\n",
       "      <td>Bangalore/Bengaluru</td>\n",
       "      <td>Flipkart</td>\n",
       "      <td>2-4 Yrs</td>\n",
       "    </tr>\n",
       "    <tr>\n",
       "      <th>1</th>\n",
       "      <td>Senior Data Analyst II</td>\n",
       "      <td>Bangalore/Bengaluru</td>\n",
       "      <td>Flipkart</td>\n",
       "      <td>3-6 Yrs</td>\n",
       "    </tr>\n",
       "    <tr>\n",
       "      <th>2</th>\n",
       "      <td>Data Analysts with Business Analysis</td>\n",
       "      <td>Bangalore/Bengaluru</td>\n",
       "      <td>Avanze Technologies India Pvt. Ltd.</td>\n",
       "      <td>6-8 Yrs</td>\n",
       "    </tr>\n",
       "    <tr>\n",
       "      <th>3</th>\n",
       "      <td>Data Analyst / Data Engineer</td>\n",
       "      <td>Indore, Pune, Bangalore/Bengaluru</td>\n",
       "      <td>TALENT MAX HR &amp; MANAGEMENT CONSULTANTS</td>\n",
       "      <td>8-13 Yrs</td>\n",
       "    </tr>\n",
       "    <tr>\n",
       "      <th>4</th>\n",
       "      <td>Senior Data Analyst</td>\n",
       "      <td>Bangalore/Bengaluru</td>\n",
       "      <td>Flipkart</td>\n",
       "      <td>4-6 Yrs</td>\n",
       "    </tr>\n",
       "    <tr>\n",
       "      <th>5</th>\n",
       "      <td>Sr Domain Expert -Data Analysts</td>\n",
       "      <td>Bangalore/Bengaluru</td>\n",
       "      <td>Siemens</td>\n",
       "      <td>0-10 Yrs</td>\n",
       "    </tr>\n",
       "    <tr>\n",
       "      <th>6</th>\n",
       "      <td>Business Analyst/Data Analyst</td>\n",
       "      <td>Hyderabad/Secunderabad, Bangalore/Bengaluru, D...</td>\n",
       "      <td>Telamon HR Solutions</td>\n",
       "      <td>3-5 Yrs</td>\n",
       "    </tr>\n",
       "    <tr>\n",
       "      <th>7</th>\n",
       "      <td>Senior Data Analyst - KPO</td>\n",
       "      <td>Gurgaon/Gurugram, Bangalore/Bengaluru</td>\n",
       "      <td>Huquo Consulting Pvt. Ltd</td>\n",
       "      <td>7-12 Yrs</td>\n",
       "    </tr>\n",
       "    <tr>\n",
       "      <th>8</th>\n",
       "      <td>Senior Data Analyst</td>\n",
       "      <td>Bangalore/Bengaluru</td>\n",
       "      <td>Cerner</td>\n",
       "      <td>8-12 Yrs</td>\n",
       "    </tr>\n",
       "    <tr>\n",
       "      <th>9</th>\n",
       "      <td>Consultant - Data Analyst</td>\n",
       "      <td>Bangalore/Bengaluru</td>\n",
       "      <td>Flipkart</td>\n",
       "      <td>1-3 Yrs</td>\n",
       "    </tr>\n",
       "  </tbody>\n",
       "</table>\n",
       "</div>"
      ],
      "text/plain": [
       "                                  Title  \\\n",
       "0                Senior Data Analyst II   \n",
       "1                Senior Data Analyst II   \n",
       "2  Data Analysts with Business Analysis   \n",
       "3          Data Analyst / Data Engineer   \n",
       "4                   Senior Data Analyst   \n",
       "5       Sr Domain Expert -Data Analysts   \n",
       "6         Business Analyst/Data Analyst   \n",
       "7             Senior Data Analyst - KPO   \n",
       "8                   Senior Data Analyst   \n",
       "9             Consultant - Data Analyst   \n",
       "\n",
       "                                            Location  \\\n",
       "0                                Bangalore/Bengaluru   \n",
       "1                                Bangalore/Bengaluru   \n",
       "2                                Bangalore/Bengaluru   \n",
       "3                  Indore, Pune, Bangalore/Bengaluru   \n",
       "4                                Bangalore/Bengaluru   \n",
       "5                                Bangalore/Bengaluru   \n",
       "6  Hyderabad/Secunderabad, Bangalore/Bengaluru, D...   \n",
       "7              Gurgaon/Gurugram, Bangalore/Bengaluru   \n",
       "8                                Bangalore/Bengaluru   \n",
       "9                                Bangalore/Bengaluru   \n",
       "\n",
       "                                  Company Experience_Required  \n",
       "0                                Flipkart             2-4 Yrs  \n",
       "1                                Flipkart             3-6 Yrs  \n",
       "2     Avanze Technologies India Pvt. Ltd.             6-8 Yrs  \n",
       "3  TALENT MAX HR & MANAGEMENT CONSULTANTS            8-13 Yrs  \n",
       "4                                Flipkart             4-6 Yrs  \n",
       "5                                 Siemens            0-10 Yrs  \n",
       "6                    Telamon HR Solutions             3-5 Yrs  \n",
       "7               Huquo Consulting Pvt. Ltd            7-12 Yrs  \n",
       "8                                  Cerner            8-12 Yrs  \n",
       "9                                Flipkart             1-3 Yrs  "
      ]
     },
     "execution_count": 104,
     "metadata": {},
     "output_type": "execute_result"
    }
   ],
   "source": [
    "jobs.head(10)"
   ]
  },
  {
   "cell_type": "code",
   "execution_count": 109,
   "id": "5735e4c7",
   "metadata": {},
   "outputs": [],
   "source": [
    "driver.close()"
   ]
  },
  {
   "cell_type": "markdown",
   "id": "18decce3",
   "metadata": {},
   "source": [
    "### Que.2"
   ]
  },
  {
   "cell_type": "code",
   "execution_count": 110,
   "id": "00f725a3",
   "metadata": {},
   "outputs": [],
   "source": [
    "driver=webdriver.Chrome('chromedriver.exe')\n",
    "time.sleep(2)"
   ]
  },
  {
   "cell_type": "code",
   "execution_count": 111,
   "id": "43848f6d",
   "metadata": {},
   "outputs": [],
   "source": [
    "driver.get('https://www.naukri.com/')"
   ]
  },
  {
   "cell_type": "code",
   "execution_count": 112,
   "id": "b653e904",
   "metadata": {},
   "outputs": [],
   "source": [
    "search_field_designation=driver.find_element_by_class_name('suggestor-input ')\n",
    "search_field_designation.send_keys(\"Data Scientist\")\n",
    "search_field_location=driver.find_element_by_xpath(\"/html/body/div/div[2]/div[3]/div/div/div[3]/div/div/div/input\")\n",
    "search_field_location.send_keys(\"Bangalore\")"
   ]
  },
  {
   "cell_type": "code",
   "execution_count": 113,
   "id": "f7247732",
   "metadata": {},
   "outputs": [],
   "source": [
    "search_button=driver.find_element_by_xpath('/html/body/div/div[2]/div[3]/div/div/div[6]')\n",
    "search_button.click()"
   ]
  },
  {
   "cell_type": "code",
   "execution_count": 114,
   "id": "5d668a8c",
   "metadata": {},
   "outputs": [],
   "source": [
    "url=\"https://www.naukri.com/data-scientist-jobs-in-bangalore?k=data%20scientist&l=bangalore\""
   ]
  },
  {
   "cell_type": "code",
   "execution_count": 115,
   "id": "b969d6ed",
   "metadata": {},
   "outputs": [],
   "source": [
    "driver.get(url)"
   ]
  },
  {
   "cell_type": "code",
   "execution_count": 116,
   "id": "d675876d",
   "metadata": {},
   "outputs": [],
   "source": [
    "job_title1=[]\n",
    "company_names1=[]\n",
    "locations_list1=[]\n",
    "experience_list1=[]"
   ]
  },
  {
   "cell_type": "code",
   "execution_count": 117,
   "id": "81a2fac9",
   "metadata": {},
   "outputs": [
    {
     "data": {
      "text/plain": [
       "[<selenium.webdriver.remote.webelement.WebElement (session=\"6f143857e07d56d9402b1c1301ad59d5\", element=\"caff6f87-2932-4044-8dfa-e43c443b0be5\")>,\n",
       " <selenium.webdriver.remote.webelement.WebElement (session=\"6f143857e07d56d9402b1c1301ad59d5\", element=\"db6f4b1e-d663-4918-a402-df74b2e7a8bc\")>,\n",
       " <selenium.webdriver.remote.webelement.WebElement (session=\"6f143857e07d56d9402b1c1301ad59d5\", element=\"58cf8ecd-07b8-4acb-b422-3fe3b77e6928\")>,\n",
       " <selenium.webdriver.remote.webelement.WebElement (session=\"6f143857e07d56d9402b1c1301ad59d5\", element=\"a7cc3ab6-bcbe-40e2-bf34-73df24156636\")>,\n",
       " <selenium.webdriver.remote.webelement.WebElement (session=\"6f143857e07d56d9402b1c1301ad59d5\", element=\"49c005ef-f07c-4f78-acb4-e8c8905bb13c\")>,\n",
       " <selenium.webdriver.remote.webelement.WebElement (session=\"6f143857e07d56d9402b1c1301ad59d5\", element=\"cfa07695-e075-4d22-afdd-6065a9a4e75d\")>,\n",
       " <selenium.webdriver.remote.webelement.WebElement (session=\"6f143857e07d56d9402b1c1301ad59d5\", element=\"bb21191e-349a-41d2-8e37-a1a35a625c52\")>,\n",
       " <selenium.webdriver.remote.webelement.WebElement (session=\"6f143857e07d56d9402b1c1301ad59d5\", element=\"b71cc80b-381c-4e28-bfb8-294a9da45176\")>,\n",
       " <selenium.webdriver.remote.webelement.WebElement (session=\"6f143857e07d56d9402b1c1301ad59d5\", element=\"57733d04-e964-4b25-8777-f83c445e6c91\")>,\n",
       " <selenium.webdriver.remote.webelement.WebElement (session=\"6f143857e07d56d9402b1c1301ad59d5\", element=\"50fde7da-e2d4-4649-a6ae-715867359c5c\")>]"
      ]
     },
     "execution_count": 117,
     "metadata": {},
     "output_type": "execute_result"
    }
   ],
   "source": [
    "titles_tags1=driver.find_elements_by_xpath('//a[@class=\"title fw500 ellipsis\"]')\n",
    "titles_tags1[0:10]"
   ]
  },
  {
   "cell_type": "code",
   "execution_count": 119,
   "id": "5987b57b",
   "metadata": {},
   "outputs": [
    {
     "data": {
      "text/plain": [
       "['ASSOCIATE DATA SCIENTIST',\n",
       " 'Data Scientist: Advanced Analytics',\n",
       " 'Data Scientist',\n",
       " 'Data Scientist',\n",
       " 'Data Scientist: Artificial Intelligence',\n",
       " 'Data Scientist',\n",
       " 'Data Scientist/Engineer - Global Telecom Setup',\n",
       " 'Analyst- Data Scientist',\n",
       " 'Data Scientist - Immediate Joiners',\n",
       " 'Senior Data Scientist/Data Scientist - Research/Analytics/Consulting']"
      ]
     },
     "execution_count": 119,
     "metadata": {},
     "output_type": "execute_result"
    }
   ],
   "source": [
    "for i in titles_tags1:\n",
    "    title=i.text\n",
    "    job_title1.append(title)\n",
    "job_title1[0:10]"
   ]
  },
  {
   "cell_type": "code",
   "execution_count": 120,
   "id": "970420ea",
   "metadata": {},
   "outputs": [
    {
     "data": {
      "text/plain": [
       "[<selenium.webdriver.remote.webelement.WebElement (session=\"6f143857e07d56d9402b1c1301ad59d5\", element=\"ce692baf-ee73-434c-a9aa-422b33b83e97\")>,\n",
       " <selenium.webdriver.remote.webelement.WebElement (session=\"6f143857e07d56d9402b1c1301ad59d5\", element=\"a2c3714f-f54e-42cc-8dbd-8a9c7032d5eb\")>,\n",
       " <selenium.webdriver.remote.webelement.WebElement (session=\"6f143857e07d56d9402b1c1301ad59d5\", element=\"cfa3cd0c-427e-4ad1-9704-22110b37bba7\")>,\n",
       " <selenium.webdriver.remote.webelement.WebElement (session=\"6f143857e07d56d9402b1c1301ad59d5\", element=\"28eb968a-96a8-4b32-a9c4-ac7e0d353da6\")>,\n",
       " <selenium.webdriver.remote.webelement.WebElement (session=\"6f143857e07d56d9402b1c1301ad59d5\", element=\"d1d86db3-8d57-4167-a756-cda30521e486\")>,\n",
       " <selenium.webdriver.remote.webelement.WebElement (session=\"6f143857e07d56d9402b1c1301ad59d5\", element=\"804c4d1a-53da-424c-84f7-871f2b7f9602\")>,\n",
       " <selenium.webdriver.remote.webelement.WebElement (session=\"6f143857e07d56d9402b1c1301ad59d5\", element=\"d5dddd62-6a27-4e74-bbf1-20ab78a976e8\")>,\n",
       " <selenium.webdriver.remote.webelement.WebElement (session=\"6f143857e07d56d9402b1c1301ad59d5\", element=\"8246725e-890c-4962-a35e-933bea707a6f\")>,\n",
       " <selenium.webdriver.remote.webelement.WebElement (session=\"6f143857e07d56d9402b1c1301ad59d5\", element=\"c3e94f62-fcb2-4474-8f79-785fe1c61fc7\")>,\n",
       " <selenium.webdriver.remote.webelement.WebElement (session=\"6f143857e07d56d9402b1c1301ad59d5\", element=\"26fee47d-3b31-40ff-aa1d-9fd460cdc9cb\")>]"
      ]
     },
     "execution_count": 120,
     "metadata": {},
     "output_type": "execute_result"
    }
   ],
   "source": [
    "location_tags1=driver.find_elements_by_xpath(\"//li[@class='fleft grey-text br2 placeHolderLi location']/span[1]\")\n",
    "location_tags1[0:10]"
   ]
  },
  {
   "cell_type": "code",
   "execution_count": 121,
   "id": "01601b16",
   "metadata": {},
   "outputs": [
    {
     "data": {
      "text/plain": [
       "['Bangalore/Bengaluru',\n",
       " 'Bangalore/Bengaluru',\n",
       " 'Bangalore/Bengaluru',\n",
       " 'Bangalore/Bengaluru',\n",
       " 'Bangalore/Bengaluru',\n",
       " 'Bangalore/Bengaluru',\n",
       " 'Hyderabad/Secunderabad, Pune, Bangalore/Bengaluru',\n",
       " 'Bangalore/Bengaluru',\n",
       " 'Noida, Mumbai, Pune, Bangalore/Bengaluru',\n",
       " 'Bangalore/Bengaluru']"
      ]
     },
     "execution_count": 121,
     "metadata": {},
     "output_type": "execute_result"
    }
   ],
   "source": [
    "for i in location_tags1:\n",
    "    location=i.text\n",
    "    locations_list1.append(location)\n",
    "locations_list1[0:10]"
   ]
  },
  {
   "cell_type": "code",
   "execution_count": 122,
   "id": "6f47afa9",
   "metadata": {},
   "outputs": [
    {
     "data": {
      "text/plain": [
       "[<selenium.webdriver.remote.webelement.WebElement (session=\"6f143857e07d56d9402b1c1301ad59d5\", element=\"604d466e-00cd-47db-be69-6005ba212d74\")>,\n",
       " <selenium.webdriver.remote.webelement.WebElement (session=\"6f143857e07d56d9402b1c1301ad59d5\", element=\"8973db87-3a24-4c16-94b0-cf126fdb7202\")>,\n",
       " <selenium.webdriver.remote.webelement.WebElement (session=\"6f143857e07d56d9402b1c1301ad59d5\", element=\"1ea43689-7f0d-4567-947c-fae82b27a044\")>,\n",
       " <selenium.webdriver.remote.webelement.WebElement (session=\"6f143857e07d56d9402b1c1301ad59d5\", element=\"795b0229-8a72-4a6c-8e9e-05699406c0c0\")>,\n",
       " <selenium.webdriver.remote.webelement.WebElement (session=\"6f143857e07d56d9402b1c1301ad59d5\", element=\"9cb79d6f-9603-4457-93ec-9097f830e598\")>,\n",
       " <selenium.webdriver.remote.webelement.WebElement (session=\"6f143857e07d56d9402b1c1301ad59d5\", element=\"3dae8891-86d5-429e-b67f-7f8cdbcbc0d9\")>,\n",
       " <selenium.webdriver.remote.webelement.WebElement (session=\"6f143857e07d56d9402b1c1301ad59d5\", element=\"48a0a295-e5e8-4372-8e85-719e468a60e4\")>,\n",
       " <selenium.webdriver.remote.webelement.WebElement (session=\"6f143857e07d56d9402b1c1301ad59d5\", element=\"c8ac8e95-20c1-48fa-8b60-e37976680182\")>,\n",
       " <selenium.webdriver.remote.webelement.WebElement (session=\"6f143857e07d56d9402b1c1301ad59d5\", element=\"f3a37bb7-de46-4b5a-991d-79576d90e9f4\")>,\n",
       " <selenium.webdriver.remote.webelement.WebElement (session=\"6f143857e07d56d9402b1c1301ad59d5\", element=\"790520ba-4c7c-437a-aedb-5d2cad4c8d78\")>]"
      ]
     },
     "execution_count": 122,
     "metadata": {},
     "output_type": "execute_result"
    }
   ],
   "source": [
    "companies_tags1=driver.find_elements_by_xpath(\"//a[@class='subTitle ellipsis fleft']\")\n",
    "companies_tags1[0:10]"
   ]
  },
  {
   "cell_type": "code",
   "execution_count": 123,
   "id": "3d85a659",
   "metadata": {},
   "outputs": [
    {
     "data": {
      "text/plain": [
       "['Hinduja Global',\n",
       " 'IBM',\n",
       " 'Applied Materials',\n",
       " 'Applied Materials',\n",
       " 'IBM',\n",
       " 'Applied Materials',\n",
       " 'Global Telecom Setup',\n",
       " 'Sigma Aldrich',\n",
       " 'Bristlecone',\n",
       " 'Hexaconcepts']"
      ]
     },
     "execution_count": 123,
     "metadata": {},
     "output_type": "execute_result"
    }
   ],
   "source": [
    "for i in companies_tags1:\n",
    "    company_name=i.text\n",
    "    company_names1.append(company_name)\n",
    "company_names1[0:10]"
   ]
  },
  {
   "cell_type": "code",
   "execution_count": 124,
   "id": "e98006d4",
   "metadata": {},
   "outputs": [
    {
     "data": {
      "text/plain": [
       "[<selenium.webdriver.remote.webelement.WebElement (session=\"6f143857e07d56d9402b1c1301ad59d5\", element=\"00a69e8f-770d-4db6-9202-2267be847ff1\")>,\n",
       " <selenium.webdriver.remote.webelement.WebElement (session=\"6f143857e07d56d9402b1c1301ad59d5\", element=\"289c6469-6837-4def-87c9-7332b4b36c34\")>,\n",
       " <selenium.webdriver.remote.webelement.WebElement (session=\"6f143857e07d56d9402b1c1301ad59d5\", element=\"620a4a4c-97ce-4558-ada7-6f5c4adf064f\")>,\n",
       " <selenium.webdriver.remote.webelement.WebElement (session=\"6f143857e07d56d9402b1c1301ad59d5\", element=\"fd4ecf12-fcbe-40ba-ae23-91849b1cdc55\")>,\n",
       " <selenium.webdriver.remote.webelement.WebElement (session=\"6f143857e07d56d9402b1c1301ad59d5\", element=\"264362c5-06d5-41e9-878f-9a118d65027e\")>,\n",
       " <selenium.webdriver.remote.webelement.WebElement (session=\"6f143857e07d56d9402b1c1301ad59d5\", element=\"5a19da46-dde2-4a62-9f48-abde4a42f259\")>,\n",
       " <selenium.webdriver.remote.webelement.WebElement (session=\"6f143857e07d56d9402b1c1301ad59d5\", element=\"ad9ddfab-3c4a-430c-916a-eb49597a1ac3\")>,\n",
       " <selenium.webdriver.remote.webelement.WebElement (session=\"6f143857e07d56d9402b1c1301ad59d5\", element=\"831ed735-8420-4111-be54-971d418b0be7\")>,\n",
       " <selenium.webdriver.remote.webelement.WebElement (session=\"6f143857e07d56d9402b1c1301ad59d5\", element=\"9bc4ee57-dae3-497d-9ff0-499bfe9ea625\")>,\n",
       " <selenium.webdriver.remote.webelement.WebElement (session=\"6f143857e07d56d9402b1c1301ad59d5\", element=\"b29e6a37-ee03-4a89-9e5b-18e1043858f5\")>]"
      ]
     },
     "execution_count": 124,
     "metadata": {},
     "output_type": "execute_result"
    }
   ],
   "source": [
    "experience_tags1=driver.find_elements_by_xpath(\"//li[@class='fleft grey-text br2 placeHolderLi experience']/span[1]\")\n",
    "experience_tags1[0:10]"
   ]
  },
  {
   "cell_type": "code",
   "execution_count": 125,
   "id": "76fe16fe",
   "metadata": {},
   "outputs": [
    {
     "data": {
      "text/plain": [
       "['1-4 Yrs',\n",
       " '2-5 Yrs',\n",
       " '2-4 Yrs',\n",
       " '4-7 Yrs',\n",
       " '3-7 Yrs',\n",
       " '0-3 Yrs',\n",
       " '3-8 Yrs',\n",
       " '1-4 Yrs',\n",
       " '5-8 Yrs',\n",
       " '6-9 Yrs']"
      ]
     },
     "execution_count": 125,
     "metadata": {},
     "output_type": "execute_result"
    }
   ],
   "source": [
    "for i in experience_tags1:\n",
    "    experience=i.text\n",
    "    experience_list1.append(experience)\n",
    "experience_list1[0:10]"
   ]
  },
  {
   "cell_type": "code",
   "execution_count": 127,
   "id": "cabd6f7b",
   "metadata": {},
   "outputs": [
    {
     "name": "stdout",
     "output_type": "stream",
     "text": [
      "20 20 20 20\n"
     ]
    }
   ],
   "source": [
    "print(len(job_title1),len(company_names1),len(experience_list1),len(locations_list1))"
   ]
  },
  {
   "cell_type": "code",
   "execution_count": 129,
   "id": "432d904c",
   "metadata": {},
   "outputs": [],
   "source": [
    "jobs=pd.DataFrame({})\n",
    "jobs['Title']=job_title1\n",
    "jobs['Location']=locations_list1\n",
    "jobs['Company']=company_names1\n",
    "jobs['Experience_Required']=experience_list1"
   ]
  },
  {
   "cell_type": "code",
   "execution_count": 130,
   "id": "bf4b2e95",
   "metadata": {},
   "outputs": [
    {
     "data": {
      "text/html": [
       "<div>\n",
       "<style scoped>\n",
       "    .dataframe tbody tr th:only-of-type {\n",
       "        vertical-align: middle;\n",
       "    }\n",
       "\n",
       "    .dataframe tbody tr th {\n",
       "        vertical-align: top;\n",
       "    }\n",
       "\n",
       "    .dataframe thead th {\n",
       "        text-align: right;\n",
       "    }\n",
       "</style>\n",
       "<table border=\"1\" class=\"dataframe\">\n",
       "  <thead>\n",
       "    <tr style=\"text-align: right;\">\n",
       "      <th></th>\n",
       "      <th>Title</th>\n",
       "      <th>Location</th>\n",
       "      <th>Company</th>\n",
       "      <th>Experience_Required</th>\n",
       "    </tr>\n",
       "  </thead>\n",
       "  <tbody>\n",
       "    <tr>\n",
       "      <th>0</th>\n",
       "      <td>ASSOCIATE DATA SCIENTIST</td>\n",
       "      <td>Bangalore/Bengaluru</td>\n",
       "      <td>Hinduja Global</td>\n",
       "      <td>1-4 Yrs</td>\n",
       "    </tr>\n",
       "    <tr>\n",
       "      <th>1</th>\n",
       "      <td>Data Scientist: Advanced Analytics</td>\n",
       "      <td>Bangalore/Bengaluru</td>\n",
       "      <td>IBM</td>\n",
       "      <td>2-5 Yrs</td>\n",
       "    </tr>\n",
       "    <tr>\n",
       "      <th>2</th>\n",
       "      <td>Data Scientist</td>\n",
       "      <td>Bangalore/Bengaluru</td>\n",
       "      <td>Applied Materials</td>\n",
       "      <td>2-4 Yrs</td>\n",
       "    </tr>\n",
       "    <tr>\n",
       "      <th>3</th>\n",
       "      <td>Data Scientist</td>\n",
       "      <td>Bangalore/Bengaluru</td>\n",
       "      <td>Applied Materials</td>\n",
       "      <td>4-7 Yrs</td>\n",
       "    </tr>\n",
       "    <tr>\n",
       "      <th>4</th>\n",
       "      <td>Data Scientist: Artificial Intelligence</td>\n",
       "      <td>Bangalore/Bengaluru</td>\n",
       "      <td>IBM</td>\n",
       "      <td>3-7 Yrs</td>\n",
       "    </tr>\n",
       "    <tr>\n",
       "      <th>5</th>\n",
       "      <td>Data Scientist</td>\n",
       "      <td>Bangalore/Bengaluru</td>\n",
       "      <td>Applied Materials</td>\n",
       "      <td>0-3 Yrs</td>\n",
       "    </tr>\n",
       "    <tr>\n",
       "      <th>6</th>\n",
       "      <td>Data Scientist/Engineer - Global Telecom Setup</td>\n",
       "      <td>Hyderabad/Secunderabad, Pune, Bangalore/Bengaluru</td>\n",
       "      <td>Global Telecom Setup</td>\n",
       "      <td>3-8 Yrs</td>\n",
       "    </tr>\n",
       "    <tr>\n",
       "      <th>7</th>\n",
       "      <td>Analyst- Data Scientist</td>\n",
       "      <td>Bangalore/Bengaluru</td>\n",
       "      <td>Sigma Aldrich</td>\n",
       "      <td>1-4 Yrs</td>\n",
       "    </tr>\n",
       "    <tr>\n",
       "      <th>8</th>\n",
       "      <td>Data Scientist - Immediate Joiners</td>\n",
       "      <td>Noida, Mumbai, Pune, Bangalore/Bengaluru</td>\n",
       "      <td>Bristlecone</td>\n",
       "      <td>5-8 Yrs</td>\n",
       "    </tr>\n",
       "    <tr>\n",
       "      <th>9</th>\n",
       "      <td>Senior Data Scientist/Data Scientist - Researc...</td>\n",
       "      <td>Bangalore/Bengaluru</td>\n",
       "      <td>Hexaconcepts</td>\n",
       "      <td>6-9 Yrs</td>\n",
       "    </tr>\n",
       "  </tbody>\n",
       "</table>\n",
       "</div>"
      ],
      "text/plain": [
       "                                               Title  \\\n",
       "0                           ASSOCIATE DATA SCIENTIST   \n",
       "1                 Data Scientist: Advanced Analytics   \n",
       "2                                     Data Scientist   \n",
       "3                                     Data Scientist   \n",
       "4            Data Scientist: Artificial Intelligence   \n",
       "5                                     Data Scientist   \n",
       "6     Data Scientist/Engineer - Global Telecom Setup   \n",
       "7                            Analyst- Data Scientist   \n",
       "8                 Data Scientist - Immediate Joiners   \n",
       "9  Senior Data Scientist/Data Scientist - Researc...   \n",
       "\n",
       "                                            Location               Company  \\\n",
       "0                                Bangalore/Bengaluru        Hinduja Global   \n",
       "1                                Bangalore/Bengaluru                   IBM   \n",
       "2                                Bangalore/Bengaluru     Applied Materials   \n",
       "3                                Bangalore/Bengaluru     Applied Materials   \n",
       "4                                Bangalore/Bengaluru                   IBM   \n",
       "5                                Bangalore/Bengaluru     Applied Materials   \n",
       "6  Hyderabad/Secunderabad, Pune, Bangalore/Bengaluru  Global Telecom Setup   \n",
       "7                                Bangalore/Bengaluru         Sigma Aldrich   \n",
       "8           Noida, Mumbai, Pune, Bangalore/Bengaluru           Bristlecone   \n",
       "9                                Bangalore/Bengaluru          Hexaconcepts   \n",
       "\n",
       "  Experience_Required  \n",
       "0             1-4 Yrs  \n",
       "1             2-5 Yrs  \n",
       "2             2-4 Yrs  \n",
       "3             4-7 Yrs  \n",
       "4             3-7 Yrs  \n",
       "5             0-3 Yrs  \n",
       "6             3-8 Yrs  \n",
       "7             1-4 Yrs  \n",
       "8             5-8 Yrs  \n",
       "9             6-9 Yrs  "
      ]
     },
     "execution_count": 130,
     "metadata": {},
     "output_type": "execute_result"
    }
   ],
   "source": [
    "jobs.head(10)"
   ]
  },
  {
   "cell_type": "code",
   "execution_count": 131,
   "id": "7b6ed9ad",
   "metadata": {},
   "outputs": [],
   "source": [
    "driver.close()"
   ]
  },
  {
   "cell_type": "markdown",
   "id": "d3b19ac8",
   "metadata": {},
   "source": [
    "### Que.3"
   ]
  },
  {
   "cell_type": "code",
   "execution_count": 134,
   "id": "1436fc5a",
   "metadata": {},
   "outputs": [],
   "source": [
    "driver=webdriver.Chrome('chromedriver.exe')\n",
    "time.sleep(2)"
   ]
  },
  {
   "cell_type": "code",
   "execution_count": 135,
   "id": "4c532183",
   "metadata": {},
   "outputs": [],
   "source": [
    "driver.get('https://www.naukri.com/')"
   ]
  },
  {
   "cell_type": "code",
   "execution_count": 136,
   "id": "3d785273",
   "metadata": {},
   "outputs": [],
   "source": [
    "search_field_designation=driver.find_element_by_class_name('suggestor-input ')\n",
    "search_field_designation.send_keys(\"Data Scientist\")"
   ]
  },
  {
   "cell_type": "code",
   "execution_count": 137,
   "id": "270153cc",
   "metadata": {},
   "outputs": [],
   "source": [
    "search_button=driver.find_element_by_xpath('/html/body/div/div[2]/div[3]/div/div/div[6]')\n",
    "search_button.click()"
   ]
  },
  {
   "cell_type": "code",
   "execution_count": 138,
   "id": "8d9187a2",
   "metadata": {
    "scrolled": true
   },
   "outputs": [],
   "source": [
    "loc_filter=driver.find_element_by_xpath(\"/html/body/div[1]/div[3]/div[2]/section[1]/div[2]/div[4]/div[2]/div[3]/label/p/span[1]\")\n",
    "loc_filter.click()"
   ]
  },
  {
   "cell_type": "code",
   "execution_count": 140,
   "id": "b9c1677e",
   "metadata": {},
   "outputs": [],
   "source": [
    "sal_filter=driver.find_element_by_xpath(\"/html/body/div[1]/div[3]/div[2]/section[1]/div[2]/div[5]/div[2]/div[2]/label/i\")\n",
    "sal_filter.click()"
   ]
  },
  {
   "cell_type": "code",
   "execution_count": 141,
   "id": "af2b8aed",
   "metadata": {},
   "outputs": [],
   "source": [
    "url=\"https://www.naukri.com/data-scientist-jobs?k=data%20scientist&cityTypeGid=9508&ctcFilter=3to6\""
   ]
  },
  {
   "cell_type": "code",
   "execution_count": 142,
   "id": "ddf3fb2c",
   "metadata": {},
   "outputs": [],
   "source": [
    "driver.get(url)"
   ]
  },
  {
   "cell_type": "code",
   "execution_count": 143,
   "id": "bae83acb",
   "metadata": {},
   "outputs": [],
   "source": [
    "job_titles=[]\n",
    "company_names=[]\n",
    "locations_list=[]\n",
    "experience_list=[]"
   ]
  },
  {
   "cell_type": "code",
   "execution_count": 144,
   "id": "788681c7",
   "metadata": {},
   "outputs": [
    {
     "data": {
      "text/plain": [
       "[<selenium.webdriver.remote.webelement.WebElement (session=\"130e30b18b776532b95a85a8e70f50a7\", element=\"367795c6-6a24-4912-b76d-b398ee0aa880\")>,\n",
       " <selenium.webdriver.remote.webelement.WebElement (session=\"130e30b18b776532b95a85a8e70f50a7\", element=\"7d1e069b-55ad-44f7-8484-027d61837df9\")>,\n",
       " <selenium.webdriver.remote.webelement.WebElement (session=\"130e30b18b776532b95a85a8e70f50a7\", element=\"845988d1-5a74-4aa9-813e-0d11c8c064aa\")>,\n",
       " <selenium.webdriver.remote.webelement.WebElement (session=\"130e30b18b776532b95a85a8e70f50a7\", element=\"450b6e6b-3c27-4572-83d5-60da5fa7b485\")>,\n",
       " <selenium.webdriver.remote.webelement.WebElement (session=\"130e30b18b776532b95a85a8e70f50a7\", element=\"2434842f-c1bb-4376-a4ec-d8eec6288d9f\")>,\n",
       " <selenium.webdriver.remote.webelement.WebElement (session=\"130e30b18b776532b95a85a8e70f50a7\", element=\"d836ff1f-1559-4720-9e1b-8ad49be862db\")>,\n",
       " <selenium.webdriver.remote.webelement.WebElement (session=\"130e30b18b776532b95a85a8e70f50a7\", element=\"97fbc8f1-e566-403c-8098-461e8e752b2f\")>,\n",
       " <selenium.webdriver.remote.webelement.WebElement (session=\"130e30b18b776532b95a85a8e70f50a7\", element=\"f91f4bec-8ece-4e9d-bf5a-9d4301d8875b\")>,\n",
       " <selenium.webdriver.remote.webelement.WebElement (session=\"130e30b18b776532b95a85a8e70f50a7\", element=\"2d986938-408a-4fa5-bd12-01021e2b8baf\")>,\n",
       " <selenium.webdriver.remote.webelement.WebElement (session=\"130e30b18b776532b95a85a8e70f50a7\", element=\"af992558-ff6e-461f-b8fa-1fd860823957\")>]"
      ]
     },
     "execution_count": 144,
     "metadata": {},
     "output_type": "execute_result"
    }
   ],
   "source": [
    "titles_tags=driver.find_elements_by_xpath('//a[@class=\"title fw500 ellipsis\"]')\n",
    "titles_tags[0:10]"
   ]
  },
  {
   "cell_type": "code",
   "execution_count": 145,
   "id": "b23e132d",
   "metadata": {},
   "outputs": [
    {
     "data": {
      "text/plain": [
       "['Hiring For Senior Data Scientist-Noida',\n",
       " 'Opening For Data Scientist',\n",
       " 'Data Scientist/ Machine Learning, 2022 Passout Can also apply',\n",
       " 'Data Scientist (freelance)',\n",
       " 'Data Scientist',\n",
       " 'Data Scientist',\n",
       " 'Urgent Requirement || Data Scientist || Noida',\n",
       " 'AM Data Scientist - Goods & Service Tax Network, Delhi',\n",
       " 'Data Scientist - MIND Infotech',\n",
       " 'Senior Data Scientist']"
      ]
     },
     "execution_count": 145,
     "metadata": {},
     "output_type": "execute_result"
    }
   ],
   "source": [
    "for i in titles_tags:\n",
    "    title=i.text\n",
    "    job_titles.append(title)\n",
    "job_titles[0:10]"
   ]
  },
  {
   "cell_type": "code",
   "execution_count": 146,
   "id": "7cbb042b",
   "metadata": {},
   "outputs": [
    {
     "data": {
      "text/plain": [
       "[<selenium.webdriver.remote.webelement.WebElement (session=\"130e30b18b776532b95a85a8e70f50a7\", element=\"6bfa40cf-eeca-4421-943b-45936a41e3ac\")>,\n",
       " <selenium.webdriver.remote.webelement.WebElement (session=\"130e30b18b776532b95a85a8e70f50a7\", element=\"3dd759bb-0443-4a51-ad9e-3ad371923a29\")>,\n",
       " <selenium.webdriver.remote.webelement.WebElement (session=\"130e30b18b776532b95a85a8e70f50a7\", element=\"7788b014-b2b5-47fa-b8f6-8576ab0ae58b\")>,\n",
       " <selenium.webdriver.remote.webelement.WebElement (session=\"130e30b18b776532b95a85a8e70f50a7\", element=\"239e4d07-dca7-4355-9198-38bc51c48db8\")>,\n",
       " <selenium.webdriver.remote.webelement.WebElement (session=\"130e30b18b776532b95a85a8e70f50a7\", element=\"448b03b6-afdb-40c5-b11e-88cf9f3b20ed\")>,\n",
       " <selenium.webdriver.remote.webelement.WebElement (session=\"130e30b18b776532b95a85a8e70f50a7\", element=\"2303799a-e86f-420c-ab2b-580ee9d21466\")>,\n",
       " <selenium.webdriver.remote.webelement.WebElement (session=\"130e30b18b776532b95a85a8e70f50a7\", element=\"116e4e35-7af4-4cdf-9a2f-efaa73a8d6fd\")>,\n",
       " <selenium.webdriver.remote.webelement.WebElement (session=\"130e30b18b776532b95a85a8e70f50a7\", element=\"e6b97e37-196d-4831-baeb-18f67f8e4ef9\")>,\n",
       " <selenium.webdriver.remote.webelement.WebElement (session=\"130e30b18b776532b95a85a8e70f50a7\", element=\"5c810879-3a88-45bf-8fb7-fd3f4419b800\")>,\n",
       " <selenium.webdriver.remote.webelement.WebElement (session=\"130e30b18b776532b95a85a8e70f50a7\", element=\"8c9da801-e7cb-4b39-9ffd-963f229e8168\")>]"
      ]
     },
     "execution_count": 146,
     "metadata": {},
     "output_type": "execute_result"
    }
   ],
   "source": [
    "companies_tags=driver.find_elements_by_xpath(\"//a[@class='subTitle ellipsis fleft']\")\n",
    "companies_tags[0:10]"
   ]
  },
  {
   "cell_type": "code",
   "execution_count": 147,
   "id": "2944230f",
   "metadata": {},
   "outputs": [
    {
     "data": {
      "text/plain": [
       "['Lumiq.ai',\n",
       " 'Care Health Insurance',\n",
       " 'Creative Hands HR Consultancy',\n",
       " '2Coms',\n",
       " 'BlackBuck',\n",
       " 'Boston Consulting Group',\n",
       " 'HCL Technologies',\n",
       " 'NISG (National Institute for Smart Government)',\n",
       " 'MOTHERSONSUMI INFOTECH & DESIGNS LIMITED',\n",
       " 'iNICU']"
      ]
     },
     "execution_count": 147,
     "metadata": {},
     "output_type": "execute_result"
    }
   ],
   "source": [
    "for i in companies_tags:\n",
    "    company_name=i.text\n",
    "    company_names.append(company_name)\n",
    "company_names[0:10]"
   ]
  },
  {
   "cell_type": "code",
   "execution_count": 148,
   "id": "64e3d2f6",
   "metadata": {},
   "outputs": [
    {
     "data": {
      "text/plain": [
       "[<selenium.webdriver.remote.webelement.WebElement (session=\"130e30b18b776532b95a85a8e70f50a7\", element=\"d4618521-22a9-4e3f-a8fe-4e1100630986\")>,\n",
       " <selenium.webdriver.remote.webelement.WebElement (session=\"130e30b18b776532b95a85a8e70f50a7\", element=\"fdcc1118-0f19-4ae3-8f0d-f07fc0cd53ed\")>,\n",
       " <selenium.webdriver.remote.webelement.WebElement (session=\"130e30b18b776532b95a85a8e70f50a7\", element=\"de984b33-a866-4283-8e72-07f05430c26e\")>,\n",
       " <selenium.webdriver.remote.webelement.WebElement (session=\"130e30b18b776532b95a85a8e70f50a7\", element=\"0e8711d5-c752-4da4-9059-7c4f95c6c7cc\")>,\n",
       " <selenium.webdriver.remote.webelement.WebElement (session=\"130e30b18b776532b95a85a8e70f50a7\", element=\"d036356a-e97c-4480-b05e-5db2b3d83132\")>,\n",
       " <selenium.webdriver.remote.webelement.WebElement (session=\"130e30b18b776532b95a85a8e70f50a7\", element=\"6ca031a0-841b-4bf9-a02f-069c313e883e\")>,\n",
       " <selenium.webdriver.remote.webelement.WebElement (session=\"130e30b18b776532b95a85a8e70f50a7\", element=\"c4c3914e-3c0f-4ad3-a93a-81e3a6bfc65e\")>,\n",
       " <selenium.webdriver.remote.webelement.WebElement (session=\"130e30b18b776532b95a85a8e70f50a7\", element=\"6e98ffe8-82d9-49de-b3da-685f5ec158aa\")>,\n",
       " <selenium.webdriver.remote.webelement.WebElement (session=\"130e30b18b776532b95a85a8e70f50a7\", element=\"ce632a04-fea9-4e36-abe9-1222a613f76d\")>,\n",
       " <selenium.webdriver.remote.webelement.WebElement (session=\"130e30b18b776532b95a85a8e70f50a7\", element=\"b9ecc4a5-5eb6-4a2d-a49f-b4992ac07471\")>]"
      ]
     },
     "execution_count": 148,
     "metadata": {},
     "output_type": "execute_result"
    }
   ],
   "source": [
    "experience_tags=driver.find_elements_by_xpath(\"//li[@class='fleft grey-text br2 placeHolderLi experience']/span[1]\")\n",
    "experience_tags[0:10]"
   ]
  },
  {
   "cell_type": "code",
   "execution_count": 149,
   "id": "99dba9f5",
   "metadata": {},
   "outputs": [
    {
     "data": {
      "text/plain": [
       "['2-6 Yrs',\n",
       " '1-5 Yrs',\n",
       " '0-4 Yrs',\n",
       " '2-7 Yrs',\n",
       " '3-7 Yrs',\n",
       " '2-5 Yrs',\n",
       " '3-8 Yrs',\n",
       " '3-8 Yrs',\n",
       " '4-8 Yrs',\n",
       " '1-5 Yrs']"
      ]
     },
     "execution_count": 149,
     "metadata": {},
     "output_type": "execute_result"
    }
   ],
   "source": [
    "for i in experience_tags:\n",
    "    experience=i.text\n",
    "    experience_list.append(experience)\n",
    "experience_list[0:10]"
   ]
  },
  {
   "cell_type": "code",
   "execution_count": 150,
   "id": "08c00080",
   "metadata": {},
   "outputs": [
    {
     "data": {
      "text/plain": [
       "[<selenium.webdriver.remote.webelement.WebElement (session=\"130e30b18b776532b95a85a8e70f50a7\", element=\"d4a229cf-77c8-481f-a1dd-9f483a778e0c\")>,\n",
       " <selenium.webdriver.remote.webelement.WebElement (session=\"130e30b18b776532b95a85a8e70f50a7\", element=\"9ff0ec9e-b1ef-4fd4-8176-36090fec9df5\")>,\n",
       " <selenium.webdriver.remote.webelement.WebElement (session=\"130e30b18b776532b95a85a8e70f50a7\", element=\"f1ab4e2d-2ecf-4d31-8da7-50ecf7fa5078\")>,\n",
       " <selenium.webdriver.remote.webelement.WebElement (session=\"130e30b18b776532b95a85a8e70f50a7\", element=\"199a0a84-ac51-4821-a374-2f9d9e18b3cc\")>,\n",
       " <selenium.webdriver.remote.webelement.WebElement (session=\"130e30b18b776532b95a85a8e70f50a7\", element=\"96a58897-fe3d-418f-8972-813077dd2629\")>,\n",
       " <selenium.webdriver.remote.webelement.WebElement (session=\"130e30b18b776532b95a85a8e70f50a7\", element=\"0cb27abd-859c-41f1-892f-fb9c5e5b2cd0\")>,\n",
       " <selenium.webdriver.remote.webelement.WebElement (session=\"130e30b18b776532b95a85a8e70f50a7\", element=\"25d5a36a-8302-4996-ace0-3bdd936406fb\")>,\n",
       " <selenium.webdriver.remote.webelement.WebElement (session=\"130e30b18b776532b95a85a8e70f50a7\", element=\"f2da047d-3e08-4c06-a004-6b0875ef152b\")>,\n",
       " <selenium.webdriver.remote.webelement.WebElement (session=\"130e30b18b776532b95a85a8e70f50a7\", element=\"587692da-6ced-48de-a8cd-4eff7104b29e\")>,\n",
       " <selenium.webdriver.remote.webelement.WebElement (session=\"130e30b18b776532b95a85a8e70f50a7\", element=\"f0adea9f-fff3-43af-a90b-8e6d0d3113db\")>]"
      ]
     },
     "execution_count": 150,
     "metadata": {},
     "output_type": "execute_result"
    }
   ],
   "source": [
    "location_tags=driver.find_elements_by_xpath(\"//li[@class='fleft grey-text br2 placeHolderLi location']/span[1]\")\n",
    "location_tags[0:10]"
   ]
  },
  {
   "cell_type": "code",
   "execution_count": 151,
   "id": "612143f3",
   "metadata": {},
   "outputs": [
    {
     "data": {
      "text/plain": [
       "['Noida, Greater Noida, Delhi / NCR',\n",
       " 'Gurgaon/Gurugram',\n",
       " 'Hyderabad/Secunderabad, Ahmedabad, Chennai, Bangalore/Bengaluru, Delhi / NCR, Mumbai (All Areas)',\n",
       " 'New Delhi, Delhi',\n",
       " 'Gurgaon, Bengaluru',\n",
       " 'New Delhi',\n",
       " 'Noida, Delhi / NCR',\n",
       " 'Delhi / NCR',\n",
       " 'Noida',\n",
       " 'Delhi']"
      ]
     },
     "execution_count": 151,
     "metadata": {},
     "output_type": "execute_result"
    }
   ],
   "source": [
    "for i in location_tags:\n",
    "    location=i.text\n",
    "    locations_list.append(location)\n",
    "locations_list[0:10]"
   ]
  },
  {
   "cell_type": "code",
   "execution_count": 152,
   "id": "6b20f579",
   "metadata": {},
   "outputs": [
    {
     "name": "stdout",
     "output_type": "stream",
     "text": [
      "20 20 20 20\n"
     ]
    }
   ],
   "source": [
    "print(len(job_titles),len(company_names),len(experience_list),len(locations_list))"
   ]
  },
  {
   "cell_type": "code",
   "execution_count": 153,
   "id": "0d4d7083",
   "metadata": {},
   "outputs": [],
   "source": [
    "jobs=pd.DataFrame({})\n",
    "jobs['Title']=job_titles\n",
    "jobs['Location']=locations_list\n",
    "jobs['Company']=company_names\n",
    "jobs['Experience_Required']=experience_list"
   ]
  },
  {
   "cell_type": "code",
   "execution_count": 154,
   "id": "906dc1ec",
   "metadata": {},
   "outputs": [
    {
     "data": {
      "text/html": [
       "<div>\n",
       "<style scoped>\n",
       "    .dataframe tbody tr th:only-of-type {\n",
       "        vertical-align: middle;\n",
       "    }\n",
       "\n",
       "    .dataframe tbody tr th {\n",
       "        vertical-align: top;\n",
       "    }\n",
       "\n",
       "    .dataframe thead th {\n",
       "        text-align: right;\n",
       "    }\n",
       "</style>\n",
       "<table border=\"1\" class=\"dataframe\">\n",
       "  <thead>\n",
       "    <tr style=\"text-align: right;\">\n",
       "      <th></th>\n",
       "      <th>Title</th>\n",
       "      <th>Location</th>\n",
       "      <th>Company</th>\n",
       "      <th>Experience_Required</th>\n",
       "    </tr>\n",
       "  </thead>\n",
       "  <tbody>\n",
       "    <tr>\n",
       "      <th>0</th>\n",
       "      <td>Hiring For Senior Data Scientist-Noida</td>\n",
       "      <td>Noida, Greater Noida, Delhi / NCR</td>\n",
       "      <td>Lumiq.ai</td>\n",
       "      <td>2-6 Yrs</td>\n",
       "    </tr>\n",
       "    <tr>\n",
       "      <th>1</th>\n",
       "      <td>Opening For Data Scientist</td>\n",
       "      <td>Gurgaon/Gurugram</td>\n",
       "      <td>Care Health Insurance</td>\n",
       "      <td>1-5 Yrs</td>\n",
       "    </tr>\n",
       "    <tr>\n",
       "      <th>2</th>\n",
       "      <td>Data Scientist/ Machine Learning, 2022 Passout...</td>\n",
       "      <td>Hyderabad/Secunderabad, Ahmedabad, Chennai, Ba...</td>\n",
       "      <td>Creative Hands HR Consultancy</td>\n",
       "      <td>0-4 Yrs</td>\n",
       "    </tr>\n",
       "    <tr>\n",
       "      <th>3</th>\n",
       "      <td>Data Scientist (freelance)</td>\n",
       "      <td>New Delhi, Delhi</td>\n",
       "      <td>2Coms</td>\n",
       "      <td>2-7 Yrs</td>\n",
       "    </tr>\n",
       "    <tr>\n",
       "      <th>4</th>\n",
       "      <td>Data Scientist</td>\n",
       "      <td>Gurgaon, Bengaluru</td>\n",
       "      <td>BlackBuck</td>\n",
       "      <td>3-7 Yrs</td>\n",
       "    </tr>\n",
       "    <tr>\n",
       "      <th>5</th>\n",
       "      <td>Data Scientist</td>\n",
       "      <td>New Delhi</td>\n",
       "      <td>Boston Consulting Group</td>\n",
       "      <td>2-5 Yrs</td>\n",
       "    </tr>\n",
       "    <tr>\n",
       "      <th>6</th>\n",
       "      <td>Urgent Requirement || Data Scientist || Noida</td>\n",
       "      <td>Noida, Delhi / NCR</td>\n",
       "      <td>HCL Technologies</td>\n",
       "      <td>3-8 Yrs</td>\n",
       "    </tr>\n",
       "    <tr>\n",
       "      <th>7</th>\n",
       "      <td>AM Data Scientist - Goods &amp; Service Tax Networ...</td>\n",
       "      <td>Delhi / NCR</td>\n",
       "      <td>NISG (National Institute for Smart Government)</td>\n",
       "      <td>3-8 Yrs</td>\n",
       "    </tr>\n",
       "    <tr>\n",
       "      <th>8</th>\n",
       "      <td>Data Scientist - MIND Infotech</td>\n",
       "      <td>Noida</td>\n",
       "      <td>MOTHERSONSUMI INFOTECH &amp; DESIGNS LIMITED</td>\n",
       "      <td>4-8 Yrs</td>\n",
       "    </tr>\n",
       "    <tr>\n",
       "      <th>9</th>\n",
       "      <td>Senior Data Scientist</td>\n",
       "      <td>Delhi</td>\n",
       "      <td>iNICU</td>\n",
       "      <td>1-5 Yrs</td>\n",
       "    </tr>\n",
       "  </tbody>\n",
       "</table>\n",
       "</div>"
      ],
      "text/plain": [
       "                                               Title  \\\n",
       "0             Hiring For Senior Data Scientist-Noida   \n",
       "1                         Opening For Data Scientist   \n",
       "2  Data Scientist/ Machine Learning, 2022 Passout...   \n",
       "3                         Data Scientist (freelance)   \n",
       "4                                     Data Scientist   \n",
       "5                                     Data Scientist   \n",
       "6      Urgent Requirement || Data Scientist || Noida   \n",
       "7  AM Data Scientist - Goods & Service Tax Networ...   \n",
       "8                     Data Scientist - MIND Infotech   \n",
       "9                              Senior Data Scientist   \n",
       "\n",
       "                                            Location  \\\n",
       "0                  Noida, Greater Noida, Delhi / NCR   \n",
       "1                                   Gurgaon/Gurugram   \n",
       "2  Hyderabad/Secunderabad, Ahmedabad, Chennai, Ba...   \n",
       "3                                   New Delhi, Delhi   \n",
       "4                                 Gurgaon, Bengaluru   \n",
       "5                                          New Delhi   \n",
       "6                                 Noida, Delhi / NCR   \n",
       "7                                        Delhi / NCR   \n",
       "8                                              Noida   \n",
       "9                                              Delhi   \n",
       "\n",
       "                                          Company Experience_Required  \n",
       "0                                        Lumiq.ai             2-6 Yrs  \n",
       "1                           Care Health Insurance             1-5 Yrs  \n",
       "2                   Creative Hands HR Consultancy             0-4 Yrs  \n",
       "3                                           2Coms             2-7 Yrs  \n",
       "4                                       BlackBuck             3-7 Yrs  \n",
       "5                         Boston Consulting Group             2-5 Yrs  \n",
       "6                                HCL Technologies             3-8 Yrs  \n",
       "7  NISG (National Institute for Smart Government)             3-8 Yrs  \n",
       "8        MOTHERSONSUMI INFOTECH & DESIGNS LIMITED             4-8 Yrs  \n",
       "9                                           iNICU             1-5 Yrs  "
      ]
     },
     "execution_count": 154,
     "metadata": {},
     "output_type": "execute_result"
    }
   ],
   "source": [
    "jobs.head(10)"
   ]
  },
  {
   "cell_type": "code",
   "execution_count": 155,
   "id": "32614796",
   "metadata": {},
   "outputs": [],
   "source": [
    "driver.close()"
   ]
  },
  {
   "cell_type": "markdown",
   "id": "25289688",
   "metadata": {},
   "source": [
    "### Que.4"
   ]
  },
  {
   "cell_type": "code",
   "execution_count": 156,
   "id": "29d88d61",
   "metadata": {},
   "outputs": [],
   "source": [
    "driver=webdriver.Chrome('chromedriver.exe')\n",
    "time.sleep(2)"
   ]
  },
  {
   "cell_type": "code",
   "execution_count": 157,
   "id": "8226cdc5",
   "metadata": {},
   "outputs": [],
   "source": [
    "driver.get(\"https://www.flipkart.com/\")"
   ]
  },
  {
   "cell_type": "code",
   "execution_count": 158,
   "id": "2ec47472",
   "metadata": {},
   "outputs": [],
   "source": [
    "cut=driver.find_element_by_xpath(\"/html/body/div[2]/div/div/button\")\n",
    "cut.click()"
   ]
  },
  {
   "cell_type": "code",
   "execution_count": 159,
   "id": "429af98f",
   "metadata": {},
   "outputs": [],
   "source": [
    "search_product=driver.find_element_by_class_name(\"_3704LK\")\n",
    "search_product.send_keys(\"sunglasses\")"
   ]
  },
  {
   "cell_type": "code",
   "execution_count": 160,
   "id": "e347b59f",
   "metadata": {},
   "outputs": [],
   "source": [
    "search_button=driver.find_element_by_xpath(\"/html/body/div[1]/div/div[1]/div[1]/div[2]/div[2]/form/div/button\")\n",
    "search_button.click()"
   ]
  },
  {
   "cell_type": "code",
   "execution_count": 161,
   "id": "a6603b4e",
   "metadata": {},
   "outputs": [],
   "source": [
    "url=\"https://www.flipkart.com/search?q=sunglasses&otracker=search&otracker1=search&marketplace=FLIPKART&as-show=on&as=off\""
   ]
  },
  {
   "cell_type": "code",
   "execution_count": 162,
   "id": "17738b2a",
   "metadata": {},
   "outputs": [],
   "source": [
    "driver.get(url)"
   ]
  },
  {
   "cell_type": "code",
   "execution_count": 163,
   "id": "c2f42964",
   "metadata": {},
   "outputs": [],
   "source": [
    "brand_name=[]\n",
    "prod_des=[]\n",
    "price=[]"
   ]
  },
  {
   "cell_type": "code",
   "execution_count": 164,
   "id": "a77f4b24",
   "metadata": {},
   "outputs": [
    {
     "data": {
      "text/plain": [
       "[<selenium.webdriver.remote.webelement.WebElement (session=\"83859238701d3b7f7d02845b4e216d88\", element=\"a8613078-ff06-4325-be6b-fb51b2ab2869\")>,\n",
       " <selenium.webdriver.remote.webelement.WebElement (session=\"83859238701d3b7f7d02845b4e216d88\", element=\"8e412e15-7dc9-43e4-a9cd-e7f1b58703ba\")>,\n",
       " <selenium.webdriver.remote.webelement.WebElement (session=\"83859238701d3b7f7d02845b4e216d88\", element=\"2dcf72fd-dae9-4dcc-a71c-d9854953b3d4\")>,\n",
       " <selenium.webdriver.remote.webelement.WebElement (session=\"83859238701d3b7f7d02845b4e216d88\", element=\"4a6d2f10-89f6-438d-91c7-ff0034d0cc32\")>,\n",
       " <selenium.webdriver.remote.webelement.WebElement (session=\"83859238701d3b7f7d02845b4e216d88\", element=\"5ff12541-cfff-4504-8910-3b0bc07b027d\")>,\n",
       " <selenium.webdriver.remote.webelement.WebElement (session=\"83859238701d3b7f7d02845b4e216d88\", element=\"10b5ae78-4639-4df1-984b-d967f227705a\")>,\n",
       " <selenium.webdriver.remote.webelement.WebElement (session=\"83859238701d3b7f7d02845b4e216d88\", element=\"b03a48ef-c1ce-432a-8b6c-bdceb8cc9a8a\")>,\n",
       " <selenium.webdriver.remote.webelement.WebElement (session=\"83859238701d3b7f7d02845b4e216d88\", element=\"a2792b6d-8cc7-47cf-8df6-a7b382709d35\")>,\n",
       " <selenium.webdriver.remote.webelement.WebElement (session=\"83859238701d3b7f7d02845b4e216d88\", element=\"8448cc13-d6fd-4e7d-94ac-08e5569e94db\")>,\n",
       " <selenium.webdriver.remote.webelement.WebElement (session=\"83859238701d3b7f7d02845b4e216d88\", element=\"cf37f70e-1eaa-4c80-9909-e60efdfba374\")>,\n",
       " <selenium.webdriver.remote.webelement.WebElement (session=\"83859238701d3b7f7d02845b4e216d88\", element=\"bbe7698c-de47-43d8-bba9-3df240b44699\")>,\n",
       " <selenium.webdriver.remote.webelement.WebElement (session=\"83859238701d3b7f7d02845b4e216d88\", element=\"05a487e0-4815-416b-be6a-e9f625a01b70\")>,\n",
       " <selenium.webdriver.remote.webelement.WebElement (session=\"83859238701d3b7f7d02845b4e216d88\", element=\"b4b1ef44-10bf-4729-99ed-7618e1a89a4e\")>,\n",
       " <selenium.webdriver.remote.webelement.WebElement (session=\"83859238701d3b7f7d02845b4e216d88\", element=\"234d6526-1263-4752-b74c-34ab47ef7da4\")>,\n",
       " <selenium.webdriver.remote.webelement.WebElement (session=\"83859238701d3b7f7d02845b4e216d88\", element=\"e384fd72-9bf2-447b-8f70-cf4de646bdd7\")>,\n",
       " <selenium.webdriver.remote.webelement.WebElement (session=\"83859238701d3b7f7d02845b4e216d88\", element=\"1a8cfa59-a343-4bb7-bd34-67260ff383bb\")>,\n",
       " <selenium.webdriver.remote.webelement.WebElement (session=\"83859238701d3b7f7d02845b4e216d88\", element=\"aae788e3-48b6-497f-9f89-ba790d5b8c11\")>,\n",
       " <selenium.webdriver.remote.webelement.WebElement (session=\"83859238701d3b7f7d02845b4e216d88\", element=\"3da3e81c-23ca-4c58-8381-4616036970c0\")>,\n",
       " <selenium.webdriver.remote.webelement.WebElement (session=\"83859238701d3b7f7d02845b4e216d88\", element=\"527e30f0-8edf-4c8a-8038-cca990be7ee8\")>,\n",
       " <selenium.webdriver.remote.webelement.WebElement (session=\"83859238701d3b7f7d02845b4e216d88\", element=\"874fb0ab-53ce-43e7-8988-cc9ee47490f2\")>,\n",
       " <selenium.webdriver.remote.webelement.WebElement (session=\"83859238701d3b7f7d02845b4e216d88\", element=\"82fcfa87-d468-437c-961b-bd814e4ee2ce\")>,\n",
       " <selenium.webdriver.remote.webelement.WebElement (session=\"83859238701d3b7f7d02845b4e216d88\", element=\"2eb4074a-ffea-4700-839a-2b2b87dba500\")>,\n",
       " <selenium.webdriver.remote.webelement.WebElement (session=\"83859238701d3b7f7d02845b4e216d88\", element=\"03f3fbe9-b6b8-4a87-bd68-d6c9b0473762\")>,\n",
       " <selenium.webdriver.remote.webelement.WebElement (session=\"83859238701d3b7f7d02845b4e216d88\", element=\"5890b69c-18f7-4869-8c07-6ce13ddbd8ff\")>,\n",
       " <selenium.webdriver.remote.webelement.WebElement (session=\"83859238701d3b7f7d02845b4e216d88\", element=\"4288f389-8a8f-427f-95d2-7594d513668b\")>,\n",
       " <selenium.webdriver.remote.webelement.WebElement (session=\"83859238701d3b7f7d02845b4e216d88\", element=\"6d33860b-3a73-4c73-a851-3ab5ba5e6e3d\")>,\n",
       " <selenium.webdriver.remote.webelement.WebElement (session=\"83859238701d3b7f7d02845b4e216d88\", element=\"65fd84b1-8f38-45f6-a849-987021266326\")>,\n",
       " <selenium.webdriver.remote.webelement.WebElement (session=\"83859238701d3b7f7d02845b4e216d88\", element=\"7c09ad69-16be-4d55-b91b-fa249c31065a\")>,\n",
       " <selenium.webdriver.remote.webelement.WebElement (session=\"83859238701d3b7f7d02845b4e216d88\", element=\"4be0c6ee-66d8-49c7-a40c-65cc4cd9f1c1\")>,\n",
       " <selenium.webdriver.remote.webelement.WebElement (session=\"83859238701d3b7f7d02845b4e216d88\", element=\"d425ed25-bfee-422d-9df9-6b8ac291c6f9\")>,\n",
       " <selenium.webdriver.remote.webelement.WebElement (session=\"83859238701d3b7f7d02845b4e216d88\", element=\"cace246c-86a5-46f1-b6b6-9f883bb51f51\")>,\n",
       " <selenium.webdriver.remote.webelement.WebElement (session=\"83859238701d3b7f7d02845b4e216d88\", element=\"0c06133d-355b-4fec-ad0a-367bad674dcf\")>,\n",
       " <selenium.webdriver.remote.webelement.WebElement (session=\"83859238701d3b7f7d02845b4e216d88\", element=\"c5d9b70b-8b15-4a52-a968-c50544c38e8a\")>,\n",
       " <selenium.webdriver.remote.webelement.WebElement (session=\"83859238701d3b7f7d02845b4e216d88\", element=\"5aacc7cd-4eab-4735-9b2c-f03f87cdb168\")>,\n",
       " <selenium.webdriver.remote.webelement.WebElement (session=\"83859238701d3b7f7d02845b4e216d88\", element=\"3d025061-1e4f-4079-951e-644e11a9b9b9\")>,\n",
       " <selenium.webdriver.remote.webelement.WebElement (session=\"83859238701d3b7f7d02845b4e216d88\", element=\"2c58097c-86a7-402d-9eb8-d9de4f93fb1d\")>,\n",
       " <selenium.webdriver.remote.webelement.WebElement (session=\"83859238701d3b7f7d02845b4e216d88\", element=\"614fe091-8389-43e7-9a24-214d9a3cadd9\")>,\n",
       " <selenium.webdriver.remote.webelement.WebElement (session=\"83859238701d3b7f7d02845b4e216d88\", element=\"ebe3848c-5871-4e87-befe-73532146e43a\")>,\n",
       " <selenium.webdriver.remote.webelement.WebElement (session=\"83859238701d3b7f7d02845b4e216d88\", element=\"ede9d49a-2686-4c77-a221-d48a502b4379\")>,\n",
       " <selenium.webdriver.remote.webelement.WebElement (session=\"83859238701d3b7f7d02845b4e216d88\", element=\"9ab788d8-7159-4471-a8e6-1d1693b8af41\")>]"
      ]
     },
     "execution_count": 164,
     "metadata": {},
     "output_type": "execute_result"
    }
   ],
   "source": [
    "name_tags=driver.find_elements_by_xpath(\"//div[@class='_2WkVRV']\")\n",
    "name_tags"
   ]
  },
  {
   "cell_type": "code",
   "execution_count": 165,
   "id": "50302083",
   "metadata": {},
   "outputs": [
    {
     "data": {
      "text/plain": [
       "['PIRASO',\n",
       " 'PIRASO',\n",
       " 'Elligator',\n",
       " 'Fastrack',\n",
       " 'PIRASO',\n",
       " 'New Specs',\n",
       " 'Fastrack',\n",
       " 'PIRASO',\n",
       " 'SRPM',\n",
       " 'PIRASO',\n",
       " 'SHAAH COLLECTIONS',\n",
       " 'ROZZETTA CRAFT',\n",
       " 'SUNBEE',\n",
       " 'Lee Topper',\n",
       " 'Lee Topper',\n",
       " 'PIRASO',\n",
       " 'SUNBEE',\n",
       " 'ROZZETTA CRAFT',\n",
       " 'PIRASO',\n",
       " 'ROYAL SON',\n",
       " 'PIRASO',\n",
       " 'Fastrack',\n",
       " 'New Specs',\n",
       " 'PIRASO',\n",
       " 'hipe',\n",
       " 'GANSTA',\n",
       " 'hipe',\n",
       " 'PIRASO',\n",
       " 'kingsunglasses',\n",
       " 'kingsunglasses',\n",
       " 'SRPM',\n",
       " 'PIRASO',\n",
       " 'DEIXELS',\n",
       " 'Elligator',\n",
       " 'hipe',\n",
       " 'ROYAL SON',\n",
       " 'PHENOMENAL',\n",
       " 'Singco India',\n",
       " 'hipe',\n",
       " 'ROYAL SON']"
      ]
     },
     "execution_count": 165,
     "metadata": {},
     "output_type": "execute_result"
    }
   ],
   "source": [
    "for i in name_tags:\n",
    "    name=i.text\n",
    "    brand_name.append(name)\n",
    "brand_name"
   ]
  },
  {
   "cell_type": "code",
   "execution_count": 166,
   "id": "1003b670",
   "metadata": {},
   "outputs": [
    {
     "data": {
      "text/plain": [
       "[<selenium.webdriver.remote.webelement.WebElement (session=\"83859238701d3b7f7d02845b4e216d88\", element=\"fdeafe5d-ca0e-456a-bc2b-92300fa31e8a\")>,\n",
       " <selenium.webdriver.remote.webelement.WebElement (session=\"83859238701d3b7f7d02845b4e216d88\", element=\"5a1cdfa6-22f2-4c73-b163-132f9f8e6971\")>,\n",
       " <selenium.webdriver.remote.webelement.WebElement (session=\"83859238701d3b7f7d02845b4e216d88\", element=\"9525f1cb-1a78-404e-910d-0ff39e53acbf\")>,\n",
       " <selenium.webdriver.remote.webelement.WebElement (session=\"83859238701d3b7f7d02845b4e216d88\", element=\"187eeb26-603a-4b7c-ad3c-2f403661b51e\")>,\n",
       " <selenium.webdriver.remote.webelement.WebElement (session=\"83859238701d3b7f7d02845b4e216d88\", element=\"afeadbbe-0107-46b0-b989-9075149735f3\")>,\n",
       " <selenium.webdriver.remote.webelement.WebElement (session=\"83859238701d3b7f7d02845b4e216d88\", element=\"0df2448b-4545-4722-8d7c-4a3b2b537e8d\")>,\n",
       " <selenium.webdriver.remote.webelement.WebElement (session=\"83859238701d3b7f7d02845b4e216d88\", element=\"0c56a47b-feff-48f9-86d1-e2702137f9d9\")>,\n",
       " <selenium.webdriver.remote.webelement.WebElement (session=\"83859238701d3b7f7d02845b4e216d88\", element=\"6f29b182-468d-4fba-892c-ba107edb097b\")>,\n",
       " <selenium.webdriver.remote.webelement.WebElement (session=\"83859238701d3b7f7d02845b4e216d88\", element=\"eb104b07-93db-487d-b0a9-f499322f776b\")>,\n",
       " <selenium.webdriver.remote.webelement.WebElement (session=\"83859238701d3b7f7d02845b4e216d88\", element=\"5fcd672f-eadc-44a7-b382-e497430c368b\")>,\n",
       " <selenium.webdriver.remote.webelement.WebElement (session=\"83859238701d3b7f7d02845b4e216d88\", element=\"0aca89db-2537-4add-accc-a27a3919f4bb\")>,\n",
       " <selenium.webdriver.remote.webelement.WebElement (session=\"83859238701d3b7f7d02845b4e216d88\", element=\"e3b3b67c-aa21-4421-82bf-3f10e17cb96c\")>,\n",
       " <selenium.webdriver.remote.webelement.WebElement (session=\"83859238701d3b7f7d02845b4e216d88\", element=\"b4f2d21e-ad1d-4795-bbba-435f35e0abb6\")>,\n",
       " <selenium.webdriver.remote.webelement.WebElement (session=\"83859238701d3b7f7d02845b4e216d88\", element=\"38474fcc-156f-4ab8-89c4-b06aabae66ff\")>,\n",
       " <selenium.webdriver.remote.webelement.WebElement (session=\"83859238701d3b7f7d02845b4e216d88\", element=\"15790174-7434-448b-87a9-9c788af67374\")>,\n",
       " <selenium.webdriver.remote.webelement.WebElement (session=\"83859238701d3b7f7d02845b4e216d88\", element=\"ee7d5ace-59c5-429a-bda9-46cc38203ea7\")>,\n",
       " <selenium.webdriver.remote.webelement.WebElement (session=\"83859238701d3b7f7d02845b4e216d88\", element=\"4bd111b1-8035-4f49-ae56-3e23cac39ad8\")>,\n",
       " <selenium.webdriver.remote.webelement.WebElement (session=\"83859238701d3b7f7d02845b4e216d88\", element=\"54c20407-6e7f-44e1-86af-51bd0aa3b074\")>,\n",
       " <selenium.webdriver.remote.webelement.WebElement (session=\"83859238701d3b7f7d02845b4e216d88\", element=\"4b405a70-5170-4ed2-8a61-3fd2ea752cea\")>,\n",
       " <selenium.webdriver.remote.webelement.WebElement (session=\"83859238701d3b7f7d02845b4e216d88\", element=\"45e071b3-ea60-4859-b344-28ff961a222f\")>,\n",
       " <selenium.webdriver.remote.webelement.WebElement (session=\"83859238701d3b7f7d02845b4e216d88\", element=\"4446bb07-913b-49d8-bde9-cad3e3f5311f\")>,\n",
       " <selenium.webdriver.remote.webelement.WebElement (session=\"83859238701d3b7f7d02845b4e216d88\", element=\"354a475d-e168-4d97-a03e-2d197b7aa891\")>,\n",
       " <selenium.webdriver.remote.webelement.WebElement (session=\"83859238701d3b7f7d02845b4e216d88\", element=\"71860e28-0072-47e4-9370-dd760050d913\")>,\n",
       " <selenium.webdriver.remote.webelement.WebElement (session=\"83859238701d3b7f7d02845b4e216d88\", element=\"de219db8-a16d-41e0-a775-8f6d51817aaa\")>,\n",
       " <selenium.webdriver.remote.webelement.WebElement (session=\"83859238701d3b7f7d02845b4e216d88\", element=\"c3ac7ad8-f176-4602-9679-bc4054e7cda3\")>,\n",
       " <selenium.webdriver.remote.webelement.WebElement (session=\"83859238701d3b7f7d02845b4e216d88\", element=\"8e755b73-8e4f-4f8d-ba57-449b54391905\")>,\n",
       " <selenium.webdriver.remote.webelement.WebElement (session=\"83859238701d3b7f7d02845b4e216d88\", element=\"95de1838-7f51-408e-8e5a-c4b52e8ff714\")>,\n",
       " <selenium.webdriver.remote.webelement.WebElement (session=\"83859238701d3b7f7d02845b4e216d88\", element=\"2640abf6-6049-444c-93fc-d3c60cdb3a9d\")>,\n",
       " <selenium.webdriver.remote.webelement.WebElement (session=\"83859238701d3b7f7d02845b4e216d88\", element=\"edf1a6b1-25ed-445c-80aa-be7eed98fde0\")>,\n",
       " <selenium.webdriver.remote.webelement.WebElement (session=\"83859238701d3b7f7d02845b4e216d88\", element=\"d31278df-c249-4273-974c-2de6a2a86e24\")>,\n",
       " <selenium.webdriver.remote.webelement.WebElement (session=\"83859238701d3b7f7d02845b4e216d88\", element=\"46530277-44aa-489c-b47f-5db6f2c374c0\")>,\n",
       " <selenium.webdriver.remote.webelement.WebElement (session=\"83859238701d3b7f7d02845b4e216d88\", element=\"828f79e0-0350-46c0-a5a9-7ec9f698073c\")>,\n",
       " <selenium.webdriver.remote.webelement.WebElement (session=\"83859238701d3b7f7d02845b4e216d88\", element=\"46b356a9-51d9-4568-a571-c4761126efed\")>,\n",
       " <selenium.webdriver.remote.webelement.WebElement (session=\"83859238701d3b7f7d02845b4e216d88\", element=\"b90a56db-920d-4b7e-9aa0-39f5f4511391\")>,\n",
       " <selenium.webdriver.remote.webelement.WebElement (session=\"83859238701d3b7f7d02845b4e216d88\", element=\"20cb3058-2564-400f-8c66-12866dd04b98\")>,\n",
       " <selenium.webdriver.remote.webelement.WebElement (session=\"83859238701d3b7f7d02845b4e216d88\", element=\"0f5c578e-b649-44c0-aede-5df882ed49f5\")>,\n",
       " <selenium.webdriver.remote.webelement.WebElement (session=\"83859238701d3b7f7d02845b4e216d88\", element=\"95aed37f-7c6d-455f-9b1c-b8e30ed19ea3\")>,\n",
       " <selenium.webdriver.remote.webelement.WebElement (session=\"83859238701d3b7f7d02845b4e216d88\", element=\"79b6562f-b779-47e4-9adc-268873e750e5\")>,\n",
       " <selenium.webdriver.remote.webelement.WebElement (session=\"83859238701d3b7f7d02845b4e216d88\", element=\"c0d6dd49-f179-4bdb-afda-57fa02f5bb48\")>,\n",
       " <selenium.webdriver.remote.webelement.WebElement (session=\"83859238701d3b7f7d02845b4e216d88\", element=\"2427c83e-41f6-4c03-be17-e401216d9130\")>]"
      ]
     },
     "execution_count": 166,
     "metadata": {},
     "output_type": "execute_result"
    }
   ],
   "source": [
    "desc_tags=driver.find_elements_by_xpath(\"//a[@class='IRpwTa']\")\n",
    "desc_tags"
   ]
  },
  {
   "cell_type": "code",
   "execution_count": 167,
   "id": "f3359e25",
   "metadata": {},
   "outputs": [
    {
     "data": {
      "text/plain": [
       "['UV Protection Aviator Sunglasses (55)',\n",
       " 'UV Protection Rectangular, Over-sized Sunglasses (Free ...',\n",
       " 'UV Protection Round Sunglasses (54)',\n",
       " 'UV Protection Wayfarer Sunglasses (Free Size)',\n",
       " 'UV Protection Aviator Sunglasses (54)',\n",
       " 'UV Protection Rectangular Sunglasses (Free Size)',\n",
       " 'UV Protection Rectangular Sunglasses (Free Size)',\n",
       " 'UV Protection Butterfly Sunglasses (60)',\n",
       " 'UV Protection Wayfarer Sunglasses (50)',\n",
       " 'UV Protection Aviator Sunglasses (54)',\n",
       " 'UV Protection, Polarized, Mirrored Rectangular Sunglass...',\n",
       " 'UV Protection Spectacle Sunglasses (Free Size)',\n",
       " 'UV Protection, Polarized Wayfarer Sunglasses (Free Size...',\n",
       " 'Riding Glasses Wrap-around Sunglasses (Free Size)',\n",
       " 'UV Protection Rectangular Sunglasses (Free Size)',\n",
       " 'Mirrored Aviator Sunglasses (32)',\n",
       " 'UV Protection, Polarized, Mirrored Retro Square Sunglas...',\n",
       " 'Polarized, Riding Glasses Sports, Wrap-around Sunglasse...',\n",
       " 'UV Protection Wayfarer Sunglasses (32)',\n",
       " 'UV Protection, Polarized Wayfarer Sunglasses (54)',\n",
       " 'UV Protection Aviator Sunglasses (54)',\n",
       " 'UV Protection Shield Sunglasses (Free Size)',\n",
       " 'Mirrored, UV Protection, Riding Glasses, Others Round S...',\n",
       " 'UV Protection Aviator Sunglasses (50)',\n",
       " 'UV Protection, Gradient, Mirrored, Riding Glasses Aviat...',\n",
       " 'UV Protection, Riding Glasses Wayfarer Sunglasses (53)',\n",
       " 'Mirrored Wayfarer Sunglasses (55)',\n",
       " 'UV Protection Aviator Sunglasses (Free Size)',\n",
       " 'UV Protection, Riding Glasses, Mirrored Wayfarer Sungla...',\n",
       " 'Mirrored, UV Protection Wayfarer Sunglasses (Free Size)',\n",
       " 'UV Protection Wayfarer Sunglasses (54)',\n",
       " 'UV Protection Aviator Sunglasses (58)',\n",
       " 'UV Protection Aviator, Wayfarer Sunglasses (Free Size)',\n",
       " 'UV Protection Round Sunglasses (53)',\n",
       " 'UV Protection Sports Sunglasses (Free Size)',\n",
       " 'Mirrored Aviator Sunglasses (55)',\n",
       " 'UV Protection Retro Square Sunglasses (53)',\n",
       " 'Riding Glasses, UV Protection, Others Aviator Sunglasse...',\n",
       " 'Mirrored, UV Protection, Gradient Round Sunglasses (55)',\n",
       " 'Polarized, UV Protection Wrap-around Sunglasses (62)']"
      ]
     },
     "execution_count": 167,
     "metadata": {},
     "output_type": "execute_result"
    }
   ],
   "source": [
    "for i in desc_tags:\n",
    "    desc=i.text\n",
    "    prod_des.append(desc)\n",
    "prod_des"
   ]
  },
  {
   "cell_type": "code",
   "execution_count": 168,
   "id": "d88e6798",
   "metadata": {},
   "outputs": [
    {
     "data": {
      "text/plain": [
       "[<selenium.webdriver.remote.webelement.WebElement (session=\"83859238701d3b7f7d02845b4e216d88\", element=\"7883f700-ad1b-41fc-bd72-1a5236284a37\")>,\n",
       " <selenium.webdriver.remote.webelement.WebElement (session=\"83859238701d3b7f7d02845b4e216d88\", element=\"e61a8e50-b553-4d13-9a6e-19ce09f67302\")>,\n",
       " <selenium.webdriver.remote.webelement.WebElement (session=\"83859238701d3b7f7d02845b4e216d88\", element=\"a9f248d2-0fa4-43bb-80e2-b514165b7417\")>,\n",
       " <selenium.webdriver.remote.webelement.WebElement (session=\"83859238701d3b7f7d02845b4e216d88\", element=\"caefb790-8420-4168-9739-de5e209de77b\")>,\n",
       " <selenium.webdriver.remote.webelement.WebElement (session=\"83859238701d3b7f7d02845b4e216d88\", element=\"b755ff9b-d565-4b97-b8da-7d30c7a2d9e7\")>,\n",
       " <selenium.webdriver.remote.webelement.WebElement (session=\"83859238701d3b7f7d02845b4e216d88\", element=\"c281d980-8b9d-4aad-86a2-33d969d8afba\")>,\n",
       " <selenium.webdriver.remote.webelement.WebElement (session=\"83859238701d3b7f7d02845b4e216d88\", element=\"ff1b4510-37ac-4e32-8fb6-8e0625a7949f\")>,\n",
       " <selenium.webdriver.remote.webelement.WebElement (session=\"83859238701d3b7f7d02845b4e216d88\", element=\"0e151e19-9025-4c63-8482-c191f8c46fa1\")>,\n",
       " <selenium.webdriver.remote.webelement.WebElement (session=\"83859238701d3b7f7d02845b4e216d88\", element=\"5397b987-fe43-4892-9896-5e80e3b8badb\")>,\n",
       " <selenium.webdriver.remote.webelement.WebElement (session=\"83859238701d3b7f7d02845b4e216d88\", element=\"b69f9fd5-72fc-4427-86c6-acec1bdd7cb1\")>,\n",
       " <selenium.webdriver.remote.webelement.WebElement (session=\"83859238701d3b7f7d02845b4e216d88\", element=\"2bc2de66-5c29-4fbe-907a-82e1ab9a5fea\")>,\n",
       " <selenium.webdriver.remote.webelement.WebElement (session=\"83859238701d3b7f7d02845b4e216d88\", element=\"f1a5b8e3-f609-42cd-9748-647fe4178e2e\")>,\n",
       " <selenium.webdriver.remote.webelement.WebElement (session=\"83859238701d3b7f7d02845b4e216d88\", element=\"6f00e885-4ce8-4acc-9973-3c857613a6a9\")>,\n",
       " <selenium.webdriver.remote.webelement.WebElement (session=\"83859238701d3b7f7d02845b4e216d88\", element=\"5dcbb14e-7df5-4766-a50c-062965c47eb9\")>,\n",
       " <selenium.webdriver.remote.webelement.WebElement (session=\"83859238701d3b7f7d02845b4e216d88\", element=\"a7340fea-19db-4310-ab31-32c339c8fd4a\")>,\n",
       " <selenium.webdriver.remote.webelement.WebElement (session=\"83859238701d3b7f7d02845b4e216d88\", element=\"f3107c46-6e4b-4f4c-809c-a5fe16ad12f1\")>,\n",
       " <selenium.webdriver.remote.webelement.WebElement (session=\"83859238701d3b7f7d02845b4e216d88\", element=\"f9354308-e31c-4b98-ba61-f55472e033d2\")>,\n",
       " <selenium.webdriver.remote.webelement.WebElement (session=\"83859238701d3b7f7d02845b4e216d88\", element=\"8cbbac8c-2744-48eb-a1c9-31ee55bba539\")>,\n",
       " <selenium.webdriver.remote.webelement.WebElement (session=\"83859238701d3b7f7d02845b4e216d88\", element=\"55ee45ce-c7a0-4491-9638-187647980e45\")>,\n",
       " <selenium.webdriver.remote.webelement.WebElement (session=\"83859238701d3b7f7d02845b4e216d88\", element=\"5d8267ff-1389-4fb1-b3b2-ad1895362f66\")>,\n",
       " <selenium.webdriver.remote.webelement.WebElement (session=\"83859238701d3b7f7d02845b4e216d88\", element=\"80893cc9-0c6c-4b54-8aef-d2cf2b6c84c1\")>,\n",
       " <selenium.webdriver.remote.webelement.WebElement (session=\"83859238701d3b7f7d02845b4e216d88\", element=\"3fa4f8ed-8d5f-4843-9506-8ce03e64286d\")>,\n",
       " <selenium.webdriver.remote.webelement.WebElement (session=\"83859238701d3b7f7d02845b4e216d88\", element=\"757f6221-51d8-429b-80ea-5f14c61da2bc\")>,\n",
       " <selenium.webdriver.remote.webelement.WebElement (session=\"83859238701d3b7f7d02845b4e216d88\", element=\"364cba1b-a2b8-4841-b2ec-75e916a8bcb6\")>,\n",
       " <selenium.webdriver.remote.webelement.WebElement (session=\"83859238701d3b7f7d02845b4e216d88\", element=\"ae95454c-e7c8-4f2b-af77-45d02afc6d0f\")>,\n",
       " <selenium.webdriver.remote.webelement.WebElement (session=\"83859238701d3b7f7d02845b4e216d88\", element=\"604cfa42-34eb-4a12-8e11-5a8e48b9ce44\")>,\n",
       " <selenium.webdriver.remote.webelement.WebElement (session=\"83859238701d3b7f7d02845b4e216d88\", element=\"14738842-3800-4d60-b93e-0ad85487797e\")>,\n",
       " <selenium.webdriver.remote.webelement.WebElement (session=\"83859238701d3b7f7d02845b4e216d88\", element=\"36e60ed9-e446-45aa-a3ed-1e56f060123f\")>,\n",
       " <selenium.webdriver.remote.webelement.WebElement (session=\"83859238701d3b7f7d02845b4e216d88\", element=\"9458d7cb-658c-4a55-8c08-d3192e55d59d\")>,\n",
       " <selenium.webdriver.remote.webelement.WebElement (session=\"83859238701d3b7f7d02845b4e216d88\", element=\"55889028-101c-439b-9f31-cf0531bd9fc4\")>,\n",
       " <selenium.webdriver.remote.webelement.WebElement (session=\"83859238701d3b7f7d02845b4e216d88\", element=\"aa75843e-39e4-414f-8bb0-a9c14b01457c\")>,\n",
       " <selenium.webdriver.remote.webelement.WebElement (session=\"83859238701d3b7f7d02845b4e216d88\", element=\"83eab9c2-74ca-45bd-a913-3bb3e1454059\")>,\n",
       " <selenium.webdriver.remote.webelement.WebElement (session=\"83859238701d3b7f7d02845b4e216d88\", element=\"0565150f-171c-4482-b07b-7586efee7b72\")>,\n",
       " <selenium.webdriver.remote.webelement.WebElement (session=\"83859238701d3b7f7d02845b4e216d88\", element=\"e39226be-72a1-408b-a28e-e87f6f7cfa9b\")>,\n",
       " <selenium.webdriver.remote.webelement.WebElement (session=\"83859238701d3b7f7d02845b4e216d88\", element=\"c9665cc4-b3e9-4be2-87e1-8815a4089f08\")>,\n",
       " <selenium.webdriver.remote.webelement.WebElement (session=\"83859238701d3b7f7d02845b4e216d88\", element=\"77295ff6-ad42-4f90-9e9d-442aca1c610b\")>,\n",
       " <selenium.webdriver.remote.webelement.WebElement (session=\"83859238701d3b7f7d02845b4e216d88\", element=\"7444a460-a687-4083-a1c1-0a05b96ee577\")>,\n",
       " <selenium.webdriver.remote.webelement.WebElement (session=\"83859238701d3b7f7d02845b4e216d88\", element=\"3d2fa52b-d1ad-416a-adcd-2bd6b39a0d89\")>,\n",
       " <selenium.webdriver.remote.webelement.WebElement (session=\"83859238701d3b7f7d02845b4e216d88\", element=\"320dbfbd-6a4f-4ea1-913e-993ef41413da\")>,\n",
       " <selenium.webdriver.remote.webelement.WebElement (session=\"83859238701d3b7f7d02845b4e216d88\", element=\"0d060ca8-0e55-44d4-8955-71bd7722c910\")>]"
      ]
     },
     "execution_count": 168,
     "metadata": {},
     "output_type": "execute_result"
    }
   ],
   "source": [
    "price_tags=driver.find_elements_by_xpath(\"//div[@class='_30jeq3']\")\n",
    "price_tags"
   ]
  },
  {
   "cell_type": "code",
   "execution_count": 169,
   "id": "76c0bd02",
   "metadata": {},
   "outputs": [
    {
     "data": {
      "text/plain": [
       "['₹249',\n",
       " '₹325',\n",
       " '₹295',\n",
       " '₹719',\n",
       " '₹249',\n",
       " '₹265',\n",
       " '₹639',\n",
       " '₹399',\n",
       " '₹249',\n",
       " '₹249',\n",
       " '₹185',\n",
       " '₹399',\n",
       " '₹273',\n",
       " '₹275',\n",
       " '₹199',\n",
       " '₹199',\n",
       " '₹249',\n",
       " '₹474',\n",
       " '₹225',\n",
       " '₹799',\n",
       " '₹249',\n",
       " '₹809',\n",
       " '₹299',\n",
       " '₹349',\n",
       " '₹188',\n",
       " '₹221',\n",
       " '₹233',\n",
       " '₹349',\n",
       " '₹209',\n",
       " '₹269',\n",
       " '₹219',\n",
       " '₹349',\n",
       " '₹217',\n",
       " '₹229',\n",
       " '₹258',\n",
       " '₹399',\n",
       " '₹315',\n",
       " '₹245',\n",
       " '₹170',\n",
       " '₹799']"
      ]
     },
     "execution_count": 169,
     "metadata": {},
     "output_type": "execute_result"
    }
   ],
   "source": [
    "for i in price_tags:\n",
    "    pri=i.text\n",
    "    price.append(pri)\n",
    "price"
   ]
  },
  {
   "cell_type": "code",
   "execution_count": 170,
   "id": "73c4aecd",
   "metadata": {},
   "outputs": [
    {
     "name": "stdout",
     "output_type": "stream",
     "text": [
      "40 40 40\n"
     ]
    }
   ],
   "source": [
    "print(len(brand_name),len(prod_des),len(price))"
   ]
  },
  {
   "cell_type": "code",
   "execution_count": 171,
   "id": "01428da1",
   "metadata": {},
   "outputs": [],
   "source": [
    "sunglasses=pd.DataFrame({'Brand Name':brand_name,\"Prodect Description\":prod_des,\"Price\":price})"
   ]
  },
  {
   "cell_type": "code",
   "execution_count": 172,
   "id": "40619bcb",
   "metadata": {},
   "outputs": [
    {
     "data": {
      "text/html": [
       "<div>\n",
       "<style scoped>\n",
       "    .dataframe tbody tr th:only-of-type {\n",
       "        vertical-align: middle;\n",
       "    }\n",
       "\n",
       "    .dataframe tbody tr th {\n",
       "        vertical-align: top;\n",
       "    }\n",
       "\n",
       "    .dataframe thead th {\n",
       "        text-align: right;\n",
       "    }\n",
       "</style>\n",
       "<table border=\"1\" class=\"dataframe\">\n",
       "  <thead>\n",
       "    <tr style=\"text-align: right;\">\n",
       "      <th></th>\n",
       "      <th>Brand Name</th>\n",
       "      <th>Prodect Description</th>\n",
       "      <th>Price</th>\n",
       "    </tr>\n",
       "  </thead>\n",
       "  <tbody>\n",
       "    <tr>\n",
       "      <th>0</th>\n",
       "      <td>PIRASO</td>\n",
       "      <td>UV Protection Aviator Sunglasses (55)</td>\n",
       "      <td>₹249</td>\n",
       "    </tr>\n",
       "    <tr>\n",
       "      <th>1</th>\n",
       "      <td>PIRASO</td>\n",
       "      <td>UV Protection Rectangular, Over-sized Sunglass...</td>\n",
       "      <td>₹325</td>\n",
       "    </tr>\n",
       "    <tr>\n",
       "      <th>2</th>\n",
       "      <td>Elligator</td>\n",
       "      <td>UV Protection Round Sunglasses (54)</td>\n",
       "      <td>₹295</td>\n",
       "    </tr>\n",
       "    <tr>\n",
       "      <th>3</th>\n",
       "      <td>Fastrack</td>\n",
       "      <td>UV Protection Wayfarer Sunglasses (Free Size)</td>\n",
       "      <td>₹719</td>\n",
       "    </tr>\n",
       "    <tr>\n",
       "      <th>4</th>\n",
       "      <td>PIRASO</td>\n",
       "      <td>UV Protection Aviator Sunglasses (54)</td>\n",
       "      <td>₹249</td>\n",
       "    </tr>\n",
       "    <tr>\n",
       "      <th>5</th>\n",
       "      <td>New Specs</td>\n",
       "      <td>UV Protection Rectangular Sunglasses (Free Size)</td>\n",
       "      <td>₹265</td>\n",
       "    </tr>\n",
       "    <tr>\n",
       "      <th>6</th>\n",
       "      <td>Fastrack</td>\n",
       "      <td>UV Protection Rectangular Sunglasses (Free Size)</td>\n",
       "      <td>₹639</td>\n",
       "    </tr>\n",
       "    <tr>\n",
       "      <th>7</th>\n",
       "      <td>PIRASO</td>\n",
       "      <td>UV Protection Butterfly Sunglasses (60)</td>\n",
       "      <td>₹399</td>\n",
       "    </tr>\n",
       "    <tr>\n",
       "      <th>8</th>\n",
       "      <td>SRPM</td>\n",
       "      <td>UV Protection Wayfarer Sunglasses (50)</td>\n",
       "      <td>₹249</td>\n",
       "    </tr>\n",
       "    <tr>\n",
       "      <th>9</th>\n",
       "      <td>PIRASO</td>\n",
       "      <td>UV Protection Aviator Sunglasses (54)</td>\n",
       "      <td>₹249</td>\n",
       "    </tr>\n",
       "    <tr>\n",
       "      <th>10</th>\n",
       "      <td>SHAAH COLLECTIONS</td>\n",
       "      <td>UV Protection, Polarized, Mirrored Rectangular...</td>\n",
       "      <td>₹185</td>\n",
       "    </tr>\n",
       "    <tr>\n",
       "      <th>11</th>\n",
       "      <td>ROZZETTA CRAFT</td>\n",
       "      <td>UV Protection Spectacle Sunglasses (Free Size)</td>\n",
       "      <td>₹399</td>\n",
       "    </tr>\n",
       "    <tr>\n",
       "      <th>12</th>\n",
       "      <td>SUNBEE</td>\n",
       "      <td>UV Protection, Polarized Wayfarer Sunglasses (...</td>\n",
       "      <td>₹273</td>\n",
       "    </tr>\n",
       "    <tr>\n",
       "      <th>13</th>\n",
       "      <td>Lee Topper</td>\n",
       "      <td>Riding Glasses Wrap-around Sunglasses (Free Size)</td>\n",
       "      <td>₹275</td>\n",
       "    </tr>\n",
       "    <tr>\n",
       "      <th>14</th>\n",
       "      <td>Lee Topper</td>\n",
       "      <td>UV Protection Rectangular Sunglasses (Free Size)</td>\n",
       "      <td>₹199</td>\n",
       "    </tr>\n",
       "    <tr>\n",
       "      <th>15</th>\n",
       "      <td>PIRASO</td>\n",
       "      <td>Mirrored Aviator Sunglasses (32)</td>\n",
       "      <td>₹199</td>\n",
       "    </tr>\n",
       "    <tr>\n",
       "      <th>16</th>\n",
       "      <td>SUNBEE</td>\n",
       "      <td>UV Protection, Polarized, Mirrored Retro Squar...</td>\n",
       "      <td>₹249</td>\n",
       "    </tr>\n",
       "    <tr>\n",
       "      <th>17</th>\n",
       "      <td>ROZZETTA CRAFT</td>\n",
       "      <td>Polarized, Riding Glasses Sports, Wrap-around ...</td>\n",
       "      <td>₹474</td>\n",
       "    </tr>\n",
       "    <tr>\n",
       "      <th>18</th>\n",
       "      <td>PIRASO</td>\n",
       "      <td>UV Protection Wayfarer Sunglasses (32)</td>\n",
       "      <td>₹225</td>\n",
       "    </tr>\n",
       "    <tr>\n",
       "      <th>19</th>\n",
       "      <td>ROYAL SON</td>\n",
       "      <td>UV Protection, Polarized Wayfarer Sunglasses (54)</td>\n",
       "      <td>₹799</td>\n",
       "    </tr>\n",
       "    <tr>\n",
       "      <th>20</th>\n",
       "      <td>PIRASO</td>\n",
       "      <td>UV Protection Aviator Sunglasses (54)</td>\n",
       "      <td>₹249</td>\n",
       "    </tr>\n",
       "    <tr>\n",
       "      <th>21</th>\n",
       "      <td>Fastrack</td>\n",
       "      <td>UV Protection Shield Sunglasses (Free Size)</td>\n",
       "      <td>₹809</td>\n",
       "    </tr>\n",
       "    <tr>\n",
       "      <th>22</th>\n",
       "      <td>New Specs</td>\n",
       "      <td>Mirrored, UV Protection, Riding Glasses, Other...</td>\n",
       "      <td>₹299</td>\n",
       "    </tr>\n",
       "    <tr>\n",
       "      <th>23</th>\n",
       "      <td>PIRASO</td>\n",
       "      <td>UV Protection Aviator Sunglasses (50)</td>\n",
       "      <td>₹349</td>\n",
       "    </tr>\n",
       "    <tr>\n",
       "      <th>24</th>\n",
       "      <td>hipe</td>\n",
       "      <td>UV Protection, Gradient, Mirrored, Riding Glas...</td>\n",
       "      <td>₹188</td>\n",
       "    </tr>\n",
       "    <tr>\n",
       "      <th>25</th>\n",
       "      <td>GANSTA</td>\n",
       "      <td>UV Protection, Riding Glasses Wayfarer Sunglas...</td>\n",
       "      <td>₹221</td>\n",
       "    </tr>\n",
       "    <tr>\n",
       "      <th>26</th>\n",
       "      <td>hipe</td>\n",
       "      <td>Mirrored Wayfarer Sunglasses (55)</td>\n",
       "      <td>₹233</td>\n",
       "    </tr>\n",
       "    <tr>\n",
       "      <th>27</th>\n",
       "      <td>PIRASO</td>\n",
       "      <td>UV Protection Aviator Sunglasses (Free Size)</td>\n",
       "      <td>₹349</td>\n",
       "    </tr>\n",
       "    <tr>\n",
       "      <th>28</th>\n",
       "      <td>kingsunglasses</td>\n",
       "      <td>UV Protection, Riding Glasses, Mirrored Wayfar...</td>\n",
       "      <td>₹209</td>\n",
       "    </tr>\n",
       "    <tr>\n",
       "      <th>29</th>\n",
       "      <td>kingsunglasses</td>\n",
       "      <td>Mirrored, UV Protection Wayfarer Sunglasses (F...</td>\n",
       "      <td>₹269</td>\n",
       "    </tr>\n",
       "    <tr>\n",
       "      <th>30</th>\n",
       "      <td>SRPM</td>\n",
       "      <td>UV Protection Wayfarer Sunglasses (54)</td>\n",
       "      <td>₹219</td>\n",
       "    </tr>\n",
       "    <tr>\n",
       "      <th>31</th>\n",
       "      <td>PIRASO</td>\n",
       "      <td>UV Protection Aviator Sunglasses (58)</td>\n",
       "      <td>₹349</td>\n",
       "    </tr>\n",
       "    <tr>\n",
       "      <th>32</th>\n",
       "      <td>DEIXELS</td>\n",
       "      <td>UV Protection Aviator, Wayfarer Sunglasses (Fr...</td>\n",
       "      <td>₹217</td>\n",
       "    </tr>\n",
       "    <tr>\n",
       "      <th>33</th>\n",
       "      <td>Elligator</td>\n",
       "      <td>UV Protection Round Sunglasses (53)</td>\n",
       "      <td>₹229</td>\n",
       "    </tr>\n",
       "    <tr>\n",
       "      <th>34</th>\n",
       "      <td>hipe</td>\n",
       "      <td>UV Protection Sports Sunglasses (Free Size)</td>\n",
       "      <td>₹258</td>\n",
       "    </tr>\n",
       "    <tr>\n",
       "      <th>35</th>\n",
       "      <td>ROYAL SON</td>\n",
       "      <td>Mirrored Aviator Sunglasses (55)</td>\n",
       "      <td>₹399</td>\n",
       "    </tr>\n",
       "    <tr>\n",
       "      <th>36</th>\n",
       "      <td>PHENOMENAL</td>\n",
       "      <td>UV Protection Retro Square Sunglasses (53)</td>\n",
       "      <td>₹315</td>\n",
       "    </tr>\n",
       "    <tr>\n",
       "      <th>37</th>\n",
       "      <td>Singco India</td>\n",
       "      <td>Riding Glasses, UV Protection, Others Aviator ...</td>\n",
       "      <td>₹245</td>\n",
       "    </tr>\n",
       "    <tr>\n",
       "      <th>38</th>\n",
       "      <td>hipe</td>\n",
       "      <td>Mirrored, UV Protection, Gradient Round Sungla...</td>\n",
       "      <td>₹170</td>\n",
       "    </tr>\n",
       "    <tr>\n",
       "      <th>39</th>\n",
       "      <td>ROYAL SON</td>\n",
       "      <td>Polarized, UV Protection Wrap-around Sunglasse...</td>\n",
       "      <td>₹799</td>\n",
       "    </tr>\n",
       "  </tbody>\n",
       "</table>\n",
       "</div>"
      ],
      "text/plain": [
       "           Brand Name                                Prodect Description Price\n",
       "0              PIRASO              UV Protection Aviator Sunglasses (55)  ₹249\n",
       "1              PIRASO  UV Protection Rectangular, Over-sized Sunglass...  ₹325\n",
       "2           Elligator                UV Protection Round Sunglasses (54)  ₹295\n",
       "3            Fastrack      UV Protection Wayfarer Sunglasses (Free Size)  ₹719\n",
       "4              PIRASO              UV Protection Aviator Sunglasses (54)  ₹249\n",
       "5           New Specs   UV Protection Rectangular Sunglasses (Free Size)  ₹265\n",
       "6            Fastrack   UV Protection Rectangular Sunglasses (Free Size)  ₹639\n",
       "7              PIRASO            UV Protection Butterfly Sunglasses (60)  ₹399\n",
       "8                SRPM             UV Protection Wayfarer Sunglasses (50)  ₹249\n",
       "9              PIRASO              UV Protection Aviator Sunglasses (54)  ₹249\n",
       "10  SHAAH COLLECTIONS  UV Protection, Polarized, Mirrored Rectangular...  ₹185\n",
       "11     ROZZETTA CRAFT     UV Protection Spectacle Sunglasses (Free Size)  ₹399\n",
       "12             SUNBEE  UV Protection, Polarized Wayfarer Sunglasses (...  ₹273\n",
       "13         Lee Topper  Riding Glasses Wrap-around Sunglasses (Free Size)  ₹275\n",
       "14         Lee Topper   UV Protection Rectangular Sunglasses (Free Size)  ₹199\n",
       "15             PIRASO                   Mirrored Aviator Sunglasses (32)  ₹199\n",
       "16             SUNBEE  UV Protection, Polarized, Mirrored Retro Squar...  ₹249\n",
       "17     ROZZETTA CRAFT  Polarized, Riding Glasses Sports, Wrap-around ...  ₹474\n",
       "18             PIRASO             UV Protection Wayfarer Sunglasses (32)  ₹225\n",
       "19          ROYAL SON  UV Protection, Polarized Wayfarer Sunglasses (54)  ₹799\n",
       "20             PIRASO              UV Protection Aviator Sunglasses (54)  ₹249\n",
       "21           Fastrack        UV Protection Shield Sunglasses (Free Size)  ₹809\n",
       "22          New Specs  Mirrored, UV Protection, Riding Glasses, Other...  ₹299\n",
       "23             PIRASO              UV Protection Aviator Sunglasses (50)  ₹349\n",
       "24               hipe  UV Protection, Gradient, Mirrored, Riding Glas...  ₹188\n",
       "25             GANSTA  UV Protection, Riding Glasses Wayfarer Sunglas...  ₹221\n",
       "26               hipe                  Mirrored Wayfarer Sunglasses (55)  ₹233\n",
       "27             PIRASO       UV Protection Aviator Sunglasses (Free Size)  ₹349\n",
       "28     kingsunglasses  UV Protection, Riding Glasses, Mirrored Wayfar...  ₹209\n",
       "29     kingsunglasses  Mirrored, UV Protection Wayfarer Sunglasses (F...  ₹269\n",
       "30               SRPM             UV Protection Wayfarer Sunglasses (54)  ₹219\n",
       "31             PIRASO              UV Protection Aviator Sunglasses (58)  ₹349\n",
       "32            DEIXELS  UV Protection Aviator, Wayfarer Sunglasses (Fr...  ₹217\n",
       "33          Elligator                UV Protection Round Sunglasses (53)  ₹229\n",
       "34               hipe        UV Protection Sports Sunglasses (Free Size)  ₹258\n",
       "35          ROYAL SON                   Mirrored Aviator Sunglasses (55)  ₹399\n",
       "36         PHENOMENAL         UV Protection Retro Square Sunglasses (53)  ₹315\n",
       "37       Singco India  Riding Glasses, UV Protection, Others Aviator ...  ₹245\n",
       "38               hipe  Mirrored, UV Protection, Gradient Round Sungla...  ₹170\n",
       "39          ROYAL SON  Polarized, UV Protection Wrap-around Sunglasse...  ₹799"
      ]
     },
     "execution_count": 172,
     "metadata": {},
     "output_type": "execute_result"
    }
   ],
   "source": [
    "sunglasses"
   ]
  },
  {
   "cell_type": "markdown",
   "id": "99c3271a",
   "metadata": {},
   "source": [
    "for next 40 sunglasses"
   ]
  },
  {
   "cell_type": "code",
   "execution_count": 173,
   "id": "05d3bddc",
   "metadata": {},
   "outputs": [],
   "source": [
    "next_button=driver.find_element_by_xpath(\"/html/body/div/div/div[3]/div[1]/div[2]/div[12]/div/div/nav/a[11]/span\")\n",
    "next_button.click()"
   ]
  },
  {
   "cell_type": "code",
   "execution_count": 174,
   "id": "75916b00",
   "metadata": {},
   "outputs": [],
   "source": [
    "brand_name1=[]\n",
    "prod_des1=[]\n",
    "price1=[]"
   ]
  },
  {
   "cell_type": "code",
   "execution_count": 175,
   "id": "2dd69065",
   "metadata": {},
   "outputs": [
    {
     "data": {
      "text/plain": [
       "[<selenium.webdriver.remote.webelement.WebElement (session=\"83859238701d3b7f7d02845b4e216d88\", element=\"ee767cae-0a31-4f61-a73d-de916dfea39f\")>,\n",
       " <selenium.webdriver.remote.webelement.WebElement (session=\"83859238701d3b7f7d02845b4e216d88\", element=\"fe30f972-6d72-4250-85e2-e18f9950d807\")>,\n",
       " <selenium.webdriver.remote.webelement.WebElement (session=\"83859238701d3b7f7d02845b4e216d88\", element=\"71a94435-8000-4492-864c-72dc520dcb07\")>,\n",
       " <selenium.webdriver.remote.webelement.WebElement (session=\"83859238701d3b7f7d02845b4e216d88\", element=\"76b35310-a886-4a23-9798-d43ecf0bee73\")>,\n",
       " <selenium.webdriver.remote.webelement.WebElement (session=\"83859238701d3b7f7d02845b4e216d88\", element=\"a09384c1-fa91-4561-a48c-75aef1ec47dc\")>,\n",
       " <selenium.webdriver.remote.webelement.WebElement (session=\"83859238701d3b7f7d02845b4e216d88\", element=\"b78c4ca3-8de3-41ca-b9dc-1024c48476a9\")>,\n",
       " <selenium.webdriver.remote.webelement.WebElement (session=\"83859238701d3b7f7d02845b4e216d88\", element=\"2d07f758-8514-4a65-9acb-6a6abca1127d\")>,\n",
       " <selenium.webdriver.remote.webelement.WebElement (session=\"83859238701d3b7f7d02845b4e216d88\", element=\"e68b6177-4512-4d49-8d71-a5682307b6e7\")>,\n",
       " <selenium.webdriver.remote.webelement.WebElement (session=\"83859238701d3b7f7d02845b4e216d88\", element=\"66bb95c3-6ccb-4a62-8c32-08a4efc54370\")>,\n",
       " <selenium.webdriver.remote.webelement.WebElement (session=\"83859238701d3b7f7d02845b4e216d88\", element=\"8f6da19f-79ff-4921-a6c9-a2e57c252c63\")>,\n",
       " <selenium.webdriver.remote.webelement.WebElement (session=\"83859238701d3b7f7d02845b4e216d88\", element=\"3aafac08-8fb7-42bf-9f24-b1137adef1b3\")>,\n",
       " <selenium.webdriver.remote.webelement.WebElement (session=\"83859238701d3b7f7d02845b4e216d88\", element=\"552f77b2-d27a-47db-b67d-47b3696a111b\")>,\n",
       " <selenium.webdriver.remote.webelement.WebElement (session=\"83859238701d3b7f7d02845b4e216d88\", element=\"ef111168-f7d4-459b-91b9-d32912314406\")>,\n",
       " <selenium.webdriver.remote.webelement.WebElement (session=\"83859238701d3b7f7d02845b4e216d88\", element=\"44694c78-03f2-400c-89e1-b6aa4e36cf34\")>,\n",
       " <selenium.webdriver.remote.webelement.WebElement (session=\"83859238701d3b7f7d02845b4e216d88\", element=\"d73a50e1-62fd-481f-bd92-e8b14b4a3604\")>,\n",
       " <selenium.webdriver.remote.webelement.WebElement (session=\"83859238701d3b7f7d02845b4e216d88\", element=\"6c9679bc-b501-4df7-bfc2-02c524e08b0b\")>,\n",
       " <selenium.webdriver.remote.webelement.WebElement (session=\"83859238701d3b7f7d02845b4e216d88\", element=\"03114133-43a2-4cb3-afb4-d7fb74f5479c\")>,\n",
       " <selenium.webdriver.remote.webelement.WebElement (session=\"83859238701d3b7f7d02845b4e216d88\", element=\"9ece8aa9-ea7c-409c-bb1a-60a182f5406c\")>,\n",
       " <selenium.webdriver.remote.webelement.WebElement (session=\"83859238701d3b7f7d02845b4e216d88\", element=\"99a26c2b-6f16-4b11-bf7c-420e1a014976\")>,\n",
       " <selenium.webdriver.remote.webelement.WebElement (session=\"83859238701d3b7f7d02845b4e216d88\", element=\"470d8250-c7dc-47ca-9135-c8b3e8e2b300\")>,\n",
       " <selenium.webdriver.remote.webelement.WebElement (session=\"83859238701d3b7f7d02845b4e216d88\", element=\"0dfcb911-508c-4250-aebd-c19987e10563\")>,\n",
       " <selenium.webdriver.remote.webelement.WebElement (session=\"83859238701d3b7f7d02845b4e216d88\", element=\"55694977-1c19-4244-91bc-9394bf627117\")>,\n",
       " <selenium.webdriver.remote.webelement.WebElement (session=\"83859238701d3b7f7d02845b4e216d88\", element=\"34363e4f-9e0d-44d5-9244-679164fb9b26\")>,\n",
       " <selenium.webdriver.remote.webelement.WebElement (session=\"83859238701d3b7f7d02845b4e216d88\", element=\"2e89da72-a1b4-40b8-ba3d-394bebf968d6\")>,\n",
       " <selenium.webdriver.remote.webelement.WebElement (session=\"83859238701d3b7f7d02845b4e216d88\", element=\"cf5a6c5e-41db-43a2-bf40-e0fae7dd721b\")>,\n",
       " <selenium.webdriver.remote.webelement.WebElement (session=\"83859238701d3b7f7d02845b4e216d88\", element=\"681d1f59-c568-489c-929a-7763801b5648\")>,\n",
       " <selenium.webdriver.remote.webelement.WebElement (session=\"83859238701d3b7f7d02845b4e216d88\", element=\"3d167f81-5877-4241-a755-775630fa8b8b\")>,\n",
       " <selenium.webdriver.remote.webelement.WebElement (session=\"83859238701d3b7f7d02845b4e216d88\", element=\"a1aaec80-6002-4a04-b415-31759192ad88\")>,\n",
       " <selenium.webdriver.remote.webelement.WebElement (session=\"83859238701d3b7f7d02845b4e216d88\", element=\"33a69bb2-8aab-4129-861b-11b80839a85b\")>,\n",
       " <selenium.webdriver.remote.webelement.WebElement (session=\"83859238701d3b7f7d02845b4e216d88\", element=\"1b163d72-f413-41aa-af6d-ff117a98a78e\")>,\n",
       " <selenium.webdriver.remote.webelement.WebElement (session=\"83859238701d3b7f7d02845b4e216d88\", element=\"7914d565-711a-469e-8198-979fc0e9cf1b\")>,\n",
       " <selenium.webdriver.remote.webelement.WebElement (session=\"83859238701d3b7f7d02845b4e216d88\", element=\"58b5af95-c456-4fb6-b7b8-4ef41fa955b3\")>,\n",
       " <selenium.webdriver.remote.webelement.WebElement (session=\"83859238701d3b7f7d02845b4e216d88\", element=\"8e0babd7-974e-4f76-9547-7cff4a49d725\")>,\n",
       " <selenium.webdriver.remote.webelement.WebElement (session=\"83859238701d3b7f7d02845b4e216d88\", element=\"4ddca3b6-78da-4b4f-98c9-7d056cfb0851\")>,\n",
       " <selenium.webdriver.remote.webelement.WebElement (session=\"83859238701d3b7f7d02845b4e216d88\", element=\"b510955a-cafe-4163-a0b6-36c69911db6a\")>,\n",
       " <selenium.webdriver.remote.webelement.WebElement (session=\"83859238701d3b7f7d02845b4e216d88\", element=\"d6cf0d1a-6927-40a2-9824-8d1222f09ff0\")>,\n",
       " <selenium.webdriver.remote.webelement.WebElement (session=\"83859238701d3b7f7d02845b4e216d88\", element=\"c15ccef8-4fa7-4535-a092-30d0dfde00d1\")>,\n",
       " <selenium.webdriver.remote.webelement.WebElement (session=\"83859238701d3b7f7d02845b4e216d88\", element=\"85538e35-41b6-44f9-ba5f-d0b9957dc73b\")>,\n",
       " <selenium.webdriver.remote.webelement.WebElement (session=\"83859238701d3b7f7d02845b4e216d88\", element=\"5b6195f3-228d-418a-a03f-8764cd73eff8\")>,\n",
       " <selenium.webdriver.remote.webelement.WebElement (session=\"83859238701d3b7f7d02845b4e216d88\", element=\"15c098a2-6727-48c9-ba9c-8ffd1bed8dd8\")>]"
      ]
     },
     "execution_count": 175,
     "metadata": {},
     "output_type": "execute_result"
    }
   ],
   "source": [
    "name_tags1=driver.find_elements_by_xpath(\"//div[@class='_2WkVRV']\")\n",
    "name_tags1"
   ]
  },
  {
   "cell_type": "code",
   "execution_count": 176,
   "id": "5be48b22",
   "metadata": {},
   "outputs": [
    {
     "data": {
      "text/plain": [
       "['SUNBEE',\n",
       " 'SHAAH COLLECTIONS',\n",
       " 'SRPM',\n",
       " 'NuVew',\n",
       " 'elegante',\n",
       " 'Fastrack',\n",
       " 'PIRASO',\n",
       " 'VILLAIN',\n",
       " 'kingsunglasses',\n",
       " 'Fastrack',\n",
       " 'ROZZETTA CRAFT',\n",
       " 'PIRASO',\n",
       " 'Fastrack',\n",
       " 'ROZZETTA CRAFT',\n",
       " 'kingsunglasses',\n",
       " 'AISLIN',\n",
       " 'Fastrack',\n",
       " 'hipe',\n",
       " 'kingsunglasses',\n",
       " 'ROYAL SON',\n",
       " 'Fastrack',\n",
       " 'Elligator',\n",
       " 'hipe',\n",
       " 'AUTOSITE',\n",
       " 'Lee Topper',\n",
       " 'kingsunglasses',\n",
       " 'kingsunglasses',\n",
       " 'NuVew',\n",
       " 'New Specs',\n",
       " 'Fastrack',\n",
       " 'SRPM',\n",
       " 'AISLIN',\n",
       " 'SUNBEE',\n",
       " 'NuVew',\n",
       " 'PHENOMENAL',\n",
       " 'AISLIN',\n",
       " 'PHENOMENAL',\n",
       " 'Singco India',\n",
       " 'ROYAL SON',\n",
       " 'NuVew']"
      ]
     },
     "execution_count": 176,
     "metadata": {},
     "output_type": "execute_result"
    }
   ],
   "source": [
    "for i in name_tags1:\n",
    "    name=i.text\n",
    "    brand_name1.append(name)\n",
    "brand_name1"
   ]
  },
  {
   "cell_type": "code",
   "execution_count": 177,
   "id": "d15e769a",
   "metadata": {},
   "outputs": [
    {
     "data": {
      "text/plain": [
       "[<selenium.webdriver.remote.webelement.WebElement (session=\"83859238701d3b7f7d02845b4e216d88\", element=\"dcb3f180-f4e9-4db4-a6f3-e3ace8913e28\")>,\n",
       " <selenium.webdriver.remote.webelement.WebElement (session=\"83859238701d3b7f7d02845b4e216d88\", element=\"229f7057-51dc-4de8-a3c8-46964c154698\")>,\n",
       " <selenium.webdriver.remote.webelement.WebElement (session=\"83859238701d3b7f7d02845b4e216d88\", element=\"b5b3a179-d51d-4ad5-ba0c-14334c0d3518\")>,\n",
       " <selenium.webdriver.remote.webelement.WebElement (session=\"83859238701d3b7f7d02845b4e216d88\", element=\"c9256555-f630-49b7-9c60-eeec78fb10cc\")>,\n",
       " <selenium.webdriver.remote.webelement.WebElement (session=\"83859238701d3b7f7d02845b4e216d88\", element=\"989e656c-d7f0-4a20-9795-5a15a10d2607\")>,\n",
       " <selenium.webdriver.remote.webelement.WebElement (session=\"83859238701d3b7f7d02845b4e216d88\", element=\"653dacc9-831c-4c63-abc2-7a9754fb2473\")>,\n",
       " <selenium.webdriver.remote.webelement.WebElement (session=\"83859238701d3b7f7d02845b4e216d88\", element=\"bb384933-30b2-41b3-bf28-8054cb85c03e\")>,\n",
       " <selenium.webdriver.remote.webelement.WebElement (session=\"83859238701d3b7f7d02845b4e216d88\", element=\"850492e2-100c-4856-b8af-37d411c2aba0\")>,\n",
       " <selenium.webdriver.remote.webelement.WebElement (session=\"83859238701d3b7f7d02845b4e216d88\", element=\"62c71a06-2f28-4caf-908a-106089d17f2a\")>,\n",
       " <selenium.webdriver.remote.webelement.WebElement (session=\"83859238701d3b7f7d02845b4e216d88\", element=\"8eb3ffdf-b51d-4b74-9d87-0544552a974f\")>,\n",
       " <selenium.webdriver.remote.webelement.WebElement (session=\"83859238701d3b7f7d02845b4e216d88\", element=\"2555b1a5-ad97-4a49-885e-aa5a59c043fb\")>,\n",
       " <selenium.webdriver.remote.webelement.WebElement (session=\"83859238701d3b7f7d02845b4e216d88\", element=\"98f8c78e-5658-410e-8f07-6eb3f3822cee\")>,\n",
       " <selenium.webdriver.remote.webelement.WebElement (session=\"83859238701d3b7f7d02845b4e216d88\", element=\"86475f2b-7845-4522-87cc-a7e401d3371a\")>,\n",
       " <selenium.webdriver.remote.webelement.WebElement (session=\"83859238701d3b7f7d02845b4e216d88\", element=\"5f5ff216-5972-427c-be6f-1b40732af7af\")>,\n",
       " <selenium.webdriver.remote.webelement.WebElement (session=\"83859238701d3b7f7d02845b4e216d88\", element=\"f39f4928-f397-42f3-a551-ad9887c4aa0c\")>,\n",
       " <selenium.webdriver.remote.webelement.WebElement (session=\"83859238701d3b7f7d02845b4e216d88\", element=\"f4af83b3-a154-4ed5-af01-8d98c02a94d2\")>,\n",
       " <selenium.webdriver.remote.webelement.WebElement (session=\"83859238701d3b7f7d02845b4e216d88\", element=\"c6f27917-9823-46be-89c8-920058dcdebd\")>,\n",
       " <selenium.webdriver.remote.webelement.WebElement (session=\"83859238701d3b7f7d02845b4e216d88\", element=\"24d6dd8f-97ca-4e3c-b7a8-2e57efa088ca\")>,\n",
       " <selenium.webdriver.remote.webelement.WebElement (session=\"83859238701d3b7f7d02845b4e216d88\", element=\"1a93b81c-5a9f-4ad2-a08d-81b6e5504b67\")>,\n",
       " <selenium.webdriver.remote.webelement.WebElement (session=\"83859238701d3b7f7d02845b4e216d88\", element=\"0f539354-c7bf-4958-8bae-c384999e6849\")>,\n",
       " <selenium.webdriver.remote.webelement.WebElement (session=\"83859238701d3b7f7d02845b4e216d88\", element=\"852672d0-0088-45db-ae54-124d3a905065\")>,\n",
       " <selenium.webdriver.remote.webelement.WebElement (session=\"83859238701d3b7f7d02845b4e216d88\", element=\"46e1bd72-4d4e-4489-adb6-89f2a60f50ae\")>,\n",
       " <selenium.webdriver.remote.webelement.WebElement (session=\"83859238701d3b7f7d02845b4e216d88\", element=\"5071325e-afbd-4f24-8418-18703d7f284f\")>,\n",
       " <selenium.webdriver.remote.webelement.WebElement (session=\"83859238701d3b7f7d02845b4e216d88\", element=\"9d07d9c3-13b1-406b-892e-0d731e153496\")>,\n",
       " <selenium.webdriver.remote.webelement.WebElement (session=\"83859238701d3b7f7d02845b4e216d88\", element=\"6e30bc58-902f-43ca-aeaa-89520d8bb07b\")>,\n",
       " <selenium.webdriver.remote.webelement.WebElement (session=\"83859238701d3b7f7d02845b4e216d88\", element=\"d3ad56ae-c01c-4258-b65e-8b4ec32c43f1\")>,\n",
       " <selenium.webdriver.remote.webelement.WebElement (session=\"83859238701d3b7f7d02845b4e216d88\", element=\"be927c1e-c9b0-4afc-8bed-0f03b7dcb965\")>,\n",
       " <selenium.webdriver.remote.webelement.WebElement (session=\"83859238701d3b7f7d02845b4e216d88\", element=\"eab792a4-9b77-45b4-b215-d630c6c9a2a8\")>,\n",
       " <selenium.webdriver.remote.webelement.WebElement (session=\"83859238701d3b7f7d02845b4e216d88\", element=\"c2e2ad2a-324c-45a8-ad7c-cd517940d643\")>,\n",
       " <selenium.webdriver.remote.webelement.WebElement (session=\"83859238701d3b7f7d02845b4e216d88\", element=\"034b05d3-e419-45f5-8291-252938227c0b\")>,\n",
       " <selenium.webdriver.remote.webelement.WebElement (session=\"83859238701d3b7f7d02845b4e216d88\", element=\"f8425dc4-9fae-4ec3-b8c1-bf7946d72cf8\")>,\n",
       " <selenium.webdriver.remote.webelement.WebElement (session=\"83859238701d3b7f7d02845b4e216d88\", element=\"2cdc56a4-b14a-4afd-8424-37d411d1ede4\")>,\n",
       " <selenium.webdriver.remote.webelement.WebElement (session=\"83859238701d3b7f7d02845b4e216d88\", element=\"0c118c2c-dec7-416b-ace9-e2ebe751117e\")>,\n",
       " <selenium.webdriver.remote.webelement.WebElement (session=\"83859238701d3b7f7d02845b4e216d88\", element=\"7aa3abfb-be80-4c37-8622-f89429fdcb55\")>,\n",
       " <selenium.webdriver.remote.webelement.WebElement (session=\"83859238701d3b7f7d02845b4e216d88\", element=\"847446ef-0620-4973-92b2-559cd537174c\")>,\n",
       " <selenium.webdriver.remote.webelement.WebElement (session=\"83859238701d3b7f7d02845b4e216d88\", element=\"287e2f5b-e015-4f96-a946-a805e274292b\")>,\n",
       " <selenium.webdriver.remote.webelement.WebElement (session=\"83859238701d3b7f7d02845b4e216d88\", element=\"a75a38b1-2199-45f0-98a3-12ff140e5d52\")>,\n",
       " <selenium.webdriver.remote.webelement.WebElement (session=\"83859238701d3b7f7d02845b4e216d88\", element=\"c2c9565c-2ff0-47e4-a351-9a869c5796af\")>,\n",
       " <selenium.webdriver.remote.webelement.WebElement (session=\"83859238701d3b7f7d02845b4e216d88\", element=\"4578cbef-94c9-4306-a3cc-dbf360ea807c\")>,\n",
       " <selenium.webdriver.remote.webelement.WebElement (session=\"83859238701d3b7f7d02845b4e216d88\", element=\"a1ebaa02-6482-4db4-b408-71028c7a812d\")>]"
      ]
     },
     "execution_count": 177,
     "metadata": {},
     "output_type": "execute_result"
    }
   ],
   "source": [
    "desc_tags1=driver.find_elements_by_xpath(\"//a[@class='IRpwTa']\")\n",
    "desc_tags1"
   ]
  },
  {
   "cell_type": "code",
   "execution_count": 178,
   "id": "dec0a559",
   "metadata": {},
   "outputs": [
    {
     "data": {
      "text/plain": [
       "['UV Protection, Polarized, Mirrored Round Sunglasses (Fr...',\n",
       " 'UV Protection, Polarized, Mirrored Rectangular Sunglass...',\n",
       " 'UV Protection Wayfarer Sunglasses (53)',\n",
       " 'UV Protection Cat-eye Sunglasses (60)',\n",
       " 'Polarized, Riding Glasses, Night Vision Sports, Wrap-ar...',\n",
       " 'UV Protection Wayfarer Sunglasses (Free Size)',\n",
       " 'UV Protection Over-sized Sunglasses (65)',\n",
       " 'Others Retro Square Sunglasses (Free Size)',\n",
       " 'UV Protection Round Sunglasses (54)',\n",
       " 'UV Protection Aviator Sunglasses (58)',\n",
       " 'UV Protection Retro Square Sunglasses (Free Size)',\n",
       " 'UV Protection Aviator Sunglasses (50)',\n",
       " 'Gradient, UV Protection Wayfarer Sunglasses (Free Size)',\n",
       " 'UV Protection, Gradient Retro Square Sunglasses (Free S...',\n",
       " 'Mirrored, UV Protection Aviator Sunglasses (56)',\n",
       " 'UV Protection, Gradient Cat-eye Sunglasses (58)',\n",
       " 'UV Protection Aviator Sunglasses (57)',\n",
       " 'UV Protection Round Sunglasses (Free Size)',\n",
       " 'UV Protection Round Sunglasses (Free Size)',\n",
       " 'Polarized, UV Protection Retro Square Sunglasses (62)',\n",
       " 'UV Protection Wayfarer Sunglasses (55)',\n",
       " 'UV Protection Aviator Sunglasses (55)',\n",
       " 'Mirrored, Gradient, Riding Glasses Round Sunglasses (55...',\n",
       " 'Night Vision Rectangular Sunglasses (63)',\n",
       " 'Riding Glasses, Night Vision Wrap-around Sunglasses (Fr...',\n",
       " 'UV Protection Rectangular Sunglasses (55)',\n",
       " 'UV Protection Round Sunglasses (Free Size)',\n",
       " 'UV Protection, Mirrored Wayfarer, Rectangular Sunglasse...',\n",
       " 'UV Protection Round Sunglasses (Free Size)',\n",
       " 'UV Protection Wayfarer Sunglasses (Free Size)',\n",
       " 'Others Wayfarer, Retro Square Sunglasses (50)',\n",
       " 'UV Protection, Gradient Oval Sunglasses (58)',\n",
       " 'UV Protection, Polarized, Mirrored Round Sunglasses (Fr...',\n",
       " 'UV Protection Aviator Sunglasses (57)',\n",
       " 'UV Protection, Mirrored Clubmaster Sunglasses (Free Siz...',\n",
       " 'Toughened Glass Lens, UV Protection Aviator Sunglasses ...',\n",
       " 'UV Protection Retro Square Sunglasses (Free Size)',\n",
       " 'Gradient, Toughened Glass Lens, UV Protection Retro Squ...',\n",
       " 'UV Protection Rectangular, Retro Square Sunglasses (58)',\n",
       " 'UV Protection, Mirrored Aviator Sunglasses (57)']"
      ]
     },
     "execution_count": 178,
     "metadata": {},
     "output_type": "execute_result"
    }
   ],
   "source": [
    "for i in desc_tags1:\n",
    "    desc=i.text\n",
    "    prod_des1.append(desc)\n",
    "prod_des1"
   ]
  },
  {
   "cell_type": "code",
   "execution_count": 179,
   "id": "a6855901",
   "metadata": {},
   "outputs": [
    {
     "data": {
      "text/plain": [
       "[<selenium.webdriver.remote.webelement.WebElement (session=\"83859238701d3b7f7d02845b4e216d88\", element=\"e07f910b-2c83-476c-b99c-055d443216a9\")>,\n",
       " <selenium.webdriver.remote.webelement.WebElement (session=\"83859238701d3b7f7d02845b4e216d88\", element=\"654cfab2-20e0-41c0-b133-41e61df362d9\")>,\n",
       " <selenium.webdriver.remote.webelement.WebElement (session=\"83859238701d3b7f7d02845b4e216d88\", element=\"f8a2fcaa-f328-4670-8a7c-04f65feb3986\")>,\n",
       " <selenium.webdriver.remote.webelement.WebElement (session=\"83859238701d3b7f7d02845b4e216d88\", element=\"50c6a899-f250-40e3-bafa-79a4eeedaba8\")>,\n",
       " <selenium.webdriver.remote.webelement.WebElement (session=\"83859238701d3b7f7d02845b4e216d88\", element=\"f0497b1e-c140-49e0-ad08-faadf1bc3484\")>,\n",
       " <selenium.webdriver.remote.webelement.WebElement (session=\"83859238701d3b7f7d02845b4e216d88\", element=\"fbf6d800-5d6a-40bd-ab0b-65dc70109019\")>,\n",
       " <selenium.webdriver.remote.webelement.WebElement (session=\"83859238701d3b7f7d02845b4e216d88\", element=\"f0211393-3a27-4e35-a14d-53a9bddb676e\")>,\n",
       " <selenium.webdriver.remote.webelement.WebElement (session=\"83859238701d3b7f7d02845b4e216d88\", element=\"df5b8d0c-be26-4720-aaee-d52e3a7a1699\")>,\n",
       " <selenium.webdriver.remote.webelement.WebElement (session=\"83859238701d3b7f7d02845b4e216d88\", element=\"8b58d286-43f9-4efc-8b21-6b9c11666647\")>,\n",
       " <selenium.webdriver.remote.webelement.WebElement (session=\"83859238701d3b7f7d02845b4e216d88\", element=\"b0aa9461-9b4d-4770-bad2-e16656dd5697\")>,\n",
       " <selenium.webdriver.remote.webelement.WebElement (session=\"83859238701d3b7f7d02845b4e216d88\", element=\"8b604541-ad08-4c21-925b-c1557094034e\")>,\n",
       " <selenium.webdriver.remote.webelement.WebElement (session=\"83859238701d3b7f7d02845b4e216d88\", element=\"dde9ac78-8be9-4124-86ea-0006f07f54a2\")>,\n",
       " <selenium.webdriver.remote.webelement.WebElement (session=\"83859238701d3b7f7d02845b4e216d88\", element=\"958d2d48-8336-4c98-bf8f-5d6aa60a3680\")>,\n",
       " <selenium.webdriver.remote.webelement.WebElement (session=\"83859238701d3b7f7d02845b4e216d88\", element=\"8e7762ad-b3b6-4641-9813-0ff19ff5e286\")>,\n",
       " <selenium.webdriver.remote.webelement.WebElement (session=\"83859238701d3b7f7d02845b4e216d88\", element=\"7cd043e2-44f5-42ac-aa73-9baca02188ae\")>,\n",
       " <selenium.webdriver.remote.webelement.WebElement (session=\"83859238701d3b7f7d02845b4e216d88\", element=\"5c298d7d-d8e5-4839-a93b-59792c3b97bf\")>,\n",
       " <selenium.webdriver.remote.webelement.WebElement (session=\"83859238701d3b7f7d02845b4e216d88\", element=\"957aa6ef-437e-4ad4-8cc1-731381d489de\")>,\n",
       " <selenium.webdriver.remote.webelement.WebElement (session=\"83859238701d3b7f7d02845b4e216d88\", element=\"a4737f45-688d-449b-bae5-6da4ac027e13\")>,\n",
       " <selenium.webdriver.remote.webelement.WebElement (session=\"83859238701d3b7f7d02845b4e216d88\", element=\"f68f044e-27e4-4d07-9f0f-621ca50fdfed\")>,\n",
       " <selenium.webdriver.remote.webelement.WebElement (session=\"83859238701d3b7f7d02845b4e216d88\", element=\"b6542fde-117d-4bc2-af09-863e2d2246d9\")>,\n",
       " <selenium.webdriver.remote.webelement.WebElement (session=\"83859238701d3b7f7d02845b4e216d88\", element=\"33ddaea2-5186-4a6b-ba38-b760022811cc\")>,\n",
       " <selenium.webdriver.remote.webelement.WebElement (session=\"83859238701d3b7f7d02845b4e216d88\", element=\"58983b66-2acd-4d62-bee8-7f793e23242a\")>,\n",
       " <selenium.webdriver.remote.webelement.WebElement (session=\"83859238701d3b7f7d02845b4e216d88\", element=\"4b9eb192-fb0e-4db2-a9ad-b12ced657aee\")>,\n",
       " <selenium.webdriver.remote.webelement.WebElement (session=\"83859238701d3b7f7d02845b4e216d88\", element=\"076b7f65-acc4-4a7f-97a2-4e29ee718618\")>,\n",
       " <selenium.webdriver.remote.webelement.WebElement (session=\"83859238701d3b7f7d02845b4e216d88\", element=\"bccd6d7f-e28a-486e-b774-cf78abfa1b88\")>,\n",
       " <selenium.webdriver.remote.webelement.WebElement (session=\"83859238701d3b7f7d02845b4e216d88\", element=\"2174d09e-155a-426b-8b71-25f405ffe83f\")>,\n",
       " <selenium.webdriver.remote.webelement.WebElement (session=\"83859238701d3b7f7d02845b4e216d88\", element=\"c112267f-f03d-447b-9a48-d31cb73744f9\")>,\n",
       " <selenium.webdriver.remote.webelement.WebElement (session=\"83859238701d3b7f7d02845b4e216d88\", element=\"ec674423-ea16-4828-a831-5663911f1684\")>,\n",
       " <selenium.webdriver.remote.webelement.WebElement (session=\"83859238701d3b7f7d02845b4e216d88\", element=\"08453aee-668e-4867-9545-15c7a8388c42\")>,\n",
       " <selenium.webdriver.remote.webelement.WebElement (session=\"83859238701d3b7f7d02845b4e216d88\", element=\"64b6f43e-1368-4df6-97ce-972399aafb1f\")>,\n",
       " <selenium.webdriver.remote.webelement.WebElement (session=\"83859238701d3b7f7d02845b4e216d88\", element=\"51cf65ce-2c93-4f1c-b03a-bcd1c9781d34\")>,\n",
       " <selenium.webdriver.remote.webelement.WebElement (session=\"83859238701d3b7f7d02845b4e216d88\", element=\"e0467fab-8b45-4745-a4ff-e1d208a138f7\")>,\n",
       " <selenium.webdriver.remote.webelement.WebElement (session=\"83859238701d3b7f7d02845b4e216d88\", element=\"41345bc5-5a17-4cd9-a803-722b893eedc4\")>,\n",
       " <selenium.webdriver.remote.webelement.WebElement (session=\"83859238701d3b7f7d02845b4e216d88\", element=\"ded65f36-b132-4d81-97a8-e59c420572fa\")>,\n",
       " <selenium.webdriver.remote.webelement.WebElement (session=\"83859238701d3b7f7d02845b4e216d88\", element=\"b87b224c-d272-41e4-a94f-2e59fade5298\")>,\n",
       " <selenium.webdriver.remote.webelement.WebElement (session=\"83859238701d3b7f7d02845b4e216d88\", element=\"1c32b05c-a69d-4b95-bace-47be527d1504\")>,\n",
       " <selenium.webdriver.remote.webelement.WebElement (session=\"83859238701d3b7f7d02845b4e216d88\", element=\"d204c8d5-2bd2-429d-8d38-f991c66b528f\")>,\n",
       " <selenium.webdriver.remote.webelement.WebElement (session=\"83859238701d3b7f7d02845b4e216d88\", element=\"47f20bf6-e5d3-41f7-9a4b-09bb90b1aa76\")>,\n",
       " <selenium.webdriver.remote.webelement.WebElement (session=\"83859238701d3b7f7d02845b4e216d88\", element=\"76304dae-3a3f-43fd-bc39-89c8a379743c\")>,\n",
       " <selenium.webdriver.remote.webelement.WebElement (session=\"83859238701d3b7f7d02845b4e216d88\", element=\"40f7ff5c-96ef-4189-bef9-4535216d7232\")>]"
      ]
     },
     "execution_count": 179,
     "metadata": {},
     "output_type": "execute_result"
    }
   ],
   "source": [
    "price_tags1=driver.find_elements_by_xpath(\"//div[@class='_30jeq3']\")\n",
    "price_tags1"
   ]
  },
  {
   "cell_type": "code",
   "execution_count": 180,
   "id": "1a2f5af4",
   "metadata": {},
   "outputs": [
    {
     "data": {
      "text/plain": [
       "['₹314',\n",
       " '₹203',\n",
       " '₹246',\n",
       " '₹375',\n",
       " '₹499',\n",
       " '₹699',\n",
       " '₹399',\n",
       " '₹549',\n",
       " '₹214',\n",
       " '₹1,099',\n",
       " '₹499',\n",
       " '₹349',\n",
       " '₹639',\n",
       " '₹349',\n",
       " '₹245',\n",
       " '₹459',\n",
       " '₹639',\n",
       " '₹198',\n",
       " '₹329',\n",
       " '₹854',\n",
       " '₹683',\n",
       " '₹333',\n",
       " '₹170',\n",
       " '₹149',\n",
       " '₹276',\n",
       " '₹189',\n",
       " '₹210',\n",
       " '₹343',\n",
       " '₹264',\n",
       " '₹639',\n",
       " '₹239',\n",
       " '₹458',\n",
       " '₹314',\n",
       " '₹175',\n",
       " '₹369',\n",
       " '₹995',\n",
       " '₹379',\n",
       " '₹664',\n",
       " '₹499',\n",
       " '₹195']"
      ]
     },
     "execution_count": 180,
     "metadata": {},
     "output_type": "execute_result"
    }
   ],
   "source": [
    "for i in price_tags1:\n",
    "    pri=i.text\n",
    "    price1.append(pri)\n",
    "price1"
   ]
  },
  {
   "cell_type": "code",
   "execution_count": 181,
   "id": "e2082ec2",
   "metadata": {},
   "outputs": [
    {
     "name": "stdout",
     "output_type": "stream",
     "text": [
      "40 40 40\n"
     ]
    }
   ],
   "source": [
    "print(len(brand_name1),len(prod_des1),len(price1))"
   ]
  },
  {
   "cell_type": "code",
   "execution_count": 182,
   "id": "0e539cfd",
   "metadata": {},
   "outputs": [],
   "source": [
    "sunglasses2=pd.DataFrame({'Brand Name':brand_name1,\"Prodect Description\":prod_des1,\"Price\":price1})"
   ]
  },
  {
   "cell_type": "code",
   "execution_count": 183,
   "id": "b2c8460a",
   "metadata": {},
   "outputs": [
    {
     "data": {
      "text/html": [
       "<div>\n",
       "<style scoped>\n",
       "    .dataframe tbody tr th:only-of-type {\n",
       "        vertical-align: middle;\n",
       "    }\n",
       "\n",
       "    .dataframe tbody tr th {\n",
       "        vertical-align: top;\n",
       "    }\n",
       "\n",
       "    .dataframe thead th {\n",
       "        text-align: right;\n",
       "    }\n",
       "</style>\n",
       "<table border=\"1\" class=\"dataframe\">\n",
       "  <thead>\n",
       "    <tr style=\"text-align: right;\">\n",
       "      <th></th>\n",
       "      <th>Brand Name</th>\n",
       "      <th>Prodect Description</th>\n",
       "      <th>Price</th>\n",
       "    </tr>\n",
       "  </thead>\n",
       "  <tbody>\n",
       "    <tr>\n",
       "      <th>0</th>\n",
       "      <td>SUNBEE</td>\n",
       "      <td>UV Protection, Polarized, Mirrored Round Sungl...</td>\n",
       "      <td>₹314</td>\n",
       "    </tr>\n",
       "    <tr>\n",
       "      <th>1</th>\n",
       "      <td>SHAAH COLLECTIONS</td>\n",
       "      <td>UV Protection, Polarized, Mirrored Rectangular...</td>\n",
       "      <td>₹203</td>\n",
       "    </tr>\n",
       "    <tr>\n",
       "      <th>2</th>\n",
       "      <td>SRPM</td>\n",
       "      <td>UV Protection Wayfarer Sunglasses (53)</td>\n",
       "      <td>₹246</td>\n",
       "    </tr>\n",
       "    <tr>\n",
       "      <th>3</th>\n",
       "      <td>NuVew</td>\n",
       "      <td>UV Protection Cat-eye Sunglasses (60)</td>\n",
       "      <td>₹375</td>\n",
       "    </tr>\n",
       "    <tr>\n",
       "      <th>4</th>\n",
       "      <td>elegante</td>\n",
       "      <td>Polarized, Riding Glasses, Night Vision Sports...</td>\n",
       "      <td>₹499</td>\n",
       "    </tr>\n",
       "    <tr>\n",
       "      <th>5</th>\n",
       "      <td>Fastrack</td>\n",
       "      <td>UV Protection Wayfarer Sunglasses (Free Size)</td>\n",
       "      <td>₹699</td>\n",
       "    </tr>\n",
       "    <tr>\n",
       "      <th>6</th>\n",
       "      <td>PIRASO</td>\n",
       "      <td>UV Protection Over-sized Sunglasses (65)</td>\n",
       "      <td>₹399</td>\n",
       "    </tr>\n",
       "    <tr>\n",
       "      <th>7</th>\n",
       "      <td>VILLAIN</td>\n",
       "      <td>Others Retro Square Sunglasses (Free Size)</td>\n",
       "      <td>₹549</td>\n",
       "    </tr>\n",
       "    <tr>\n",
       "      <th>8</th>\n",
       "      <td>kingsunglasses</td>\n",
       "      <td>UV Protection Round Sunglasses (54)</td>\n",
       "      <td>₹214</td>\n",
       "    </tr>\n",
       "    <tr>\n",
       "      <th>9</th>\n",
       "      <td>Fastrack</td>\n",
       "      <td>UV Protection Aviator Sunglasses (58)</td>\n",
       "      <td>₹1,099</td>\n",
       "    </tr>\n",
       "    <tr>\n",
       "      <th>10</th>\n",
       "      <td>ROZZETTA CRAFT</td>\n",
       "      <td>UV Protection Retro Square Sunglasses (Free Size)</td>\n",
       "      <td>₹499</td>\n",
       "    </tr>\n",
       "    <tr>\n",
       "      <th>11</th>\n",
       "      <td>PIRASO</td>\n",
       "      <td>UV Protection Aviator Sunglasses (50)</td>\n",
       "      <td>₹349</td>\n",
       "    </tr>\n",
       "    <tr>\n",
       "      <th>12</th>\n",
       "      <td>Fastrack</td>\n",
       "      <td>Gradient, UV Protection Wayfarer Sunglasses (F...</td>\n",
       "      <td>₹639</td>\n",
       "    </tr>\n",
       "    <tr>\n",
       "      <th>13</th>\n",
       "      <td>ROZZETTA CRAFT</td>\n",
       "      <td>UV Protection, Gradient Retro Square Sunglasse...</td>\n",
       "      <td>₹349</td>\n",
       "    </tr>\n",
       "    <tr>\n",
       "      <th>14</th>\n",
       "      <td>kingsunglasses</td>\n",
       "      <td>Mirrored, UV Protection Aviator Sunglasses (56)</td>\n",
       "      <td>₹245</td>\n",
       "    </tr>\n",
       "    <tr>\n",
       "      <th>15</th>\n",
       "      <td>AISLIN</td>\n",
       "      <td>UV Protection, Gradient Cat-eye Sunglasses (58)</td>\n",
       "      <td>₹459</td>\n",
       "    </tr>\n",
       "    <tr>\n",
       "      <th>16</th>\n",
       "      <td>Fastrack</td>\n",
       "      <td>UV Protection Aviator Sunglasses (57)</td>\n",
       "      <td>₹639</td>\n",
       "    </tr>\n",
       "    <tr>\n",
       "      <th>17</th>\n",
       "      <td>hipe</td>\n",
       "      <td>UV Protection Round Sunglasses (Free Size)</td>\n",
       "      <td>₹198</td>\n",
       "    </tr>\n",
       "    <tr>\n",
       "      <th>18</th>\n",
       "      <td>kingsunglasses</td>\n",
       "      <td>UV Protection Round Sunglasses (Free Size)</td>\n",
       "      <td>₹329</td>\n",
       "    </tr>\n",
       "    <tr>\n",
       "      <th>19</th>\n",
       "      <td>ROYAL SON</td>\n",
       "      <td>Polarized, UV Protection Retro Square Sunglass...</td>\n",
       "      <td>₹854</td>\n",
       "    </tr>\n",
       "    <tr>\n",
       "      <th>20</th>\n",
       "      <td>Fastrack</td>\n",
       "      <td>UV Protection Wayfarer Sunglasses (55)</td>\n",
       "      <td>₹683</td>\n",
       "    </tr>\n",
       "    <tr>\n",
       "      <th>21</th>\n",
       "      <td>Elligator</td>\n",
       "      <td>UV Protection Aviator Sunglasses (55)</td>\n",
       "      <td>₹333</td>\n",
       "    </tr>\n",
       "    <tr>\n",
       "      <th>22</th>\n",
       "      <td>hipe</td>\n",
       "      <td>Mirrored, Gradient, Riding Glasses Round Sungl...</td>\n",
       "      <td>₹170</td>\n",
       "    </tr>\n",
       "    <tr>\n",
       "      <th>23</th>\n",
       "      <td>AUTOSITE</td>\n",
       "      <td>Night Vision Rectangular Sunglasses (63)</td>\n",
       "      <td>₹149</td>\n",
       "    </tr>\n",
       "    <tr>\n",
       "      <th>24</th>\n",
       "      <td>Lee Topper</td>\n",
       "      <td>Riding Glasses, Night Vision Wrap-around Sungl...</td>\n",
       "      <td>₹276</td>\n",
       "    </tr>\n",
       "    <tr>\n",
       "      <th>25</th>\n",
       "      <td>kingsunglasses</td>\n",
       "      <td>UV Protection Rectangular Sunglasses (55)</td>\n",
       "      <td>₹189</td>\n",
       "    </tr>\n",
       "    <tr>\n",
       "      <th>26</th>\n",
       "      <td>kingsunglasses</td>\n",
       "      <td>UV Protection Round Sunglasses (Free Size)</td>\n",
       "      <td>₹210</td>\n",
       "    </tr>\n",
       "    <tr>\n",
       "      <th>27</th>\n",
       "      <td>NuVew</td>\n",
       "      <td>UV Protection, Mirrored Wayfarer, Rectangular ...</td>\n",
       "      <td>₹343</td>\n",
       "    </tr>\n",
       "    <tr>\n",
       "      <th>28</th>\n",
       "      <td>New Specs</td>\n",
       "      <td>UV Protection Round Sunglasses (Free Size)</td>\n",
       "      <td>₹264</td>\n",
       "    </tr>\n",
       "    <tr>\n",
       "      <th>29</th>\n",
       "      <td>Fastrack</td>\n",
       "      <td>UV Protection Wayfarer Sunglasses (Free Size)</td>\n",
       "      <td>₹639</td>\n",
       "    </tr>\n",
       "    <tr>\n",
       "      <th>30</th>\n",
       "      <td>SRPM</td>\n",
       "      <td>Others Wayfarer, Retro Square Sunglasses (50)</td>\n",
       "      <td>₹239</td>\n",
       "    </tr>\n",
       "    <tr>\n",
       "      <th>31</th>\n",
       "      <td>AISLIN</td>\n",
       "      <td>UV Protection, Gradient Oval Sunglasses (58)</td>\n",
       "      <td>₹458</td>\n",
       "    </tr>\n",
       "    <tr>\n",
       "      <th>32</th>\n",
       "      <td>SUNBEE</td>\n",
       "      <td>UV Protection, Polarized, Mirrored Round Sungl...</td>\n",
       "      <td>₹314</td>\n",
       "    </tr>\n",
       "    <tr>\n",
       "      <th>33</th>\n",
       "      <td>NuVew</td>\n",
       "      <td>UV Protection Aviator Sunglasses (57)</td>\n",
       "      <td>₹175</td>\n",
       "    </tr>\n",
       "    <tr>\n",
       "      <th>34</th>\n",
       "      <td>PHENOMENAL</td>\n",
       "      <td>UV Protection, Mirrored Clubmaster Sunglasses ...</td>\n",
       "      <td>₹369</td>\n",
       "    </tr>\n",
       "    <tr>\n",
       "      <th>35</th>\n",
       "      <td>AISLIN</td>\n",
       "      <td>Toughened Glass Lens, UV Protection Aviator Su...</td>\n",
       "      <td>₹995</td>\n",
       "    </tr>\n",
       "    <tr>\n",
       "      <th>36</th>\n",
       "      <td>PHENOMENAL</td>\n",
       "      <td>UV Protection Retro Square Sunglasses (Free Size)</td>\n",
       "      <td>₹379</td>\n",
       "    </tr>\n",
       "    <tr>\n",
       "      <th>37</th>\n",
       "      <td>Singco India</td>\n",
       "      <td>Gradient, Toughened Glass Lens, UV Protection ...</td>\n",
       "      <td>₹664</td>\n",
       "    </tr>\n",
       "    <tr>\n",
       "      <th>38</th>\n",
       "      <td>ROYAL SON</td>\n",
       "      <td>UV Protection Rectangular, Retro Square Sungla...</td>\n",
       "      <td>₹499</td>\n",
       "    </tr>\n",
       "    <tr>\n",
       "      <th>39</th>\n",
       "      <td>NuVew</td>\n",
       "      <td>UV Protection, Mirrored Aviator Sunglasses (57)</td>\n",
       "      <td>₹195</td>\n",
       "    </tr>\n",
       "  </tbody>\n",
       "</table>\n",
       "</div>"
      ],
      "text/plain": [
       "           Brand Name                                Prodect Description  \\\n",
       "0              SUNBEE  UV Protection, Polarized, Mirrored Round Sungl...   \n",
       "1   SHAAH COLLECTIONS  UV Protection, Polarized, Mirrored Rectangular...   \n",
       "2                SRPM             UV Protection Wayfarer Sunglasses (53)   \n",
       "3               NuVew              UV Protection Cat-eye Sunglasses (60)   \n",
       "4            elegante  Polarized, Riding Glasses, Night Vision Sports...   \n",
       "5            Fastrack      UV Protection Wayfarer Sunglasses (Free Size)   \n",
       "6              PIRASO           UV Protection Over-sized Sunglasses (65)   \n",
       "7             VILLAIN         Others Retro Square Sunglasses (Free Size)   \n",
       "8      kingsunglasses                UV Protection Round Sunglasses (54)   \n",
       "9            Fastrack              UV Protection Aviator Sunglasses (58)   \n",
       "10     ROZZETTA CRAFT  UV Protection Retro Square Sunglasses (Free Size)   \n",
       "11             PIRASO              UV Protection Aviator Sunglasses (50)   \n",
       "12           Fastrack  Gradient, UV Protection Wayfarer Sunglasses (F...   \n",
       "13     ROZZETTA CRAFT  UV Protection, Gradient Retro Square Sunglasse...   \n",
       "14     kingsunglasses    Mirrored, UV Protection Aviator Sunglasses (56)   \n",
       "15             AISLIN    UV Protection, Gradient Cat-eye Sunglasses (58)   \n",
       "16           Fastrack              UV Protection Aviator Sunglasses (57)   \n",
       "17               hipe         UV Protection Round Sunglasses (Free Size)   \n",
       "18     kingsunglasses         UV Protection Round Sunglasses (Free Size)   \n",
       "19          ROYAL SON  Polarized, UV Protection Retro Square Sunglass...   \n",
       "20           Fastrack             UV Protection Wayfarer Sunglasses (55)   \n",
       "21          Elligator              UV Protection Aviator Sunglasses (55)   \n",
       "22               hipe  Mirrored, Gradient, Riding Glasses Round Sungl...   \n",
       "23           AUTOSITE           Night Vision Rectangular Sunglasses (63)   \n",
       "24         Lee Topper  Riding Glasses, Night Vision Wrap-around Sungl...   \n",
       "25     kingsunglasses          UV Protection Rectangular Sunglasses (55)   \n",
       "26     kingsunglasses         UV Protection Round Sunglasses (Free Size)   \n",
       "27              NuVew  UV Protection, Mirrored Wayfarer, Rectangular ...   \n",
       "28          New Specs         UV Protection Round Sunglasses (Free Size)   \n",
       "29           Fastrack      UV Protection Wayfarer Sunglasses (Free Size)   \n",
       "30               SRPM      Others Wayfarer, Retro Square Sunglasses (50)   \n",
       "31             AISLIN       UV Protection, Gradient Oval Sunglasses (58)   \n",
       "32             SUNBEE  UV Protection, Polarized, Mirrored Round Sungl...   \n",
       "33              NuVew              UV Protection Aviator Sunglasses (57)   \n",
       "34         PHENOMENAL  UV Protection, Mirrored Clubmaster Sunglasses ...   \n",
       "35             AISLIN  Toughened Glass Lens, UV Protection Aviator Su...   \n",
       "36         PHENOMENAL  UV Protection Retro Square Sunglasses (Free Size)   \n",
       "37       Singco India  Gradient, Toughened Glass Lens, UV Protection ...   \n",
       "38          ROYAL SON  UV Protection Rectangular, Retro Square Sungla...   \n",
       "39              NuVew    UV Protection, Mirrored Aviator Sunglasses (57)   \n",
       "\n",
       "     Price  \n",
       "0     ₹314  \n",
       "1     ₹203  \n",
       "2     ₹246  \n",
       "3     ₹375  \n",
       "4     ₹499  \n",
       "5     ₹699  \n",
       "6     ₹399  \n",
       "7     ₹549  \n",
       "8     ₹214  \n",
       "9   ₹1,099  \n",
       "10    ₹499  \n",
       "11    ₹349  \n",
       "12    ₹639  \n",
       "13    ₹349  \n",
       "14    ₹245  \n",
       "15    ₹459  \n",
       "16    ₹639  \n",
       "17    ₹198  \n",
       "18    ₹329  \n",
       "19    ₹854  \n",
       "20    ₹683  \n",
       "21    ₹333  \n",
       "22    ₹170  \n",
       "23    ₹149  \n",
       "24    ₹276  \n",
       "25    ₹189  \n",
       "26    ₹210  \n",
       "27    ₹343  \n",
       "28    ₹264  \n",
       "29    ₹639  \n",
       "30    ₹239  \n",
       "31    ₹458  \n",
       "32    ₹314  \n",
       "33    ₹175  \n",
       "34    ₹369  \n",
       "35    ₹995  \n",
       "36    ₹379  \n",
       "37    ₹664  \n",
       "38    ₹499  \n",
       "39    ₹195  "
      ]
     },
     "execution_count": 183,
     "metadata": {},
     "output_type": "execute_result"
    }
   ],
   "source": [
    "sunglasses2"
   ]
  },
  {
   "cell_type": "markdown",
   "id": "60653c7f",
   "metadata": {},
   "source": [
    "for next 20 sunglasses"
   ]
  },
  {
   "cell_type": "code",
   "execution_count": 184,
   "id": "56a6c30e",
   "metadata": {},
   "outputs": [],
   "source": [
    "next_button1=driver.find_element_by_xpath(\"/html/body/div/div/div[3]/div[1]/div[2]/div[12]/div/div/nav/a[12]/span\")\n",
    "next_button1.click()"
   ]
  },
  {
   "cell_type": "code",
   "execution_count": 185,
   "id": "c2142cc0",
   "metadata": {},
   "outputs": [],
   "source": [
    "brand_name2=[]\n",
    "prod_des2=[]\n",
    "price2=[]"
   ]
  },
  {
   "cell_type": "code",
   "execution_count": 186,
   "id": "fab5037d",
   "metadata": {},
   "outputs": [
    {
     "data": {
      "text/plain": [
       "[<selenium.webdriver.remote.webelement.WebElement (session=\"83859238701d3b7f7d02845b4e216d88\", element=\"05a41968-99cd-4aa8-9394-2f07d91ded67\")>,\n",
       " <selenium.webdriver.remote.webelement.WebElement (session=\"83859238701d3b7f7d02845b4e216d88\", element=\"69695659-8193-477b-9a28-9ed13731622b\")>,\n",
       " <selenium.webdriver.remote.webelement.WebElement (session=\"83859238701d3b7f7d02845b4e216d88\", element=\"97b2184e-84bd-4174-b02f-ca23708b3127\")>,\n",
       " <selenium.webdriver.remote.webelement.WebElement (session=\"83859238701d3b7f7d02845b4e216d88\", element=\"d2c6cbe4-25dc-4465-8248-e90811341105\")>,\n",
       " <selenium.webdriver.remote.webelement.WebElement (session=\"83859238701d3b7f7d02845b4e216d88\", element=\"43fbc48e-eb2a-4825-a051-d562e43f93d2\")>,\n",
       " <selenium.webdriver.remote.webelement.WebElement (session=\"83859238701d3b7f7d02845b4e216d88\", element=\"44580f86-67a6-4072-b842-caaa43eba8bb\")>,\n",
       " <selenium.webdriver.remote.webelement.WebElement (session=\"83859238701d3b7f7d02845b4e216d88\", element=\"ad687ba7-af89-468e-ad3f-bcdfa290fc54\")>,\n",
       " <selenium.webdriver.remote.webelement.WebElement (session=\"83859238701d3b7f7d02845b4e216d88\", element=\"6065297b-2342-4a6c-8494-bbaa5e8dc38b\")>,\n",
       " <selenium.webdriver.remote.webelement.WebElement (session=\"83859238701d3b7f7d02845b4e216d88\", element=\"927850ad-29a8-4296-944a-4f16a7a1dedd\")>,\n",
       " <selenium.webdriver.remote.webelement.WebElement (session=\"83859238701d3b7f7d02845b4e216d88\", element=\"735bbd01-f9b1-45bc-ad98-19b4ae62c511\")>,\n",
       " <selenium.webdriver.remote.webelement.WebElement (session=\"83859238701d3b7f7d02845b4e216d88\", element=\"159544ed-d419-4d0c-9e50-fec542c9476c\")>,\n",
       " <selenium.webdriver.remote.webelement.WebElement (session=\"83859238701d3b7f7d02845b4e216d88\", element=\"0355b3a4-ee94-410d-b697-e2dabd51b935\")>,\n",
       " <selenium.webdriver.remote.webelement.WebElement (session=\"83859238701d3b7f7d02845b4e216d88\", element=\"48452e49-cda7-42ff-9673-781885add49c\")>,\n",
       " <selenium.webdriver.remote.webelement.WebElement (session=\"83859238701d3b7f7d02845b4e216d88\", element=\"d45f9245-19ff-4e83-8eed-a1f755b66f8d\")>,\n",
       " <selenium.webdriver.remote.webelement.WebElement (session=\"83859238701d3b7f7d02845b4e216d88\", element=\"ec15362a-cbf1-4d11-8402-88469edacfc7\")>,\n",
       " <selenium.webdriver.remote.webelement.WebElement (session=\"83859238701d3b7f7d02845b4e216d88\", element=\"4b319afc-71ec-47bb-9862-76f2d3ad9118\")>,\n",
       " <selenium.webdriver.remote.webelement.WebElement (session=\"83859238701d3b7f7d02845b4e216d88\", element=\"4d534519-cca1-4fc8-814a-c969c92dbb74\")>,\n",
       " <selenium.webdriver.remote.webelement.WebElement (session=\"83859238701d3b7f7d02845b4e216d88\", element=\"04ff0fbd-2cb7-496c-942b-ba84a0be482f\")>,\n",
       " <selenium.webdriver.remote.webelement.WebElement (session=\"83859238701d3b7f7d02845b4e216d88\", element=\"4b023b0a-7fcf-4f48-a9eb-66d007024eaa\")>,\n",
       " <selenium.webdriver.remote.webelement.WebElement (session=\"83859238701d3b7f7d02845b4e216d88\", element=\"478d71a0-c503-4961-8d5b-6a53904ef25e\")>]"
      ]
     },
     "execution_count": 186,
     "metadata": {},
     "output_type": "execute_result"
    }
   ],
   "source": [
    "name_tags2=driver.find_elements_by_xpath(\"//div[@class='_2WkVRV']\")\n",
    "name_tags2[0:20]"
   ]
  },
  {
   "cell_type": "code",
   "execution_count": 187,
   "id": "dfa9cc77",
   "metadata": {},
   "outputs": [
    {
     "data": {
      "text/plain": [
       "['Fastrack',\n",
       " 'Fastrack',\n",
       " 'AISLIN',\n",
       " 'NuVew',\n",
       " 'Fastrack',\n",
       " 'NuVew',\n",
       " 'AISLIN',\n",
       " 'AISLIN',\n",
       " 'IDEE',\n",
       " 'ROZZETTA CRAFT',\n",
       " 'kingsunglasses',\n",
       " 'AISLIN',\n",
       " 'kingsunglasses',\n",
       " 'ROZZETTA CRAFT',\n",
       " 'GANSTA',\n",
       " 'NuVew',\n",
       " 'Fastrack',\n",
       " 'SHAAH COLLECTIONS',\n",
       " 'Fastrack',\n",
       " 'ROYAL SON']"
      ]
     },
     "execution_count": 187,
     "metadata": {},
     "output_type": "execute_result"
    }
   ],
   "source": [
    "for i in name_tags2:\n",
    "    name=i.text\n",
    "    brand_name2.append(name)\n",
    "brand_name2[0:20]"
   ]
  },
  {
   "cell_type": "code",
   "execution_count": 188,
   "id": "ebba7799",
   "metadata": {},
   "outputs": [
    {
     "data": {
      "text/plain": [
       "[<selenium.webdriver.remote.webelement.WebElement (session=\"83859238701d3b7f7d02845b4e216d88\", element=\"90046e02-f220-4fb4-a6f0-e894d41f1970\")>,\n",
       " <selenium.webdriver.remote.webelement.WebElement (session=\"83859238701d3b7f7d02845b4e216d88\", element=\"fe006304-fae3-4ec3-ba1a-ce27f072f94e\")>,\n",
       " <selenium.webdriver.remote.webelement.WebElement (session=\"83859238701d3b7f7d02845b4e216d88\", element=\"b86ba6ba-5cc7-4cc2-8932-5a2023b4bcb7\")>,\n",
       " <selenium.webdriver.remote.webelement.WebElement (session=\"83859238701d3b7f7d02845b4e216d88\", element=\"559c2ae4-4542-4fcb-a8b1-300cd95c94cf\")>,\n",
       " <selenium.webdriver.remote.webelement.WebElement (session=\"83859238701d3b7f7d02845b4e216d88\", element=\"36e2389f-c893-4ef2-9c01-5b3bee59c5f5\")>,\n",
       " <selenium.webdriver.remote.webelement.WebElement (session=\"83859238701d3b7f7d02845b4e216d88\", element=\"aca47194-68d7-4f0c-b674-f5759afcbaee\")>,\n",
       " <selenium.webdriver.remote.webelement.WebElement (session=\"83859238701d3b7f7d02845b4e216d88\", element=\"b54ea22f-a2ce-4bba-a4b8-8a35bea02ec1\")>,\n",
       " <selenium.webdriver.remote.webelement.WebElement (session=\"83859238701d3b7f7d02845b4e216d88\", element=\"0236996b-0a5c-4816-be34-221c2270b8d7\")>,\n",
       " <selenium.webdriver.remote.webelement.WebElement (session=\"83859238701d3b7f7d02845b4e216d88\", element=\"3ab8b4e9-66d6-45d6-a3e5-748d272d6490\")>,\n",
       " <selenium.webdriver.remote.webelement.WebElement (session=\"83859238701d3b7f7d02845b4e216d88\", element=\"bb9156f3-2448-4661-8b4b-4a5459c45b20\")>,\n",
       " <selenium.webdriver.remote.webelement.WebElement (session=\"83859238701d3b7f7d02845b4e216d88\", element=\"96a4c1f9-d393-4e23-a73b-710691f93b5e\")>,\n",
       " <selenium.webdriver.remote.webelement.WebElement (session=\"83859238701d3b7f7d02845b4e216d88\", element=\"e37ea140-0c62-43e3-8f5a-b04acfbabd07\")>,\n",
       " <selenium.webdriver.remote.webelement.WebElement (session=\"83859238701d3b7f7d02845b4e216d88\", element=\"78cabae8-fdcd-4149-9aa5-468534787fdf\")>,\n",
       " <selenium.webdriver.remote.webelement.WebElement (session=\"83859238701d3b7f7d02845b4e216d88\", element=\"e62b165b-4f8d-48cd-83df-5570cc2ca727\")>,\n",
       " <selenium.webdriver.remote.webelement.WebElement (session=\"83859238701d3b7f7d02845b4e216d88\", element=\"741f83ad-2e73-4e89-a3a5-f2b4cbdf6866\")>,\n",
       " <selenium.webdriver.remote.webelement.WebElement (session=\"83859238701d3b7f7d02845b4e216d88\", element=\"9215f811-17a8-4d43-8c3f-ac3d0e1dae35\")>,\n",
       " <selenium.webdriver.remote.webelement.WebElement (session=\"83859238701d3b7f7d02845b4e216d88\", element=\"87c26325-a2d0-4ef2-9e71-44871c5dc22b\")>,\n",
       " <selenium.webdriver.remote.webelement.WebElement (session=\"83859238701d3b7f7d02845b4e216d88\", element=\"5129437c-d395-4825-bc74-d6672f0130bd\")>,\n",
       " <selenium.webdriver.remote.webelement.WebElement (session=\"83859238701d3b7f7d02845b4e216d88\", element=\"64db72e6-e689-433a-aab2-e2b42bca9090\")>,\n",
       " <selenium.webdriver.remote.webelement.WebElement (session=\"83859238701d3b7f7d02845b4e216d88\", element=\"4d3fe109-7284-456d-a918-716e7bba74b3\")>]"
      ]
     },
     "execution_count": 188,
     "metadata": {},
     "output_type": "execute_result"
    }
   ],
   "source": [
    "desc_tags2=driver.find_elements_by_xpath(\"//a[@class='IRpwTa']\")\n",
    "desc_tags2[0:20]"
   ]
  },
  {
   "cell_type": "code",
   "execution_count": 189,
   "id": "09213cdc",
   "metadata": {},
   "outputs": [
    {
     "data": {
      "text/plain": [
       "['UV Protection Aviator Sunglasses (Free Size)',\n",
       " 'UV Protection Wayfarer Sunglasses (Free Size)',\n",
       " 'UV Protection, Gradient Butterfly, Retro Square Sunglas...',\n",
       " 'UV Protection Retro Square, Wayfarer Sunglasses (58)',\n",
       " 'UV Protection Wayfarer Sunglasses (Free Size)',\n",
       " 'UV Protection Sports Sunglasses (62)',\n",
       " 'UV Protection, Gradient Round, Cat-eye Sunglasses (60)',\n",
       " 'UV Protection, Gradient Butterfly, Over-sized Sunglasse...',\n",
       " 'UV Protection Cat-eye Sunglasses (57)',\n",
       " 'UV Protection, Gradient Round Sunglasses (Free Size)',\n",
       " 'UV Protection, Night Vision Wayfarer Sunglasses (Free S...',\n",
       " 'UV Protection, Gradient Butterfly, Over-sized Sunglasse...',\n",
       " 'UV Protection Rectangular Sunglasses (55)',\n",
       " 'UV Protection Round Sunglasses (Free Size)',\n",
       " 'UV Protection Aviator Sunglasses (57)',\n",
       " 'UV Protection, Mirrored, Gradient Cat-eye Sunglasses (6...',\n",
       " 'UV Protection Aviator Sunglasses (Free Size)',\n",
       " 'UV Protection Round Sunglasses (Free Size)',\n",
       " 'UV Protection Wayfarer Sunglasses (Free Size)',\n",
       " 'Polarized Retro Square Sunglasses (61)']"
      ]
     },
     "execution_count": 189,
     "metadata": {},
     "output_type": "execute_result"
    }
   ],
   "source": [
    "for i in desc_tags2:\n",
    "    desc=i.text\n",
    "    prod_des2.append(desc)\n",
    "prod_des2[0:20]"
   ]
  },
  {
   "cell_type": "code",
   "execution_count": 190,
   "id": "db20e533",
   "metadata": {},
   "outputs": [
    {
     "data": {
      "text/plain": [
       "[<selenium.webdriver.remote.webelement.WebElement (session=\"83859238701d3b7f7d02845b4e216d88\", element=\"d6b676b3-7d53-437e-9111-413f2d7ccca4\")>,\n",
       " <selenium.webdriver.remote.webelement.WebElement (session=\"83859238701d3b7f7d02845b4e216d88\", element=\"592b4b5a-8fd9-46bd-93e4-4de2ca95fb97\")>,\n",
       " <selenium.webdriver.remote.webelement.WebElement (session=\"83859238701d3b7f7d02845b4e216d88\", element=\"e5ab4757-6615-4ec9-99cc-6357dc0fe09e\")>,\n",
       " <selenium.webdriver.remote.webelement.WebElement (session=\"83859238701d3b7f7d02845b4e216d88\", element=\"09060523-43c0-42b4-9230-3c0d3cb4d397\")>,\n",
       " <selenium.webdriver.remote.webelement.WebElement (session=\"83859238701d3b7f7d02845b4e216d88\", element=\"1342b1df-612c-4bfd-8748-4151522155cf\")>,\n",
       " <selenium.webdriver.remote.webelement.WebElement (session=\"83859238701d3b7f7d02845b4e216d88\", element=\"4ac766dc-27ca-4f7e-bf19-6eb74ace8d97\")>,\n",
       " <selenium.webdriver.remote.webelement.WebElement (session=\"83859238701d3b7f7d02845b4e216d88\", element=\"6cb8d1f4-ca44-4fc7-9cbe-878445423584\")>,\n",
       " <selenium.webdriver.remote.webelement.WebElement (session=\"83859238701d3b7f7d02845b4e216d88\", element=\"ddf13915-167b-4b99-838b-c06a02c81c14\")>,\n",
       " <selenium.webdriver.remote.webelement.WebElement (session=\"83859238701d3b7f7d02845b4e216d88\", element=\"6d6fc3b0-7fa6-4357-9327-d51db27dd999\")>,\n",
       " <selenium.webdriver.remote.webelement.WebElement (session=\"83859238701d3b7f7d02845b4e216d88\", element=\"8013d8b9-4ccc-4e4f-8749-58188597dfab\")>,\n",
       " <selenium.webdriver.remote.webelement.WebElement (session=\"83859238701d3b7f7d02845b4e216d88\", element=\"09a6fb4e-2ac4-44fa-acfa-02e46e77fe78\")>,\n",
       " <selenium.webdriver.remote.webelement.WebElement (session=\"83859238701d3b7f7d02845b4e216d88\", element=\"4046486b-9396-4fad-9851-7ceaafb4dd6e\")>,\n",
       " <selenium.webdriver.remote.webelement.WebElement (session=\"83859238701d3b7f7d02845b4e216d88\", element=\"0f93a291-c8b4-4ef8-8a2e-2887bbc1999f\")>,\n",
       " <selenium.webdriver.remote.webelement.WebElement (session=\"83859238701d3b7f7d02845b4e216d88\", element=\"4b22dbd6-6426-40d1-ab33-88939f5626b0\")>,\n",
       " <selenium.webdriver.remote.webelement.WebElement (session=\"83859238701d3b7f7d02845b4e216d88\", element=\"e9ad3b2e-0c6b-4499-b08b-5530244580a9\")>,\n",
       " <selenium.webdriver.remote.webelement.WebElement (session=\"83859238701d3b7f7d02845b4e216d88\", element=\"db946b7d-79ca-40f0-a9ec-ce6c74e4530e\")>,\n",
       " <selenium.webdriver.remote.webelement.WebElement (session=\"83859238701d3b7f7d02845b4e216d88\", element=\"495c1182-b000-4735-bc66-e643144589ae\")>,\n",
       " <selenium.webdriver.remote.webelement.WebElement (session=\"83859238701d3b7f7d02845b4e216d88\", element=\"2c5b3fd1-0ea3-4634-8a03-d588bb963536\")>,\n",
       " <selenium.webdriver.remote.webelement.WebElement (session=\"83859238701d3b7f7d02845b4e216d88\", element=\"1d03aa84-793a-45f7-ae81-661ceb97db2b\")>,\n",
       " <selenium.webdriver.remote.webelement.WebElement (session=\"83859238701d3b7f7d02845b4e216d88\", element=\"62989de3-2ea8-41e5-b442-dff53e432cda\")>]"
      ]
     },
     "execution_count": 190,
     "metadata": {},
     "output_type": "execute_result"
    }
   ],
   "source": [
    "price_tags2=driver.find_elements_by_xpath(\"//div[@class='_30jeq3']\")\n",
    "price_tags2[0:20]"
   ]
  },
  {
   "cell_type": "code",
   "execution_count": 191,
   "id": "18953387",
   "metadata": {},
   "outputs": [
    {
     "data": {
      "text/plain": [
       "['₹639',\n",
       " '₹639',\n",
       " '₹458',\n",
       " '₹185',\n",
       " '₹719',\n",
       " '₹327',\n",
       " '₹458',\n",
       " '₹458',\n",
       " '₹881',\n",
       " '₹342',\n",
       " '₹299',\n",
       " '₹458',\n",
       " '₹269',\n",
       " '₹398',\n",
       " '₹284',\n",
       " '₹325',\n",
       " '₹699',\n",
       " '₹314',\n",
       " '₹764',\n",
       " '₹699']"
      ]
     },
     "execution_count": 191,
     "metadata": {},
     "output_type": "execute_result"
    }
   ],
   "source": [
    "for i in price_tags2:\n",
    "    pri=i.text\n",
    "    price2.append(pri)\n",
    "price2[0:20]"
   ]
  },
  {
   "cell_type": "code",
   "execution_count": 194,
   "id": "867fa3ca",
   "metadata": {},
   "outputs": [],
   "source": [
    "sunglasses3=pd.DataFrame({'Brand Name':brand_name2[0:20],\"Prodect Description\":prod_des2[0:20],\"Price\":price2[0:20]})"
   ]
  },
  {
   "cell_type": "code",
   "execution_count": 196,
   "id": "20a02525",
   "metadata": {},
   "outputs": [
    {
     "data": {
      "text/html": [
       "<div>\n",
       "<style scoped>\n",
       "    .dataframe tbody tr th:only-of-type {\n",
       "        vertical-align: middle;\n",
       "    }\n",
       "\n",
       "    .dataframe tbody tr th {\n",
       "        vertical-align: top;\n",
       "    }\n",
       "\n",
       "    .dataframe thead th {\n",
       "        text-align: right;\n",
       "    }\n",
       "</style>\n",
       "<table border=\"1\" class=\"dataframe\">\n",
       "  <thead>\n",
       "    <tr style=\"text-align: right;\">\n",
       "      <th></th>\n",
       "      <th>Brand Name</th>\n",
       "      <th>Prodect Description</th>\n",
       "      <th>Price</th>\n",
       "    </tr>\n",
       "  </thead>\n",
       "  <tbody>\n",
       "    <tr>\n",
       "      <th>0</th>\n",
       "      <td>Fastrack</td>\n",
       "      <td>UV Protection Aviator Sunglasses (Free Size)</td>\n",
       "      <td>₹639</td>\n",
       "    </tr>\n",
       "    <tr>\n",
       "      <th>1</th>\n",
       "      <td>Fastrack</td>\n",
       "      <td>UV Protection Wayfarer Sunglasses (Free Size)</td>\n",
       "      <td>₹639</td>\n",
       "    </tr>\n",
       "    <tr>\n",
       "      <th>2</th>\n",
       "      <td>AISLIN</td>\n",
       "      <td>UV Protection, Gradient Butterfly, Retro Squar...</td>\n",
       "      <td>₹458</td>\n",
       "    </tr>\n",
       "    <tr>\n",
       "      <th>3</th>\n",
       "      <td>NuVew</td>\n",
       "      <td>UV Protection Retro Square, Wayfarer Sunglasse...</td>\n",
       "      <td>₹185</td>\n",
       "    </tr>\n",
       "    <tr>\n",
       "      <th>4</th>\n",
       "      <td>Fastrack</td>\n",
       "      <td>UV Protection Wayfarer Sunglasses (Free Size)</td>\n",
       "      <td>₹719</td>\n",
       "    </tr>\n",
       "    <tr>\n",
       "      <th>5</th>\n",
       "      <td>NuVew</td>\n",
       "      <td>UV Protection Sports Sunglasses (62)</td>\n",
       "      <td>₹327</td>\n",
       "    </tr>\n",
       "    <tr>\n",
       "      <th>6</th>\n",
       "      <td>AISLIN</td>\n",
       "      <td>UV Protection, Gradient Round, Cat-eye Sunglas...</td>\n",
       "      <td>₹458</td>\n",
       "    </tr>\n",
       "    <tr>\n",
       "      <th>7</th>\n",
       "      <td>AISLIN</td>\n",
       "      <td>UV Protection, Gradient Butterfly, Over-sized ...</td>\n",
       "      <td>₹458</td>\n",
       "    </tr>\n",
       "    <tr>\n",
       "      <th>8</th>\n",
       "      <td>IDEE</td>\n",
       "      <td>UV Protection Cat-eye Sunglasses (57)</td>\n",
       "      <td>₹881</td>\n",
       "    </tr>\n",
       "    <tr>\n",
       "      <th>9</th>\n",
       "      <td>ROZZETTA CRAFT</td>\n",
       "      <td>UV Protection, Gradient Round Sunglasses (Free...</td>\n",
       "      <td>₹342</td>\n",
       "    </tr>\n",
       "    <tr>\n",
       "      <th>10</th>\n",
       "      <td>kingsunglasses</td>\n",
       "      <td>UV Protection, Night Vision Wayfarer Sunglasse...</td>\n",
       "      <td>₹299</td>\n",
       "    </tr>\n",
       "    <tr>\n",
       "      <th>11</th>\n",
       "      <td>AISLIN</td>\n",
       "      <td>UV Protection, Gradient Butterfly, Over-sized ...</td>\n",
       "      <td>₹458</td>\n",
       "    </tr>\n",
       "    <tr>\n",
       "      <th>12</th>\n",
       "      <td>kingsunglasses</td>\n",
       "      <td>UV Protection Rectangular Sunglasses (55)</td>\n",
       "      <td>₹269</td>\n",
       "    </tr>\n",
       "    <tr>\n",
       "      <th>13</th>\n",
       "      <td>ROZZETTA CRAFT</td>\n",
       "      <td>UV Protection Round Sunglasses (Free Size)</td>\n",
       "      <td>₹398</td>\n",
       "    </tr>\n",
       "    <tr>\n",
       "      <th>14</th>\n",
       "      <td>GANSTA</td>\n",
       "      <td>UV Protection Aviator Sunglasses (57)</td>\n",
       "      <td>₹284</td>\n",
       "    </tr>\n",
       "    <tr>\n",
       "      <th>15</th>\n",
       "      <td>NuVew</td>\n",
       "      <td>UV Protection, Mirrored, Gradient Cat-eye Sung...</td>\n",
       "      <td>₹325</td>\n",
       "    </tr>\n",
       "    <tr>\n",
       "      <th>16</th>\n",
       "      <td>Fastrack</td>\n",
       "      <td>UV Protection Aviator Sunglasses (Free Size)</td>\n",
       "      <td>₹699</td>\n",
       "    </tr>\n",
       "    <tr>\n",
       "      <th>17</th>\n",
       "      <td>SHAAH COLLECTIONS</td>\n",
       "      <td>UV Protection Round Sunglasses (Free Size)</td>\n",
       "      <td>₹314</td>\n",
       "    </tr>\n",
       "    <tr>\n",
       "      <th>18</th>\n",
       "      <td>Fastrack</td>\n",
       "      <td>UV Protection Wayfarer Sunglasses (Free Size)</td>\n",
       "      <td>₹764</td>\n",
       "    </tr>\n",
       "    <tr>\n",
       "      <th>19</th>\n",
       "      <td>ROYAL SON</td>\n",
       "      <td>Polarized Retro Square Sunglasses (61)</td>\n",
       "      <td>₹699</td>\n",
       "    </tr>\n",
       "  </tbody>\n",
       "</table>\n",
       "</div>"
      ],
      "text/plain": [
       "           Brand Name                                Prodect Description Price\n",
       "0            Fastrack       UV Protection Aviator Sunglasses (Free Size)  ₹639\n",
       "1            Fastrack      UV Protection Wayfarer Sunglasses (Free Size)  ₹639\n",
       "2              AISLIN  UV Protection, Gradient Butterfly, Retro Squar...  ₹458\n",
       "3               NuVew  UV Protection Retro Square, Wayfarer Sunglasse...  ₹185\n",
       "4            Fastrack      UV Protection Wayfarer Sunglasses (Free Size)  ₹719\n",
       "5               NuVew               UV Protection Sports Sunglasses (62)  ₹327\n",
       "6              AISLIN  UV Protection, Gradient Round, Cat-eye Sunglas...  ₹458\n",
       "7              AISLIN  UV Protection, Gradient Butterfly, Over-sized ...  ₹458\n",
       "8                IDEE              UV Protection Cat-eye Sunglasses (57)  ₹881\n",
       "9      ROZZETTA CRAFT  UV Protection, Gradient Round Sunglasses (Free...  ₹342\n",
       "10     kingsunglasses  UV Protection, Night Vision Wayfarer Sunglasse...  ₹299\n",
       "11             AISLIN  UV Protection, Gradient Butterfly, Over-sized ...  ₹458\n",
       "12     kingsunglasses          UV Protection Rectangular Sunglasses (55)  ₹269\n",
       "13     ROZZETTA CRAFT         UV Protection Round Sunglasses (Free Size)  ₹398\n",
       "14             GANSTA              UV Protection Aviator Sunglasses (57)  ₹284\n",
       "15              NuVew  UV Protection, Mirrored, Gradient Cat-eye Sung...  ₹325\n",
       "16           Fastrack       UV Protection Aviator Sunglasses (Free Size)  ₹699\n",
       "17  SHAAH COLLECTIONS         UV Protection Round Sunglasses (Free Size)  ₹314\n",
       "18           Fastrack      UV Protection Wayfarer Sunglasses (Free Size)  ₹764\n",
       "19          ROYAL SON             Polarized Retro Square Sunglasses (61)  ₹699"
      ]
     },
     "execution_count": 196,
     "metadata": {},
     "output_type": "execute_result"
    }
   ],
   "source": [
    "sunglasses3"
   ]
  },
  {
   "cell_type": "code",
   "execution_count": 197,
   "id": "2057b86b",
   "metadata": {},
   "outputs": [],
   "source": [
    "driver.close()"
   ]
  },
  {
   "cell_type": "markdown",
   "id": "9f5ccd8a",
   "metadata": {},
   "source": [
    "### Que.5"
   ]
  },
  {
   "cell_type": "code",
   "execution_count": 198,
   "id": "2d59484d",
   "metadata": {},
   "outputs": [],
   "source": [
    "driver=webdriver.Chrome('chromedriver.exe')\n",
    "time.sleep(2)"
   ]
  },
  {
   "cell_type": "code",
   "execution_count": 199,
   "id": "76feb2c7",
   "metadata": {},
   "outputs": [],
   "source": [
    "driver.get(\"https://www.flipkart.com/apple-iphone-11-black-64-gb-includes- earpods-power- adapter/p/itm0f37c2240b217?pid=MOBFKCTSVZAXUHGR&lid=LSTMOBFKC TSVZAXUHGREPBFGI&marketplace\")"
   ]
  },
  {
   "cell_type": "code",
   "execution_count": 201,
   "id": "19fffd1b",
   "metadata": {},
   "outputs": [],
   "source": [
    "all_review=driver.find_element_by_xpath(\"/html/body/div[1]/div/div[3]/div[1]/div[2]/div[9]/div/div/div[5]/div/a/div/span\")\n",
    "all_review.click()"
   ]
  },
  {
   "cell_type": "code",
   "execution_count": 202,
   "id": "7deccb98",
   "metadata": {},
   "outputs": [],
   "source": [
    "rating=[]\n",
    "review_summ=[]\n",
    "full_review=[]"
   ]
  },
  {
   "cell_type": "code",
   "execution_count": 207,
   "id": "6e0420e4",
   "metadata": {},
   "outputs": [
    {
     "data": {
      "text/plain": [
       "[<selenium.webdriver.remote.webelement.WebElement (session=\"ed9c1659be98741fa6f97067f61a84f5\", element=\"ca2a23c5-88cb-4792-8886-a3e10cb6f79e\")>,\n",
       " <selenium.webdriver.remote.webelement.WebElement (session=\"ed9c1659be98741fa6f97067f61a84f5\", element=\"d66a3a0e-f6fd-4ce2-863d-b1a034e33dba\")>,\n",
       " <selenium.webdriver.remote.webelement.WebElement (session=\"ed9c1659be98741fa6f97067f61a84f5\", element=\"a81b42b9-0423-4e85-9514-45f5a3719821\")>,\n",
       " <selenium.webdriver.remote.webelement.WebElement (session=\"ed9c1659be98741fa6f97067f61a84f5\", element=\"284e2135-441a-4230-9772-fb32af1c8ac2\")>,\n",
       " <selenium.webdriver.remote.webelement.WebElement (session=\"ed9c1659be98741fa6f97067f61a84f5\", element=\"526b1608-8a3f-4a74-be30-47109a9691d4\")>,\n",
       " <selenium.webdriver.remote.webelement.WebElement (session=\"ed9c1659be98741fa6f97067f61a84f5\", element=\"dfbcffc8-4713-43e5-8093-5911776e70af\")>,\n",
       " <selenium.webdriver.remote.webelement.WebElement (session=\"ed9c1659be98741fa6f97067f61a84f5\", element=\"378af936-8a04-4475-b22d-bc2d49dd58f7\")>,\n",
       " <selenium.webdriver.remote.webelement.WebElement (session=\"ed9c1659be98741fa6f97067f61a84f5\", element=\"06ab689a-38a0-4527-8f05-12acb504d65a\")>,\n",
       " <selenium.webdriver.remote.webelement.WebElement (session=\"ed9c1659be98741fa6f97067f61a84f5\", element=\"c4263e9d-9678-49ca-9698-52b595c5f6fd\")>,\n",
       " <selenium.webdriver.remote.webelement.WebElement (session=\"ed9c1659be98741fa6f97067f61a84f5\", element=\"f845c8dd-98e3-4926-9cbb-0cdafe9446ac\")>]"
      ]
     },
     "execution_count": 207,
     "metadata": {},
     "output_type": "execute_result"
    }
   ],
   "source": [
    "rating_tags=driver.find_elements_by_xpath(\"//div[@class='_3LWZlK _1BLPMq']\")\n",
    "rating_tags"
   ]
  },
  {
   "cell_type": "code",
   "execution_count": 208,
   "id": "cca33c99",
   "metadata": {},
   "outputs": [
    {
     "data": {
      "text/plain": [
       "['5', '5', '5', '5', '5', '5', '5', '4', '5', '5']"
      ]
     },
     "execution_count": 208,
     "metadata": {},
     "output_type": "execute_result"
    }
   ],
   "source": [
    "for i in rating_tags:\n",
    "    rate=i.text\n",
    "    rating.append(rate)\n",
    "rating"
   ]
  },
  {
   "cell_type": "code",
   "execution_count": 209,
   "id": "e7e9ebe8",
   "metadata": {},
   "outputs": [
    {
     "data": {
      "text/plain": [
       "[<selenium.webdriver.remote.webelement.WebElement (session=\"ed9c1659be98741fa6f97067f61a84f5\", element=\"8a02c80e-6f4e-4704-a334-0b4238ad360d\")>,\n",
       " <selenium.webdriver.remote.webelement.WebElement (session=\"ed9c1659be98741fa6f97067f61a84f5\", element=\"a9ec57f7-eccd-4f6d-9d4b-68ca1c6929e4\")>,\n",
       " <selenium.webdriver.remote.webelement.WebElement (session=\"ed9c1659be98741fa6f97067f61a84f5\", element=\"42fc00f5-7154-486b-9180-a5ace473f187\")>,\n",
       " <selenium.webdriver.remote.webelement.WebElement (session=\"ed9c1659be98741fa6f97067f61a84f5\", element=\"c5ea8af5-68d9-4a32-b62e-8bd0acded516\")>,\n",
       " <selenium.webdriver.remote.webelement.WebElement (session=\"ed9c1659be98741fa6f97067f61a84f5\", element=\"af89db62-1c80-4126-a906-1a9092c558a2\")>,\n",
       " <selenium.webdriver.remote.webelement.WebElement (session=\"ed9c1659be98741fa6f97067f61a84f5\", element=\"9cce8be0-fad1-4758-9235-83bbd175af45\")>,\n",
       " <selenium.webdriver.remote.webelement.WebElement (session=\"ed9c1659be98741fa6f97067f61a84f5\", element=\"00422bda-86cc-4564-be79-2633850c0db9\")>,\n",
       " <selenium.webdriver.remote.webelement.WebElement (session=\"ed9c1659be98741fa6f97067f61a84f5\", element=\"a712faa1-3310-494d-b9d6-0462021ca99e\")>,\n",
       " <selenium.webdriver.remote.webelement.WebElement (session=\"ed9c1659be98741fa6f97067f61a84f5\", element=\"74d948c0-14bb-4aa6-857f-91e861d031d7\")>,\n",
       " <selenium.webdriver.remote.webelement.WebElement (session=\"ed9c1659be98741fa6f97067f61a84f5\", element=\"ed455c9b-8e05-45cb-a786-14fa7f7aaa22\")>]"
      ]
     },
     "execution_count": 209,
     "metadata": {},
     "output_type": "execute_result"
    }
   ],
   "source": [
    "summ_tags=driver.find_elements_by_xpath(\"//p[@class='_2-N8zT']\")\n",
    "summ_tags"
   ]
  },
  {
   "cell_type": "code",
   "execution_count": 210,
   "id": "e6c2d175",
   "metadata": {},
   "outputs": [
    {
     "data": {
      "text/plain": [
       "['Brilliant',\n",
       " 'Simply awesome',\n",
       " 'Best in the market!',\n",
       " 'Perfect product!',\n",
       " 'Fabulous!',\n",
       " 'Worth every penny',\n",
       " 'Great product',\n",
       " 'Good choice',\n",
       " 'Highly recommended',\n",
       " 'Worth every penny']"
      ]
     },
     "execution_count": 210,
     "metadata": {},
     "output_type": "execute_result"
    }
   ],
   "source": [
    "for i in summ_tags:\n",
    "    summ=i.text\n",
    "    review_summ.append(summ)\n",
    "review_summ"
   ]
  },
  {
   "cell_type": "code",
   "execution_count": 211,
   "id": "35343c54",
   "metadata": {},
   "outputs": [
    {
     "data": {
      "text/plain": [
       "[<selenium.webdriver.remote.webelement.WebElement (session=\"ed9c1659be98741fa6f97067f61a84f5\", element=\"b7c7f5b0-64d9-4060-8f42-0b8fc88102eb\")>,\n",
       " <selenium.webdriver.remote.webelement.WebElement (session=\"ed9c1659be98741fa6f97067f61a84f5\", element=\"082264d8-1acc-4106-a53f-43d5071db14f\")>,\n",
       " <selenium.webdriver.remote.webelement.WebElement (session=\"ed9c1659be98741fa6f97067f61a84f5\", element=\"10d5106e-aefe-45e7-8861-587f2de4f796\")>,\n",
       " <selenium.webdriver.remote.webelement.WebElement (session=\"ed9c1659be98741fa6f97067f61a84f5\", element=\"6f59f6fe-2c96-46b0-ad6f-d564eac67c1b\")>,\n",
       " <selenium.webdriver.remote.webelement.WebElement (session=\"ed9c1659be98741fa6f97067f61a84f5\", element=\"6d279611-af84-47f6-aca0-d4f0e82e96ba\")>,\n",
       " <selenium.webdriver.remote.webelement.WebElement (session=\"ed9c1659be98741fa6f97067f61a84f5\", element=\"50bd0e34-c716-43d2-9fa0-0015707935a8\")>,\n",
       " <selenium.webdriver.remote.webelement.WebElement (session=\"ed9c1659be98741fa6f97067f61a84f5\", element=\"9ba536df-56e5-412a-b08b-0ce20125075f\")>,\n",
       " <selenium.webdriver.remote.webelement.WebElement (session=\"ed9c1659be98741fa6f97067f61a84f5\", element=\"40b45428-ab8a-4e78-a673-207ee1bc0247\")>,\n",
       " <selenium.webdriver.remote.webelement.WebElement (session=\"ed9c1659be98741fa6f97067f61a84f5\", element=\"efbbf3dc-ac53-4b83-8cf2-a792d0b25d5f\")>,\n",
       " <selenium.webdriver.remote.webelement.WebElement (session=\"ed9c1659be98741fa6f97067f61a84f5\", element=\"6975de05-90d4-427c-983d-8b6beb8ca594\")>]"
      ]
     },
     "execution_count": 211,
     "metadata": {},
     "output_type": "execute_result"
    }
   ],
   "source": [
    "full_tags=driver.find_elements_by_xpath(\"//div[@class='t-ZTKy']\")\n",
    "full_tags"
   ]
  },
  {
   "cell_type": "code",
   "execution_count": 212,
   "id": "65c46cb4",
   "metadata": {},
   "outputs": [
    {
     "data": {
      "text/plain": [
       "['The Best Phone for the Money\\n\\nThe iPhone 11 offers superb cameras, a more durable design and excellent battery life for an affordable price.\\n\\nCompelling ultra-wide camera\\nNew Night mode is excellent\\nLong battery life',\n",
       " 'Really satisfied with the Product I received... It’s totally genuine and the packaging was also really good so if ur planning to buy just go for it.',\n",
       " 'Great iPhone very snappy experience as apple kind. Upgraded from iPhone 7.\\nPros\\n-Camera top class\\n- Battery top performed\\n-Chipset no need to say as apple kind\\n-Security as you expect from apple\\n- Display super bright industry leading colour\\naccuracy and super responsive\\n-Build quality as expect from apple sturdy\\npremium durable beautiful stylish.\\n-Os most stable os in smartphone industry\\n\\nCons\\n-No 5G\\n-Display is not based on OLED technology\\n-Charger headphones and 1 apple stic...\\nREAD MORE',\n",
       " 'Amazing phone with great cameras and better battery which gives you the best performance. I just love the camera .',\n",
       " 'This is my first iOS phone. I am very happy with this product. Very much satisfied with this. I love this phone.',\n",
       " 'Previously I was using one plus 3t it was a great phone\\nAnd then I decided to upgrade I am stuck between Samsung s10 plus or iPhone 11\\nI have seen the specs and everything were good except the display it’s somewhere between 720-1080 and it’s not even an amoled it’s an LCD display\\nBut I decided to go with iPhone because I have never used an IOS device I have Been an android user from the past 9 years I ordered IPhone 11 (128gb) product red\\nMy experience after using 3 weeks\\n1. The delivery ...\\nREAD MORE',\n",
       " 'Amazing Powerful and Durable Gadget.\\n\\nI’m am very happy with the camera picture quality, Amazing face id unlocked in dark room, Strong battery with perfect screen size as you can carry easily in pocket. This is my third iPhone.\\n\\nI shifted from android Samsung Note series to iPhone because of the strong build quality and peace of mind for next 3-4 years.\\n\\nDon’t think to much just go for it and I suggest you to go for minimum 128gb variant or more 256gb.\\n\\nI’ve attached my puppy pics and no fi...\\nREAD MORE',\n",
       " 'So far it’s been an AMAZING experience coming back to iOS after nearly a decade but it’s not as versatile as android though phone is sturdy dropped it accidentally a couple of times and nothing happened fortunately camera is awesome',\n",
       " 'What a camera .....just awesome ..you can feel this iPhone just awesome . Good for gaming also ...try pubg in hd it’s just wow',\n",
       " 'i11 is worthy to buy, too much happy with the product. Thank u flipkart I received the item on time..loved it..']"
      ]
     },
     "execution_count": 212,
     "metadata": {},
     "output_type": "execute_result"
    }
   ],
   "source": [
    "for i in full_tags:\n",
    "    full=i.text\n",
    "    full_review.append(full)\n",
    "full_review"
   ]
  },
  {
   "cell_type": "code",
   "execution_count": 213,
   "id": "cc19c3cc",
   "metadata": {},
   "outputs": [
    {
     "data": {
      "text/html": [
       "<div>\n",
       "<style scoped>\n",
       "    .dataframe tbody tr th:only-of-type {\n",
       "        vertical-align: middle;\n",
       "    }\n",
       "\n",
       "    .dataframe tbody tr th {\n",
       "        vertical-align: top;\n",
       "    }\n",
       "\n",
       "    .dataframe thead th {\n",
       "        text-align: right;\n",
       "    }\n",
       "</style>\n",
       "<table border=\"1\" class=\"dataframe\">\n",
       "  <thead>\n",
       "    <tr style=\"text-align: right;\">\n",
       "      <th></th>\n",
       "      <th>Rating</th>\n",
       "      <th>Review Summery</th>\n",
       "      <th>Full Review</th>\n",
       "    </tr>\n",
       "  </thead>\n",
       "  <tbody>\n",
       "    <tr>\n",
       "      <th>0</th>\n",
       "      <td>5</td>\n",
       "      <td>Brilliant</td>\n",
       "      <td>The Best Phone for the Money\\n\\nThe iPhone 11 ...</td>\n",
       "    </tr>\n",
       "    <tr>\n",
       "      <th>1</th>\n",
       "      <td>5</td>\n",
       "      <td>Simply awesome</td>\n",
       "      <td>Really satisfied with the Product I received.....</td>\n",
       "    </tr>\n",
       "    <tr>\n",
       "      <th>2</th>\n",
       "      <td>5</td>\n",
       "      <td>Best in the market!</td>\n",
       "      <td>Great iPhone very snappy experience as apple k...</td>\n",
       "    </tr>\n",
       "    <tr>\n",
       "      <th>3</th>\n",
       "      <td>5</td>\n",
       "      <td>Perfect product!</td>\n",
       "      <td>Amazing phone with great cameras and better ba...</td>\n",
       "    </tr>\n",
       "    <tr>\n",
       "      <th>4</th>\n",
       "      <td>5</td>\n",
       "      <td>Fabulous!</td>\n",
       "      <td>This is my first iOS phone. I am very happy wi...</td>\n",
       "    </tr>\n",
       "    <tr>\n",
       "      <th>5</th>\n",
       "      <td>5</td>\n",
       "      <td>Worth every penny</td>\n",
       "      <td>Previously I was using one plus 3t it was a gr...</td>\n",
       "    </tr>\n",
       "    <tr>\n",
       "      <th>6</th>\n",
       "      <td>5</td>\n",
       "      <td>Great product</td>\n",
       "      <td>Amazing Powerful and Durable Gadget.\\n\\nI’m am...</td>\n",
       "    </tr>\n",
       "    <tr>\n",
       "      <th>7</th>\n",
       "      <td>4</td>\n",
       "      <td>Good choice</td>\n",
       "      <td>So far it’s been an AMAZING experience coming ...</td>\n",
       "    </tr>\n",
       "    <tr>\n",
       "      <th>8</th>\n",
       "      <td>5</td>\n",
       "      <td>Highly recommended</td>\n",
       "      <td>What a camera .....just awesome ..you can feel...</td>\n",
       "    </tr>\n",
       "    <tr>\n",
       "      <th>9</th>\n",
       "      <td>5</td>\n",
       "      <td>Worth every penny</td>\n",
       "      <td>i11 is worthy to buy, too much happy with the ...</td>\n",
       "    </tr>\n",
       "  </tbody>\n",
       "</table>\n",
       "</div>"
      ],
      "text/plain": [
       "  Rating       Review Summery  \\\n",
       "0      5            Brilliant   \n",
       "1      5       Simply awesome   \n",
       "2      5  Best in the market!   \n",
       "3      5     Perfect product!   \n",
       "4      5            Fabulous!   \n",
       "5      5    Worth every penny   \n",
       "6      5        Great product   \n",
       "7      4          Good choice   \n",
       "8      5   Highly recommended   \n",
       "9      5    Worth every penny   \n",
       "\n",
       "                                         Full Review  \n",
       "0  The Best Phone for the Money\\n\\nThe iPhone 11 ...  \n",
       "1  Really satisfied with the Product I received.....  \n",
       "2  Great iPhone very snappy experience as apple k...  \n",
       "3  Amazing phone with great cameras and better ba...  \n",
       "4  This is my first iOS phone. I am very happy wi...  \n",
       "5  Previously I was using one plus 3t it was a gr...  \n",
       "6  Amazing Powerful and Durable Gadget.\\n\\nI’m am...  \n",
       "7  So far it’s been an AMAZING experience coming ...  \n",
       "8  What a camera .....just awesome ..you can feel...  \n",
       "9  i11 is worthy to buy, too much happy with the ...  "
      ]
     },
     "execution_count": 213,
     "metadata": {},
     "output_type": "execute_result"
    }
   ],
   "source": [
    "iphone=pd.DataFrame({'Rating':rating,'Review Summery':review_summ,'Full Review':full_review})\n",
    "iphone"
   ]
  },
  {
   "cell_type": "code",
   "execution_count": 214,
   "id": "f7ac711f",
   "metadata": {},
   "outputs": [],
   "source": [
    "driver.close()"
   ]
  },
  {
   "cell_type": "markdown",
   "id": "3d0b605e",
   "metadata": {},
   "source": [
    "### Que.6"
   ]
  },
  {
   "cell_type": "code",
   "execution_count": 215,
   "id": "2bacba3a",
   "metadata": {},
   "outputs": [],
   "source": [
    "driver=webdriver.Chrome('chromedriver.exe')\n",
    "time.sleep(2)"
   ]
  },
  {
   "cell_type": "code",
   "execution_count": 216,
   "id": "3dbbb1e3",
   "metadata": {},
   "outputs": [],
   "source": [
    "driver.get(\"https://www.flipkart.com/\")"
   ]
  },
  {
   "cell_type": "code",
   "execution_count": 217,
   "id": "f39d64fd",
   "metadata": {},
   "outputs": [],
   "source": [
    "cut=driver.find_element_by_xpath(\"/html/body/div[2]/div/div/button\")\n",
    "cut.click()"
   ]
  },
  {
   "cell_type": "code",
   "execution_count": 218,
   "id": "57b81e16",
   "metadata": {},
   "outputs": [],
   "source": [
    "search_product=driver.find_element_by_class_name(\"_3704LK\")\n",
    "search_product.send_keys(\"sneakers\")"
   ]
  },
  {
   "cell_type": "code",
   "execution_count": 219,
   "id": "a0cf24f7",
   "metadata": {},
   "outputs": [],
   "source": [
    "search_button=driver.find_element_by_xpath(\"/html/body/div[1]/div/div[1]/div[1]/div[2]/div[2]/form/div/button\")\n",
    "search_button.click()"
   ]
  },
  {
   "cell_type": "code",
   "execution_count": 220,
   "id": "964393ce",
   "metadata": {},
   "outputs": [],
   "source": [
    "brand_name3=[]\n",
    "prod_des3=[]\n",
    "price3=[]"
   ]
  },
  {
   "cell_type": "code",
   "execution_count": 228,
   "id": "846c2882",
   "metadata": {},
   "outputs": [
    {
     "data": {
      "text/plain": [
       "[<selenium.webdriver.remote.webelement.WebElement (session=\"8ab5699aeec1980614f75a95abbf727c\", element=\"aa27e63e-acbc-4272-a04e-1ca807fd913d\")>,\n",
       " <selenium.webdriver.remote.webelement.WebElement (session=\"8ab5699aeec1980614f75a95abbf727c\", element=\"67030c9e-e21a-4df7-89c0-e811412f8340\")>,\n",
       " <selenium.webdriver.remote.webelement.WebElement (session=\"8ab5699aeec1980614f75a95abbf727c\", element=\"88c2c3f9-1caa-4372-a737-99ba7b470764\")>,\n",
       " <selenium.webdriver.remote.webelement.WebElement (session=\"8ab5699aeec1980614f75a95abbf727c\", element=\"cab780f1-1d3f-492b-9b03-697c597633b6\")>,\n",
       " <selenium.webdriver.remote.webelement.WebElement (session=\"8ab5699aeec1980614f75a95abbf727c\", element=\"7dcfd2ff-fd65-4b19-96e0-4e66bcf19ad3\")>,\n",
       " <selenium.webdriver.remote.webelement.WebElement (session=\"8ab5699aeec1980614f75a95abbf727c\", element=\"5ab55d49-0f07-4ec0-b714-4d70a0552aac\")>,\n",
       " <selenium.webdriver.remote.webelement.WebElement (session=\"8ab5699aeec1980614f75a95abbf727c\", element=\"5bf12879-ff35-42ff-b6dd-993527551203\")>,\n",
       " <selenium.webdriver.remote.webelement.WebElement (session=\"8ab5699aeec1980614f75a95abbf727c\", element=\"6cf35a90-62b1-4451-be9a-75bd63876cb3\")>,\n",
       " <selenium.webdriver.remote.webelement.WebElement (session=\"8ab5699aeec1980614f75a95abbf727c\", element=\"f57af5dc-9b2d-4e9b-b35d-156bb452b1d5\")>,\n",
       " <selenium.webdriver.remote.webelement.WebElement (session=\"8ab5699aeec1980614f75a95abbf727c\", element=\"e11f50b8-38a2-4bac-852f-9945b6bfd68e\")>,\n",
       " <selenium.webdriver.remote.webelement.WebElement (session=\"8ab5699aeec1980614f75a95abbf727c\", element=\"18b9c6f2-0b66-40bf-bff3-a1c632aa343c\")>,\n",
       " <selenium.webdriver.remote.webelement.WebElement (session=\"8ab5699aeec1980614f75a95abbf727c\", element=\"a7178e78-3c3d-452a-9a53-a9b04e875e27\")>,\n",
       " <selenium.webdriver.remote.webelement.WebElement (session=\"8ab5699aeec1980614f75a95abbf727c\", element=\"fca2f111-118b-4c7d-8507-876417f661b9\")>,\n",
       " <selenium.webdriver.remote.webelement.WebElement (session=\"8ab5699aeec1980614f75a95abbf727c\", element=\"31c3c330-a6ae-4dcf-a111-e5a5c1c12cad\")>,\n",
       " <selenium.webdriver.remote.webelement.WebElement (session=\"8ab5699aeec1980614f75a95abbf727c\", element=\"45bdf74f-0e43-4a14-88a5-d8ec0a8abf0d\")>,\n",
       " <selenium.webdriver.remote.webelement.WebElement (session=\"8ab5699aeec1980614f75a95abbf727c\", element=\"81f48ff4-17d2-4948-ad25-db673cca4779\")>,\n",
       " <selenium.webdriver.remote.webelement.WebElement (session=\"8ab5699aeec1980614f75a95abbf727c\", element=\"17b635d6-0049-4351-a1fb-26f6e0624660\")>,\n",
       " <selenium.webdriver.remote.webelement.WebElement (session=\"8ab5699aeec1980614f75a95abbf727c\", element=\"7ea49168-e920-4eff-99bf-ef5bbd43ce98\")>,\n",
       " <selenium.webdriver.remote.webelement.WebElement (session=\"8ab5699aeec1980614f75a95abbf727c\", element=\"a2a4e29f-7618-4eb3-9bfe-9c6c0521d637\")>,\n",
       " <selenium.webdriver.remote.webelement.WebElement (session=\"8ab5699aeec1980614f75a95abbf727c\", element=\"a0f9162a-f4b3-4885-877f-1de53844bc1e\")>,\n",
       " <selenium.webdriver.remote.webelement.WebElement (session=\"8ab5699aeec1980614f75a95abbf727c\", element=\"8bf75410-14ba-44a4-b302-b33b78321332\")>,\n",
       " <selenium.webdriver.remote.webelement.WebElement (session=\"8ab5699aeec1980614f75a95abbf727c\", element=\"db7a60bb-86a7-404a-a617-57830ebaee67\")>,\n",
       " <selenium.webdriver.remote.webelement.WebElement (session=\"8ab5699aeec1980614f75a95abbf727c\", element=\"5b52e378-4610-4e43-abe2-3a2d558893af\")>,\n",
       " <selenium.webdriver.remote.webelement.WebElement (session=\"8ab5699aeec1980614f75a95abbf727c\", element=\"058fc0c8-691c-4543-9d6c-afd13c7879b9\")>,\n",
       " <selenium.webdriver.remote.webelement.WebElement (session=\"8ab5699aeec1980614f75a95abbf727c\", element=\"ac913ba6-97b0-4174-9c70-757184471f8c\")>,\n",
       " <selenium.webdriver.remote.webelement.WebElement (session=\"8ab5699aeec1980614f75a95abbf727c\", element=\"5ef0bfa3-1c07-46c8-a549-456c69171406\")>,\n",
       " <selenium.webdriver.remote.webelement.WebElement (session=\"8ab5699aeec1980614f75a95abbf727c\", element=\"c10f0b80-7ecd-414d-8ab7-db6540fb4ef3\")>,\n",
       " <selenium.webdriver.remote.webelement.WebElement (session=\"8ab5699aeec1980614f75a95abbf727c\", element=\"44094acc-72d1-4933-9bb3-c5fb55cf3e9f\")>,\n",
       " <selenium.webdriver.remote.webelement.WebElement (session=\"8ab5699aeec1980614f75a95abbf727c\", element=\"f311a53b-b144-4cc8-8bf8-af5b051f18fb\")>,\n",
       " <selenium.webdriver.remote.webelement.WebElement (session=\"8ab5699aeec1980614f75a95abbf727c\", element=\"2c101a4d-cda2-43b5-b5c7-6ce25fe8bf31\")>,\n",
       " <selenium.webdriver.remote.webelement.WebElement (session=\"8ab5699aeec1980614f75a95abbf727c\", element=\"afd03007-fa35-42a0-b635-42a5d28b4211\")>,\n",
       " <selenium.webdriver.remote.webelement.WebElement (session=\"8ab5699aeec1980614f75a95abbf727c\", element=\"77da4bd8-b95d-4fee-9452-e32ad9aae817\")>,\n",
       " <selenium.webdriver.remote.webelement.WebElement (session=\"8ab5699aeec1980614f75a95abbf727c\", element=\"196f9b78-1bf7-4b5c-8160-1b7699c1f1c3\")>,\n",
       " <selenium.webdriver.remote.webelement.WebElement (session=\"8ab5699aeec1980614f75a95abbf727c\", element=\"08de34aa-2fe0-4b5c-850f-463e4189c209\")>,\n",
       " <selenium.webdriver.remote.webelement.WebElement (session=\"8ab5699aeec1980614f75a95abbf727c\", element=\"bfc92806-3bf1-45db-bf25-42258f397cd2\")>,\n",
       " <selenium.webdriver.remote.webelement.WebElement (session=\"8ab5699aeec1980614f75a95abbf727c\", element=\"a73d4c6f-f8b9-402a-937c-285edfbb8f59\")>,\n",
       " <selenium.webdriver.remote.webelement.WebElement (session=\"8ab5699aeec1980614f75a95abbf727c\", element=\"4dd046ea-2e18-4b38-8798-6f3764039414\")>,\n",
       " <selenium.webdriver.remote.webelement.WebElement (session=\"8ab5699aeec1980614f75a95abbf727c\", element=\"f23d9aee-0b38-4120-ae0f-39f5859d0b29\")>,\n",
       " <selenium.webdriver.remote.webelement.WebElement (session=\"8ab5699aeec1980614f75a95abbf727c\", element=\"99e4cd3b-5f21-429d-a60d-d290f4948e61\")>,\n",
       " <selenium.webdriver.remote.webelement.WebElement (session=\"8ab5699aeec1980614f75a95abbf727c\", element=\"c30031f7-a366-480f-91dd-90d2d40255e6\")>]"
      ]
     },
     "execution_count": 228,
     "metadata": {},
     "output_type": "execute_result"
    }
   ],
   "source": [
    "name_tags3=driver.find_elements_by_xpath(\"//div[@class='_2WkVRV']\")\n",
    "name_tags3"
   ]
  },
  {
   "cell_type": "code",
   "execution_count": 229,
   "id": "f81977d1",
   "metadata": {},
   "outputs": [
    {
     "data": {
      "text/plain": [
       "['SPARX',\n",
       " 'HOTSTYLE',\n",
       " 'D-SNEAKERZ',\n",
       " 'corsac',\n",
       " 'URBANBOX',\n",
       " 'Chevit',\n",
       " 'aadi',\n",
       " 'SPARX',\n",
       " 'World Wear Footwear',\n",
       " 'BRUTON',\n",
       " 'Magnolia',\n",
       " 'HRX by Hrithik Roshan',\n",
       " 'World Wear Footwear',\n",
       " 'ASTEROID',\n",
       " 'Labbin',\n",
       " 'HOTSTYLE',\n",
       " 'World Wear Footwear',\n",
       " 'Kraasa',\n",
       " 'aadi',\n",
       " 'Roadster',\n",
       " 'Chevit',\n",
       " 'SCATCHITE',\n",
       " 'KWIK FIT',\n",
       " 'Shoes Bank',\n",
       " 'ASTEROID',\n",
       " 'BIRDE',\n",
       " 'BRUTON',\n",
       " 'Brucharm',\n",
       " 'BRUTON',\n",
       " 'D-SNEAKERZ',\n",
       " 'PUMA',\n",
       " 'Layasa',\n",
       " 'CLYMB',\n",
       " 'Kraasa',\n",
       " 'Chevit',\n",
       " 'Layasa',\n",
       " 'BRUTON',\n",
       " 'Layasa',\n",
       " 'aadi',\n",
       " 'Layasa']"
      ]
     },
     "execution_count": 229,
     "metadata": {},
     "output_type": "execute_result"
    }
   ],
   "source": [
    "for i in name_tags3:\n",
    "    name=i.text\n",
    "    brand_name3.append(name)\n",
    "brand_name3"
   ]
  },
  {
   "cell_type": "code",
   "execution_count": 230,
   "id": "929c5982",
   "metadata": {},
   "outputs": [
    {
     "data": {
      "text/plain": [
       "[<selenium.webdriver.remote.webelement.WebElement (session=\"8ab5699aeec1980614f75a95abbf727c\", element=\"c9960e8a-f390-44b5-819e-206333ac3c88\")>,\n",
       " <selenium.webdriver.remote.webelement.WebElement (session=\"8ab5699aeec1980614f75a95abbf727c\", element=\"5e55b6a4-d526-48db-83d9-c9257036f9f2\")>,\n",
       " <selenium.webdriver.remote.webelement.WebElement (session=\"8ab5699aeec1980614f75a95abbf727c\", element=\"5789c5f8-990e-4f4e-af2d-b6dbc34f03f9\")>,\n",
       " <selenium.webdriver.remote.webelement.WebElement (session=\"8ab5699aeec1980614f75a95abbf727c\", element=\"bd93d736-ee12-434e-a6cf-2012f6272d26\")>,\n",
       " <selenium.webdriver.remote.webelement.WebElement (session=\"8ab5699aeec1980614f75a95abbf727c\", element=\"c2382292-d1be-48be-9ac1-bd1091d2d46a\")>,\n",
       " <selenium.webdriver.remote.webelement.WebElement (session=\"8ab5699aeec1980614f75a95abbf727c\", element=\"beac7696-4afd-4d48-86c1-6189ddc385d7\")>,\n",
       " <selenium.webdriver.remote.webelement.WebElement (session=\"8ab5699aeec1980614f75a95abbf727c\", element=\"fd9551a5-6011-4067-82a1-e7b845c4f4b1\")>,\n",
       " <selenium.webdriver.remote.webelement.WebElement (session=\"8ab5699aeec1980614f75a95abbf727c\", element=\"56fc1ce2-a399-460d-8679-45156868c512\")>,\n",
       " <selenium.webdriver.remote.webelement.WebElement (session=\"8ab5699aeec1980614f75a95abbf727c\", element=\"cd3842db-85a6-44ee-a74a-fcfff50cb723\")>,\n",
       " <selenium.webdriver.remote.webelement.WebElement (session=\"8ab5699aeec1980614f75a95abbf727c\", element=\"739ed50a-d026-4b29-ba01-4780a3350706\")>,\n",
       " <selenium.webdriver.remote.webelement.WebElement (session=\"8ab5699aeec1980614f75a95abbf727c\", element=\"f84a1ec8-0675-45ff-bc5c-02e159f5771d\")>,\n",
       " <selenium.webdriver.remote.webelement.WebElement (session=\"8ab5699aeec1980614f75a95abbf727c\", element=\"6031c90f-d6a9-4958-bb35-f1e9f1e8b39d\")>,\n",
       " <selenium.webdriver.remote.webelement.WebElement (session=\"8ab5699aeec1980614f75a95abbf727c\", element=\"e518a424-9f7e-4ab2-b43a-d0db917162d1\")>,\n",
       " <selenium.webdriver.remote.webelement.WebElement (session=\"8ab5699aeec1980614f75a95abbf727c\", element=\"977c031c-8ccb-4649-b2aa-36feff62c3dd\")>,\n",
       " <selenium.webdriver.remote.webelement.WebElement (session=\"8ab5699aeec1980614f75a95abbf727c\", element=\"7cc94629-ebf2-47e5-a1cf-f6cb62f4abe0\")>,\n",
       " <selenium.webdriver.remote.webelement.WebElement (session=\"8ab5699aeec1980614f75a95abbf727c\", element=\"d31c07a3-af9b-485e-a517-152b7b6f1b72\")>,\n",
       " <selenium.webdriver.remote.webelement.WebElement (session=\"8ab5699aeec1980614f75a95abbf727c\", element=\"1e57445b-9eef-4ae8-844d-82ed72fbcf8a\")>,\n",
       " <selenium.webdriver.remote.webelement.WebElement (session=\"8ab5699aeec1980614f75a95abbf727c\", element=\"0fc7ed31-c4cc-4343-9209-517044070540\")>,\n",
       " <selenium.webdriver.remote.webelement.WebElement (session=\"8ab5699aeec1980614f75a95abbf727c\", element=\"bb073c6c-7349-4737-b30d-b0c742c8c410\")>,\n",
       " <selenium.webdriver.remote.webelement.WebElement (session=\"8ab5699aeec1980614f75a95abbf727c\", element=\"ef4b492b-adff-499e-9015-61d15c23a18c\")>,\n",
       " <selenium.webdriver.remote.webelement.WebElement (session=\"8ab5699aeec1980614f75a95abbf727c\", element=\"ab37e034-2ce9-4e30-82d4-a3a38536b379\")>,\n",
       " <selenium.webdriver.remote.webelement.WebElement (session=\"8ab5699aeec1980614f75a95abbf727c\", element=\"2b31238e-f738-4106-957b-2239df1e7a27\")>,\n",
       " <selenium.webdriver.remote.webelement.WebElement (session=\"8ab5699aeec1980614f75a95abbf727c\", element=\"5704be67-1114-416d-8354-92100d958efd\")>,\n",
       " <selenium.webdriver.remote.webelement.WebElement (session=\"8ab5699aeec1980614f75a95abbf727c\", element=\"14e68b7e-8322-41c7-9598-6398f7c31985\")>,\n",
       " <selenium.webdriver.remote.webelement.WebElement (session=\"8ab5699aeec1980614f75a95abbf727c\", element=\"f96e119b-7ac8-4b4d-883f-fa56d6c7bfee\")>,\n",
       " <selenium.webdriver.remote.webelement.WebElement (session=\"8ab5699aeec1980614f75a95abbf727c\", element=\"54199e75-a5b8-46e5-85a3-94b85df43eb3\")>,\n",
       " <selenium.webdriver.remote.webelement.WebElement (session=\"8ab5699aeec1980614f75a95abbf727c\", element=\"c046c86e-c467-4123-8a1b-eee590695b2e\")>,\n",
       " <selenium.webdriver.remote.webelement.WebElement (session=\"8ab5699aeec1980614f75a95abbf727c\", element=\"86e64b1d-7e81-4042-bb17-159f1edbab34\")>,\n",
       " <selenium.webdriver.remote.webelement.WebElement (session=\"8ab5699aeec1980614f75a95abbf727c\", element=\"02fb94a0-cba8-488e-ab38-58b058e6e403\")>,\n",
       " <selenium.webdriver.remote.webelement.WebElement (session=\"8ab5699aeec1980614f75a95abbf727c\", element=\"7361bacd-9d24-490e-a53b-07c3f7755cc4\")>,\n",
       " <selenium.webdriver.remote.webelement.WebElement (session=\"8ab5699aeec1980614f75a95abbf727c\", element=\"422b683b-2670-4155-b8c3-36e21d64e64a\")>,\n",
       " <selenium.webdriver.remote.webelement.WebElement (session=\"8ab5699aeec1980614f75a95abbf727c\", element=\"0638ac7c-0618-45a8-b565-d231888e7696\")>,\n",
       " <selenium.webdriver.remote.webelement.WebElement (session=\"8ab5699aeec1980614f75a95abbf727c\", element=\"85b7fbf1-4bc1-445e-a6c7-8180456db986\")>,\n",
       " <selenium.webdriver.remote.webelement.WebElement (session=\"8ab5699aeec1980614f75a95abbf727c\", element=\"230e0fef-834e-438b-b082-f8fde3eada57\")>,\n",
       " <selenium.webdriver.remote.webelement.WebElement (session=\"8ab5699aeec1980614f75a95abbf727c\", element=\"65a86bde-dc8d-432e-bc4a-7a4009ffe0af\")>,\n",
       " <selenium.webdriver.remote.webelement.WebElement (session=\"8ab5699aeec1980614f75a95abbf727c\", element=\"17cfce95-c429-4c8b-bfd8-553d54a4bf25\")>,\n",
       " <selenium.webdriver.remote.webelement.WebElement (session=\"8ab5699aeec1980614f75a95abbf727c\", element=\"6776a0a3-0e3b-4aa9-b06f-2b5d155c0673\")>,\n",
       " <selenium.webdriver.remote.webelement.WebElement (session=\"8ab5699aeec1980614f75a95abbf727c\", element=\"a915a8f9-2392-4834-b089-1a23f6eb1f5d\")>]"
      ]
     },
     "execution_count": 230,
     "metadata": {},
     "output_type": "execute_result"
    }
   ],
   "source": [
    "desc_tags3=driver.find_elements_by_xpath(\"//a[@class='IRpwTa']\")\n",
    "desc_tags3"
   ]
  },
  {
   "cell_type": "code",
   "execution_count": 231,
   "id": "e4bf7ae2",
   "metadata": {},
   "outputs": [
    {
     "data": {
      "text/plain": [
       "['Men 192 Sneakers For Men',\n",
       " 'CR-1 Sneakers For Men',\n",
       " \"Casual , Partywear Sneakers Shoes For Men's And Boys Wh...\",\n",
       " 'STYLISH MENS BLACK SNEAKER Sneakers For Men',\n",
       " '516 Trendy Star Perfect Sneakers For Men',\n",
       " 'Sneakers For Men',\n",
       " '5011-Latest Collection Stylish & Trendy Casual Sneakers...',\n",
       " 'Modern Trendy Sneakers Shoes Sneakers For Men',\n",
       " 'Sneakers For Men',\n",
       " 'Sneakers For Men',\n",
       " '5013-Latest Collection Stylish & Trendy of casuals Snea...',\n",
       " \"Original Luxury Branded Fashionable Men's Casual Walkin...\",\n",
       " 'Sneakers For Men',\n",
       " 'CR-1 Sneakers For Men',\n",
       " 'Men 5014 Latest Collection Stylish Casual Sports Loafer...',\n",
       " 'Casuals, Canvas, Partywear Sneakers For Men',\n",
       " 'Sneakers For Men',\n",
       " 'Sneakers For Men',\n",
       " 'Perfect Combo Pack of 03 Pairs Casual Sneakers Outdoor ...',\n",
       " 'Sneakers Sneakers For Men',\n",
       " 'Kwik FIT casual sneaker shoes and partywear shoes Casua...',\n",
       " \"White Sneaker For Men's/Boy's Sneakers For Men\",\n",
       " 'Original Luxury Branded Black Fancy Casual Walking Part...',\n",
       " 'Stylish Comfortable Lightweight, Breathable Walking Sho...',\n",
       " 'Sneaker Sneakers For Men',\n",
       " 'First Choice Casual Shoes/Outdoors/Running Shoes/Attrac...',\n",
       " 'Combo Pack Of 4 Casual Shoes Loafer Shoes Sneakers For ...',\n",
       " \"Casual , Partywear Sneakers Shoes For Men's And Boys Wh...\",\n",
       " 'Blend Sneakers For Men',\n",
       " 'Sneakers For Men',\n",
       " 'Sneakers For Men',\n",
       " 'Series 7 Sneakers For Men',\n",
       " 'Super Stylish & Trendy Combo Pack of 02 Pairs Sneakers ...',\n",
       " 'Sneakers For Men',\n",
       " 'Lightweight Pack Of 1 Trendy Sneakers Sneakers For Men',\n",
       " 'Sneakers For Men',\n",
       " 'Sneakers For Men',\n",
       " 'Sneakers For Men',\n",
       " 'Men 192 Sneakers For Men',\n",
       " 'CR-1 Sneakers For Men',\n",
       " \"Casual , Partywear Sneakers Shoes For Men's And Boys Wh...\",\n",
       " 'STYLISH MENS BLACK SNEAKER Sneakers For Men',\n",
       " '516 Trendy Star Perfect Sneakers For Men',\n",
       " 'Sneakers For Men',\n",
       " '5011-Latest Collection Stylish & Trendy Casual Sneakers...',\n",
       " 'Modern Trendy Sneakers Shoes Sneakers For Men',\n",
       " 'Sneakers For Men',\n",
       " 'Sneakers For Men',\n",
       " '5013-Latest Collection Stylish & Trendy of casuals Snea...',\n",
       " \"Original Luxury Branded Fashionable Men's Casual Walkin...\",\n",
       " 'Sneakers For Men',\n",
       " 'CR-1 Sneakers For Men',\n",
       " 'Men 5014 Latest Collection Stylish Casual Sports Loafer...',\n",
       " 'Casuals, Canvas, Partywear Sneakers For Men',\n",
       " 'Sneakers For Men',\n",
       " 'Sneakers For Men',\n",
       " 'Perfect Combo Pack of 03 Pairs Casual Sneakers Outdoor ...',\n",
       " 'Sneakers Sneakers For Men',\n",
       " 'Kwik FIT casual sneaker shoes and partywear shoes Casua...',\n",
       " \"White Sneaker For Men's/Boy's Sneakers For Men\",\n",
       " 'Original Luxury Branded Black Fancy Casual Walking Part...',\n",
       " 'Stylish Comfortable Lightweight, Breathable Walking Sho...',\n",
       " 'Sneaker Sneakers For Men',\n",
       " 'First Choice Casual Shoes/Outdoors/Running Shoes/Attrac...',\n",
       " 'Combo Pack Of 4 Casual Shoes Loafer Shoes Sneakers For ...',\n",
       " \"Casual , Partywear Sneakers Shoes For Men's And Boys Wh...\",\n",
       " 'Blend Sneakers For Men',\n",
       " 'Sneakers For Men',\n",
       " 'Sneakers For Men',\n",
       " 'Series 7 Sneakers For Men',\n",
       " 'Super Stylish & Trendy Combo Pack of 02 Pairs Sneakers ...',\n",
       " 'Sneakers For Men',\n",
       " 'Lightweight Pack Of 1 Trendy Sneakers Sneakers For Men',\n",
       " 'Sneakers For Men',\n",
       " 'Sneakers For Men',\n",
       " 'Sneakers For Men']"
      ]
     },
     "execution_count": 231,
     "metadata": {},
     "output_type": "execute_result"
    }
   ],
   "source": [
    "for i in desc_tags3:\n",
    "    desc=i.text\n",
    "    prod_des3.append(desc)\n",
    "prod_des3"
   ]
  },
  {
   "cell_type": "code",
   "execution_count": 232,
   "id": "426f8bda",
   "metadata": {},
   "outputs": [
    {
     "data": {
      "text/plain": [
       "[<selenium.webdriver.remote.webelement.WebElement (session=\"8ab5699aeec1980614f75a95abbf727c\", element=\"6e6e956d-6268-41b2-ac86-2a5cb70507b5\")>,\n",
       " <selenium.webdriver.remote.webelement.WebElement (session=\"8ab5699aeec1980614f75a95abbf727c\", element=\"410cd9ae-95f9-48d9-9ff7-b0bf545b891d\")>,\n",
       " <selenium.webdriver.remote.webelement.WebElement (session=\"8ab5699aeec1980614f75a95abbf727c\", element=\"c5dec584-c2b3-45dd-8e0b-571223d2dcc5\")>,\n",
       " <selenium.webdriver.remote.webelement.WebElement (session=\"8ab5699aeec1980614f75a95abbf727c\", element=\"f0c2a90f-a0f4-416b-a953-dfca56848917\")>,\n",
       " <selenium.webdriver.remote.webelement.WebElement (session=\"8ab5699aeec1980614f75a95abbf727c\", element=\"64c18505-4de3-4d22-9a53-dd0f582632c5\")>,\n",
       " <selenium.webdriver.remote.webelement.WebElement (session=\"8ab5699aeec1980614f75a95abbf727c\", element=\"34e36699-553e-47be-863f-a7264a430014\")>,\n",
       " <selenium.webdriver.remote.webelement.WebElement (session=\"8ab5699aeec1980614f75a95abbf727c\", element=\"6a485ca8-fc89-40cc-84f1-67b6ec18578e\")>,\n",
       " <selenium.webdriver.remote.webelement.WebElement (session=\"8ab5699aeec1980614f75a95abbf727c\", element=\"74646dee-5260-4f68-849a-f56863a7eed1\")>,\n",
       " <selenium.webdriver.remote.webelement.WebElement (session=\"8ab5699aeec1980614f75a95abbf727c\", element=\"551d78ad-9da1-4654-a385-c72950272f0e\")>,\n",
       " <selenium.webdriver.remote.webelement.WebElement (session=\"8ab5699aeec1980614f75a95abbf727c\", element=\"e039a766-361a-401f-a49d-12f90bb71c40\")>,\n",
       " <selenium.webdriver.remote.webelement.WebElement (session=\"8ab5699aeec1980614f75a95abbf727c\", element=\"2af131d3-7c71-4c67-b34c-1c28c34d1bd1\")>,\n",
       " <selenium.webdriver.remote.webelement.WebElement (session=\"8ab5699aeec1980614f75a95abbf727c\", element=\"9c0c4267-9d56-4f6e-8203-9dcde44842bf\")>,\n",
       " <selenium.webdriver.remote.webelement.WebElement (session=\"8ab5699aeec1980614f75a95abbf727c\", element=\"62beb204-583d-47f8-90a6-e227dad8dabf\")>,\n",
       " <selenium.webdriver.remote.webelement.WebElement (session=\"8ab5699aeec1980614f75a95abbf727c\", element=\"88dedb84-d778-4487-8906-488b27af646f\")>,\n",
       " <selenium.webdriver.remote.webelement.WebElement (session=\"8ab5699aeec1980614f75a95abbf727c\", element=\"d2035946-3a72-4852-8857-11616cb6e309\")>,\n",
       " <selenium.webdriver.remote.webelement.WebElement (session=\"8ab5699aeec1980614f75a95abbf727c\", element=\"d04f5e16-5342-4c18-8aba-fa77ef4295cf\")>,\n",
       " <selenium.webdriver.remote.webelement.WebElement (session=\"8ab5699aeec1980614f75a95abbf727c\", element=\"ac78ec57-24be-43d4-b87c-f8f3741bc3a6\")>,\n",
       " <selenium.webdriver.remote.webelement.WebElement (session=\"8ab5699aeec1980614f75a95abbf727c\", element=\"97d64b8e-80a0-4445-a15d-6e8da823a834\")>,\n",
       " <selenium.webdriver.remote.webelement.WebElement (session=\"8ab5699aeec1980614f75a95abbf727c\", element=\"ef2f7ea2-5305-4a34-8255-a10531dee2c0\")>,\n",
       " <selenium.webdriver.remote.webelement.WebElement (session=\"8ab5699aeec1980614f75a95abbf727c\", element=\"ac1c7df8-8c9a-453e-823a-b8f9154290c0\")>,\n",
       " <selenium.webdriver.remote.webelement.WebElement (session=\"8ab5699aeec1980614f75a95abbf727c\", element=\"2bb38ac0-bc3e-4ff4-b420-03a298ffd046\")>,\n",
       " <selenium.webdriver.remote.webelement.WebElement (session=\"8ab5699aeec1980614f75a95abbf727c\", element=\"c3c4823d-5a4f-4073-af27-f2253ff617cd\")>,\n",
       " <selenium.webdriver.remote.webelement.WebElement (session=\"8ab5699aeec1980614f75a95abbf727c\", element=\"f53fbe04-c0cf-4899-abd8-5cf6e5a0d3df\")>,\n",
       " <selenium.webdriver.remote.webelement.WebElement (session=\"8ab5699aeec1980614f75a95abbf727c\", element=\"ff668c4f-5922-431f-829e-9bbda16b4811\")>,\n",
       " <selenium.webdriver.remote.webelement.WebElement (session=\"8ab5699aeec1980614f75a95abbf727c\", element=\"4185c667-794b-40fa-9643-90884d617c1f\")>,\n",
       " <selenium.webdriver.remote.webelement.WebElement (session=\"8ab5699aeec1980614f75a95abbf727c\", element=\"e851e1da-f2c1-4216-bccc-6cd3358f51f4\")>,\n",
       " <selenium.webdriver.remote.webelement.WebElement (session=\"8ab5699aeec1980614f75a95abbf727c\", element=\"7ffc84b2-ff2d-48ac-b62f-7329c1f516ed\")>,\n",
       " <selenium.webdriver.remote.webelement.WebElement (session=\"8ab5699aeec1980614f75a95abbf727c\", element=\"b491842d-18d7-4f1c-9a8c-68c4856df59e\")>,\n",
       " <selenium.webdriver.remote.webelement.WebElement (session=\"8ab5699aeec1980614f75a95abbf727c\", element=\"96b660c1-8ceb-4952-ac20-7acd72a58e45\")>,\n",
       " <selenium.webdriver.remote.webelement.WebElement (session=\"8ab5699aeec1980614f75a95abbf727c\", element=\"22230e21-a3c6-4598-8931-b5661810e749\")>,\n",
       " <selenium.webdriver.remote.webelement.WebElement (session=\"8ab5699aeec1980614f75a95abbf727c\", element=\"f84ed5a4-05fa-4969-a7e0-b73ebad0323a\")>,\n",
       " <selenium.webdriver.remote.webelement.WebElement (session=\"8ab5699aeec1980614f75a95abbf727c\", element=\"e104ee1b-db94-47af-a684-1bed693641c4\")>,\n",
       " <selenium.webdriver.remote.webelement.WebElement (session=\"8ab5699aeec1980614f75a95abbf727c\", element=\"f34066eb-a997-4fb8-ab40-92a14f4bea25\")>,\n",
       " <selenium.webdriver.remote.webelement.WebElement (session=\"8ab5699aeec1980614f75a95abbf727c\", element=\"3ceef390-7a89-4e8f-9aeb-fbd80e60d575\")>,\n",
       " <selenium.webdriver.remote.webelement.WebElement (session=\"8ab5699aeec1980614f75a95abbf727c\", element=\"9d2dcf25-175f-44a0-b4f4-05af9f91a2dc\")>,\n",
       " <selenium.webdriver.remote.webelement.WebElement (session=\"8ab5699aeec1980614f75a95abbf727c\", element=\"4340867d-fda0-4e12-853c-2b6863e59175\")>,\n",
       " <selenium.webdriver.remote.webelement.WebElement (session=\"8ab5699aeec1980614f75a95abbf727c\", element=\"f771815a-95a7-46d4-860f-2b74cd2cb845\")>,\n",
       " <selenium.webdriver.remote.webelement.WebElement (session=\"8ab5699aeec1980614f75a95abbf727c\", element=\"703cd278-30dd-4117-880d-84ebbff8e748\")>,\n",
       " <selenium.webdriver.remote.webelement.WebElement (session=\"8ab5699aeec1980614f75a95abbf727c\", element=\"a08fb0d8-eae2-40a4-bd11-61e60bd35fa7\")>,\n",
       " <selenium.webdriver.remote.webelement.WebElement (session=\"8ab5699aeec1980614f75a95abbf727c\", element=\"ea17eac0-b05a-4ffd-8c12-faff192ddb25\")>]"
      ]
     },
     "execution_count": 232,
     "metadata": {},
     "output_type": "execute_result"
    }
   ],
   "source": [
    "price_tags3=driver.find_elements_by_xpath(\"//div[@class='_30jeq3']\")\n",
    "price_tags3"
   ]
  },
  {
   "cell_type": "code",
   "execution_count": 233,
   "id": "39656d1e",
   "metadata": {},
   "outputs": [
    {
     "data": {
      "text/plain": [
       "['₹841',\n",
       " '₹233',\n",
       " '₹249',\n",
       " '₹449',\n",
       " '₹158',\n",
       " '₹209',\n",
       " '₹269',\n",
       " '₹1,069',\n",
       " '₹199',\n",
       " '₹249',\n",
       " '₹422',\n",
       " '₹2,149',\n",
       " '₹199',\n",
       " '₹499',\n",
       " '₹424',\n",
       " '₹233',\n",
       " '₹199',\n",
       " '₹421',\n",
       " '₹269',\n",
       " '₹1,181',\n",
       " '₹565',\n",
       " '₹348',\n",
       " '₹349',\n",
       " '₹349',\n",
       " '₹499',\n",
       " '₹301',\n",
       " '₹301',\n",
       " '₹699',\n",
       " '₹449',\n",
       " '₹384',\n",
       " '₹1,758',\n",
       " '₹399',\n",
       " '₹599',\n",
       " '₹421',\n",
       " '₹599',\n",
       " '₹399',\n",
       " '₹158',\n",
       " '₹399',\n",
       " '₹269',\n",
       " '₹399',\n",
       " '₹841',\n",
       " '₹233',\n",
       " '₹249',\n",
       " '₹449',\n",
       " '₹158',\n",
       " '₹209',\n",
       " '₹269',\n",
       " '₹1,069',\n",
       " '₹199',\n",
       " '₹249',\n",
       " '₹422',\n",
       " '₹2,149',\n",
       " '₹199',\n",
       " '₹499',\n",
       " '₹424',\n",
       " '₹233',\n",
       " '₹199',\n",
       " '₹421',\n",
       " '₹269',\n",
       " '₹1,181',\n",
       " '₹565',\n",
       " '₹348',\n",
       " '₹349',\n",
       " '₹349',\n",
       " '₹499',\n",
       " '₹301',\n",
       " '₹301',\n",
       " '₹699',\n",
       " '₹449',\n",
       " '₹384',\n",
       " '₹1,758',\n",
       " '₹399',\n",
       " '₹599',\n",
       " '₹421',\n",
       " '₹599',\n",
       " '₹399',\n",
       " '₹158',\n",
       " '₹399',\n",
       " '₹269',\n",
       " '₹399']"
      ]
     },
     "execution_count": 233,
     "metadata": {},
     "output_type": "execute_result"
    }
   ],
   "source": [
    "for i in price_tags3:\n",
    "    pri=i.text\n",
    "    price3.append(pri)\n",
    "price3"
   ]
  },
  {
   "cell_type": "code",
   "execution_count": 234,
   "id": "48ae5b12",
   "metadata": {},
   "outputs": [
    {
     "name": "stdout",
     "output_type": "stream",
     "text": [
      "40 76 80\n"
     ]
    }
   ],
   "source": [
    "print(len(brand_name3),len(prod_des3),len(price3))"
   ]
  },
  {
   "cell_type": "code",
   "execution_count": 236,
   "id": "4aec6372",
   "metadata": {},
   "outputs": [
    {
     "data": {
      "text/html": [
       "<div>\n",
       "<style scoped>\n",
       "    .dataframe tbody tr th:only-of-type {\n",
       "        vertical-align: middle;\n",
       "    }\n",
       "\n",
       "    .dataframe tbody tr th {\n",
       "        vertical-align: top;\n",
       "    }\n",
       "\n",
       "    .dataframe thead th {\n",
       "        text-align: right;\n",
       "    }\n",
       "</style>\n",
       "<table border=\"1\" class=\"dataframe\">\n",
       "  <thead>\n",
       "    <tr style=\"text-align: right;\">\n",
       "      <th></th>\n",
       "      <th>Brand Name</th>\n",
       "      <th>Prodect Description</th>\n",
       "      <th>Price</th>\n",
       "    </tr>\n",
       "  </thead>\n",
       "  <tbody>\n",
       "    <tr>\n",
       "      <th>0</th>\n",
       "      <td>SPARX</td>\n",
       "      <td>Men 192 Sneakers For Men</td>\n",
       "      <td>₹841</td>\n",
       "    </tr>\n",
       "    <tr>\n",
       "      <th>1</th>\n",
       "      <td>HOTSTYLE</td>\n",
       "      <td>CR-1 Sneakers For Men</td>\n",
       "      <td>₹233</td>\n",
       "    </tr>\n",
       "    <tr>\n",
       "      <th>2</th>\n",
       "      <td>D-SNEAKERZ</td>\n",
       "      <td>Casual , Partywear Sneakers Shoes For Men's An...</td>\n",
       "      <td>₹249</td>\n",
       "    </tr>\n",
       "    <tr>\n",
       "      <th>3</th>\n",
       "      <td>corsac</td>\n",
       "      <td>STYLISH MENS BLACK SNEAKER Sneakers For Men</td>\n",
       "      <td>₹449</td>\n",
       "    </tr>\n",
       "    <tr>\n",
       "      <th>4</th>\n",
       "      <td>URBANBOX</td>\n",
       "      <td>516 Trendy Star Perfect Sneakers For Men</td>\n",
       "      <td>₹158</td>\n",
       "    </tr>\n",
       "    <tr>\n",
       "      <th>5</th>\n",
       "      <td>Chevit</td>\n",
       "      <td>Sneakers For Men</td>\n",
       "      <td>₹209</td>\n",
       "    </tr>\n",
       "    <tr>\n",
       "      <th>6</th>\n",
       "      <td>aadi</td>\n",
       "      <td>5011-Latest Collection Stylish &amp; Trendy Casual...</td>\n",
       "      <td>₹269</td>\n",
       "    </tr>\n",
       "    <tr>\n",
       "      <th>7</th>\n",
       "      <td>SPARX</td>\n",
       "      <td>Modern Trendy Sneakers Shoes Sneakers For Men</td>\n",
       "      <td>₹1,069</td>\n",
       "    </tr>\n",
       "    <tr>\n",
       "      <th>8</th>\n",
       "      <td>World Wear Footwear</td>\n",
       "      <td>Sneakers For Men</td>\n",
       "      <td>₹199</td>\n",
       "    </tr>\n",
       "    <tr>\n",
       "      <th>9</th>\n",
       "      <td>BRUTON</td>\n",
       "      <td>Sneakers For Men</td>\n",
       "      <td>₹249</td>\n",
       "    </tr>\n",
       "    <tr>\n",
       "      <th>10</th>\n",
       "      <td>Magnolia</td>\n",
       "      <td>5013-Latest Collection Stylish &amp; Trendy of cas...</td>\n",
       "      <td>₹422</td>\n",
       "    </tr>\n",
       "    <tr>\n",
       "      <th>11</th>\n",
       "      <td>HRX by Hrithik Roshan</td>\n",
       "      <td>Original Luxury Branded Fashionable Men's Casu...</td>\n",
       "      <td>₹2,149</td>\n",
       "    </tr>\n",
       "    <tr>\n",
       "      <th>12</th>\n",
       "      <td>World Wear Footwear</td>\n",
       "      <td>Sneakers For Men</td>\n",
       "      <td>₹199</td>\n",
       "    </tr>\n",
       "    <tr>\n",
       "      <th>13</th>\n",
       "      <td>ASTEROID</td>\n",
       "      <td>CR-1 Sneakers For Men</td>\n",
       "      <td>₹499</td>\n",
       "    </tr>\n",
       "    <tr>\n",
       "      <th>14</th>\n",
       "      <td>Labbin</td>\n",
       "      <td>Men 5014 Latest Collection Stylish Casual Spor...</td>\n",
       "      <td>₹424</td>\n",
       "    </tr>\n",
       "    <tr>\n",
       "      <th>15</th>\n",
       "      <td>HOTSTYLE</td>\n",
       "      <td>Casuals, Canvas, Partywear Sneakers For Men</td>\n",
       "      <td>₹233</td>\n",
       "    </tr>\n",
       "    <tr>\n",
       "      <th>16</th>\n",
       "      <td>World Wear Footwear</td>\n",
       "      <td>Sneakers For Men</td>\n",
       "      <td>₹199</td>\n",
       "    </tr>\n",
       "    <tr>\n",
       "      <th>17</th>\n",
       "      <td>Kraasa</td>\n",
       "      <td>Sneakers For Men</td>\n",
       "      <td>₹421</td>\n",
       "    </tr>\n",
       "    <tr>\n",
       "      <th>18</th>\n",
       "      <td>aadi</td>\n",
       "      <td>Perfect Combo Pack of 03 Pairs Casual Sneakers...</td>\n",
       "      <td>₹269</td>\n",
       "    </tr>\n",
       "    <tr>\n",
       "      <th>19</th>\n",
       "      <td>Roadster</td>\n",
       "      <td>Sneakers Sneakers For Men</td>\n",
       "      <td>₹1,181</td>\n",
       "    </tr>\n",
       "    <tr>\n",
       "      <th>20</th>\n",
       "      <td>Chevit</td>\n",
       "      <td>Kwik FIT casual sneaker shoes and partywear sh...</td>\n",
       "      <td>₹565</td>\n",
       "    </tr>\n",
       "    <tr>\n",
       "      <th>21</th>\n",
       "      <td>SCATCHITE</td>\n",
       "      <td>White Sneaker For Men's/Boy's Sneakers For Men</td>\n",
       "      <td>₹348</td>\n",
       "    </tr>\n",
       "    <tr>\n",
       "      <th>22</th>\n",
       "      <td>KWIK FIT</td>\n",
       "      <td>Original Luxury Branded Black Fancy Casual Wal...</td>\n",
       "      <td>₹349</td>\n",
       "    </tr>\n",
       "    <tr>\n",
       "      <th>23</th>\n",
       "      <td>Shoes Bank</td>\n",
       "      <td>Stylish Comfortable Lightweight, Breathable Wa...</td>\n",
       "      <td>₹349</td>\n",
       "    </tr>\n",
       "    <tr>\n",
       "      <th>24</th>\n",
       "      <td>ASTEROID</td>\n",
       "      <td>Sneaker Sneakers For Men</td>\n",
       "      <td>₹499</td>\n",
       "    </tr>\n",
       "    <tr>\n",
       "      <th>25</th>\n",
       "      <td>BIRDE</td>\n",
       "      <td>First Choice Casual Shoes/Outdoors/Running Sho...</td>\n",
       "      <td>₹301</td>\n",
       "    </tr>\n",
       "    <tr>\n",
       "      <th>26</th>\n",
       "      <td>BRUTON</td>\n",
       "      <td>Combo Pack Of 4 Casual Shoes Loafer Shoes Snea...</td>\n",
       "      <td>₹301</td>\n",
       "    </tr>\n",
       "    <tr>\n",
       "      <th>27</th>\n",
       "      <td>Brucharm</td>\n",
       "      <td>Casual , Partywear Sneakers Shoes For Men's An...</td>\n",
       "      <td>₹699</td>\n",
       "    </tr>\n",
       "    <tr>\n",
       "      <th>28</th>\n",
       "      <td>BRUTON</td>\n",
       "      <td>Blend Sneakers For Men</td>\n",
       "      <td>₹449</td>\n",
       "    </tr>\n",
       "    <tr>\n",
       "      <th>29</th>\n",
       "      <td>D-SNEAKERZ</td>\n",
       "      <td>Sneakers For Men</td>\n",
       "      <td>₹384</td>\n",
       "    </tr>\n",
       "    <tr>\n",
       "      <th>30</th>\n",
       "      <td>PUMA</td>\n",
       "      <td>Sneakers For Men</td>\n",
       "      <td>₹1,758</td>\n",
       "    </tr>\n",
       "    <tr>\n",
       "      <th>31</th>\n",
       "      <td>Layasa</td>\n",
       "      <td>Series 7 Sneakers For Men</td>\n",
       "      <td>₹399</td>\n",
       "    </tr>\n",
       "    <tr>\n",
       "      <th>32</th>\n",
       "      <td>CLYMB</td>\n",
       "      <td>Super Stylish &amp; Trendy Combo Pack of 02 Pairs ...</td>\n",
       "      <td>₹599</td>\n",
       "    </tr>\n",
       "    <tr>\n",
       "      <th>33</th>\n",
       "      <td>Kraasa</td>\n",
       "      <td>Sneakers For Men</td>\n",
       "      <td>₹421</td>\n",
       "    </tr>\n",
       "    <tr>\n",
       "      <th>34</th>\n",
       "      <td>Chevit</td>\n",
       "      <td>Lightweight Pack Of 1 Trendy Sneakers Sneakers...</td>\n",
       "      <td>₹599</td>\n",
       "    </tr>\n",
       "    <tr>\n",
       "      <th>35</th>\n",
       "      <td>Layasa</td>\n",
       "      <td>Sneakers For Men</td>\n",
       "      <td>₹399</td>\n",
       "    </tr>\n",
       "    <tr>\n",
       "      <th>36</th>\n",
       "      <td>BRUTON</td>\n",
       "      <td>Sneakers For Men</td>\n",
       "      <td>₹158</td>\n",
       "    </tr>\n",
       "    <tr>\n",
       "      <th>37</th>\n",
       "      <td>Layasa</td>\n",
       "      <td>Sneakers For Men</td>\n",
       "      <td>₹399</td>\n",
       "    </tr>\n",
       "    <tr>\n",
       "      <th>38</th>\n",
       "      <td>aadi</td>\n",
       "      <td>Men 192 Sneakers For Men</td>\n",
       "      <td>₹269</td>\n",
       "    </tr>\n",
       "    <tr>\n",
       "      <th>39</th>\n",
       "      <td>Layasa</td>\n",
       "      <td>CR-1 Sneakers For Men</td>\n",
       "      <td>₹399</td>\n",
       "    </tr>\n",
       "  </tbody>\n",
       "</table>\n",
       "</div>"
      ],
      "text/plain": [
       "               Brand Name                                Prodect Description  \\\n",
       "0                   SPARX                           Men 192 Sneakers For Men   \n",
       "1                HOTSTYLE                              CR-1 Sneakers For Men   \n",
       "2              D-SNEAKERZ  Casual , Partywear Sneakers Shoes For Men's An...   \n",
       "3                  corsac        STYLISH MENS BLACK SNEAKER Sneakers For Men   \n",
       "4                URBANBOX           516 Trendy Star Perfect Sneakers For Men   \n",
       "5                  Chevit                                   Sneakers For Men   \n",
       "6                    aadi  5011-Latest Collection Stylish & Trendy Casual...   \n",
       "7                   SPARX      Modern Trendy Sneakers Shoes Sneakers For Men   \n",
       "8     World Wear Footwear                                   Sneakers For Men   \n",
       "9                  BRUTON                                   Sneakers For Men   \n",
       "10               Magnolia  5013-Latest Collection Stylish & Trendy of cas...   \n",
       "11  HRX by Hrithik Roshan  Original Luxury Branded Fashionable Men's Casu...   \n",
       "12    World Wear Footwear                                   Sneakers For Men   \n",
       "13               ASTEROID                              CR-1 Sneakers For Men   \n",
       "14                 Labbin  Men 5014 Latest Collection Stylish Casual Spor...   \n",
       "15               HOTSTYLE        Casuals, Canvas, Partywear Sneakers For Men   \n",
       "16    World Wear Footwear                                   Sneakers For Men   \n",
       "17                 Kraasa                                   Sneakers For Men   \n",
       "18                   aadi  Perfect Combo Pack of 03 Pairs Casual Sneakers...   \n",
       "19               Roadster                          Sneakers Sneakers For Men   \n",
       "20                 Chevit  Kwik FIT casual sneaker shoes and partywear sh...   \n",
       "21              SCATCHITE     White Sneaker For Men's/Boy's Sneakers For Men   \n",
       "22               KWIK FIT  Original Luxury Branded Black Fancy Casual Wal...   \n",
       "23             Shoes Bank  Stylish Comfortable Lightweight, Breathable Wa...   \n",
       "24               ASTEROID                           Sneaker Sneakers For Men   \n",
       "25                  BIRDE  First Choice Casual Shoes/Outdoors/Running Sho...   \n",
       "26                 BRUTON  Combo Pack Of 4 Casual Shoes Loafer Shoes Snea...   \n",
       "27               Brucharm  Casual , Partywear Sneakers Shoes For Men's An...   \n",
       "28                 BRUTON                             Blend Sneakers For Men   \n",
       "29             D-SNEAKERZ                                   Sneakers For Men   \n",
       "30                   PUMA                                   Sneakers For Men   \n",
       "31                 Layasa                          Series 7 Sneakers For Men   \n",
       "32                  CLYMB  Super Stylish & Trendy Combo Pack of 02 Pairs ...   \n",
       "33                 Kraasa                                   Sneakers For Men   \n",
       "34                 Chevit  Lightweight Pack Of 1 Trendy Sneakers Sneakers...   \n",
       "35                 Layasa                                   Sneakers For Men   \n",
       "36                 BRUTON                                   Sneakers For Men   \n",
       "37                 Layasa                                   Sneakers For Men   \n",
       "38                   aadi                           Men 192 Sneakers For Men   \n",
       "39                 Layasa                              CR-1 Sneakers For Men   \n",
       "\n",
       "     Price  \n",
       "0     ₹841  \n",
       "1     ₹233  \n",
       "2     ₹249  \n",
       "3     ₹449  \n",
       "4     ₹158  \n",
       "5     ₹209  \n",
       "6     ₹269  \n",
       "7   ₹1,069  \n",
       "8     ₹199  \n",
       "9     ₹249  \n",
       "10    ₹422  \n",
       "11  ₹2,149  \n",
       "12    ₹199  \n",
       "13    ₹499  \n",
       "14    ₹424  \n",
       "15    ₹233  \n",
       "16    ₹199  \n",
       "17    ₹421  \n",
       "18    ₹269  \n",
       "19  ₹1,181  \n",
       "20    ₹565  \n",
       "21    ₹348  \n",
       "22    ₹349  \n",
       "23    ₹349  \n",
       "24    ₹499  \n",
       "25    ₹301  \n",
       "26    ₹301  \n",
       "27    ₹699  \n",
       "28    ₹449  \n",
       "29    ₹384  \n",
       "30  ₹1,758  \n",
       "31    ₹399  \n",
       "32    ₹599  \n",
       "33    ₹421  \n",
       "34    ₹599  \n",
       "35    ₹399  \n",
       "36    ₹158  \n",
       "37    ₹399  \n",
       "38    ₹269  \n",
       "39    ₹399  "
      ]
     },
     "execution_count": 236,
     "metadata": {},
     "output_type": "execute_result"
    }
   ],
   "source": [
    "sneakers=pd.DataFrame({'Brand Name':brand_name3,\"Prodect Description\":prod_des3[0:40],\"Price\":price3[0:40]})\n",
    "sneakers"
   ]
  },
  {
   "cell_type": "markdown",
   "id": "7a0cd228",
   "metadata": {},
   "source": [
    "for next 40 sneakres"
   ]
  },
  {
   "cell_type": "code",
   "execution_count": 237,
   "id": "1a0e6edd",
   "metadata": {},
   "outputs": [],
   "source": [
    "next_button=driver.find_element_by_xpath(\"/html/body/div[1]/div/div[3]/div[1]/div[2]/div[12]/div/div/nav/a[11]/span\")\n",
    "next_button.click()"
   ]
  },
  {
   "cell_type": "code",
   "execution_count": 238,
   "id": "6dbf0b50",
   "metadata": {},
   "outputs": [],
   "source": [
    "brand_name31=[]\n",
    "prod_des31=[]\n",
    "price31=[]"
   ]
  },
  {
   "cell_type": "code",
   "execution_count": 239,
   "id": "cfc36aef",
   "metadata": {},
   "outputs": [
    {
     "data": {
      "text/plain": [
       "[<selenium.webdriver.remote.webelement.WebElement (session=\"8ab5699aeec1980614f75a95abbf727c\", element=\"5d638640-e865-4e24-95cd-281caab2273a\")>,\n",
       " <selenium.webdriver.remote.webelement.WebElement (session=\"8ab5699aeec1980614f75a95abbf727c\", element=\"6d7e8748-a78f-4de2-9890-4ebff215d2b1\")>,\n",
       " <selenium.webdriver.remote.webelement.WebElement (session=\"8ab5699aeec1980614f75a95abbf727c\", element=\"fa565f47-7220-41d7-8ae5-ebe4f0018e27\")>,\n",
       " <selenium.webdriver.remote.webelement.WebElement (session=\"8ab5699aeec1980614f75a95abbf727c\", element=\"08f04807-f2b6-4752-bc19-d811a88e7a3e\")>,\n",
       " <selenium.webdriver.remote.webelement.WebElement (session=\"8ab5699aeec1980614f75a95abbf727c\", element=\"1658e17d-04d9-4554-85d5-a19afbf94794\")>,\n",
       " <selenium.webdriver.remote.webelement.WebElement (session=\"8ab5699aeec1980614f75a95abbf727c\", element=\"f2d1f6eb-e1fd-4f6f-b67f-f9d8084e5740\")>,\n",
       " <selenium.webdriver.remote.webelement.WebElement (session=\"8ab5699aeec1980614f75a95abbf727c\", element=\"93736183-9716-4f3c-92ba-b9c10afb04e5\")>,\n",
       " <selenium.webdriver.remote.webelement.WebElement (session=\"8ab5699aeec1980614f75a95abbf727c\", element=\"9f6c2162-2a3f-4c93-b0d0-5edeb059afc1\")>,\n",
       " <selenium.webdriver.remote.webelement.WebElement (session=\"8ab5699aeec1980614f75a95abbf727c\", element=\"121f1944-912d-483a-925f-66b1349f0a8b\")>,\n",
       " <selenium.webdriver.remote.webelement.WebElement (session=\"8ab5699aeec1980614f75a95abbf727c\", element=\"bcc93f93-d683-4cbc-a000-520f9d702bc1\")>,\n",
       " <selenium.webdriver.remote.webelement.WebElement (session=\"8ab5699aeec1980614f75a95abbf727c\", element=\"5ef9ab95-e9a6-48a2-9dec-269cf654bf85\")>,\n",
       " <selenium.webdriver.remote.webelement.WebElement (session=\"8ab5699aeec1980614f75a95abbf727c\", element=\"9288ea37-89cd-4e65-87ed-2aa18ec98dc4\")>,\n",
       " <selenium.webdriver.remote.webelement.WebElement (session=\"8ab5699aeec1980614f75a95abbf727c\", element=\"36041b2f-5749-4743-9084-e445d34f14dc\")>,\n",
       " <selenium.webdriver.remote.webelement.WebElement (session=\"8ab5699aeec1980614f75a95abbf727c\", element=\"c79c2c31-a2ad-4c20-9c20-5a268c226ea1\")>,\n",
       " <selenium.webdriver.remote.webelement.WebElement (session=\"8ab5699aeec1980614f75a95abbf727c\", element=\"dc45ddfa-2528-4e46-96ad-afc2211b9269\")>,\n",
       " <selenium.webdriver.remote.webelement.WebElement (session=\"8ab5699aeec1980614f75a95abbf727c\", element=\"3fe9df83-da5d-45a4-bf95-9d8bbd6dcd0a\")>,\n",
       " <selenium.webdriver.remote.webelement.WebElement (session=\"8ab5699aeec1980614f75a95abbf727c\", element=\"e9ceeff9-4290-44e0-b1fa-bf5749792d24\")>,\n",
       " <selenium.webdriver.remote.webelement.WebElement (session=\"8ab5699aeec1980614f75a95abbf727c\", element=\"2ee6b59a-0708-46f9-8f0c-ad2e723d4412\")>,\n",
       " <selenium.webdriver.remote.webelement.WebElement (session=\"8ab5699aeec1980614f75a95abbf727c\", element=\"f71674a8-1c88-477b-b204-41b459cf79e1\")>,\n",
       " <selenium.webdriver.remote.webelement.WebElement (session=\"8ab5699aeec1980614f75a95abbf727c\", element=\"c2adeff2-71fb-4c32-b724-53568f8538bd\")>,\n",
       " <selenium.webdriver.remote.webelement.WebElement (session=\"8ab5699aeec1980614f75a95abbf727c\", element=\"1965d340-381b-44c9-a172-0e077c419ec2\")>,\n",
       " <selenium.webdriver.remote.webelement.WebElement (session=\"8ab5699aeec1980614f75a95abbf727c\", element=\"eeb4578c-1368-4ffb-be42-9468e0004f31\")>,\n",
       " <selenium.webdriver.remote.webelement.WebElement (session=\"8ab5699aeec1980614f75a95abbf727c\", element=\"5f9706c4-dc19-48da-a798-eda1f28115d2\")>,\n",
       " <selenium.webdriver.remote.webelement.WebElement (session=\"8ab5699aeec1980614f75a95abbf727c\", element=\"d3adbd9a-7012-48ae-a5d3-1ad8b06c65ae\")>,\n",
       " <selenium.webdriver.remote.webelement.WebElement (session=\"8ab5699aeec1980614f75a95abbf727c\", element=\"cb6f9022-b9c0-41ff-9e89-6d79c7ae0af6\")>,\n",
       " <selenium.webdriver.remote.webelement.WebElement (session=\"8ab5699aeec1980614f75a95abbf727c\", element=\"542bfa55-1a43-4116-8d4a-18a4ffc4ab26\")>,\n",
       " <selenium.webdriver.remote.webelement.WebElement (session=\"8ab5699aeec1980614f75a95abbf727c\", element=\"ff4f0bfc-68a4-4435-88d6-b080a736fb33\")>,\n",
       " <selenium.webdriver.remote.webelement.WebElement (session=\"8ab5699aeec1980614f75a95abbf727c\", element=\"18973d7f-44b3-4dcd-9ccf-16c3867a66ef\")>,\n",
       " <selenium.webdriver.remote.webelement.WebElement (session=\"8ab5699aeec1980614f75a95abbf727c\", element=\"91f98123-3f06-4559-8a9c-2335d219c546\")>,\n",
       " <selenium.webdriver.remote.webelement.WebElement (session=\"8ab5699aeec1980614f75a95abbf727c\", element=\"1fa6c44e-dd28-4089-bf76-acb48b87a2cb\")>,\n",
       " <selenium.webdriver.remote.webelement.WebElement (session=\"8ab5699aeec1980614f75a95abbf727c\", element=\"8e8a063c-6ec7-48dc-b6af-49f40b7df545\")>,\n",
       " <selenium.webdriver.remote.webelement.WebElement (session=\"8ab5699aeec1980614f75a95abbf727c\", element=\"60f4fad4-fb77-46f9-99a2-88e36660f870\")>,\n",
       " <selenium.webdriver.remote.webelement.WebElement (session=\"8ab5699aeec1980614f75a95abbf727c\", element=\"34f87171-b4b5-41c6-803f-fc3947e57270\")>,\n",
       " <selenium.webdriver.remote.webelement.WebElement (session=\"8ab5699aeec1980614f75a95abbf727c\", element=\"c651a744-8fba-4df5-a12f-3b936ae4927f\")>,\n",
       " <selenium.webdriver.remote.webelement.WebElement (session=\"8ab5699aeec1980614f75a95abbf727c\", element=\"e576773d-af28-4028-a1af-48822ab45cf2\")>,\n",
       " <selenium.webdriver.remote.webelement.WebElement (session=\"8ab5699aeec1980614f75a95abbf727c\", element=\"81f8bbad-d80e-4e63-8d3e-1e7d4dec1b21\")>,\n",
       " <selenium.webdriver.remote.webelement.WebElement (session=\"8ab5699aeec1980614f75a95abbf727c\", element=\"80697918-1f48-4fd7-a4ee-6a5d6696c0d7\")>,\n",
       " <selenium.webdriver.remote.webelement.WebElement (session=\"8ab5699aeec1980614f75a95abbf727c\", element=\"71b4c386-63f6-4b1a-90c6-bc38271690c8\")>,\n",
       " <selenium.webdriver.remote.webelement.WebElement (session=\"8ab5699aeec1980614f75a95abbf727c\", element=\"be4ea05c-c8b3-4811-8183-fb438680c558\")>,\n",
       " <selenium.webdriver.remote.webelement.WebElement (session=\"8ab5699aeec1980614f75a95abbf727c\", element=\"8b2b4efd-c03c-4700-8450-f8617e7d5fe6\")>]"
      ]
     },
     "execution_count": 239,
     "metadata": {},
     "output_type": "execute_result"
    }
   ],
   "source": [
    "name_tag31=driver.find_elements_by_xpath(\"//div[@class='_2WkVRV']\")\n",
    "name_tag31"
   ]
  },
  {
   "cell_type": "code",
   "execution_count": 240,
   "id": "cebb559b",
   "metadata": {},
   "outputs": [
    {
     "data": {
      "text/plain": [
       "['Layasa',\n",
       " 'corsac',\n",
       " 'Chevit',\n",
       " 'HRX by Hrithik Roshan',\n",
       " 'World Wear Footwear',\n",
       " 'bluemaker',\n",
       " 'Rzisbo',\n",
       " 'SPARX',\n",
       " 'BIRDE',\n",
       " 'BRUTON',\n",
       " 'Zsyto',\n",
       " 'GVR',\n",
       " 'Hida',\n",
       " 'Echor',\n",
       " 'Chevit',\n",
       " 'aRICS',\n",
       " 'Chevit',\n",
       " 'kardam&sons',\n",
       " 'Arohi',\n",
       " 'DUCATI',\n",
       " 'Kraasa',\n",
       " 'Chevit',\n",
       " 'KNIGHT WALKERS',\n",
       " 'SPARX',\n",
       " 'Echor',\n",
       " 'BIRDE',\n",
       " 'Robbie jones',\n",
       " 'SPARX',\n",
       " 'WHITE WALKERS',\n",
       " 'LuvShus',\n",
       " 'Magnolia',\n",
       " 'New LImits',\n",
       " 'WHITE WALKERS',\n",
       " 'Chevit',\n",
       " 'ZF - ALFIYA',\n",
       " 'SPARX',\n",
       " 'BRUTON',\n",
       " 'EMPTILE',\n",
       " 'BIRDE',\n",
       " 'BIRDE']"
      ]
     },
     "execution_count": 240,
     "metadata": {},
     "output_type": "execute_result"
    }
   ],
   "source": [
    "for i in name_tag31:\n",
    "    name=i.text\n",
    "    brand_name31.append(name)\n",
    "brand_name31"
   ]
  },
  {
   "cell_type": "code",
   "execution_count": 248,
   "id": "0ce89cee",
   "metadata": {},
   "outputs": [
    {
     "data": {
      "text/plain": [
       "[<selenium.webdriver.remote.webelement.WebElement (session=\"8ab5699aeec1980614f75a95abbf727c\", element=\"d9b3e99a-efc2-4c90-8eeb-b9fe847d58e9\")>,\n",
       " <selenium.webdriver.remote.webelement.WebElement (session=\"8ab5699aeec1980614f75a95abbf727c\", element=\"f5aa2efe-f3f4-4a52-80f2-2b6f74416098\")>,\n",
       " <selenium.webdriver.remote.webelement.WebElement (session=\"8ab5699aeec1980614f75a95abbf727c\", element=\"f3a0e212-814d-49d2-a65c-160374845bdc\")>,\n",
       " <selenium.webdriver.remote.webelement.WebElement (session=\"8ab5699aeec1980614f75a95abbf727c\", element=\"e6e8088a-055c-4b2e-b02c-0798793155a4\")>,\n",
       " <selenium.webdriver.remote.webelement.WebElement (session=\"8ab5699aeec1980614f75a95abbf727c\", element=\"c490298b-8155-457a-b04a-4ae4bb477265\")>,\n",
       " <selenium.webdriver.remote.webelement.WebElement (session=\"8ab5699aeec1980614f75a95abbf727c\", element=\"e29a26ad-daf2-4e25-8cdf-897537e955a7\")>,\n",
       " <selenium.webdriver.remote.webelement.WebElement (session=\"8ab5699aeec1980614f75a95abbf727c\", element=\"02e34950-9d17-4252-82ed-bf17f826e764\")>,\n",
       " <selenium.webdriver.remote.webelement.WebElement (session=\"8ab5699aeec1980614f75a95abbf727c\", element=\"e3caa7eb-dedf-49da-9c52-c1db1c6fd841\")>,\n",
       " <selenium.webdriver.remote.webelement.WebElement (session=\"8ab5699aeec1980614f75a95abbf727c\", element=\"c9005da2-7f5d-4f47-83c8-4811ad8bfed5\")>,\n",
       " <selenium.webdriver.remote.webelement.WebElement (session=\"8ab5699aeec1980614f75a95abbf727c\", element=\"a12085f4-a721-4ab0-b213-13eba7a12be0\")>,\n",
       " <selenium.webdriver.remote.webelement.WebElement (session=\"8ab5699aeec1980614f75a95abbf727c\", element=\"f478d566-e2ec-4f4e-b579-b1791431060d\")>,\n",
       " <selenium.webdriver.remote.webelement.WebElement (session=\"8ab5699aeec1980614f75a95abbf727c\", element=\"0ad2ca9f-8f10-4b7a-9d40-8fdb8b29c925\")>,\n",
       " <selenium.webdriver.remote.webelement.WebElement (session=\"8ab5699aeec1980614f75a95abbf727c\", element=\"c0da959c-dd41-4522-942b-e96713dd3d9f\")>,\n",
       " <selenium.webdriver.remote.webelement.WebElement (session=\"8ab5699aeec1980614f75a95abbf727c\", element=\"e6878c31-645b-42e1-a75c-72b462d56c67\")>,\n",
       " <selenium.webdriver.remote.webelement.WebElement (session=\"8ab5699aeec1980614f75a95abbf727c\", element=\"181f4a4d-8ed8-4302-9e5b-511442d40b4b\")>,\n",
       " <selenium.webdriver.remote.webelement.WebElement (session=\"8ab5699aeec1980614f75a95abbf727c\", element=\"69164620-accd-43e5-a5f8-eb01fc77bfeb\")>,\n",
       " <selenium.webdriver.remote.webelement.WebElement (session=\"8ab5699aeec1980614f75a95abbf727c\", element=\"6d2af3dd-0484-4115-a23e-9746348121c4\")>,\n",
       " <selenium.webdriver.remote.webelement.WebElement (session=\"8ab5699aeec1980614f75a95abbf727c\", element=\"52db256f-3e14-49ca-b033-c7084d51780f\")>,\n",
       " <selenium.webdriver.remote.webelement.WebElement (session=\"8ab5699aeec1980614f75a95abbf727c\", element=\"399e5b07-3bd4-44fe-a8e2-34dd465b1517\")>,\n",
       " <selenium.webdriver.remote.webelement.WebElement (session=\"8ab5699aeec1980614f75a95abbf727c\", element=\"66489813-a882-4c8d-98df-56a5eae72409\")>,\n",
       " <selenium.webdriver.remote.webelement.WebElement (session=\"8ab5699aeec1980614f75a95abbf727c\", element=\"7a1305de-062d-49e1-8e3c-0d7af77dd880\")>,\n",
       " <selenium.webdriver.remote.webelement.WebElement (session=\"8ab5699aeec1980614f75a95abbf727c\", element=\"83343e63-6815-4668-98ec-0f71b7f48499\")>,\n",
       " <selenium.webdriver.remote.webelement.WebElement (session=\"8ab5699aeec1980614f75a95abbf727c\", element=\"8a80d698-0918-4ca5-9ce2-6bfcb94f6faa\")>,\n",
       " <selenium.webdriver.remote.webelement.WebElement (session=\"8ab5699aeec1980614f75a95abbf727c\", element=\"ec49245e-1fc6-41f9-91eb-b5073094845e\")>,\n",
       " <selenium.webdriver.remote.webelement.WebElement (session=\"8ab5699aeec1980614f75a95abbf727c\", element=\"e9f7c91e-f6eb-48a5-952f-24a9a9d46d06\")>,\n",
       " <selenium.webdriver.remote.webelement.WebElement (session=\"8ab5699aeec1980614f75a95abbf727c\", element=\"a90f8b08-a413-4085-92fe-fb998955288d\")>,\n",
       " <selenium.webdriver.remote.webelement.WebElement (session=\"8ab5699aeec1980614f75a95abbf727c\", element=\"efff1bad-2cdc-425c-87c2-a4d50b658678\")>,\n",
       " <selenium.webdriver.remote.webelement.WebElement (session=\"8ab5699aeec1980614f75a95abbf727c\", element=\"e4a9057b-55da-4572-a922-a11297c9cb52\")>,\n",
       " <selenium.webdriver.remote.webelement.WebElement (session=\"8ab5699aeec1980614f75a95abbf727c\", element=\"b0126d85-0b95-45fe-9e3c-4725ed06632f\")>,\n",
       " <selenium.webdriver.remote.webelement.WebElement (session=\"8ab5699aeec1980614f75a95abbf727c\", element=\"7ab1e9cf-2e4e-486c-b325-158edba2faa9\")>,\n",
       " <selenium.webdriver.remote.webelement.WebElement (session=\"8ab5699aeec1980614f75a95abbf727c\", element=\"ef587529-5c5a-4b5b-b17c-93a52f6c88f3\")>]"
      ]
     },
     "execution_count": 248,
     "metadata": {},
     "output_type": "execute_result"
    }
   ],
   "source": [
    "desc_tags31=driver.find_elements_by_xpath(\"//a[@class='IRpwTa']\")\n",
    "desc_tags31"
   ]
  },
  {
   "cell_type": "code",
   "execution_count": 249,
   "id": "e8dbdcb1",
   "metadata": {},
   "outputs": [
    {
     "data": {
      "text/plain": [
       "['Sneakers For Men',\n",
       " 'Sneakers For Men',\n",
       " 'Sneakers For Men',\n",
       " 'Latest Collection-1227 Stylish Casual Sports Sneakers F...',\n",
       " 'casual for men Sneakers For Men',\n",
       " 'Sneakers For Men',\n",
       " 'SM-162 Sneakers For Men',\n",
       " 'Stylish Comfortable Lightweight, Breathable Walking Sho...',\n",
       " 'Lattest Sneakers Shoe Sneakers For Men',\n",
       " \"Men's Sneakers Fashion Lightweight Running Shoes Tennis...\",\n",
       " 'Super 445 Fashion Sneakers For Men',\n",
       " 'casual sneaker shoes for men luxury fashion casual snea...',\n",
       " 'Sneakers For Men',\n",
       " 'Sneakers For Men',\n",
       " 'Perfect & Affordable Combo Pack of 02 Pairs Sneakers Ou...',\n",
       " 'Sneakers For Men',\n",
       " \"Men's Sneakers Fashion Lightweight Running Shoes Tennis...\",\n",
       " 'Sports Running Shoes Sneakers For Men',\n",
       " 'Sneakers For Men',\n",
       " 'SM323 Sneakers For Men',\n",
       " 'Stylish & Trending Outdoor Walking Comfortable Sneakers...',\n",
       " 'Men Casual Shoe New Trend With Fashion Panda Desgined L...',\n",
       " 'Sneakers For Men',\n",
       " 'Stylish & Trending Outdoor Walking Comfortable Sneakers...',\n",
       " 'CH-527 Trendy Star Perfect Casuals Sneakers For Men',\n",
       " 'Sneakers For Men',\n",
       " '9019 Sneakers For Men',\n",
       " 'Lightweight Pack Of 1 Trendy Sneakers Sneakers Sneakers...',\n",
       " 'all white heartbeat casual shoe Sneakers For Men',\n",
       " 'Stylish Comfortable Lightweight, Breathable Walking Sho...',\n",
       " 'Stylish Comfortable Lightweight, Breathable Walking Sho...',\n",
       " 'Sneakers For Men',\n",
       " 'Sneakers For Men',\n",
       " 'Sneakers For Men',\n",
       " 'Latest Collection-1227 Stylish Casual Sports Sneakers F...',\n",
       " 'casual for men Sneakers For Men',\n",
       " 'Sneakers For Men',\n",
       " 'SM-162 Sneakers For Men',\n",
       " 'Stylish Comfortable Lightweight, Breathable Walking Sho...',\n",
       " 'Lattest Sneakers Shoe Sneakers For Men',\n",
       " \"Men's Sneakers Fashion Lightweight Running Shoes Tennis...\",\n",
       " 'Super 445 Fashion Sneakers For Men',\n",
       " 'casual sneaker shoes for men luxury fashion casual snea...',\n",
       " 'Sneakers For Men',\n",
       " 'Sneakers For Men',\n",
       " 'Perfect & Affordable Combo Pack of 02 Pairs Sneakers Ou...',\n",
       " 'Sneakers For Men',\n",
       " \"Men's Sneakers Fashion Lightweight Running Shoes Tennis...\",\n",
       " 'Sports Running Shoes Sneakers For Men',\n",
       " 'Sneakers For Men',\n",
       " 'SM323 Sneakers For Men',\n",
       " 'Stylish & Trending Outdoor Walking Comfortable Sneakers...',\n",
       " 'Men Casual Shoe New Trend With Fashion Panda Desgined L...',\n",
       " 'Sneakers For Men',\n",
       " 'Stylish & Trending Outdoor Walking Comfortable Sneakers...',\n",
       " 'CH-527 Trendy Star Perfect Casuals Sneakers For Men',\n",
       " 'Sneakers For Men',\n",
       " '9019 Sneakers For Men',\n",
       " 'Lightweight Pack Of 1 Trendy Sneakers Sneakers Sneakers...',\n",
       " 'all white heartbeat casual shoe Sneakers For Men',\n",
       " 'Stylish Comfortable Lightweight, Breathable Walking Sho...',\n",
       " 'Stylish Comfortable Lightweight, Breathable Walking Sho...']"
      ]
     },
     "execution_count": 249,
     "metadata": {},
     "output_type": "execute_result"
    }
   ],
   "source": [
    "for i in desc_tags31:\n",
    "    desc=i.text\n",
    "    prod_des31.append(desc)\n",
    "prod_des31"
   ]
  },
  {
   "cell_type": "code",
   "execution_count": 243,
   "id": "36ddbbe3",
   "metadata": {},
   "outputs": [
    {
     "data": {
      "text/plain": [
       "[<selenium.webdriver.remote.webelement.WebElement (session=\"8ab5699aeec1980614f75a95abbf727c\", element=\"3121023b-50a6-42a5-807d-d0414d3bb46e\")>,\n",
       " <selenium.webdriver.remote.webelement.WebElement (session=\"8ab5699aeec1980614f75a95abbf727c\", element=\"138d3612-cd70-42e6-af6e-f2607a7848ec\")>,\n",
       " <selenium.webdriver.remote.webelement.WebElement (session=\"8ab5699aeec1980614f75a95abbf727c\", element=\"7b2d8b17-99b0-45fc-940a-17c85ac01d00\")>,\n",
       " <selenium.webdriver.remote.webelement.WebElement (session=\"8ab5699aeec1980614f75a95abbf727c\", element=\"a4072490-03c6-4dc0-a394-ea285396b9b8\")>,\n",
       " <selenium.webdriver.remote.webelement.WebElement (session=\"8ab5699aeec1980614f75a95abbf727c\", element=\"fe45362e-8c9c-49e2-9829-f81b04f4314d\")>,\n",
       " <selenium.webdriver.remote.webelement.WebElement (session=\"8ab5699aeec1980614f75a95abbf727c\", element=\"bfb91120-77cb-4d25-8bb3-fbe5bad98d0d\")>,\n",
       " <selenium.webdriver.remote.webelement.WebElement (session=\"8ab5699aeec1980614f75a95abbf727c\", element=\"e4e810b9-c076-40dc-8fa9-f116bd605409\")>,\n",
       " <selenium.webdriver.remote.webelement.WebElement (session=\"8ab5699aeec1980614f75a95abbf727c\", element=\"ecc5a4c5-4af7-4ef4-8e31-c1c9abf6c43e\")>,\n",
       " <selenium.webdriver.remote.webelement.WebElement (session=\"8ab5699aeec1980614f75a95abbf727c\", element=\"c0f4295a-04ea-47fe-a2e0-0e2373459f49\")>,\n",
       " <selenium.webdriver.remote.webelement.WebElement (session=\"8ab5699aeec1980614f75a95abbf727c\", element=\"d37f4244-1b92-4774-b989-2b50e4a7b1b6\")>,\n",
       " <selenium.webdriver.remote.webelement.WebElement (session=\"8ab5699aeec1980614f75a95abbf727c\", element=\"8163c576-acfe-4703-9174-5adda84ce576\")>,\n",
       " <selenium.webdriver.remote.webelement.WebElement (session=\"8ab5699aeec1980614f75a95abbf727c\", element=\"d2eabcea-c9a5-4556-89a2-26e6c5dadcdf\")>,\n",
       " <selenium.webdriver.remote.webelement.WebElement (session=\"8ab5699aeec1980614f75a95abbf727c\", element=\"21680850-d9cd-475b-b66d-87d4647091b0\")>,\n",
       " <selenium.webdriver.remote.webelement.WebElement (session=\"8ab5699aeec1980614f75a95abbf727c\", element=\"02a1cfe0-a451-4398-b3a5-e43efff5ca4f\")>,\n",
       " <selenium.webdriver.remote.webelement.WebElement (session=\"8ab5699aeec1980614f75a95abbf727c\", element=\"57cd2382-a7b2-4576-820b-1761bb464f19\")>,\n",
       " <selenium.webdriver.remote.webelement.WebElement (session=\"8ab5699aeec1980614f75a95abbf727c\", element=\"3a4fafd1-af81-45e0-91aa-135cfccb2a29\")>,\n",
       " <selenium.webdriver.remote.webelement.WebElement (session=\"8ab5699aeec1980614f75a95abbf727c\", element=\"93f6785f-3e74-4ccf-bc03-79b19b592586\")>,\n",
       " <selenium.webdriver.remote.webelement.WebElement (session=\"8ab5699aeec1980614f75a95abbf727c\", element=\"3dbe2cc4-739d-4742-aa49-eb5a468d49dd\")>,\n",
       " <selenium.webdriver.remote.webelement.WebElement (session=\"8ab5699aeec1980614f75a95abbf727c\", element=\"ae875ee1-0f5b-42af-94bc-700f33844ae0\")>,\n",
       " <selenium.webdriver.remote.webelement.WebElement (session=\"8ab5699aeec1980614f75a95abbf727c\", element=\"3b14b9d3-be20-46db-8acc-b4b0c39b8ac4\")>,\n",
       " <selenium.webdriver.remote.webelement.WebElement (session=\"8ab5699aeec1980614f75a95abbf727c\", element=\"24b3adbb-bdac-4c2a-a069-764f398b0494\")>,\n",
       " <selenium.webdriver.remote.webelement.WebElement (session=\"8ab5699aeec1980614f75a95abbf727c\", element=\"bfba462a-b2fa-4040-ad1c-c5718f30de7c\")>,\n",
       " <selenium.webdriver.remote.webelement.WebElement (session=\"8ab5699aeec1980614f75a95abbf727c\", element=\"15f27835-91af-49d9-9080-f0bd7b7a7e02\")>,\n",
       " <selenium.webdriver.remote.webelement.WebElement (session=\"8ab5699aeec1980614f75a95abbf727c\", element=\"b40416a1-b6e2-42e2-b3dc-884574b84f08\")>,\n",
       " <selenium.webdriver.remote.webelement.WebElement (session=\"8ab5699aeec1980614f75a95abbf727c\", element=\"f17f2bcc-3a3d-4b6e-aacc-88ae8edb06ff\")>,\n",
       " <selenium.webdriver.remote.webelement.WebElement (session=\"8ab5699aeec1980614f75a95abbf727c\", element=\"7f569263-6796-4c14-9ea8-80ef7f06531a\")>,\n",
       " <selenium.webdriver.remote.webelement.WebElement (session=\"8ab5699aeec1980614f75a95abbf727c\", element=\"27a010cb-a32f-4df0-8573-4f2a930b18ec\")>,\n",
       " <selenium.webdriver.remote.webelement.WebElement (session=\"8ab5699aeec1980614f75a95abbf727c\", element=\"dd929452-03f3-4669-ab4a-e591e2c98d83\")>,\n",
       " <selenium.webdriver.remote.webelement.WebElement (session=\"8ab5699aeec1980614f75a95abbf727c\", element=\"9e24dee8-6df7-49ef-a2c6-3f97f5e71362\")>,\n",
       " <selenium.webdriver.remote.webelement.WebElement (session=\"8ab5699aeec1980614f75a95abbf727c\", element=\"d7114250-8f3e-49c9-8641-6d2ced504a5c\")>,\n",
       " <selenium.webdriver.remote.webelement.WebElement (session=\"8ab5699aeec1980614f75a95abbf727c\", element=\"1971a9a3-a8a2-438c-b3fd-1dbaff07882c\")>,\n",
       " <selenium.webdriver.remote.webelement.WebElement (session=\"8ab5699aeec1980614f75a95abbf727c\", element=\"7cf80d87-eaaf-4b9a-bc95-24bb683f4ee8\")>,\n",
       " <selenium.webdriver.remote.webelement.WebElement (session=\"8ab5699aeec1980614f75a95abbf727c\", element=\"e8eb831d-d0d9-4834-94f6-7a0acbfc06a9\")>,\n",
       " <selenium.webdriver.remote.webelement.WebElement (session=\"8ab5699aeec1980614f75a95abbf727c\", element=\"b2e6f3a3-768f-49e8-a709-6fe8b36d4fe3\")>,\n",
       " <selenium.webdriver.remote.webelement.WebElement (session=\"8ab5699aeec1980614f75a95abbf727c\", element=\"7d2c01ac-acb8-4f04-93c9-f3f32255b11f\")>,\n",
       " <selenium.webdriver.remote.webelement.WebElement (session=\"8ab5699aeec1980614f75a95abbf727c\", element=\"0c4aa019-2de7-40e2-82d4-8eaa8971aed8\")>,\n",
       " <selenium.webdriver.remote.webelement.WebElement (session=\"8ab5699aeec1980614f75a95abbf727c\", element=\"86c362ab-9247-49a3-96d6-32f87b187099\")>,\n",
       " <selenium.webdriver.remote.webelement.WebElement (session=\"8ab5699aeec1980614f75a95abbf727c\", element=\"6a27822f-ee05-4001-97ec-6a4b19261857\")>,\n",
       " <selenium.webdriver.remote.webelement.WebElement (session=\"8ab5699aeec1980614f75a95abbf727c\", element=\"2ab44efe-6836-4f9b-87d0-e8ad8c7f7c27\")>,\n",
       " <selenium.webdriver.remote.webelement.WebElement (session=\"8ab5699aeec1980614f75a95abbf727c\", element=\"5a2106a5-6064-42d6-ab2c-cb7bcef0348b\")>]"
      ]
     },
     "execution_count": 243,
     "metadata": {},
     "output_type": "execute_result"
    }
   ],
   "source": [
    "price_tags31=driver.find_elements_by_xpath(\"//div[@class='_30jeq3']\")\n",
    "price_tags31"
   ]
  },
  {
   "cell_type": "code",
   "execution_count": 244,
   "id": "65d36e8e",
   "metadata": {},
   "outputs": [
    {
     "data": {
      "text/plain": [
       "['₹399',\n",
       " '₹499',\n",
       " '₹249',\n",
       " '₹1,741',\n",
       " '₹199',\n",
       " '₹399',\n",
       " '₹549',\n",
       " '₹841',\n",
       " '₹301',\n",
       " '₹301',\n",
       " '₹298',\n",
       " '₹349',\n",
       " '₹599',\n",
       " '₹489',\n",
       " '₹213',\n",
       " '₹449',\n",
       " '₹399',\n",
       " '₹399',\n",
       " '₹379',\n",
       " '₹3,449',\n",
       " '₹374',\n",
       " '₹499',\n",
       " '₹598',\n",
       " '₹799',\n",
       " '₹489',\n",
       " '₹301',\n",
       " '₹424',\n",
       " '₹706',\n",
       " '₹549',\n",
       " '₹354',\n",
       " '₹422',\n",
       " '₹1,449',\n",
       " '₹549',\n",
       " '₹273',\n",
       " '₹395',\n",
       " '₹1,180',\n",
       " '₹151',\n",
       " '₹344',\n",
       " '₹301',\n",
       " '₹477']"
      ]
     },
     "execution_count": 244,
     "metadata": {},
     "output_type": "execute_result"
    }
   ],
   "source": [
    "for i in price_tags31:\n",
    "    pri=i.text\n",
    "    price31.append(pri)\n",
    "price31"
   ]
  },
  {
   "cell_type": "code",
   "execution_count": 250,
   "id": "66ef539f",
   "metadata": {},
   "outputs": [
    {
     "name": "stdout",
     "output_type": "stream",
     "text": [
      "40 62 40\n"
     ]
    }
   ],
   "source": [
    "print(len(brand_name31),len(prod_des31),len(price31))"
   ]
  },
  {
   "cell_type": "code",
   "execution_count": 251,
   "id": "4c45e26e",
   "metadata": {},
   "outputs": [
    {
     "data": {
      "text/html": [
       "<div>\n",
       "<style scoped>\n",
       "    .dataframe tbody tr th:only-of-type {\n",
       "        vertical-align: middle;\n",
       "    }\n",
       "\n",
       "    .dataframe tbody tr th {\n",
       "        vertical-align: top;\n",
       "    }\n",
       "\n",
       "    .dataframe thead th {\n",
       "        text-align: right;\n",
       "    }\n",
       "</style>\n",
       "<table border=\"1\" class=\"dataframe\">\n",
       "  <thead>\n",
       "    <tr style=\"text-align: right;\">\n",
       "      <th></th>\n",
       "      <th>Brand Name</th>\n",
       "      <th>Prodect Description</th>\n",
       "      <th>Price</th>\n",
       "    </tr>\n",
       "  </thead>\n",
       "  <tbody>\n",
       "    <tr>\n",
       "      <th>0</th>\n",
       "      <td>Layasa</td>\n",
       "      <td>Sneakers For Men</td>\n",
       "      <td>₹399</td>\n",
       "    </tr>\n",
       "    <tr>\n",
       "      <th>1</th>\n",
       "      <td>corsac</td>\n",
       "      <td>Sneakers For Men</td>\n",
       "      <td>₹499</td>\n",
       "    </tr>\n",
       "    <tr>\n",
       "      <th>2</th>\n",
       "      <td>Chevit</td>\n",
       "      <td>Sneakers For Men</td>\n",
       "      <td>₹249</td>\n",
       "    </tr>\n",
       "    <tr>\n",
       "      <th>3</th>\n",
       "      <td>HRX by Hrithik Roshan</td>\n",
       "      <td>Latest Collection-1227 Stylish Casual Sports S...</td>\n",
       "      <td>₹1,741</td>\n",
       "    </tr>\n",
       "    <tr>\n",
       "      <th>4</th>\n",
       "      <td>World Wear Footwear</td>\n",
       "      <td>casual for men Sneakers For Men</td>\n",
       "      <td>₹199</td>\n",
       "    </tr>\n",
       "    <tr>\n",
       "      <th>5</th>\n",
       "      <td>bluemaker</td>\n",
       "      <td>Sneakers For Men</td>\n",
       "      <td>₹399</td>\n",
       "    </tr>\n",
       "    <tr>\n",
       "      <th>6</th>\n",
       "      <td>Rzisbo</td>\n",
       "      <td>SM-162 Sneakers For Men</td>\n",
       "      <td>₹549</td>\n",
       "    </tr>\n",
       "    <tr>\n",
       "      <th>7</th>\n",
       "      <td>SPARX</td>\n",
       "      <td>Stylish Comfortable Lightweight, Breathable Wa...</td>\n",
       "      <td>₹841</td>\n",
       "    </tr>\n",
       "    <tr>\n",
       "      <th>8</th>\n",
       "      <td>BIRDE</td>\n",
       "      <td>Lattest Sneakers Shoe Sneakers For Men</td>\n",
       "      <td>₹301</td>\n",
       "    </tr>\n",
       "    <tr>\n",
       "      <th>9</th>\n",
       "      <td>BRUTON</td>\n",
       "      <td>Men's Sneakers Fashion Lightweight Running Sho...</td>\n",
       "      <td>₹301</td>\n",
       "    </tr>\n",
       "    <tr>\n",
       "      <th>10</th>\n",
       "      <td>Zsyto</td>\n",
       "      <td>Super 445 Fashion Sneakers For Men</td>\n",
       "      <td>₹298</td>\n",
       "    </tr>\n",
       "    <tr>\n",
       "      <th>11</th>\n",
       "      <td>GVR</td>\n",
       "      <td>casual sneaker shoes for men luxury fashion ca...</td>\n",
       "      <td>₹349</td>\n",
       "    </tr>\n",
       "    <tr>\n",
       "      <th>12</th>\n",
       "      <td>Hida</td>\n",
       "      <td>Sneakers For Men</td>\n",
       "      <td>₹599</td>\n",
       "    </tr>\n",
       "    <tr>\n",
       "      <th>13</th>\n",
       "      <td>Echor</td>\n",
       "      <td>Sneakers For Men</td>\n",
       "      <td>₹489</td>\n",
       "    </tr>\n",
       "    <tr>\n",
       "      <th>14</th>\n",
       "      <td>Chevit</td>\n",
       "      <td>Perfect &amp; Affordable Combo Pack of 02 Pairs Sn...</td>\n",
       "      <td>₹213</td>\n",
       "    </tr>\n",
       "    <tr>\n",
       "      <th>15</th>\n",
       "      <td>aRICS</td>\n",
       "      <td>Sneakers For Men</td>\n",
       "      <td>₹449</td>\n",
       "    </tr>\n",
       "    <tr>\n",
       "      <th>16</th>\n",
       "      <td>Chevit</td>\n",
       "      <td>Men's Sneakers Fashion Lightweight Running Sho...</td>\n",
       "      <td>₹399</td>\n",
       "    </tr>\n",
       "    <tr>\n",
       "      <th>17</th>\n",
       "      <td>kardam&amp;sons</td>\n",
       "      <td>Sports Running Shoes Sneakers For Men</td>\n",
       "      <td>₹399</td>\n",
       "    </tr>\n",
       "    <tr>\n",
       "      <th>18</th>\n",
       "      <td>Arohi</td>\n",
       "      <td>Sneakers For Men</td>\n",
       "      <td>₹379</td>\n",
       "    </tr>\n",
       "    <tr>\n",
       "      <th>19</th>\n",
       "      <td>DUCATI</td>\n",
       "      <td>SM323 Sneakers For Men</td>\n",
       "      <td>₹3,449</td>\n",
       "    </tr>\n",
       "    <tr>\n",
       "      <th>20</th>\n",
       "      <td>Kraasa</td>\n",
       "      <td>Stylish &amp; Trending Outdoor Walking Comfortable...</td>\n",
       "      <td>₹374</td>\n",
       "    </tr>\n",
       "    <tr>\n",
       "      <th>21</th>\n",
       "      <td>Chevit</td>\n",
       "      <td>Men Casual Shoe New Trend With Fashion Panda D...</td>\n",
       "      <td>₹499</td>\n",
       "    </tr>\n",
       "    <tr>\n",
       "      <th>22</th>\n",
       "      <td>KNIGHT WALKERS</td>\n",
       "      <td>Sneakers For Men</td>\n",
       "      <td>₹598</td>\n",
       "    </tr>\n",
       "    <tr>\n",
       "      <th>23</th>\n",
       "      <td>SPARX</td>\n",
       "      <td>Stylish &amp; Trending Outdoor Walking Comfortable...</td>\n",
       "      <td>₹799</td>\n",
       "    </tr>\n",
       "    <tr>\n",
       "      <th>24</th>\n",
       "      <td>Echor</td>\n",
       "      <td>CH-527 Trendy Star Perfect Casuals Sneakers Fo...</td>\n",
       "      <td>₹489</td>\n",
       "    </tr>\n",
       "    <tr>\n",
       "      <th>25</th>\n",
       "      <td>BIRDE</td>\n",
       "      <td>Sneakers For Men</td>\n",
       "      <td>₹301</td>\n",
       "    </tr>\n",
       "    <tr>\n",
       "      <th>26</th>\n",
       "      <td>Robbie jones</td>\n",
       "      <td>9019 Sneakers For Men</td>\n",
       "      <td>₹424</td>\n",
       "    </tr>\n",
       "    <tr>\n",
       "      <th>27</th>\n",
       "      <td>SPARX</td>\n",
       "      <td>Lightweight Pack Of 1 Trendy Sneakers Sneakers...</td>\n",
       "      <td>₹706</td>\n",
       "    </tr>\n",
       "    <tr>\n",
       "      <th>28</th>\n",
       "      <td>WHITE WALKERS</td>\n",
       "      <td>all white heartbeat casual shoe Sneakers For Men</td>\n",
       "      <td>₹549</td>\n",
       "    </tr>\n",
       "    <tr>\n",
       "      <th>29</th>\n",
       "      <td>LuvShus</td>\n",
       "      <td>Stylish Comfortable Lightweight, Breathable Wa...</td>\n",
       "      <td>₹354</td>\n",
       "    </tr>\n",
       "    <tr>\n",
       "      <th>30</th>\n",
       "      <td>Magnolia</td>\n",
       "      <td>Stylish Comfortable Lightweight, Breathable Wa...</td>\n",
       "      <td>₹422</td>\n",
       "    </tr>\n",
       "    <tr>\n",
       "      <th>31</th>\n",
       "      <td>New LImits</td>\n",
       "      <td>Sneakers For Men</td>\n",
       "      <td>₹1,449</td>\n",
       "    </tr>\n",
       "    <tr>\n",
       "      <th>32</th>\n",
       "      <td>WHITE WALKERS</td>\n",
       "      <td>Sneakers For Men</td>\n",
       "      <td>₹549</td>\n",
       "    </tr>\n",
       "    <tr>\n",
       "      <th>33</th>\n",
       "      <td>Chevit</td>\n",
       "      <td>Sneakers For Men</td>\n",
       "      <td>₹273</td>\n",
       "    </tr>\n",
       "    <tr>\n",
       "      <th>34</th>\n",
       "      <td>ZF - ALFIYA</td>\n",
       "      <td>Latest Collection-1227 Stylish Casual Sports S...</td>\n",
       "      <td>₹395</td>\n",
       "    </tr>\n",
       "    <tr>\n",
       "      <th>35</th>\n",
       "      <td>SPARX</td>\n",
       "      <td>casual for men Sneakers For Men</td>\n",
       "      <td>₹1,180</td>\n",
       "    </tr>\n",
       "    <tr>\n",
       "      <th>36</th>\n",
       "      <td>BRUTON</td>\n",
       "      <td>Sneakers For Men</td>\n",
       "      <td>₹151</td>\n",
       "    </tr>\n",
       "    <tr>\n",
       "      <th>37</th>\n",
       "      <td>EMPTILE</td>\n",
       "      <td>SM-162 Sneakers For Men</td>\n",
       "      <td>₹344</td>\n",
       "    </tr>\n",
       "    <tr>\n",
       "      <th>38</th>\n",
       "      <td>BIRDE</td>\n",
       "      <td>Stylish Comfortable Lightweight, Breathable Wa...</td>\n",
       "      <td>₹301</td>\n",
       "    </tr>\n",
       "    <tr>\n",
       "      <th>39</th>\n",
       "      <td>BIRDE</td>\n",
       "      <td>Lattest Sneakers Shoe Sneakers For Men</td>\n",
       "      <td>₹477</td>\n",
       "    </tr>\n",
       "  </tbody>\n",
       "</table>\n",
       "</div>"
      ],
      "text/plain": [
       "               Brand Name                                Prodect Description  \\\n",
       "0                  Layasa                                   Sneakers For Men   \n",
       "1                  corsac                                   Sneakers For Men   \n",
       "2                  Chevit                                   Sneakers For Men   \n",
       "3   HRX by Hrithik Roshan  Latest Collection-1227 Stylish Casual Sports S...   \n",
       "4     World Wear Footwear                    casual for men Sneakers For Men   \n",
       "5               bluemaker                                   Sneakers For Men   \n",
       "6                  Rzisbo                            SM-162 Sneakers For Men   \n",
       "7                   SPARX  Stylish Comfortable Lightweight, Breathable Wa...   \n",
       "8                   BIRDE             Lattest Sneakers Shoe Sneakers For Men   \n",
       "9                  BRUTON  Men's Sneakers Fashion Lightweight Running Sho...   \n",
       "10                  Zsyto                 Super 445 Fashion Sneakers For Men   \n",
       "11                    GVR  casual sneaker shoes for men luxury fashion ca...   \n",
       "12                   Hida                                   Sneakers For Men   \n",
       "13                  Echor                                   Sneakers For Men   \n",
       "14                 Chevit  Perfect & Affordable Combo Pack of 02 Pairs Sn...   \n",
       "15                  aRICS                                   Sneakers For Men   \n",
       "16                 Chevit  Men's Sneakers Fashion Lightweight Running Sho...   \n",
       "17            kardam&sons              Sports Running Shoes Sneakers For Men   \n",
       "18                  Arohi                                   Sneakers For Men   \n",
       "19                 DUCATI                             SM323 Sneakers For Men   \n",
       "20                 Kraasa  Stylish & Trending Outdoor Walking Comfortable...   \n",
       "21                 Chevit  Men Casual Shoe New Trend With Fashion Panda D...   \n",
       "22         KNIGHT WALKERS                                   Sneakers For Men   \n",
       "23                  SPARX  Stylish & Trending Outdoor Walking Comfortable...   \n",
       "24                  Echor  CH-527 Trendy Star Perfect Casuals Sneakers Fo...   \n",
       "25                  BIRDE                                   Sneakers For Men   \n",
       "26           Robbie jones                              9019 Sneakers For Men   \n",
       "27                  SPARX  Lightweight Pack Of 1 Trendy Sneakers Sneakers...   \n",
       "28          WHITE WALKERS   all white heartbeat casual shoe Sneakers For Men   \n",
       "29                LuvShus  Stylish Comfortable Lightweight, Breathable Wa...   \n",
       "30               Magnolia  Stylish Comfortable Lightweight, Breathable Wa...   \n",
       "31             New LImits                                   Sneakers For Men   \n",
       "32          WHITE WALKERS                                   Sneakers For Men   \n",
       "33                 Chevit                                   Sneakers For Men   \n",
       "34            ZF - ALFIYA  Latest Collection-1227 Stylish Casual Sports S...   \n",
       "35                  SPARX                    casual for men Sneakers For Men   \n",
       "36                 BRUTON                                   Sneakers For Men   \n",
       "37                EMPTILE                            SM-162 Sneakers For Men   \n",
       "38                  BIRDE  Stylish Comfortable Lightweight, Breathable Wa...   \n",
       "39                  BIRDE             Lattest Sneakers Shoe Sneakers For Men   \n",
       "\n",
       "     Price  \n",
       "0     ₹399  \n",
       "1     ₹499  \n",
       "2     ₹249  \n",
       "3   ₹1,741  \n",
       "4     ₹199  \n",
       "5     ₹399  \n",
       "6     ₹549  \n",
       "7     ₹841  \n",
       "8     ₹301  \n",
       "9     ₹301  \n",
       "10    ₹298  \n",
       "11    ₹349  \n",
       "12    ₹599  \n",
       "13    ₹489  \n",
       "14    ₹213  \n",
       "15    ₹449  \n",
       "16    ₹399  \n",
       "17    ₹399  \n",
       "18    ₹379  \n",
       "19  ₹3,449  \n",
       "20    ₹374  \n",
       "21    ₹499  \n",
       "22    ₹598  \n",
       "23    ₹799  \n",
       "24    ₹489  \n",
       "25    ₹301  \n",
       "26    ₹424  \n",
       "27    ₹706  \n",
       "28    ₹549  \n",
       "29    ₹354  \n",
       "30    ₹422  \n",
       "31  ₹1,449  \n",
       "32    ₹549  \n",
       "33    ₹273  \n",
       "34    ₹395  \n",
       "35  ₹1,180  \n",
       "36    ₹151  \n",
       "37    ₹344  \n",
       "38    ₹301  \n",
       "39    ₹477  "
      ]
     },
     "execution_count": 251,
     "metadata": {},
     "output_type": "execute_result"
    }
   ],
   "source": [
    "sneakers31=pd.DataFrame({'Brand Name':brand_name31,\"Prodect Description\":prod_des31[0:40],\"Price\":price31})\n",
    "sneakers31"
   ]
  },
  {
   "cell_type": "code",
   "execution_count": 252,
   "id": "36e86216",
   "metadata": {},
   "outputs": [],
   "source": [
    "next_button=driver.find_element_by_xpath(\"/html/body/div[1]/div/div[3]/div[1]/div[2]/div[12]/div/div/nav/a[12]/span\")\n",
    "next_button.click()"
   ]
  },
  {
   "cell_type": "code",
   "execution_count": 253,
   "id": "5a6642fa",
   "metadata": {},
   "outputs": [],
   "source": [
    "brand_name32=[]\n",
    "prod_des32=[]\n",
    "price32=[]"
   ]
  },
  {
   "cell_type": "code",
   "execution_count": 254,
   "id": "e7b15bb0",
   "metadata": {},
   "outputs": [
    {
     "data": {
      "text/plain": [
       "[<selenium.webdriver.remote.webelement.WebElement (session=\"8ab5699aeec1980614f75a95abbf727c\", element=\"48df8dc9-df9c-4b1f-ab50-53a8b640a73f\")>,\n",
       " <selenium.webdriver.remote.webelement.WebElement (session=\"8ab5699aeec1980614f75a95abbf727c\", element=\"d3f3cacc-bb80-4293-8a60-b05fad100a79\")>,\n",
       " <selenium.webdriver.remote.webelement.WebElement (session=\"8ab5699aeec1980614f75a95abbf727c\", element=\"ca08ea71-bc87-4dfc-a8eb-063d038513bd\")>,\n",
       " <selenium.webdriver.remote.webelement.WebElement (session=\"8ab5699aeec1980614f75a95abbf727c\", element=\"4fb1e334-641f-4e44-b422-eabbfcd6765a\")>,\n",
       " <selenium.webdriver.remote.webelement.WebElement (session=\"8ab5699aeec1980614f75a95abbf727c\", element=\"7737ce2e-95bd-4995-8d61-a880faf383dd\")>,\n",
       " <selenium.webdriver.remote.webelement.WebElement (session=\"8ab5699aeec1980614f75a95abbf727c\", element=\"70c856e3-10c7-4e08-9421-bfea91f1650b\")>,\n",
       " <selenium.webdriver.remote.webelement.WebElement (session=\"8ab5699aeec1980614f75a95abbf727c\", element=\"7fe84122-1ea8-427c-99d5-f6a1f19d28f1\")>,\n",
       " <selenium.webdriver.remote.webelement.WebElement (session=\"8ab5699aeec1980614f75a95abbf727c\", element=\"becfaef0-bd6c-49c8-9e79-c3c664b9fda6\")>,\n",
       " <selenium.webdriver.remote.webelement.WebElement (session=\"8ab5699aeec1980614f75a95abbf727c\", element=\"e2032a03-93b2-49ac-a803-08c1173d8c8a\")>,\n",
       " <selenium.webdriver.remote.webelement.WebElement (session=\"8ab5699aeec1980614f75a95abbf727c\", element=\"6d21c58d-9722-4bb4-8887-39966e8c1140\")>,\n",
       " <selenium.webdriver.remote.webelement.WebElement (session=\"8ab5699aeec1980614f75a95abbf727c\", element=\"36fe3084-27bf-4a23-a7cd-08cdccd10c21\")>,\n",
       " <selenium.webdriver.remote.webelement.WebElement (session=\"8ab5699aeec1980614f75a95abbf727c\", element=\"083eda40-9715-4aa3-bb29-ee1dfa42c297\")>,\n",
       " <selenium.webdriver.remote.webelement.WebElement (session=\"8ab5699aeec1980614f75a95abbf727c\", element=\"ed210a0f-374d-42e4-9888-af260e5da4ae\")>,\n",
       " <selenium.webdriver.remote.webelement.WebElement (session=\"8ab5699aeec1980614f75a95abbf727c\", element=\"45c7f1fc-df34-4967-989a-1f36ce0920e6\")>,\n",
       " <selenium.webdriver.remote.webelement.WebElement (session=\"8ab5699aeec1980614f75a95abbf727c\", element=\"fe069b28-97f3-4fb2-96a5-6a0250b35f42\")>,\n",
       " <selenium.webdriver.remote.webelement.WebElement (session=\"8ab5699aeec1980614f75a95abbf727c\", element=\"2cdeda5d-f4b1-4b1a-bc26-b37630cd5619\")>,\n",
       " <selenium.webdriver.remote.webelement.WebElement (session=\"8ab5699aeec1980614f75a95abbf727c\", element=\"1de48f31-f8b1-4379-85da-ad3567a5b276\")>,\n",
       " <selenium.webdriver.remote.webelement.WebElement (session=\"8ab5699aeec1980614f75a95abbf727c\", element=\"28563914-95b8-4bd4-84bd-0bfc990abe95\")>,\n",
       " <selenium.webdriver.remote.webelement.WebElement (session=\"8ab5699aeec1980614f75a95abbf727c\", element=\"345e8b30-5f9d-4bba-b1fa-b2c032ac3b6b\")>,\n",
       " <selenium.webdriver.remote.webelement.WebElement (session=\"8ab5699aeec1980614f75a95abbf727c\", element=\"fcd1c5f9-70c8-4bbd-9572-42d765079602\")>]"
      ]
     },
     "execution_count": 254,
     "metadata": {},
     "output_type": "execute_result"
    }
   ],
   "source": [
    "name_tag32=driver.find_elements_by_xpath(\"//div[@class='_2WkVRV']\")\n",
    "name_tag32[0:20]"
   ]
  },
  {
   "cell_type": "code",
   "execution_count": 255,
   "id": "f3c37264",
   "metadata": {},
   "outputs": [
    {
     "data": {
      "text/plain": [
       "['World Wear Footwear',\n",
       " 'Robbie jones',\n",
       " 'DUNKASTON',\n",
       " 'HRX by Hrithik Roshan',\n",
       " 'Shoes Bank',\n",
       " 'Xtoon',\n",
       " 'Kzaara',\n",
       " 'GVR',\n",
       " 'Robbie jones',\n",
       " 'RapidBox',\n",
       " 'Airland',\n",
       " 'BIRDE',\n",
       " 'RODDICK SHOES',\n",
       " 'Deals4you',\n",
       " 'T-ROCK',\n",
       " 'SPARX',\n",
       " 'Chevit',\n",
       " 'Elevarse',\n",
       " 'OUTALYFE',\n",
       " 'New LImits']"
      ]
     },
     "execution_count": 255,
     "metadata": {},
     "output_type": "execute_result"
    }
   ],
   "source": [
    "for i in name_tag32:\n",
    "    name=i.text\n",
    "    brand_name32.append(name)\n",
    "brand_name32[0:20]"
   ]
  },
  {
   "cell_type": "code",
   "execution_count": 256,
   "id": "b55536c2",
   "metadata": {},
   "outputs": [
    {
     "data": {
      "text/plain": [
       "[<selenium.webdriver.remote.webelement.WebElement (session=\"8ab5699aeec1980614f75a95abbf727c\", element=\"7f64d863-a3f9-4884-934c-cad18b04992f\")>,\n",
       " <selenium.webdriver.remote.webelement.WebElement (session=\"8ab5699aeec1980614f75a95abbf727c\", element=\"f53d7146-400b-4090-8ead-25f0287797a3\")>,\n",
       " <selenium.webdriver.remote.webelement.WebElement (session=\"8ab5699aeec1980614f75a95abbf727c\", element=\"45e6c15d-9146-4a96-b03f-96574528475b\")>,\n",
       " <selenium.webdriver.remote.webelement.WebElement (session=\"8ab5699aeec1980614f75a95abbf727c\", element=\"7264d2bb-fbd6-4a31-bb52-1219cb2d80b2\")>,\n",
       " <selenium.webdriver.remote.webelement.WebElement (session=\"8ab5699aeec1980614f75a95abbf727c\", element=\"0cca2283-8dfe-4888-94f2-493194df9c19\")>,\n",
       " <selenium.webdriver.remote.webelement.WebElement (session=\"8ab5699aeec1980614f75a95abbf727c\", element=\"7dd88408-78a8-4c43-9c1f-aa564ae21dd0\")>,\n",
       " <selenium.webdriver.remote.webelement.WebElement (session=\"8ab5699aeec1980614f75a95abbf727c\", element=\"ba96e59d-615d-4971-8cbe-cf521c478818\")>,\n",
       " <selenium.webdriver.remote.webelement.WebElement (session=\"8ab5699aeec1980614f75a95abbf727c\", element=\"90db8bc0-7eaf-4811-ba85-b3f2aafcb67a\")>,\n",
       " <selenium.webdriver.remote.webelement.WebElement (session=\"8ab5699aeec1980614f75a95abbf727c\", element=\"b9f1d578-4eba-4df5-9136-0761eda06c65\")>,\n",
       " <selenium.webdriver.remote.webelement.WebElement (session=\"8ab5699aeec1980614f75a95abbf727c\", element=\"fdb66e5d-0703-4f37-bbe6-c8cbf1d3a28a\")>,\n",
       " <selenium.webdriver.remote.webelement.WebElement (session=\"8ab5699aeec1980614f75a95abbf727c\", element=\"1331d831-d1b8-407f-8aa9-2c678544d4c6\")>,\n",
       " <selenium.webdriver.remote.webelement.WebElement (session=\"8ab5699aeec1980614f75a95abbf727c\", element=\"c6bfcbf8-9f8c-47e2-a38a-b30dc2a3cb69\")>,\n",
       " <selenium.webdriver.remote.webelement.WebElement (session=\"8ab5699aeec1980614f75a95abbf727c\", element=\"8edc4fb0-0703-44cc-86e8-a240b1dddf9f\")>,\n",
       " <selenium.webdriver.remote.webelement.WebElement (session=\"8ab5699aeec1980614f75a95abbf727c\", element=\"b5ee7b6f-ebf1-48a6-8d11-5e6d254b99f7\")>,\n",
       " <selenium.webdriver.remote.webelement.WebElement (session=\"8ab5699aeec1980614f75a95abbf727c\", element=\"32fd4180-10fa-4de9-b8b1-0d717ba0d96a\")>,\n",
       " <selenium.webdriver.remote.webelement.WebElement (session=\"8ab5699aeec1980614f75a95abbf727c\", element=\"6b3bc002-93c0-4a31-b8fd-e0da066e14e2\")>,\n",
       " <selenium.webdriver.remote.webelement.WebElement (session=\"8ab5699aeec1980614f75a95abbf727c\", element=\"24ff9cfd-783c-4a9a-85f6-d6246e1cc7e3\")>,\n",
       " <selenium.webdriver.remote.webelement.WebElement (session=\"8ab5699aeec1980614f75a95abbf727c\", element=\"d3a3af12-e05f-44a7-817f-dbb182005671\")>,\n",
       " <selenium.webdriver.remote.webelement.WebElement (session=\"8ab5699aeec1980614f75a95abbf727c\", element=\"76d0fb41-1a1e-49af-9fb1-50a23166bc69\")>,\n",
       " <selenium.webdriver.remote.webelement.WebElement (session=\"8ab5699aeec1980614f75a95abbf727c\", element=\"1593663c-7e73-4649-878d-48965ce406af\")>]"
      ]
     },
     "execution_count": 256,
     "metadata": {},
     "output_type": "execute_result"
    }
   ],
   "source": [
    "desc_tags32=driver.find_elements_by_xpath(\"//a[@class='IRpwTa']\")\n",
    "desc_tags32[0:20]"
   ]
  },
  {
   "cell_type": "code",
   "execution_count": 257,
   "id": "615b7e4b",
   "metadata": {},
   "outputs": [
    {
     "data": {
      "text/plain": [
       "['Latest Collection Black-349 Trendy & Stylish Casual Sne...',\n",
       " 'Sneakers For Men',\n",
       " 'casual sneaker shoes and partywear shoes Sneakers For M...',\n",
       " 'Sneakers For Men',\n",
       " \"White Sneaker For Men's/Boy's Sneakers For Men\",\n",
       " \"white Casual shoes,Sneakers for men's Sneakers For Men\",\n",
       " 'Sneakers For Men',\n",
       " 'Casual Sneakers White Shoes For Men Sneakers For Men',\n",
       " 'sneaker men red 1258 - 6 Sneakers For Men',\n",
       " 'Stylish Comfortable Lightweight, Breathable Walking Sho...',\n",
       " 'Fashion Outdoor Canvas Casual Light Weight Lace-up Even...',\n",
       " 'Sneakers For Men',\n",
       " 'Unique & Perfect Collection Combo Pack of 02 Shoes for ...',\n",
       " 'Stylish Party Wear Fashionable Lightweight New arrival ...',\n",
       " 'Stylish Comfortable Lightweight, Breathable Casual Walk...',\n",
       " 'Sneakers For Men',\n",
       " '9019 Sneakers For Men',\n",
       " 'Sneakers For Men',\n",
       " 'Sneakers For Men',\n",
       " 'Stylish & Trending Outdoor Walking Comfortable Sneakers...']"
      ]
     },
     "execution_count": 257,
     "metadata": {},
     "output_type": "execute_result"
    }
   ],
   "source": [
    "for i in desc_tags32:\n",
    "    desc=i.text\n",
    "    prod_des32.append(desc)\n",
    "prod_des32[0:20]"
   ]
  },
  {
   "cell_type": "code",
   "execution_count": 258,
   "id": "41f88b92",
   "metadata": {},
   "outputs": [
    {
     "data": {
      "text/plain": [
       "[<selenium.webdriver.remote.webelement.WebElement (session=\"8ab5699aeec1980614f75a95abbf727c\", element=\"9f1df585-eeb3-443e-8253-78a503a264ea\")>,\n",
       " <selenium.webdriver.remote.webelement.WebElement (session=\"8ab5699aeec1980614f75a95abbf727c\", element=\"a3f55441-c92a-47e2-a190-24ad2c294d2a\")>,\n",
       " <selenium.webdriver.remote.webelement.WebElement (session=\"8ab5699aeec1980614f75a95abbf727c\", element=\"d5c73cbe-e76e-4953-9d32-c2cb7cb11033\")>,\n",
       " <selenium.webdriver.remote.webelement.WebElement (session=\"8ab5699aeec1980614f75a95abbf727c\", element=\"d68fdea1-388b-4a75-a711-11c5254a7c3c\")>,\n",
       " <selenium.webdriver.remote.webelement.WebElement (session=\"8ab5699aeec1980614f75a95abbf727c\", element=\"2cd2e2fd-4ba8-4d28-98f3-1f3196131929\")>,\n",
       " <selenium.webdriver.remote.webelement.WebElement (session=\"8ab5699aeec1980614f75a95abbf727c\", element=\"a3779010-22dd-47af-ac0f-24377c1920e1\")>,\n",
       " <selenium.webdriver.remote.webelement.WebElement (session=\"8ab5699aeec1980614f75a95abbf727c\", element=\"981df3d6-e3ad-47bd-a123-e047cde7b94f\")>,\n",
       " <selenium.webdriver.remote.webelement.WebElement (session=\"8ab5699aeec1980614f75a95abbf727c\", element=\"a8723e45-c140-4bbb-94a9-72e6fffe502f\")>,\n",
       " <selenium.webdriver.remote.webelement.WebElement (session=\"8ab5699aeec1980614f75a95abbf727c\", element=\"8b84acaa-2523-4d13-a2e1-351b76f7a43f\")>,\n",
       " <selenium.webdriver.remote.webelement.WebElement (session=\"8ab5699aeec1980614f75a95abbf727c\", element=\"c73e8321-ab93-4a90-8a75-a1ca00a5a34e\")>,\n",
       " <selenium.webdriver.remote.webelement.WebElement (session=\"8ab5699aeec1980614f75a95abbf727c\", element=\"d2218f0e-cfab-4713-9776-1ae676cf57ea\")>,\n",
       " <selenium.webdriver.remote.webelement.WebElement (session=\"8ab5699aeec1980614f75a95abbf727c\", element=\"fc949043-13f4-40d2-a87d-b8e78ff97c8a\")>,\n",
       " <selenium.webdriver.remote.webelement.WebElement (session=\"8ab5699aeec1980614f75a95abbf727c\", element=\"b479f525-ef98-4097-a379-ca45f2b6bb8d\")>,\n",
       " <selenium.webdriver.remote.webelement.WebElement (session=\"8ab5699aeec1980614f75a95abbf727c\", element=\"4875a26b-94d7-440a-b397-23947c602470\")>,\n",
       " <selenium.webdriver.remote.webelement.WebElement (session=\"8ab5699aeec1980614f75a95abbf727c\", element=\"e04ed805-a64e-43fe-b816-b44fb14dc3dc\")>,\n",
       " <selenium.webdriver.remote.webelement.WebElement (session=\"8ab5699aeec1980614f75a95abbf727c\", element=\"550eeb4b-34dd-454f-99af-f9e655f6b878\")>,\n",
       " <selenium.webdriver.remote.webelement.WebElement (session=\"8ab5699aeec1980614f75a95abbf727c\", element=\"9f8da552-8d49-47f5-b675-021aa7dc6b35\")>,\n",
       " <selenium.webdriver.remote.webelement.WebElement (session=\"8ab5699aeec1980614f75a95abbf727c\", element=\"e9ae0802-2b45-4cec-bc15-55c31c2b5067\")>,\n",
       " <selenium.webdriver.remote.webelement.WebElement (session=\"8ab5699aeec1980614f75a95abbf727c\", element=\"be911dc0-06bc-4228-a5dd-ca1c15330e4e\")>,\n",
       " <selenium.webdriver.remote.webelement.WebElement (session=\"8ab5699aeec1980614f75a95abbf727c\", element=\"52fdd044-19c2-4718-a066-57512000680d\")>]"
      ]
     },
     "execution_count": 258,
     "metadata": {},
     "output_type": "execute_result"
    }
   ],
   "source": [
    "price_tags32=driver.find_elements_by_xpath(\"//div[@class='_30jeq3']\")\n",
    "price_tags32[0:20]"
   ]
  },
  {
   "cell_type": "code",
   "execution_count": 259,
   "id": "f13198af",
   "metadata": {},
   "outputs": [
    {
     "data": {
      "text/plain": [
       "['₹249',\n",
       " '₹424',\n",
       " '₹449',\n",
       " '₹1,741',\n",
       " '₹349',\n",
       " '₹449',\n",
       " '₹209',\n",
       " '₹349',\n",
       " '₹424',\n",
       " '₹670',\n",
       " '₹183',\n",
       " '₹301',\n",
       " '₹430',\n",
       " '₹376',\n",
       " '₹249',\n",
       " '₹799',\n",
       " '₹449',\n",
       " '₹308',\n",
       " '₹435',\n",
       " '₹1,449']"
      ]
     },
     "execution_count": 259,
     "metadata": {},
     "output_type": "execute_result"
    }
   ],
   "source": [
    "for i in price_tags32:\n",
    "    pri=i.text\n",
    "    price32.append(pri)\n",
    "price32[0:20]"
   ]
  },
  {
   "cell_type": "code",
   "execution_count": 260,
   "id": "405031d3",
   "metadata": {},
   "outputs": [
    {
     "data": {
      "text/html": [
       "<div>\n",
       "<style scoped>\n",
       "    .dataframe tbody tr th:only-of-type {\n",
       "        vertical-align: middle;\n",
       "    }\n",
       "\n",
       "    .dataframe tbody tr th {\n",
       "        vertical-align: top;\n",
       "    }\n",
       "\n",
       "    .dataframe thead th {\n",
       "        text-align: right;\n",
       "    }\n",
       "</style>\n",
       "<table border=\"1\" class=\"dataframe\">\n",
       "  <thead>\n",
       "    <tr style=\"text-align: right;\">\n",
       "      <th></th>\n",
       "      <th>Brand Name</th>\n",
       "      <th>Prodect Description</th>\n",
       "      <th>Price</th>\n",
       "    </tr>\n",
       "  </thead>\n",
       "  <tbody>\n",
       "    <tr>\n",
       "      <th>0</th>\n",
       "      <td>World Wear Footwear</td>\n",
       "      <td>Latest Collection Black-349 Trendy &amp; Stylish C...</td>\n",
       "      <td>₹249</td>\n",
       "    </tr>\n",
       "    <tr>\n",
       "      <th>1</th>\n",
       "      <td>Robbie jones</td>\n",
       "      <td>Sneakers For Men</td>\n",
       "      <td>₹424</td>\n",
       "    </tr>\n",
       "    <tr>\n",
       "      <th>2</th>\n",
       "      <td>DUNKASTON</td>\n",
       "      <td>casual sneaker shoes and partywear shoes Sneak...</td>\n",
       "      <td>₹449</td>\n",
       "    </tr>\n",
       "    <tr>\n",
       "      <th>3</th>\n",
       "      <td>HRX by Hrithik Roshan</td>\n",
       "      <td>Sneakers For Men</td>\n",
       "      <td>₹1,741</td>\n",
       "    </tr>\n",
       "    <tr>\n",
       "      <th>4</th>\n",
       "      <td>Shoes Bank</td>\n",
       "      <td>White Sneaker For Men's/Boy's Sneakers For Men</td>\n",
       "      <td>₹349</td>\n",
       "    </tr>\n",
       "    <tr>\n",
       "      <th>5</th>\n",
       "      <td>Xtoon</td>\n",
       "      <td>white Casual shoes,Sneakers for men's Sneakers...</td>\n",
       "      <td>₹449</td>\n",
       "    </tr>\n",
       "    <tr>\n",
       "      <th>6</th>\n",
       "      <td>Kzaara</td>\n",
       "      <td>Sneakers For Men</td>\n",
       "      <td>₹209</td>\n",
       "    </tr>\n",
       "    <tr>\n",
       "      <th>7</th>\n",
       "      <td>GVR</td>\n",
       "      <td>Casual Sneakers White Shoes For Men Sneakers F...</td>\n",
       "      <td>₹349</td>\n",
       "    </tr>\n",
       "    <tr>\n",
       "      <th>8</th>\n",
       "      <td>Robbie jones</td>\n",
       "      <td>sneaker men red 1258 - 6 Sneakers For Men</td>\n",
       "      <td>₹424</td>\n",
       "    </tr>\n",
       "    <tr>\n",
       "      <th>9</th>\n",
       "      <td>RapidBox</td>\n",
       "      <td>Stylish Comfortable Lightweight, Breathable Wa...</td>\n",
       "      <td>₹670</td>\n",
       "    </tr>\n",
       "    <tr>\n",
       "      <th>10</th>\n",
       "      <td>Airland</td>\n",
       "      <td>Fashion Outdoor Canvas Casual Light Weight Lac...</td>\n",
       "      <td>₹183</td>\n",
       "    </tr>\n",
       "    <tr>\n",
       "      <th>11</th>\n",
       "      <td>BIRDE</td>\n",
       "      <td>Sneakers For Men</td>\n",
       "      <td>₹301</td>\n",
       "    </tr>\n",
       "    <tr>\n",
       "      <th>12</th>\n",
       "      <td>RODDICK SHOES</td>\n",
       "      <td>Unique &amp; Perfect Collection Combo Pack of 02 S...</td>\n",
       "      <td>₹430</td>\n",
       "    </tr>\n",
       "    <tr>\n",
       "      <th>13</th>\n",
       "      <td>Deals4you</td>\n",
       "      <td>Stylish Party Wear Fashionable Lightweight New...</td>\n",
       "      <td>₹376</td>\n",
       "    </tr>\n",
       "    <tr>\n",
       "      <th>14</th>\n",
       "      <td>T-ROCK</td>\n",
       "      <td>Stylish Comfortable Lightweight, Breathable Ca...</td>\n",
       "      <td>₹249</td>\n",
       "    </tr>\n",
       "    <tr>\n",
       "      <th>15</th>\n",
       "      <td>SPARX</td>\n",
       "      <td>Sneakers For Men</td>\n",
       "      <td>₹799</td>\n",
       "    </tr>\n",
       "    <tr>\n",
       "      <th>16</th>\n",
       "      <td>Chevit</td>\n",
       "      <td>9019 Sneakers For Men</td>\n",
       "      <td>₹449</td>\n",
       "    </tr>\n",
       "    <tr>\n",
       "      <th>17</th>\n",
       "      <td>Elevarse</td>\n",
       "      <td>Sneakers For Men</td>\n",
       "      <td>₹308</td>\n",
       "    </tr>\n",
       "    <tr>\n",
       "      <th>18</th>\n",
       "      <td>OUTALYFE</td>\n",
       "      <td>Sneakers For Men</td>\n",
       "      <td>₹435</td>\n",
       "    </tr>\n",
       "    <tr>\n",
       "      <th>19</th>\n",
       "      <td>New LImits</td>\n",
       "      <td>Stylish &amp; Trending Outdoor Walking Comfortable...</td>\n",
       "      <td>₹1,449</td>\n",
       "    </tr>\n",
       "  </tbody>\n",
       "</table>\n",
       "</div>"
      ],
      "text/plain": [
       "               Brand Name                                Prodect Description  \\\n",
       "0     World Wear Footwear  Latest Collection Black-349 Trendy & Stylish C...   \n",
       "1            Robbie jones                                   Sneakers For Men   \n",
       "2               DUNKASTON  casual sneaker shoes and partywear shoes Sneak...   \n",
       "3   HRX by Hrithik Roshan                                   Sneakers For Men   \n",
       "4              Shoes Bank     White Sneaker For Men's/Boy's Sneakers For Men   \n",
       "5                   Xtoon  white Casual shoes,Sneakers for men's Sneakers...   \n",
       "6                  Kzaara                                   Sneakers For Men   \n",
       "7                     GVR  Casual Sneakers White Shoes For Men Sneakers F...   \n",
       "8            Robbie jones          sneaker men red 1258 - 6 Sneakers For Men   \n",
       "9                RapidBox  Stylish Comfortable Lightweight, Breathable Wa...   \n",
       "10                Airland  Fashion Outdoor Canvas Casual Light Weight Lac...   \n",
       "11                  BIRDE                                   Sneakers For Men   \n",
       "12          RODDICK SHOES  Unique & Perfect Collection Combo Pack of 02 S...   \n",
       "13              Deals4you  Stylish Party Wear Fashionable Lightweight New...   \n",
       "14                 T-ROCK  Stylish Comfortable Lightweight, Breathable Ca...   \n",
       "15                  SPARX                                   Sneakers For Men   \n",
       "16                 Chevit                              9019 Sneakers For Men   \n",
       "17               Elevarse                                   Sneakers For Men   \n",
       "18               OUTALYFE                                   Sneakers For Men   \n",
       "19             New LImits  Stylish & Trending Outdoor Walking Comfortable...   \n",
       "\n",
       "     Price  \n",
       "0     ₹249  \n",
       "1     ₹424  \n",
       "2     ₹449  \n",
       "3   ₹1,741  \n",
       "4     ₹349  \n",
       "5     ₹449  \n",
       "6     ₹209  \n",
       "7     ₹349  \n",
       "8     ₹424  \n",
       "9     ₹670  \n",
       "10    ₹183  \n",
       "11    ₹301  \n",
       "12    ₹430  \n",
       "13    ₹376  \n",
       "14    ₹249  \n",
       "15    ₹799  \n",
       "16    ₹449  \n",
       "17    ₹308  \n",
       "18    ₹435  \n",
       "19  ₹1,449  "
      ]
     },
     "execution_count": 260,
     "metadata": {},
     "output_type": "execute_result"
    }
   ],
   "source": [
    "sneakers32=pd.DataFrame({'Brand Name':brand_name32[:20],\"Prodect Description\":prod_des32[:20],\"Price\":price32[:20]})\n",
    "sneakers32"
   ]
  },
  {
   "cell_type": "code",
   "execution_count": 261,
   "id": "099b321d",
   "metadata": {},
   "outputs": [],
   "source": [
    "driver.close()"
   ]
  },
  {
   "cell_type": "markdown",
   "id": "ef815471",
   "metadata": {},
   "source": [
    "### Que.7"
   ]
  },
  {
   "cell_type": "code",
   "execution_count": 262,
   "id": "164c51a8",
   "metadata": {},
   "outputs": [],
   "source": [
    "driver=webdriver.Chrome('chromedriver.exe')\n",
    "time.sleep(2)"
   ]
  },
  {
   "cell_type": "code",
   "execution_count": 263,
   "id": "29799383",
   "metadata": {},
   "outputs": [],
   "source": [
    "driver.get(\"https://www.myntra.com/shoes\")"
   ]
  },
  {
   "cell_type": "code",
   "execution_count": 267,
   "id": "44fd20ba",
   "metadata": {},
   "outputs": [],
   "source": [
    "price_filter=driver.find_element_by_xpath(\"/html/body/div[2]/div/div[1]/main/div[3]/div[1]/section/div/div[5]/ul/li[2]/label/div\")\n",
    "price_filter.click()"
   ]
  },
  {
   "cell_type": "code",
   "execution_count": 265,
   "id": "40bdb32f",
   "metadata": {},
   "outputs": [],
   "source": [
    "color_filter=driver.find_element_by_xpath(\"/html/body/div[2]/div/div[1]/main/div[3]/div[1]/section/div/div[6]/ul/li[1]/label/div\")\n",
    "color_filter.click()"
   ]
  },
  {
   "cell_type": "code",
   "execution_count": 284,
   "id": "b4eb2210",
   "metadata": {},
   "outputs": [],
   "source": [
    "brand_name=[]\n",
    "shoe_des=[]\n",
    "price=[]"
   ]
  },
  {
   "cell_type": "code",
   "execution_count": 285,
   "id": "9dafa46f",
   "metadata": {},
   "outputs": [
    {
     "data": {
      "text/plain": [
       "[<selenium.webdriver.remote.webelement.WebElement (session=\"5debb4b0c8fc0e6537a468af6c863d8a\", element=\"bd5e6e46-8397-44bd-b0e7-5c815345b3b7\")>,\n",
       " <selenium.webdriver.remote.webelement.WebElement (session=\"5debb4b0c8fc0e6537a468af6c863d8a\", element=\"46e9d59e-580e-4acb-94c0-b834c82714f6\")>,\n",
       " <selenium.webdriver.remote.webelement.WebElement (session=\"5debb4b0c8fc0e6537a468af6c863d8a\", element=\"56b5572e-0579-45b6-810b-b85e0529fc23\")>,\n",
       " <selenium.webdriver.remote.webelement.WebElement (session=\"5debb4b0c8fc0e6537a468af6c863d8a\", element=\"0dcffe37-3a43-41a6-a5c4-df47ab826f4b\")>,\n",
       " <selenium.webdriver.remote.webelement.WebElement (session=\"5debb4b0c8fc0e6537a468af6c863d8a\", element=\"e0ee4968-f00a-49ca-8cf4-6d19e88bb30e\")>,\n",
       " <selenium.webdriver.remote.webelement.WebElement (session=\"5debb4b0c8fc0e6537a468af6c863d8a\", element=\"b3f71da2-86f9-48fd-8887-f9e9e6750d97\")>,\n",
       " <selenium.webdriver.remote.webelement.WebElement (session=\"5debb4b0c8fc0e6537a468af6c863d8a\", element=\"809fa61f-a6f7-4ffb-ae9c-2c8d17b66f06\")>,\n",
       " <selenium.webdriver.remote.webelement.WebElement (session=\"5debb4b0c8fc0e6537a468af6c863d8a\", element=\"090b4ffc-16c2-40b6-b70e-fa0309ddd5b0\")>,\n",
       " <selenium.webdriver.remote.webelement.WebElement (session=\"5debb4b0c8fc0e6537a468af6c863d8a\", element=\"29bb525c-1bb7-48c7-b6c5-af760e32a7a8\")>,\n",
       " <selenium.webdriver.remote.webelement.WebElement (session=\"5debb4b0c8fc0e6537a468af6c863d8a\", element=\"c6bc3c09-7d91-4baa-914e-8607fee44e2f\")>,\n",
       " <selenium.webdriver.remote.webelement.WebElement (session=\"5debb4b0c8fc0e6537a468af6c863d8a\", element=\"9ba1e5d3-d026-4ab7-adb3-2bec69ff135b\")>,\n",
       " <selenium.webdriver.remote.webelement.WebElement (session=\"5debb4b0c8fc0e6537a468af6c863d8a\", element=\"08904c50-e957-41c9-b4e3-65aa62ec072a\")>,\n",
       " <selenium.webdriver.remote.webelement.WebElement (session=\"5debb4b0c8fc0e6537a468af6c863d8a\", element=\"a01992cf-733b-48bc-b5ec-3e420ef96745\")>,\n",
       " <selenium.webdriver.remote.webelement.WebElement (session=\"5debb4b0c8fc0e6537a468af6c863d8a\", element=\"c7d833f4-9afc-436d-9d6f-29a111fc4a67\")>,\n",
       " <selenium.webdriver.remote.webelement.WebElement (session=\"5debb4b0c8fc0e6537a468af6c863d8a\", element=\"c05b94a6-48de-48da-84ce-1224e88b74ba\")>,\n",
       " <selenium.webdriver.remote.webelement.WebElement (session=\"5debb4b0c8fc0e6537a468af6c863d8a\", element=\"2b583ec4-8fb6-4cc3-9343-d5ee35e3702f\")>,\n",
       " <selenium.webdriver.remote.webelement.WebElement (session=\"5debb4b0c8fc0e6537a468af6c863d8a\", element=\"9c1c6542-83b2-425a-95be-ca7843df6988\")>,\n",
       " <selenium.webdriver.remote.webelement.WebElement (session=\"5debb4b0c8fc0e6537a468af6c863d8a\", element=\"712dbf3d-5018-4b0c-87c5-817d5008a2ad\")>,\n",
       " <selenium.webdriver.remote.webelement.WebElement (session=\"5debb4b0c8fc0e6537a468af6c863d8a\", element=\"49946f01-6872-424b-8cf0-71210e7d9078\")>,\n",
       " <selenium.webdriver.remote.webelement.WebElement (session=\"5debb4b0c8fc0e6537a468af6c863d8a\", element=\"69beba07-b631-4e5b-92d4-d7bae14a33e6\")>,\n",
       " <selenium.webdriver.remote.webelement.WebElement (session=\"5debb4b0c8fc0e6537a468af6c863d8a\", element=\"b7a4b103-fa27-4e90-bcff-855bd0df4708\")>,\n",
       " <selenium.webdriver.remote.webelement.WebElement (session=\"5debb4b0c8fc0e6537a468af6c863d8a\", element=\"a707f8a5-5c4b-4a21-a407-50a0e5d0f627\")>,\n",
       " <selenium.webdriver.remote.webelement.WebElement (session=\"5debb4b0c8fc0e6537a468af6c863d8a\", element=\"1f1e1b18-2514-4ef3-9b01-d813a108ba83\")>,\n",
       " <selenium.webdriver.remote.webelement.WebElement (session=\"5debb4b0c8fc0e6537a468af6c863d8a\", element=\"9d4aec4c-645c-4e07-b026-11bc0053f9e7\")>,\n",
       " <selenium.webdriver.remote.webelement.WebElement (session=\"5debb4b0c8fc0e6537a468af6c863d8a\", element=\"07faea2e-a190-4040-a657-d6b61b13df1a\")>,\n",
       " <selenium.webdriver.remote.webelement.WebElement (session=\"5debb4b0c8fc0e6537a468af6c863d8a\", element=\"d6f2bbc8-3d83-434c-b956-21263e4b8d0a\")>,\n",
       " <selenium.webdriver.remote.webelement.WebElement (session=\"5debb4b0c8fc0e6537a468af6c863d8a\", element=\"e571483d-27ee-41e6-9ce4-e982f42a0355\")>,\n",
       " <selenium.webdriver.remote.webelement.WebElement (session=\"5debb4b0c8fc0e6537a468af6c863d8a\", element=\"69c17332-b22e-45f9-b174-1a99bca9ba02\")>,\n",
       " <selenium.webdriver.remote.webelement.WebElement (session=\"5debb4b0c8fc0e6537a468af6c863d8a\", element=\"4ae8cde8-81d9-49cd-b7ec-ff81624a079b\")>,\n",
       " <selenium.webdriver.remote.webelement.WebElement (session=\"5debb4b0c8fc0e6537a468af6c863d8a\", element=\"0958a8b5-8f4e-47ca-af75-b19cf20c9969\")>,\n",
       " <selenium.webdriver.remote.webelement.WebElement (session=\"5debb4b0c8fc0e6537a468af6c863d8a\", element=\"cd6d4ecc-8959-4f8b-80f9-04991d4d0a98\")>,\n",
       " <selenium.webdriver.remote.webelement.WebElement (session=\"5debb4b0c8fc0e6537a468af6c863d8a\", element=\"1429600a-4498-496b-9f36-be511733754a\")>,\n",
       " <selenium.webdriver.remote.webelement.WebElement (session=\"5debb4b0c8fc0e6537a468af6c863d8a\", element=\"25d1cd7f-2a94-4cff-9da3-6afd8a1a859e\")>,\n",
       " <selenium.webdriver.remote.webelement.WebElement (session=\"5debb4b0c8fc0e6537a468af6c863d8a\", element=\"651e2264-6b58-4bc0-b2c4-416f9c50c933\")>,\n",
       " <selenium.webdriver.remote.webelement.WebElement (session=\"5debb4b0c8fc0e6537a468af6c863d8a\", element=\"8c07c1e4-b15b-49d1-b1c4-ea9b7cdd57a1\")>,\n",
       " <selenium.webdriver.remote.webelement.WebElement (session=\"5debb4b0c8fc0e6537a468af6c863d8a\", element=\"0f7d07e6-6d7a-471b-ad5e-9f90a427eac3\")>,\n",
       " <selenium.webdriver.remote.webelement.WebElement (session=\"5debb4b0c8fc0e6537a468af6c863d8a\", element=\"81a2e9c8-940b-4c27-9d1c-c6471ff3c8b2\")>,\n",
       " <selenium.webdriver.remote.webelement.WebElement (session=\"5debb4b0c8fc0e6537a468af6c863d8a\", element=\"f98f3004-ee63-4cae-aec5-6994b060ab71\")>,\n",
       " <selenium.webdriver.remote.webelement.WebElement (session=\"5debb4b0c8fc0e6537a468af6c863d8a\", element=\"578ea258-e335-4815-bbd0-53549ec8bbdc\")>,\n",
       " <selenium.webdriver.remote.webelement.WebElement (session=\"5debb4b0c8fc0e6537a468af6c863d8a\", element=\"5f2d7b0d-7452-4ef3-b68f-507acd75f0ff\")>,\n",
       " <selenium.webdriver.remote.webelement.WebElement (session=\"5debb4b0c8fc0e6537a468af6c863d8a\", element=\"3297c385-9f9c-4d4d-83fe-4a62a931246d\")>,\n",
       " <selenium.webdriver.remote.webelement.WebElement (session=\"5debb4b0c8fc0e6537a468af6c863d8a\", element=\"ed07f9c2-46f5-43e3-ab83-4c932bd9dc04\")>,\n",
       " <selenium.webdriver.remote.webelement.WebElement (session=\"5debb4b0c8fc0e6537a468af6c863d8a\", element=\"d5a79dcb-199c-4693-a5fc-f0c8e4e82030\")>,\n",
       " <selenium.webdriver.remote.webelement.WebElement (session=\"5debb4b0c8fc0e6537a468af6c863d8a\", element=\"39d364a7-8103-4cba-b3e4-4b58b5137c9b\")>,\n",
       " <selenium.webdriver.remote.webelement.WebElement (session=\"5debb4b0c8fc0e6537a468af6c863d8a\", element=\"ffe4707a-1653-4814-8df4-ab3f760bb0fa\")>,\n",
       " <selenium.webdriver.remote.webelement.WebElement (session=\"5debb4b0c8fc0e6537a468af6c863d8a\", element=\"cc29dac6-1b6f-4fe9-91a1-0daeed8c6663\")>,\n",
       " <selenium.webdriver.remote.webelement.WebElement (session=\"5debb4b0c8fc0e6537a468af6c863d8a\", element=\"272497b4-a2fe-4df9-824c-ab4906edc727\")>,\n",
       " <selenium.webdriver.remote.webelement.WebElement (session=\"5debb4b0c8fc0e6537a468af6c863d8a\", element=\"33781b7c-ae7c-4c46-94fe-dbe6ddc38e79\")>,\n",
       " <selenium.webdriver.remote.webelement.WebElement (session=\"5debb4b0c8fc0e6537a468af6c863d8a\", element=\"f0704771-dd94-4c5b-bea4-e80ccaaf72f8\")>,\n",
       " <selenium.webdriver.remote.webelement.WebElement (session=\"5debb4b0c8fc0e6537a468af6c863d8a\", element=\"3c720edc-63f9-4bec-8265-4c9ce3d1ab63\")>]"
      ]
     },
     "execution_count": 285,
     "metadata": {},
     "output_type": "execute_result"
    }
   ],
   "source": [
    "name_t=driver.find_elements_by_xpath(\"//h3[@class='product-brand']\")\n",
    "name_t"
   ]
  },
  {
   "cell_type": "code",
   "execution_count": 286,
   "id": "ff4485e2",
   "metadata": {},
   "outputs": [
    {
     "data": {
      "text/plain": [
       "['Skechers',\n",
       " 'ALDO',\n",
       " 'Skechers',\n",
       " 'ADIDAS',\n",
       " 'ALDO',\n",
       " 'ALDO',\n",
       " 'Hush Puppies',\n",
       " 'Puma',\n",
       " 'Skechers',\n",
       " 'ALDO',\n",
       " 'Puma',\n",
       " 'Nike',\n",
       " 'Columbia',\n",
       " 'Reebok',\n",
       " 'Puma',\n",
       " 'Hush Puppies',\n",
       " 'PUMA Motorsport',\n",
       " 'PUMA Motorsport',\n",
       " 'ADIDAS',\n",
       " 'Bugatti',\n",
       " 'Puma',\n",
       " 'ADIDAS',\n",
       " 'Puma',\n",
       " 'DAVINCHI',\n",
       " 'Clarks',\n",
       " 'Hush Puppies',\n",
       " 'Hush Puppies',\n",
       " 'Bugatti',\n",
       " 'PUMA Motorsport',\n",
       " 'Puma',\n",
       " 'Tommy Hilfiger',\n",
       " 'Bugatti',\n",
       " 'PUMA Motorsport',\n",
       " 'ADIDAS',\n",
       " 'Tommy Hilfiger',\n",
       " 'Tommy Hilfiger',\n",
       " 'ADIDAS Originals',\n",
       " 'PUMA Motorsport',\n",
       " 'PUMA Motorsport',\n",
       " 'PUMA Motorsport',\n",
       " 'Puma',\n",
       " 'Tommy Hilfiger',\n",
       " 'Saint G',\n",
       " 'Puma',\n",
       " 'DEL MONDO',\n",
       " 'Bugatti',\n",
       " 'ADIDAS',\n",
       " 'PUMA Hoops',\n",
       " 'DAVINCHI',\n",
       " 'ADIDAS']"
      ]
     },
     "execution_count": 286,
     "metadata": {},
     "output_type": "execute_result"
    }
   ],
   "source": [
    "for i in name_t:\n",
    "    name=i.text\n",
    "    brand_name.append(name)\n",
    "brand_name"
   ]
  },
  {
   "cell_type": "code",
   "execution_count": 287,
   "id": "24e1d96e",
   "metadata": {},
   "outputs": [
    {
     "data": {
      "text/plain": [
       "[<selenium.webdriver.remote.webelement.WebElement (session=\"5debb4b0c8fc0e6537a468af6c863d8a\", element=\"a0c019bd-340f-48fd-83f0-dec48b6bd6c4\")>,\n",
       " <selenium.webdriver.remote.webelement.WebElement (session=\"5debb4b0c8fc0e6537a468af6c863d8a\", element=\"db06a912-70fc-4aa9-9adb-15e93440ecba\")>,\n",
       " <selenium.webdriver.remote.webelement.WebElement (session=\"5debb4b0c8fc0e6537a468af6c863d8a\", element=\"088cb682-1457-491f-9089-6877fad6988b\")>,\n",
       " <selenium.webdriver.remote.webelement.WebElement (session=\"5debb4b0c8fc0e6537a468af6c863d8a\", element=\"717c9ad1-7e9c-4619-b18a-68185c59c455\")>,\n",
       " <selenium.webdriver.remote.webelement.WebElement (session=\"5debb4b0c8fc0e6537a468af6c863d8a\", element=\"d6550f5b-d274-46ef-85da-6ddb0591e5f6\")>,\n",
       " <selenium.webdriver.remote.webelement.WebElement (session=\"5debb4b0c8fc0e6537a468af6c863d8a\", element=\"86778689-1510-4928-8764-9888d7c9e28f\")>,\n",
       " <selenium.webdriver.remote.webelement.WebElement (session=\"5debb4b0c8fc0e6537a468af6c863d8a\", element=\"70357ffb-ddf9-41c9-8cc9-9520a3fb1443\")>,\n",
       " <selenium.webdriver.remote.webelement.WebElement (session=\"5debb4b0c8fc0e6537a468af6c863d8a\", element=\"667cb640-672d-461e-9aad-7950aa2591c9\")>,\n",
       " <selenium.webdriver.remote.webelement.WebElement (session=\"5debb4b0c8fc0e6537a468af6c863d8a\", element=\"0798b81c-5003-4329-93e1-70bf67304d5b\")>,\n",
       " <selenium.webdriver.remote.webelement.WebElement (session=\"5debb4b0c8fc0e6537a468af6c863d8a\", element=\"55e49d1e-6111-41b7-a5d1-c0d66d4fd9d6\")>,\n",
       " <selenium.webdriver.remote.webelement.WebElement (session=\"5debb4b0c8fc0e6537a468af6c863d8a\", element=\"89c4fb91-7c56-4698-8d1c-8d5fcf14ae38\")>,\n",
       " <selenium.webdriver.remote.webelement.WebElement (session=\"5debb4b0c8fc0e6537a468af6c863d8a\", element=\"6c606ed0-169d-44f4-bc29-9e588b81bf0d\")>,\n",
       " <selenium.webdriver.remote.webelement.WebElement (session=\"5debb4b0c8fc0e6537a468af6c863d8a\", element=\"ac7ff0c9-6d8d-43b4-ad17-a1c382afbe15\")>,\n",
       " <selenium.webdriver.remote.webelement.WebElement (session=\"5debb4b0c8fc0e6537a468af6c863d8a\", element=\"73bd5da2-715c-4d4d-a6c7-9372009dde13\")>,\n",
       " <selenium.webdriver.remote.webelement.WebElement (session=\"5debb4b0c8fc0e6537a468af6c863d8a\", element=\"13ab2516-2b11-47af-bd96-0c0d3a61329b\")>,\n",
       " <selenium.webdriver.remote.webelement.WebElement (session=\"5debb4b0c8fc0e6537a468af6c863d8a\", element=\"3cec4086-0ab4-4643-8458-f52c46f0e8cf\")>,\n",
       " <selenium.webdriver.remote.webelement.WebElement (session=\"5debb4b0c8fc0e6537a468af6c863d8a\", element=\"dbe406a9-3034-4311-84bd-d11be211ae4e\")>,\n",
       " <selenium.webdriver.remote.webelement.WebElement (session=\"5debb4b0c8fc0e6537a468af6c863d8a\", element=\"e191f98c-5899-446d-957c-b62fb94b26a5\")>,\n",
       " <selenium.webdriver.remote.webelement.WebElement (session=\"5debb4b0c8fc0e6537a468af6c863d8a\", element=\"82dc057e-1f2e-4620-8073-88a2bcb75a16\")>,\n",
       " <selenium.webdriver.remote.webelement.WebElement (session=\"5debb4b0c8fc0e6537a468af6c863d8a\", element=\"f38c689a-a687-491b-9dcd-90aecd825038\")>,\n",
       " <selenium.webdriver.remote.webelement.WebElement (session=\"5debb4b0c8fc0e6537a468af6c863d8a\", element=\"23f715ff-bd8b-4b28-8824-9a520dfd5690\")>,\n",
       " <selenium.webdriver.remote.webelement.WebElement (session=\"5debb4b0c8fc0e6537a468af6c863d8a\", element=\"a9b96443-b172-4447-922c-d8490f08d049\")>,\n",
       " <selenium.webdriver.remote.webelement.WebElement (session=\"5debb4b0c8fc0e6537a468af6c863d8a\", element=\"a49d97d7-ca7d-48b3-b935-495ace8cbe8e\")>,\n",
       " <selenium.webdriver.remote.webelement.WebElement (session=\"5debb4b0c8fc0e6537a468af6c863d8a\", element=\"0115aded-28c9-41cd-a51a-cdf62039bf76\")>,\n",
       " <selenium.webdriver.remote.webelement.WebElement (session=\"5debb4b0c8fc0e6537a468af6c863d8a\", element=\"9ea907cf-e848-4932-b1e1-3e2639bdc297\")>,\n",
       " <selenium.webdriver.remote.webelement.WebElement (session=\"5debb4b0c8fc0e6537a468af6c863d8a\", element=\"a6b4e5b0-1eb6-4c5f-923f-a733fe480837\")>,\n",
       " <selenium.webdriver.remote.webelement.WebElement (session=\"5debb4b0c8fc0e6537a468af6c863d8a\", element=\"e78d2a29-9391-4bd6-96c2-b2755fb292c8\")>,\n",
       " <selenium.webdriver.remote.webelement.WebElement (session=\"5debb4b0c8fc0e6537a468af6c863d8a\", element=\"07a718f4-4874-478b-8bc2-5617f8b482fc\")>,\n",
       " <selenium.webdriver.remote.webelement.WebElement (session=\"5debb4b0c8fc0e6537a468af6c863d8a\", element=\"8d6a4417-0c14-428e-b1d6-d27e63a77ecb\")>,\n",
       " <selenium.webdriver.remote.webelement.WebElement (session=\"5debb4b0c8fc0e6537a468af6c863d8a\", element=\"86ef9239-fedd-49a5-b976-6a0bfdb77798\")>,\n",
       " <selenium.webdriver.remote.webelement.WebElement (session=\"5debb4b0c8fc0e6537a468af6c863d8a\", element=\"03eb48b6-7a9a-4662-9ae9-656a0c883974\")>,\n",
       " <selenium.webdriver.remote.webelement.WebElement (session=\"5debb4b0c8fc0e6537a468af6c863d8a\", element=\"164f6559-5ab1-4212-aaba-30a69a87243c\")>,\n",
       " <selenium.webdriver.remote.webelement.WebElement (session=\"5debb4b0c8fc0e6537a468af6c863d8a\", element=\"d51ccb60-6c60-4ce3-926d-a8351505cfd4\")>,\n",
       " <selenium.webdriver.remote.webelement.WebElement (session=\"5debb4b0c8fc0e6537a468af6c863d8a\", element=\"798172d9-b202-4324-bf2a-0f2297475ff4\")>,\n",
       " <selenium.webdriver.remote.webelement.WebElement (session=\"5debb4b0c8fc0e6537a468af6c863d8a\", element=\"def20dfb-a65a-4f1a-8ba0-938917ed3bd6\")>,\n",
       " <selenium.webdriver.remote.webelement.WebElement (session=\"5debb4b0c8fc0e6537a468af6c863d8a\", element=\"2a628f59-5a58-470c-ac0f-14ffabb0d107\")>,\n",
       " <selenium.webdriver.remote.webelement.WebElement (session=\"5debb4b0c8fc0e6537a468af6c863d8a\", element=\"d6064ccd-19be-47be-b639-ccf1270def98\")>,\n",
       " <selenium.webdriver.remote.webelement.WebElement (session=\"5debb4b0c8fc0e6537a468af6c863d8a\", element=\"0db58e69-4df1-4c93-9f59-6fba850e0cfc\")>,\n",
       " <selenium.webdriver.remote.webelement.WebElement (session=\"5debb4b0c8fc0e6537a468af6c863d8a\", element=\"a76aaf35-5e9d-4672-8a7e-3be3b74f0941\")>,\n",
       " <selenium.webdriver.remote.webelement.WebElement (session=\"5debb4b0c8fc0e6537a468af6c863d8a\", element=\"b1434a93-650c-4ee9-89f3-6abf420b9d50\")>,\n",
       " <selenium.webdriver.remote.webelement.WebElement (session=\"5debb4b0c8fc0e6537a468af6c863d8a\", element=\"7838043d-aa51-48c0-9205-f28dc9b55b6d\")>,\n",
       " <selenium.webdriver.remote.webelement.WebElement (session=\"5debb4b0c8fc0e6537a468af6c863d8a\", element=\"c4d3e464-d026-49c2-9574-407e286d51d3\")>,\n",
       " <selenium.webdriver.remote.webelement.WebElement (session=\"5debb4b0c8fc0e6537a468af6c863d8a\", element=\"5d1b8fec-c2ed-452f-8b94-d507bf2d9130\")>,\n",
       " <selenium.webdriver.remote.webelement.WebElement (session=\"5debb4b0c8fc0e6537a468af6c863d8a\", element=\"cb7fa40c-94e9-41e4-a52a-74bc74ae99dc\")>,\n",
       " <selenium.webdriver.remote.webelement.WebElement (session=\"5debb4b0c8fc0e6537a468af6c863d8a\", element=\"9753a7ff-70b1-4c40-9a9b-76cabdb460b7\")>,\n",
       " <selenium.webdriver.remote.webelement.WebElement (session=\"5debb4b0c8fc0e6537a468af6c863d8a\", element=\"d2dad656-97a2-40b4-ab9d-c2927949ae9e\")>,\n",
       " <selenium.webdriver.remote.webelement.WebElement (session=\"5debb4b0c8fc0e6537a468af6c863d8a\", element=\"4788e6e0-f0d5-45fc-97ec-f6ae688bcb81\")>,\n",
       " <selenium.webdriver.remote.webelement.WebElement (session=\"5debb4b0c8fc0e6537a468af6c863d8a\", element=\"bb3c8f84-aa4e-4784-b2fd-e9d8b77218d3\")>,\n",
       " <selenium.webdriver.remote.webelement.WebElement (session=\"5debb4b0c8fc0e6537a468af6c863d8a\", element=\"528f1478-fe50-49c9-9f42-abbf3fb47fd3\")>,\n",
       " <selenium.webdriver.remote.webelement.WebElement (session=\"5debb4b0c8fc0e6537a468af6c863d8a\", element=\"43382e98-3ef3-4251-b863-dfdb96d37f2e\")>]"
      ]
     },
     "execution_count": 287,
     "metadata": {},
     "output_type": "execute_result"
    }
   ],
   "source": [
    "shoe_desc=driver.find_elements_by_xpath(\"//h4[@class='product-product']\")\n",
    "shoe_desc"
   ]
  },
  {
   "cell_type": "code",
   "execution_count": 288,
   "id": "bda15bb0",
   "metadata": {},
   "outputs": [
    {
     "data": {
      "text/plain": [
       "['Men Walking Shoes',\n",
       " 'Men Leather Driving Shoes',\n",
       " 'Men Max Cushioning Running',\n",
       " 'Men Dropset Training Shoes',\n",
       " 'Men Printed Sneakers',\n",
       " 'Men Woven Design Sneakers',\n",
       " 'Men Solid Leather Formal Slip-Ons',\n",
       " 'Men Colourblocked RS-Z Core',\n",
       " 'Men Sky Vault Walking Shoes',\n",
       " 'Men Leather Loafers',\n",
       " 'Eternity Nitro Running Shoes',\n",
       " 'Men Air Max Dawn Sneakers',\n",
       " 'Men FACET OUTDRY Trekking Shoe',\n",
       " 'Men Zig Dynamica 2.0 Running',\n",
       " 'Electrify Nitro Running Shoes',\n",
       " 'Men Formal Derbys',\n",
       " 'Ferrari X-Ray Speed Sneakers',\n",
       " 'Unisex Ferrari IONSpeed',\n",
       " 'Men Sl20.3 Running Shoes',\n",
       " 'Men Solid Sneakers',\n",
       " 'Men Golf Shoes',\n",
       " 'Men Solar Glide 5 Running Shoe',\n",
       " 'Men Deviate Nitro Shoes',\n",
       " 'Men Solid Leather Formal Loafers',\n",
       " 'Men Leather Derbys',\n",
       " 'Men Solid Leather Formal Slip-Ons',\n",
       " 'Men Solid Formal Slip-Ons',\n",
       " 'Men Leather Driving Shoes',\n",
       " 'Unisex Ferrari Drift Cat Delta',\n",
       " 'Women Kosmo Rider DC5 Sneakers',\n",
       " 'Men Textured Loafers',\n",
       " 'Men Black Formal Derby Shoes',\n",
       " 'Men ZenonSpeed Sneakers',\n",
       " 'Women Supernova Running Shoes',\n",
       " 'Men Flexi Sneakers',\n",
       " 'Men Leather Sneakers',\n",
       " 'Men Solid Retropy F2 Sneakers',\n",
       " 'Unisex Mercedes F1 R-Cat',\n",
       " 'Unisex Ferrari Neo Cat Sneaker',\n",
       " 'Ferrari R-Cat Machina Sneakers',\n",
       " 'Women XT FTR Training Shoes',\n",
       " 'Men Textured Loafers',\n",
       " 'Leather Block Sandals',\n",
       " 'Unisex KING Top FG Shoes',\n",
       " 'Men Leather Sneakers',\n",
       " 'Men Leather Monks',\n",
       " 'Women KarlieKlossX9000 Running',\n",
       " 'Men Basketball Shoes',\n",
       " 'Men Textured Formal Leather Loafers',\n",
       " 'Women Dropset Training Shoes']"
      ]
     },
     "execution_count": 288,
     "metadata": {},
     "output_type": "execute_result"
    }
   ],
   "source": [
    "for i in shoe_desc:\n",
    "    shoe=i.text\n",
    "    shoe_des.append(shoe)\n",
    "shoe_des"
   ]
  },
  {
   "cell_type": "code",
   "execution_count": 289,
   "id": "3a1e3a93",
   "metadata": {},
   "outputs": [
    {
     "data": {
      "text/plain": [
       "[<selenium.webdriver.remote.webelement.WebElement (session=\"5debb4b0c8fc0e6537a468af6c863d8a\", element=\"072dd8e3-3046-4ea2-94eb-066e6236e9e7\")>,\n",
       " <selenium.webdriver.remote.webelement.WebElement (session=\"5debb4b0c8fc0e6537a468af6c863d8a\", element=\"8a9270e9-3218-403a-8c1d-62813ca065ce\")>,\n",
       " <selenium.webdriver.remote.webelement.WebElement (session=\"5debb4b0c8fc0e6537a468af6c863d8a\", element=\"922d48b2-ecab-4233-8a6c-22bd4cbd441b\")>,\n",
       " <selenium.webdriver.remote.webelement.WebElement (session=\"5debb4b0c8fc0e6537a468af6c863d8a\", element=\"1fcc2a53-3fad-466e-a87a-f7bda38bcc64\")>,\n",
       " <selenium.webdriver.remote.webelement.WebElement (session=\"5debb4b0c8fc0e6537a468af6c863d8a\", element=\"13bd089c-cdb3-43a5-857d-aacca2bf8885\")>,\n",
       " <selenium.webdriver.remote.webelement.WebElement (session=\"5debb4b0c8fc0e6537a468af6c863d8a\", element=\"a2064d24-4947-41b6-b91e-5d0c2114d2bc\")>,\n",
       " <selenium.webdriver.remote.webelement.WebElement (session=\"5debb4b0c8fc0e6537a468af6c863d8a\", element=\"3b7d7cbc-6ad6-47c7-99d8-f53024b58797\")>,\n",
       " <selenium.webdriver.remote.webelement.WebElement (session=\"5debb4b0c8fc0e6537a468af6c863d8a\", element=\"706c7076-8012-4be0-bd19-2ccffeaef2bc\")>,\n",
       " <selenium.webdriver.remote.webelement.WebElement (session=\"5debb4b0c8fc0e6537a468af6c863d8a\", element=\"c460b920-047b-4f3f-ba2f-6764dfd3027b\")>,\n",
       " <selenium.webdriver.remote.webelement.WebElement (session=\"5debb4b0c8fc0e6537a468af6c863d8a\", element=\"64cc9a6d-cad0-4009-9c3a-3abd02947114\")>,\n",
       " <selenium.webdriver.remote.webelement.WebElement (session=\"5debb4b0c8fc0e6537a468af6c863d8a\", element=\"1e58d9e7-adbf-4277-ad09-a61e636d4bcb\")>,\n",
       " <selenium.webdriver.remote.webelement.WebElement (session=\"5debb4b0c8fc0e6537a468af6c863d8a\", element=\"8644b5ed-494d-424c-98a8-3807d6a27f13\")>,\n",
       " <selenium.webdriver.remote.webelement.WebElement (session=\"5debb4b0c8fc0e6537a468af6c863d8a\", element=\"93070aad-9e2d-4ff1-813f-23d3701b1b64\")>,\n",
       " <selenium.webdriver.remote.webelement.WebElement (session=\"5debb4b0c8fc0e6537a468af6c863d8a\", element=\"d895e834-5520-42ca-a6d0-6ed64704d790\")>,\n",
       " <selenium.webdriver.remote.webelement.WebElement (session=\"5debb4b0c8fc0e6537a468af6c863d8a\", element=\"08ae3035-7585-40c7-aa5c-1522f5d3f6d2\")>,\n",
       " <selenium.webdriver.remote.webelement.WebElement (session=\"5debb4b0c8fc0e6537a468af6c863d8a\", element=\"9f7fe427-b537-44f0-9e02-b13ee958b8cb\")>,\n",
       " <selenium.webdriver.remote.webelement.WebElement (session=\"5debb4b0c8fc0e6537a468af6c863d8a\", element=\"f3901553-d71a-4da1-919f-a7094339879d\")>,\n",
       " <selenium.webdriver.remote.webelement.WebElement (session=\"5debb4b0c8fc0e6537a468af6c863d8a\", element=\"5bff94a7-b83a-4285-9f9f-a06d5d0b1f72\")>,\n",
       " <selenium.webdriver.remote.webelement.WebElement (session=\"5debb4b0c8fc0e6537a468af6c863d8a\", element=\"e3a73ce0-419f-4404-8fed-3ad699dbb51f\")>,\n",
       " <selenium.webdriver.remote.webelement.WebElement (session=\"5debb4b0c8fc0e6537a468af6c863d8a\", element=\"fb8d68db-4390-4271-a49c-304c590344e0\")>,\n",
       " <selenium.webdriver.remote.webelement.WebElement (session=\"5debb4b0c8fc0e6537a468af6c863d8a\", element=\"174de272-d5a3-4c49-987f-d29410bafe7b\")>,\n",
       " <selenium.webdriver.remote.webelement.WebElement (session=\"5debb4b0c8fc0e6537a468af6c863d8a\", element=\"ce3cbb9c-02b2-4c9c-ad82-ecd68ae7a21f\")>,\n",
       " <selenium.webdriver.remote.webelement.WebElement (session=\"5debb4b0c8fc0e6537a468af6c863d8a\", element=\"3a2d104e-e4cf-43c4-ae23-403408bc4b90\")>,\n",
       " <selenium.webdriver.remote.webelement.WebElement (session=\"5debb4b0c8fc0e6537a468af6c863d8a\", element=\"7bac134d-686c-441b-b47f-3fb88d1825ad\")>,\n",
       " <selenium.webdriver.remote.webelement.WebElement (session=\"5debb4b0c8fc0e6537a468af6c863d8a\", element=\"122d6d8e-d4f8-4166-8b73-af7bfeca5880\")>,\n",
       " <selenium.webdriver.remote.webelement.WebElement (session=\"5debb4b0c8fc0e6537a468af6c863d8a\", element=\"a34cfb1d-8143-4587-acec-897b2c98196a\")>,\n",
       " <selenium.webdriver.remote.webelement.WebElement (session=\"5debb4b0c8fc0e6537a468af6c863d8a\", element=\"f58e2b31-cebd-4078-a40e-089c1b682474\")>,\n",
       " <selenium.webdriver.remote.webelement.WebElement (session=\"5debb4b0c8fc0e6537a468af6c863d8a\", element=\"7d914848-45fa-4c06-bb75-2b703228e27e\")>,\n",
       " <selenium.webdriver.remote.webelement.WebElement (session=\"5debb4b0c8fc0e6537a468af6c863d8a\", element=\"612d31b2-4f27-4a38-bf8b-ecae60a5c4e0\")>,\n",
       " <selenium.webdriver.remote.webelement.WebElement (session=\"5debb4b0c8fc0e6537a468af6c863d8a\", element=\"4ec5a83c-73d9-4cfb-8f76-38f606fc9d65\")>,\n",
       " <selenium.webdriver.remote.webelement.WebElement (session=\"5debb4b0c8fc0e6537a468af6c863d8a\", element=\"fc0262ca-b4f6-4e3f-88a5-9422de0ce71e\")>,\n",
       " <selenium.webdriver.remote.webelement.WebElement (session=\"5debb4b0c8fc0e6537a468af6c863d8a\", element=\"769b9dcc-e1d2-4e43-8599-9fc6e8ade8c6\")>,\n",
       " <selenium.webdriver.remote.webelement.WebElement (session=\"5debb4b0c8fc0e6537a468af6c863d8a\", element=\"5db4025e-96e2-44fd-8449-e33a1842a986\")>,\n",
       " <selenium.webdriver.remote.webelement.WebElement (session=\"5debb4b0c8fc0e6537a468af6c863d8a\", element=\"107226f7-ee0c-4f42-a451-7e85856998a5\")>,\n",
       " <selenium.webdriver.remote.webelement.WebElement (session=\"5debb4b0c8fc0e6537a468af6c863d8a\", element=\"ca2bdce3-276a-4665-bc6f-9a85f2d10882\")>,\n",
       " <selenium.webdriver.remote.webelement.WebElement (session=\"5debb4b0c8fc0e6537a468af6c863d8a\", element=\"6f0b8eae-7e3d-417b-a15b-bbe5a66e1a29\")>,\n",
       " <selenium.webdriver.remote.webelement.WebElement (session=\"5debb4b0c8fc0e6537a468af6c863d8a\", element=\"6c4f9182-0c91-4532-a505-dc0808551663\")>,\n",
       " <selenium.webdriver.remote.webelement.WebElement (session=\"5debb4b0c8fc0e6537a468af6c863d8a\", element=\"1a8a093e-a552-45c6-8f51-0f0eae4c0417\")>,\n",
       " <selenium.webdriver.remote.webelement.WebElement (session=\"5debb4b0c8fc0e6537a468af6c863d8a\", element=\"1565be12-c8df-44f2-bca5-159f9d6d36c8\")>,\n",
       " <selenium.webdriver.remote.webelement.WebElement (session=\"5debb4b0c8fc0e6537a468af6c863d8a\", element=\"283b2eb1-5c0a-4cd4-86b3-c3510edca131\")>,\n",
       " <selenium.webdriver.remote.webelement.WebElement (session=\"5debb4b0c8fc0e6537a468af6c863d8a\", element=\"b7e0f5d7-e688-4464-bca3-9411dadc62b2\")>,\n",
       " <selenium.webdriver.remote.webelement.WebElement (session=\"5debb4b0c8fc0e6537a468af6c863d8a\", element=\"eb75a139-1bcc-4092-8a50-d69c2456476f\")>,\n",
       " <selenium.webdriver.remote.webelement.WebElement (session=\"5debb4b0c8fc0e6537a468af6c863d8a\", element=\"2bdb2548-b110-417e-8214-3c128a68fc8c\")>,\n",
       " <selenium.webdriver.remote.webelement.WebElement (session=\"5debb4b0c8fc0e6537a468af6c863d8a\", element=\"2342ebe8-bf53-4157-bf19-6563475736ac\")>,\n",
       " <selenium.webdriver.remote.webelement.WebElement (session=\"5debb4b0c8fc0e6537a468af6c863d8a\", element=\"0eb84876-04eb-448f-8b9d-25191486cc8b\")>,\n",
       " <selenium.webdriver.remote.webelement.WebElement (session=\"5debb4b0c8fc0e6537a468af6c863d8a\", element=\"3b05fe1a-6184-4c09-9221-714466e9db83\")>,\n",
       " <selenium.webdriver.remote.webelement.WebElement (session=\"5debb4b0c8fc0e6537a468af6c863d8a\", element=\"80c148df-5ee6-4838-b618-7e7e02b3170f\")>,\n",
       " <selenium.webdriver.remote.webelement.WebElement (session=\"5debb4b0c8fc0e6537a468af6c863d8a\", element=\"f8a5f665-8638-47fe-8b78-2b7b9890e0ae\")>,\n",
       " <selenium.webdriver.remote.webelement.WebElement (session=\"5debb4b0c8fc0e6537a468af6c863d8a\", element=\"6816e2af-3a29-4dad-ad5b-96673566398c\")>,\n",
       " <selenium.webdriver.remote.webelement.WebElement (session=\"5debb4b0c8fc0e6537a468af6c863d8a\", element=\"a4586868-d614-4f78-8b51-544eaed6d2fc\")>]"
      ]
     },
     "execution_count": 289,
     "metadata": {},
     "output_type": "execute_result"
    }
   ],
   "source": [
    "price_tag=driver.find_elements_by_xpath(\"//div[@class='product-price']\")\n",
    "price_tag"
   ]
  },
  {
   "cell_type": "code",
   "execution_count": 290,
   "id": "78728501",
   "metadata": {},
   "outputs": [
    {
     "data": {
      "text/plain": [
       "['Rs. 7649Rs. 8999(15% OFF)',\n",
       " 'Rs. 12999',\n",
       " 'Rs. 7649Rs. 8999(15% OFF)',\n",
       " 'Rs. 12999',\n",
       " 'Rs. 9099Rs. 12999(30% OFF)',\n",
       " 'Rs. 13999',\n",
       " 'Rs. 7649Rs. 8999(15% OFF)',\n",
       " 'Rs. 9999',\n",
       " 'Rs. 7199Rs. 8999(20% OFF)',\n",
       " 'Rs. 12999',\n",
       " 'Rs. 12999',\n",
       " 'Rs. 7436Rs. 9295(20% OFF)',\n",
       " 'Rs. 12999',\n",
       " 'Rs. 7999',\n",
       " 'Rs. 9999',\n",
       " 'Rs. 8499Rs. 9999(15% OFF)',\n",
       " 'Rs. 7999',\n",
       " 'Rs. 8999',\n",
       " 'Rs. 11999',\n",
       " 'Rs. 10499',\n",
       " 'Rs. 8999',\n",
       " 'Rs. 13999',\n",
       " 'Rs. 12749Rs. 14999(15% OFF)',\n",
       " 'Rs. 8490',\n",
       " 'Rs. 7499',\n",
       " 'Rs. 8499Rs. 9999(15% OFF)',\n",
       " 'Rs. 8499Rs. 9999(15% OFF)',\n",
       " 'Rs. 8499',\n",
       " 'Rs. 7999',\n",
       " 'Rs. 7999',\n",
       " 'Rs. 8999',\n",
       " 'Rs. 11999',\n",
       " 'Rs. 8999',\n",
       " 'Rs. 9999',\n",
       " 'Rs. 7999',\n",
       " 'Rs. 8599',\n",
       " 'Rs. 8099Rs. 8999(10% OFF)',\n",
       " 'Rs. 7499',\n",
       " 'Rs. 7999',\n",
       " 'Rs. 7499',\n",
       " 'Rs. 7499',\n",
       " 'Rs. 8599',\n",
       " 'Rs. 9810Rs. 10900(10% OFF)',\n",
       " 'Rs. 8999Rs. 11999(25% OFF)',\n",
       " 'Rs. 7890',\n",
       " 'Rs. 8999',\n",
       " 'Rs. 13999',\n",
       " 'Rs. 7999',\n",
       " 'Rs. 8990',\n",
       " 'Rs. 12999']"
      ]
     },
     "execution_count": 290,
     "metadata": {},
     "output_type": "execute_result"
    }
   ],
   "source": [
    "for i in price_tag:\n",
    "    pri=i.text\n",
    "    price.append(pri)\n",
    "price"
   ]
  },
  {
   "cell_type": "code",
   "execution_count": 293,
   "id": "92c01002",
   "metadata": {},
   "outputs": [
    {
     "name": "stdout",
     "output_type": "stream",
     "text": [
      "50 50 50\n"
     ]
    }
   ],
   "source": [
    "print(len(brand_name),len(shoe_desc),len(price))"
   ]
  },
  {
   "cell_type": "code",
   "execution_count": 296,
   "id": "fa9c9691",
   "metadata": {},
   "outputs": [],
   "source": [
    "shoes=pd.DataFrame({'Brand':brand_name,'Description':shoe_des,'Price':price})"
   ]
  },
  {
   "cell_type": "code",
   "execution_count": 297,
   "id": "47f0fd7d",
   "metadata": {},
   "outputs": [
    {
     "data": {
      "text/html": [
       "<div>\n",
       "<style scoped>\n",
       "    .dataframe tbody tr th:only-of-type {\n",
       "        vertical-align: middle;\n",
       "    }\n",
       "\n",
       "    .dataframe tbody tr th {\n",
       "        vertical-align: top;\n",
       "    }\n",
       "\n",
       "    .dataframe thead th {\n",
       "        text-align: right;\n",
       "    }\n",
       "</style>\n",
       "<table border=\"1\" class=\"dataframe\">\n",
       "  <thead>\n",
       "    <tr style=\"text-align: right;\">\n",
       "      <th></th>\n",
       "      <th>Brand</th>\n",
       "      <th>Description</th>\n",
       "      <th>Price</th>\n",
       "    </tr>\n",
       "  </thead>\n",
       "  <tbody>\n",
       "    <tr>\n",
       "      <th>0</th>\n",
       "      <td>Skechers</td>\n",
       "      <td>Men Walking Shoes</td>\n",
       "      <td>Rs. 7649Rs. 8999(15% OFF)</td>\n",
       "    </tr>\n",
       "    <tr>\n",
       "      <th>1</th>\n",
       "      <td>ALDO</td>\n",
       "      <td>Men Leather Driving Shoes</td>\n",
       "      <td>Rs. 12999</td>\n",
       "    </tr>\n",
       "    <tr>\n",
       "      <th>2</th>\n",
       "      <td>Skechers</td>\n",
       "      <td>Men Max Cushioning Running</td>\n",
       "      <td>Rs. 7649Rs. 8999(15% OFF)</td>\n",
       "    </tr>\n",
       "    <tr>\n",
       "      <th>3</th>\n",
       "      <td>ADIDAS</td>\n",
       "      <td>Men Dropset Training Shoes</td>\n",
       "      <td>Rs. 12999</td>\n",
       "    </tr>\n",
       "    <tr>\n",
       "      <th>4</th>\n",
       "      <td>ALDO</td>\n",
       "      <td>Men Printed Sneakers</td>\n",
       "      <td>Rs. 9099Rs. 12999(30% OFF)</td>\n",
       "    </tr>\n",
       "    <tr>\n",
       "      <th>5</th>\n",
       "      <td>ALDO</td>\n",
       "      <td>Men Woven Design Sneakers</td>\n",
       "      <td>Rs. 13999</td>\n",
       "    </tr>\n",
       "    <tr>\n",
       "      <th>6</th>\n",
       "      <td>Hush Puppies</td>\n",
       "      <td>Men Solid Leather Formal Slip-Ons</td>\n",
       "      <td>Rs. 7649Rs. 8999(15% OFF)</td>\n",
       "    </tr>\n",
       "    <tr>\n",
       "      <th>7</th>\n",
       "      <td>Puma</td>\n",
       "      <td>Men Colourblocked RS-Z Core</td>\n",
       "      <td>Rs. 9999</td>\n",
       "    </tr>\n",
       "    <tr>\n",
       "      <th>8</th>\n",
       "      <td>Skechers</td>\n",
       "      <td>Men Sky Vault Walking Shoes</td>\n",
       "      <td>Rs. 7199Rs. 8999(20% OFF)</td>\n",
       "    </tr>\n",
       "    <tr>\n",
       "      <th>9</th>\n",
       "      <td>ALDO</td>\n",
       "      <td>Men Leather Loafers</td>\n",
       "      <td>Rs. 12999</td>\n",
       "    </tr>\n",
       "    <tr>\n",
       "      <th>10</th>\n",
       "      <td>Puma</td>\n",
       "      <td>Eternity Nitro Running Shoes</td>\n",
       "      <td>Rs. 12999</td>\n",
       "    </tr>\n",
       "    <tr>\n",
       "      <th>11</th>\n",
       "      <td>Nike</td>\n",
       "      <td>Men Air Max Dawn Sneakers</td>\n",
       "      <td>Rs. 7436Rs. 9295(20% OFF)</td>\n",
       "    </tr>\n",
       "    <tr>\n",
       "      <th>12</th>\n",
       "      <td>Columbia</td>\n",
       "      <td>Men FACET OUTDRY Trekking Shoe</td>\n",
       "      <td>Rs. 12999</td>\n",
       "    </tr>\n",
       "    <tr>\n",
       "      <th>13</th>\n",
       "      <td>Reebok</td>\n",
       "      <td>Men Zig Dynamica 2.0 Running</td>\n",
       "      <td>Rs. 7999</td>\n",
       "    </tr>\n",
       "    <tr>\n",
       "      <th>14</th>\n",
       "      <td>Puma</td>\n",
       "      <td>Electrify Nitro Running Shoes</td>\n",
       "      <td>Rs. 9999</td>\n",
       "    </tr>\n",
       "    <tr>\n",
       "      <th>15</th>\n",
       "      <td>Hush Puppies</td>\n",
       "      <td>Men Formal Derbys</td>\n",
       "      <td>Rs. 8499Rs. 9999(15% OFF)</td>\n",
       "    </tr>\n",
       "    <tr>\n",
       "      <th>16</th>\n",
       "      <td>PUMA Motorsport</td>\n",
       "      <td>Ferrari X-Ray Speed Sneakers</td>\n",
       "      <td>Rs. 7999</td>\n",
       "    </tr>\n",
       "    <tr>\n",
       "      <th>17</th>\n",
       "      <td>PUMA Motorsport</td>\n",
       "      <td>Unisex Ferrari IONSpeed</td>\n",
       "      <td>Rs. 8999</td>\n",
       "    </tr>\n",
       "    <tr>\n",
       "      <th>18</th>\n",
       "      <td>ADIDAS</td>\n",
       "      <td>Men Sl20.3 Running Shoes</td>\n",
       "      <td>Rs. 11999</td>\n",
       "    </tr>\n",
       "    <tr>\n",
       "      <th>19</th>\n",
       "      <td>Bugatti</td>\n",
       "      <td>Men Solid Sneakers</td>\n",
       "      <td>Rs. 10499</td>\n",
       "    </tr>\n",
       "    <tr>\n",
       "      <th>20</th>\n",
       "      <td>Puma</td>\n",
       "      <td>Men Golf Shoes</td>\n",
       "      <td>Rs. 8999</td>\n",
       "    </tr>\n",
       "    <tr>\n",
       "      <th>21</th>\n",
       "      <td>ADIDAS</td>\n",
       "      <td>Men Solar Glide 5 Running Shoe</td>\n",
       "      <td>Rs. 13999</td>\n",
       "    </tr>\n",
       "    <tr>\n",
       "      <th>22</th>\n",
       "      <td>Puma</td>\n",
       "      <td>Men Deviate Nitro Shoes</td>\n",
       "      <td>Rs. 12749Rs. 14999(15% OFF)</td>\n",
       "    </tr>\n",
       "    <tr>\n",
       "      <th>23</th>\n",
       "      <td>DAVINCHI</td>\n",
       "      <td>Men Solid Leather Formal Loafers</td>\n",
       "      <td>Rs. 8490</td>\n",
       "    </tr>\n",
       "    <tr>\n",
       "      <th>24</th>\n",
       "      <td>Clarks</td>\n",
       "      <td>Men Leather Derbys</td>\n",
       "      <td>Rs. 7499</td>\n",
       "    </tr>\n",
       "    <tr>\n",
       "      <th>25</th>\n",
       "      <td>Hush Puppies</td>\n",
       "      <td>Men Solid Leather Formal Slip-Ons</td>\n",
       "      <td>Rs. 8499Rs. 9999(15% OFF)</td>\n",
       "    </tr>\n",
       "    <tr>\n",
       "      <th>26</th>\n",
       "      <td>Hush Puppies</td>\n",
       "      <td>Men Solid Formal Slip-Ons</td>\n",
       "      <td>Rs. 8499Rs. 9999(15% OFF)</td>\n",
       "    </tr>\n",
       "    <tr>\n",
       "      <th>27</th>\n",
       "      <td>Bugatti</td>\n",
       "      <td>Men Leather Driving Shoes</td>\n",
       "      <td>Rs. 8499</td>\n",
       "    </tr>\n",
       "    <tr>\n",
       "      <th>28</th>\n",
       "      <td>PUMA Motorsport</td>\n",
       "      <td>Unisex Ferrari Drift Cat Delta</td>\n",
       "      <td>Rs. 7999</td>\n",
       "    </tr>\n",
       "    <tr>\n",
       "      <th>29</th>\n",
       "      <td>Puma</td>\n",
       "      <td>Women Kosmo Rider DC5 Sneakers</td>\n",
       "      <td>Rs. 7999</td>\n",
       "    </tr>\n",
       "    <tr>\n",
       "      <th>30</th>\n",
       "      <td>Tommy Hilfiger</td>\n",
       "      <td>Men Textured Loafers</td>\n",
       "      <td>Rs. 8999</td>\n",
       "    </tr>\n",
       "    <tr>\n",
       "      <th>31</th>\n",
       "      <td>Bugatti</td>\n",
       "      <td>Men Black Formal Derby Shoes</td>\n",
       "      <td>Rs. 11999</td>\n",
       "    </tr>\n",
       "    <tr>\n",
       "      <th>32</th>\n",
       "      <td>PUMA Motorsport</td>\n",
       "      <td>Men ZenonSpeed Sneakers</td>\n",
       "      <td>Rs. 8999</td>\n",
       "    </tr>\n",
       "    <tr>\n",
       "      <th>33</th>\n",
       "      <td>ADIDAS</td>\n",
       "      <td>Women Supernova Running Shoes</td>\n",
       "      <td>Rs. 9999</td>\n",
       "    </tr>\n",
       "    <tr>\n",
       "      <th>34</th>\n",
       "      <td>Tommy Hilfiger</td>\n",
       "      <td>Men Flexi Sneakers</td>\n",
       "      <td>Rs. 7999</td>\n",
       "    </tr>\n",
       "    <tr>\n",
       "      <th>35</th>\n",
       "      <td>Tommy Hilfiger</td>\n",
       "      <td>Men Leather Sneakers</td>\n",
       "      <td>Rs. 8599</td>\n",
       "    </tr>\n",
       "    <tr>\n",
       "      <th>36</th>\n",
       "      <td>ADIDAS Originals</td>\n",
       "      <td>Men Solid Retropy F2 Sneakers</td>\n",
       "      <td>Rs. 8099Rs. 8999(10% OFF)</td>\n",
       "    </tr>\n",
       "    <tr>\n",
       "      <th>37</th>\n",
       "      <td>PUMA Motorsport</td>\n",
       "      <td>Unisex Mercedes F1 R-Cat</td>\n",
       "      <td>Rs. 7499</td>\n",
       "    </tr>\n",
       "    <tr>\n",
       "      <th>38</th>\n",
       "      <td>PUMA Motorsport</td>\n",
       "      <td>Unisex Ferrari Neo Cat Sneaker</td>\n",
       "      <td>Rs. 7999</td>\n",
       "    </tr>\n",
       "    <tr>\n",
       "      <th>39</th>\n",
       "      <td>PUMA Motorsport</td>\n",
       "      <td>Ferrari R-Cat Machina Sneakers</td>\n",
       "      <td>Rs. 7499</td>\n",
       "    </tr>\n",
       "    <tr>\n",
       "      <th>40</th>\n",
       "      <td>Puma</td>\n",
       "      <td>Women XT FTR Training Shoes</td>\n",
       "      <td>Rs. 7499</td>\n",
       "    </tr>\n",
       "    <tr>\n",
       "      <th>41</th>\n",
       "      <td>Tommy Hilfiger</td>\n",
       "      <td>Men Textured Loafers</td>\n",
       "      <td>Rs. 8599</td>\n",
       "    </tr>\n",
       "    <tr>\n",
       "      <th>42</th>\n",
       "      <td>Saint G</td>\n",
       "      <td>Leather Block Sandals</td>\n",
       "      <td>Rs. 9810Rs. 10900(10% OFF)</td>\n",
       "    </tr>\n",
       "    <tr>\n",
       "      <th>43</th>\n",
       "      <td>Puma</td>\n",
       "      <td>Unisex KING Top FG Shoes</td>\n",
       "      <td>Rs. 8999Rs. 11999(25% OFF)</td>\n",
       "    </tr>\n",
       "    <tr>\n",
       "      <th>44</th>\n",
       "      <td>DEL MONDO</td>\n",
       "      <td>Men Leather Sneakers</td>\n",
       "      <td>Rs. 7890</td>\n",
       "    </tr>\n",
       "    <tr>\n",
       "      <th>45</th>\n",
       "      <td>Bugatti</td>\n",
       "      <td>Men Leather Monks</td>\n",
       "      <td>Rs. 8999</td>\n",
       "    </tr>\n",
       "    <tr>\n",
       "      <th>46</th>\n",
       "      <td>ADIDAS</td>\n",
       "      <td>Women KarlieKlossX9000 Running</td>\n",
       "      <td>Rs. 13999</td>\n",
       "    </tr>\n",
       "    <tr>\n",
       "      <th>47</th>\n",
       "      <td>PUMA Hoops</td>\n",
       "      <td>Men Basketball Shoes</td>\n",
       "      <td>Rs. 7999</td>\n",
       "    </tr>\n",
       "    <tr>\n",
       "      <th>48</th>\n",
       "      <td>DAVINCHI</td>\n",
       "      <td>Men Textured Formal Leather Loafers</td>\n",
       "      <td>Rs. 8990</td>\n",
       "    </tr>\n",
       "    <tr>\n",
       "      <th>49</th>\n",
       "      <td>ADIDAS</td>\n",
       "      <td>Women Dropset Training Shoes</td>\n",
       "      <td>Rs. 12999</td>\n",
       "    </tr>\n",
       "  </tbody>\n",
       "</table>\n",
       "</div>"
      ],
      "text/plain": [
       "               Brand                          Description  \\\n",
       "0           Skechers                    Men Walking Shoes   \n",
       "1               ALDO            Men Leather Driving Shoes   \n",
       "2           Skechers           Men Max Cushioning Running   \n",
       "3             ADIDAS           Men Dropset Training Shoes   \n",
       "4               ALDO                 Men Printed Sneakers   \n",
       "5               ALDO            Men Woven Design Sneakers   \n",
       "6       Hush Puppies    Men Solid Leather Formal Slip-Ons   \n",
       "7               Puma          Men Colourblocked RS-Z Core   \n",
       "8           Skechers          Men Sky Vault Walking Shoes   \n",
       "9               ALDO                  Men Leather Loafers   \n",
       "10              Puma         Eternity Nitro Running Shoes   \n",
       "11              Nike            Men Air Max Dawn Sneakers   \n",
       "12          Columbia       Men FACET OUTDRY Trekking Shoe   \n",
       "13            Reebok         Men Zig Dynamica 2.0 Running   \n",
       "14              Puma        Electrify Nitro Running Shoes   \n",
       "15      Hush Puppies                    Men Formal Derbys   \n",
       "16   PUMA Motorsport         Ferrari X-Ray Speed Sneakers   \n",
       "17   PUMA Motorsport              Unisex Ferrari IONSpeed   \n",
       "18            ADIDAS             Men Sl20.3 Running Shoes   \n",
       "19           Bugatti                   Men Solid Sneakers   \n",
       "20              Puma                       Men Golf Shoes   \n",
       "21            ADIDAS       Men Solar Glide 5 Running Shoe   \n",
       "22              Puma              Men Deviate Nitro Shoes   \n",
       "23          DAVINCHI     Men Solid Leather Formal Loafers   \n",
       "24            Clarks                   Men Leather Derbys   \n",
       "25      Hush Puppies    Men Solid Leather Formal Slip-Ons   \n",
       "26      Hush Puppies            Men Solid Formal Slip-Ons   \n",
       "27           Bugatti            Men Leather Driving Shoes   \n",
       "28   PUMA Motorsport       Unisex Ferrari Drift Cat Delta   \n",
       "29              Puma       Women Kosmo Rider DC5 Sneakers   \n",
       "30    Tommy Hilfiger                 Men Textured Loafers   \n",
       "31           Bugatti         Men Black Formal Derby Shoes   \n",
       "32   PUMA Motorsport              Men ZenonSpeed Sneakers   \n",
       "33            ADIDAS        Women Supernova Running Shoes   \n",
       "34    Tommy Hilfiger                   Men Flexi Sneakers   \n",
       "35    Tommy Hilfiger                 Men Leather Sneakers   \n",
       "36  ADIDAS Originals        Men Solid Retropy F2 Sneakers   \n",
       "37   PUMA Motorsport             Unisex Mercedes F1 R-Cat   \n",
       "38   PUMA Motorsport       Unisex Ferrari Neo Cat Sneaker   \n",
       "39   PUMA Motorsport       Ferrari R-Cat Machina Sneakers   \n",
       "40              Puma          Women XT FTR Training Shoes   \n",
       "41    Tommy Hilfiger                 Men Textured Loafers   \n",
       "42           Saint G                Leather Block Sandals   \n",
       "43              Puma             Unisex KING Top FG Shoes   \n",
       "44         DEL MONDO                 Men Leather Sneakers   \n",
       "45           Bugatti                    Men Leather Monks   \n",
       "46            ADIDAS       Women KarlieKlossX9000 Running   \n",
       "47        PUMA Hoops                 Men Basketball Shoes   \n",
       "48          DAVINCHI  Men Textured Formal Leather Loafers   \n",
       "49            ADIDAS         Women Dropset Training Shoes   \n",
       "\n",
       "                          Price  \n",
       "0     Rs. 7649Rs. 8999(15% OFF)  \n",
       "1                     Rs. 12999  \n",
       "2     Rs. 7649Rs. 8999(15% OFF)  \n",
       "3                     Rs. 12999  \n",
       "4    Rs. 9099Rs. 12999(30% OFF)  \n",
       "5                     Rs. 13999  \n",
       "6     Rs. 7649Rs. 8999(15% OFF)  \n",
       "7                      Rs. 9999  \n",
       "8     Rs. 7199Rs. 8999(20% OFF)  \n",
       "9                     Rs. 12999  \n",
       "10                    Rs. 12999  \n",
       "11    Rs. 7436Rs. 9295(20% OFF)  \n",
       "12                    Rs. 12999  \n",
       "13                     Rs. 7999  \n",
       "14                     Rs. 9999  \n",
       "15    Rs. 8499Rs. 9999(15% OFF)  \n",
       "16                     Rs. 7999  \n",
       "17                     Rs. 8999  \n",
       "18                    Rs. 11999  \n",
       "19                    Rs. 10499  \n",
       "20                     Rs. 8999  \n",
       "21                    Rs. 13999  \n",
       "22  Rs. 12749Rs. 14999(15% OFF)  \n",
       "23                     Rs. 8490  \n",
       "24                     Rs. 7499  \n",
       "25    Rs. 8499Rs. 9999(15% OFF)  \n",
       "26    Rs. 8499Rs. 9999(15% OFF)  \n",
       "27                     Rs. 8499  \n",
       "28                     Rs. 7999  \n",
       "29                     Rs. 7999  \n",
       "30                     Rs. 8999  \n",
       "31                    Rs. 11999  \n",
       "32                     Rs. 8999  \n",
       "33                     Rs. 9999  \n",
       "34                     Rs. 7999  \n",
       "35                     Rs. 8599  \n",
       "36    Rs. 8099Rs. 8999(10% OFF)  \n",
       "37                     Rs. 7499  \n",
       "38                     Rs. 7999  \n",
       "39                     Rs. 7499  \n",
       "40                     Rs. 7499  \n",
       "41                     Rs. 8599  \n",
       "42   Rs. 9810Rs. 10900(10% OFF)  \n",
       "43   Rs. 8999Rs. 11999(25% OFF)  \n",
       "44                     Rs. 7890  \n",
       "45                     Rs. 8999  \n",
       "46                    Rs. 13999  \n",
       "47                     Rs. 7999  \n",
       "48                     Rs. 8990  \n",
       "49                    Rs. 12999  "
      ]
     },
     "execution_count": 297,
     "metadata": {},
     "output_type": "execute_result"
    }
   ],
   "source": [
    "shoes"
   ]
  },
  {
   "cell_type": "markdown",
   "id": "290b708a",
   "metadata": {},
   "source": [
    "for next 50 shoes"
   ]
  },
  {
   "cell_type": "code",
   "execution_count": 298,
   "id": "c5bdce77",
   "metadata": {},
   "outputs": [],
   "source": [
    "next_button=driver.find_element_by_xpath(\"/html/body/div[2]/div/div[1]/main/div[3]/div[2]/div/div[2]/section/div[2]/ul/li[12]/a\")\n",
    "next_button.click()"
   ]
  },
  {
   "cell_type": "code",
   "execution_count": 299,
   "id": "5cd83543",
   "metadata": {},
   "outputs": [],
   "source": [
    "brand_name1=[]\n",
    "shoe_des1=[]\n",
    "price1=[]"
   ]
  },
  {
   "cell_type": "code",
   "execution_count": 301,
   "id": "4ac971e0",
   "metadata": {},
   "outputs": [
    {
     "data": {
      "text/plain": [
       "['ADIDAS',\n",
       " 'Puma',\n",
       " 'FILA',\n",
       " 'Hush Puppies',\n",
       " 'PERFLY By Decathlon',\n",
       " 'Columbia',\n",
       " 'Puma',\n",
       " 'ROSSO BRUNELLO',\n",
       " 'Saint G',\n",
       " 'Puma',\n",
       " 'Saint G',\n",
       " 'Pavers England',\n",
       " 'Geox',\n",
       " 'ADIDAS Originals',\n",
       " 'Birkenstock',\n",
       " 'DAVINCHI',\n",
       " 'DAVINCHI',\n",
       " 'Pavers England',\n",
       " 'Sole To Soul',\n",
       " 'ALDO',\n",
       " 'ECCO',\n",
       " 'Kenkoh',\n",
       " 'MANGO',\n",
       " 'Onitsuka Tiger',\n",
       " 'Cole Haan',\n",
       " 'Heel & Buckle London',\n",
       " 'ASICS',\n",
       " 'J.FONTINI',\n",
       " 'J.FONTINI',\n",
       " 'J.FONTINI',\n",
       " 'Florsheim',\n",
       " 'Columbia',\n",
       " 'J.FONTINI',\n",
       " 'J.FONTINI',\n",
       " 'Columbia',\n",
       " 'Geox',\n",
       " 'RARE RABBIT',\n",
       " 'DAVINCHI',\n",
       " 'DAVINCHI',\n",
       " 'Geox',\n",
       " 'J.FONTINI',\n",
       " 'Saint G',\n",
       " 'J.FONTINI',\n",
       " 'J.FONTINI',\n",
       " 'DAVINCHI',\n",
       " 'Bugatti',\n",
       " 'Royal Enfield',\n",
       " 'ASICS',\n",
       " 'Sole To Soul',\n",
       " 'Nike']"
      ]
     },
     "execution_count": 301,
     "metadata": {},
     "output_type": "execute_result"
    }
   ],
   "source": [
    "name_t=driver.find_elements_by_xpath(\"//h3[@class='product-brand']\")\n",
    "name_t\n",
    "for i in name_t:\n",
    "    name=i.text\n",
    "    brand_name1.append(name)\n",
    "brand_name1"
   ]
  },
  {
   "cell_type": "code",
   "execution_count": 302,
   "id": "88357330",
   "metadata": {},
   "outputs": [
    {
     "data": {
      "text/plain": [
       "['Women Dropset Training Shoes',\n",
       " 'Mirage Sport Hacked Sneakers',\n",
       " 'Men Printed Trekking Shoes',\n",
       " 'Men Solid Leather Formal Derbys',\n",
       " 'Men Textile Badminton Shoes',\n",
       " 'Women Trekking Shoes',\n",
       " 'Men Training or Gym Shoes',\n",
       " 'Men Leather Formal Oxfords',\n",
       " 'Men Leather Chelsea Boots',\n",
       " 'Women Eternity NITRO Shoes',\n",
       " 'Men Mid-Top Chelsea Boots',\n",
       " 'Men Textured Leather Formal Slip-On Shoes',\n",
       " 'Men Leather Driving Shoes',\n",
       " 'Men Solid Ozweego Sneakers',\n",
       " 'Unisex Boston Super Grip Clogs',\n",
       " 'Men Textured Formal Leather Loafers',\n",
       " 'Ustraa black',\n",
       " 'Men Leather Driving Shoes',\n",
       " 'High-Top Block Heeled Boots',\n",
       " 'Embellished Wedge Sandals',\n",
       " 'Leather Block Pumps',\n",
       " 'Women Open Toe Flats',\n",
       " 'Embellish Mid-Top Heeled Boots',\n",
       " 'Unisex Ok Basketball MT',\n",
       " 'Men GENERATION ZEROGRAND STITCHLITE',\n",
       " 'Men Formal Leather Derby',\n",
       " 'Women Running Shoes',\n",
       " 'Men Textured Leather Loafers',\n",
       " 'Men Textured Leather Loafers',\n",
       " 'Men Solid Loafers',\n",
       " 'Men Leather Formal Monks',\n",
       " 'Women REDMOND V2 TrekkingShoe',\n",
       " 'Men Leather Formal Loafers',\n",
       " 'Men Leather Formal Loafers',\n",
       " 'PEAKFREAK OUTDRY Trekking Shoe',\n",
       " 'Men Printed Slip-On Sneakers',\n",
       " 'Men Textured Leather Loafers',\n",
       " 'Men Formal Leather Slip-Ons',\n",
       " 'Solid Slip On Shoes',\n",
       " 'Women Leather Pumps',\n",
       " 'Men Textured Leather Formal Loafers',\n",
       " 'Women Leather Block Heels',\n",
       " 'Men Solid Leather Formal Loafers',\n",
       " 'Men Black Leather Loafers',\n",
       " 'Men Solid Leather Formal Derbys',\n",
       " 'Men Walking Shoes',\n",
       " 'Cabo WP Riding Boots',\n",
       " 'Men Colourblocked PU Sneakers',\n",
       " 'Platform Peep Toes with Buckles',\n",
       " 'Men AIR MAX PRE-DAY Sneakers']"
      ]
     },
     "execution_count": 302,
     "metadata": {},
     "output_type": "execute_result"
    }
   ],
   "source": [
    "shoe_desc=driver.find_elements_by_xpath(\"//h4[@class='product-product']\")\n",
    "shoe_desc\n",
    "for i in shoe_desc:\n",
    "    shoe=i.text\n",
    "    shoe_des1.append(shoe)\n",
    "shoe_des1"
   ]
  },
  {
   "cell_type": "code",
   "execution_count": 303,
   "id": "590a45ee",
   "metadata": {},
   "outputs": [
    {
     "data": {
      "text/plain": [
       "['Rs. 12999',\n",
       " 'Rs. 7649Rs. 8999(15% OFF)',\n",
       " 'Rs. 11599',\n",
       " 'Rs. 8499Rs. 9999(15% OFF)',\n",
       " 'Rs. 9211Rs. 9799(6% OFF)',\n",
       " 'Rs. 8999',\n",
       " 'Rs. 7999',\n",
       " 'Rs. 10999',\n",
       " 'Rs. 10710Rs. 11900(10% OFF)',\n",
       " 'Rs. 9099Rs. 12999(30% OFF)',\n",
       " 'Rs. 10500Rs. 10900(Rs. 400 OFF)',\n",
       " 'Rs. 9999',\n",
       " 'Rs. 9499',\n",
       " 'Rs. 9349Rs. 10999(15% OFF)',\n",
       " 'Rs. 9290',\n",
       " 'Rs. 8990',\n",
       " 'Rs. 8990',\n",
       " 'Rs. 7499',\n",
       " 'Rs. 7900',\n",
       " 'Rs. 7999',\n",
       " 'Rs. 7499Rs. 9999(25% OFF)',\n",
       " 'Rs. 8575',\n",
       " 'Rs. 7990',\n",
       " 'Rs. 7999',\n",
       " 'Rs. 11999',\n",
       " 'Rs. 7990',\n",
       " 'Rs. 7999',\n",
       " 'Rs. 7990',\n",
       " 'Rs. 8490',\n",
       " 'Rs. 8990',\n",
       " 'Rs. 9995',\n",
       " 'Rs. 7999',\n",
       " 'Rs. 7490',\n",
       " 'Rs. 7490',\n",
       " 'Rs. 9999',\n",
       " 'Rs. 10999',\n",
       " 'Rs. 7699Rs. 10999(30% OFF)',\n",
       " 'Rs. 8990',\n",
       " 'Rs. 7990',\n",
       " 'Rs. 8999',\n",
       " 'Rs. 8990',\n",
       " 'Rs. 8550Rs. 9500(10% OFF)',\n",
       " 'Rs. 9990',\n",
       " 'Rs. 8490',\n",
       " 'Rs. 9990',\n",
       " 'Rs. 7199Rs. 8999(20% OFF)',\n",
       " 'Rs. 8075Rs. 8500(5% OFF)',\n",
       " 'Rs. 9999',\n",
       " 'Rs. 7690',\n",
       " 'Rs. 12595Rs. 13995(10% OFF)']"
      ]
     },
     "execution_count": 303,
     "metadata": {},
     "output_type": "execute_result"
    }
   ],
   "source": [
    "price_tag=driver.find_elements_by_xpath(\"//div[@class='product-price']\")\n",
    "price_tag\n",
    "for i in price_tag:\n",
    "    pri=i.text\n",
    "    price1.append(pri)\n",
    "price1"
   ]
  },
  {
   "cell_type": "code",
   "execution_count": 304,
   "id": "da7abc9d",
   "metadata": {},
   "outputs": [
    {
     "data": {
      "text/html": [
       "<div>\n",
       "<style scoped>\n",
       "    .dataframe tbody tr th:only-of-type {\n",
       "        vertical-align: middle;\n",
       "    }\n",
       "\n",
       "    .dataframe tbody tr th {\n",
       "        vertical-align: top;\n",
       "    }\n",
       "\n",
       "    .dataframe thead th {\n",
       "        text-align: right;\n",
       "    }\n",
       "</style>\n",
       "<table border=\"1\" class=\"dataframe\">\n",
       "  <thead>\n",
       "    <tr style=\"text-align: right;\">\n",
       "      <th></th>\n",
       "      <th>Brand</th>\n",
       "      <th>Description</th>\n",
       "      <th>Price</th>\n",
       "    </tr>\n",
       "  </thead>\n",
       "  <tbody>\n",
       "    <tr>\n",
       "      <th>0</th>\n",
       "      <td>ADIDAS</td>\n",
       "      <td>Women Dropset Training Shoes</td>\n",
       "      <td>Rs. 12999</td>\n",
       "    </tr>\n",
       "    <tr>\n",
       "      <th>1</th>\n",
       "      <td>Puma</td>\n",
       "      <td>Mirage Sport Hacked Sneakers</td>\n",
       "      <td>Rs. 7649Rs. 8999(15% OFF)</td>\n",
       "    </tr>\n",
       "    <tr>\n",
       "      <th>2</th>\n",
       "      <td>FILA</td>\n",
       "      <td>Men Printed Trekking Shoes</td>\n",
       "      <td>Rs. 11599</td>\n",
       "    </tr>\n",
       "    <tr>\n",
       "      <th>3</th>\n",
       "      <td>Hush Puppies</td>\n",
       "      <td>Men Solid Leather Formal Derbys</td>\n",
       "      <td>Rs. 8499Rs. 9999(15% OFF)</td>\n",
       "    </tr>\n",
       "    <tr>\n",
       "      <th>4</th>\n",
       "      <td>PERFLY By Decathlon</td>\n",
       "      <td>Men Textile Badminton Shoes</td>\n",
       "      <td>Rs. 9211Rs. 9799(6% OFF)</td>\n",
       "    </tr>\n",
       "    <tr>\n",
       "      <th>5</th>\n",
       "      <td>Columbia</td>\n",
       "      <td>Women Trekking Shoes</td>\n",
       "      <td>Rs. 8999</td>\n",
       "    </tr>\n",
       "    <tr>\n",
       "      <th>6</th>\n",
       "      <td>Puma</td>\n",
       "      <td>Men Training or Gym Shoes</td>\n",
       "      <td>Rs. 7999</td>\n",
       "    </tr>\n",
       "    <tr>\n",
       "      <th>7</th>\n",
       "      <td>ROSSO BRUNELLO</td>\n",
       "      <td>Men Leather Formal Oxfords</td>\n",
       "      <td>Rs. 10999</td>\n",
       "    </tr>\n",
       "    <tr>\n",
       "      <th>8</th>\n",
       "      <td>Saint G</td>\n",
       "      <td>Men Leather Chelsea Boots</td>\n",
       "      <td>Rs. 10710Rs. 11900(10% OFF)</td>\n",
       "    </tr>\n",
       "    <tr>\n",
       "      <th>9</th>\n",
       "      <td>Puma</td>\n",
       "      <td>Women Eternity NITRO Shoes</td>\n",
       "      <td>Rs. 9099Rs. 12999(30% OFF)</td>\n",
       "    </tr>\n",
       "    <tr>\n",
       "      <th>10</th>\n",
       "      <td>Saint G</td>\n",
       "      <td>Men Mid-Top Chelsea Boots</td>\n",
       "      <td>Rs. 10500Rs. 10900(Rs. 400 OFF)</td>\n",
       "    </tr>\n",
       "    <tr>\n",
       "      <th>11</th>\n",
       "      <td>Pavers England</td>\n",
       "      <td>Men Textured Leather Formal Slip-On Shoes</td>\n",
       "      <td>Rs. 9999</td>\n",
       "    </tr>\n",
       "    <tr>\n",
       "      <th>12</th>\n",
       "      <td>Geox</td>\n",
       "      <td>Men Leather Driving Shoes</td>\n",
       "      <td>Rs. 9499</td>\n",
       "    </tr>\n",
       "    <tr>\n",
       "      <th>13</th>\n",
       "      <td>ADIDAS Originals</td>\n",
       "      <td>Men Solid Ozweego Sneakers</td>\n",
       "      <td>Rs. 9349Rs. 10999(15% OFF)</td>\n",
       "    </tr>\n",
       "    <tr>\n",
       "      <th>14</th>\n",
       "      <td>Birkenstock</td>\n",
       "      <td>Unisex Boston Super Grip Clogs</td>\n",
       "      <td>Rs. 9290</td>\n",
       "    </tr>\n",
       "    <tr>\n",
       "      <th>15</th>\n",
       "      <td>DAVINCHI</td>\n",
       "      <td>Men Textured Formal Leather Loafers</td>\n",
       "      <td>Rs. 8990</td>\n",
       "    </tr>\n",
       "    <tr>\n",
       "      <th>16</th>\n",
       "      <td>DAVINCHI</td>\n",
       "      <td>Ustraa black</td>\n",
       "      <td>Rs. 8990</td>\n",
       "    </tr>\n",
       "    <tr>\n",
       "      <th>17</th>\n",
       "      <td>Pavers England</td>\n",
       "      <td>Men Leather Driving Shoes</td>\n",
       "      <td>Rs. 7499</td>\n",
       "    </tr>\n",
       "    <tr>\n",
       "      <th>18</th>\n",
       "      <td>Sole To Soul</td>\n",
       "      <td>High-Top Block Heeled Boots</td>\n",
       "      <td>Rs. 7900</td>\n",
       "    </tr>\n",
       "    <tr>\n",
       "      <th>19</th>\n",
       "      <td>ALDO</td>\n",
       "      <td>Embellished Wedge Sandals</td>\n",
       "      <td>Rs. 7999</td>\n",
       "    </tr>\n",
       "    <tr>\n",
       "      <th>20</th>\n",
       "      <td>ECCO</td>\n",
       "      <td>Leather Block Pumps</td>\n",
       "      <td>Rs. 7499Rs. 9999(25% OFF)</td>\n",
       "    </tr>\n",
       "    <tr>\n",
       "      <th>21</th>\n",
       "      <td>Kenkoh</td>\n",
       "      <td>Women Open Toe Flats</td>\n",
       "      <td>Rs. 8575</td>\n",
       "    </tr>\n",
       "    <tr>\n",
       "      <th>22</th>\n",
       "      <td>MANGO</td>\n",
       "      <td>Embellish Mid-Top Heeled Boots</td>\n",
       "      <td>Rs. 7990</td>\n",
       "    </tr>\n",
       "    <tr>\n",
       "      <th>23</th>\n",
       "      <td>Onitsuka Tiger</td>\n",
       "      <td>Unisex Ok Basketball MT</td>\n",
       "      <td>Rs. 7999</td>\n",
       "    </tr>\n",
       "    <tr>\n",
       "      <th>24</th>\n",
       "      <td>Cole Haan</td>\n",
       "      <td>Men GENERATION ZEROGRAND STITCHLITE</td>\n",
       "      <td>Rs. 11999</td>\n",
       "    </tr>\n",
       "    <tr>\n",
       "      <th>25</th>\n",
       "      <td>Heel &amp; Buckle London</td>\n",
       "      <td>Men Formal Leather Derby</td>\n",
       "      <td>Rs. 7990</td>\n",
       "    </tr>\n",
       "    <tr>\n",
       "      <th>26</th>\n",
       "      <td>ASICS</td>\n",
       "      <td>Women Running Shoes</td>\n",
       "      <td>Rs. 7999</td>\n",
       "    </tr>\n",
       "    <tr>\n",
       "      <th>27</th>\n",
       "      <td>J.FONTINI</td>\n",
       "      <td>Men Textured Leather Loafers</td>\n",
       "      <td>Rs. 7990</td>\n",
       "    </tr>\n",
       "    <tr>\n",
       "      <th>28</th>\n",
       "      <td>J.FONTINI</td>\n",
       "      <td>Men Textured Leather Loafers</td>\n",
       "      <td>Rs. 8490</td>\n",
       "    </tr>\n",
       "    <tr>\n",
       "      <th>29</th>\n",
       "      <td>J.FONTINI</td>\n",
       "      <td>Men Solid Loafers</td>\n",
       "      <td>Rs. 8990</td>\n",
       "    </tr>\n",
       "    <tr>\n",
       "      <th>30</th>\n",
       "      <td>Florsheim</td>\n",
       "      <td>Men Leather Formal Monks</td>\n",
       "      <td>Rs. 9995</td>\n",
       "    </tr>\n",
       "    <tr>\n",
       "      <th>31</th>\n",
       "      <td>Columbia</td>\n",
       "      <td>Women REDMOND V2 TrekkingShoe</td>\n",
       "      <td>Rs. 7999</td>\n",
       "    </tr>\n",
       "    <tr>\n",
       "      <th>32</th>\n",
       "      <td>J.FONTINI</td>\n",
       "      <td>Men Leather Formal Loafers</td>\n",
       "      <td>Rs. 7490</td>\n",
       "    </tr>\n",
       "    <tr>\n",
       "      <th>33</th>\n",
       "      <td>J.FONTINI</td>\n",
       "      <td>Men Leather Formal Loafers</td>\n",
       "      <td>Rs. 7490</td>\n",
       "    </tr>\n",
       "    <tr>\n",
       "      <th>34</th>\n",
       "      <td>Columbia</td>\n",
       "      <td>PEAKFREAK OUTDRY Trekking Shoe</td>\n",
       "      <td>Rs. 9999</td>\n",
       "    </tr>\n",
       "    <tr>\n",
       "      <th>35</th>\n",
       "      <td>Geox</td>\n",
       "      <td>Men Printed Slip-On Sneakers</td>\n",
       "      <td>Rs. 10999</td>\n",
       "    </tr>\n",
       "    <tr>\n",
       "      <th>36</th>\n",
       "      <td>RARE RABBIT</td>\n",
       "      <td>Men Textured Leather Loafers</td>\n",
       "      <td>Rs. 7699Rs. 10999(30% OFF)</td>\n",
       "    </tr>\n",
       "    <tr>\n",
       "      <th>37</th>\n",
       "      <td>DAVINCHI</td>\n",
       "      <td>Men Formal Leather Slip-Ons</td>\n",
       "      <td>Rs. 8990</td>\n",
       "    </tr>\n",
       "    <tr>\n",
       "      <th>38</th>\n",
       "      <td>DAVINCHI</td>\n",
       "      <td>Solid Slip On Shoes</td>\n",
       "      <td>Rs. 7990</td>\n",
       "    </tr>\n",
       "    <tr>\n",
       "      <th>39</th>\n",
       "      <td>Geox</td>\n",
       "      <td>Women Leather Pumps</td>\n",
       "      <td>Rs. 8999</td>\n",
       "    </tr>\n",
       "    <tr>\n",
       "      <th>40</th>\n",
       "      <td>J.FONTINI</td>\n",
       "      <td>Men Textured Leather Formal Loafers</td>\n",
       "      <td>Rs. 8990</td>\n",
       "    </tr>\n",
       "    <tr>\n",
       "      <th>41</th>\n",
       "      <td>Saint G</td>\n",
       "      <td>Women Leather Block Heels</td>\n",
       "      <td>Rs. 8550Rs. 9500(10% OFF)</td>\n",
       "    </tr>\n",
       "    <tr>\n",
       "      <th>42</th>\n",
       "      <td>J.FONTINI</td>\n",
       "      <td>Men Solid Leather Formal Loafers</td>\n",
       "      <td>Rs. 9990</td>\n",
       "    </tr>\n",
       "    <tr>\n",
       "      <th>43</th>\n",
       "      <td>J.FONTINI</td>\n",
       "      <td>Men Black Leather Loafers</td>\n",
       "      <td>Rs. 8490</td>\n",
       "    </tr>\n",
       "    <tr>\n",
       "      <th>44</th>\n",
       "      <td>DAVINCHI</td>\n",
       "      <td>Men Solid Leather Formal Derbys</td>\n",
       "      <td>Rs. 9990</td>\n",
       "    </tr>\n",
       "    <tr>\n",
       "      <th>45</th>\n",
       "      <td>Bugatti</td>\n",
       "      <td>Men Walking Shoes</td>\n",
       "      <td>Rs. 7199Rs. 8999(20% OFF)</td>\n",
       "    </tr>\n",
       "    <tr>\n",
       "      <th>46</th>\n",
       "      <td>Royal Enfield</td>\n",
       "      <td>Cabo WP Riding Boots</td>\n",
       "      <td>Rs. 8075Rs. 8500(5% OFF)</td>\n",
       "    </tr>\n",
       "    <tr>\n",
       "      <th>47</th>\n",
       "      <td>ASICS</td>\n",
       "      <td>Men Colourblocked PU Sneakers</td>\n",
       "      <td>Rs. 9999</td>\n",
       "    </tr>\n",
       "    <tr>\n",
       "      <th>48</th>\n",
       "      <td>Sole To Soul</td>\n",
       "      <td>Platform Peep Toes with Buckles</td>\n",
       "      <td>Rs. 7690</td>\n",
       "    </tr>\n",
       "    <tr>\n",
       "      <th>49</th>\n",
       "      <td>Nike</td>\n",
       "      <td>Men AIR MAX PRE-DAY Sneakers</td>\n",
       "      <td>Rs. 12595Rs. 13995(10% OFF)</td>\n",
       "    </tr>\n",
       "  </tbody>\n",
       "</table>\n",
       "</div>"
      ],
      "text/plain": [
       "                   Brand                                Description  \\\n",
       "0                 ADIDAS               Women Dropset Training Shoes   \n",
       "1                   Puma               Mirage Sport Hacked Sneakers   \n",
       "2                   FILA                 Men Printed Trekking Shoes   \n",
       "3           Hush Puppies            Men Solid Leather Formal Derbys   \n",
       "4    PERFLY By Decathlon                Men Textile Badminton Shoes   \n",
       "5               Columbia                       Women Trekking Shoes   \n",
       "6                   Puma                  Men Training or Gym Shoes   \n",
       "7         ROSSO BRUNELLO                 Men Leather Formal Oxfords   \n",
       "8                Saint G                  Men Leather Chelsea Boots   \n",
       "9                   Puma                 Women Eternity NITRO Shoes   \n",
       "10               Saint G                  Men Mid-Top Chelsea Boots   \n",
       "11        Pavers England  Men Textured Leather Formal Slip-On Shoes   \n",
       "12                  Geox                  Men Leather Driving Shoes   \n",
       "13      ADIDAS Originals                 Men Solid Ozweego Sneakers   \n",
       "14           Birkenstock             Unisex Boston Super Grip Clogs   \n",
       "15              DAVINCHI        Men Textured Formal Leather Loafers   \n",
       "16              DAVINCHI                               Ustraa black   \n",
       "17        Pavers England                  Men Leather Driving Shoes   \n",
       "18          Sole To Soul                High-Top Block Heeled Boots   \n",
       "19                  ALDO                  Embellished Wedge Sandals   \n",
       "20                  ECCO                        Leather Block Pumps   \n",
       "21                Kenkoh                       Women Open Toe Flats   \n",
       "22                 MANGO             Embellish Mid-Top Heeled Boots   \n",
       "23        Onitsuka Tiger                    Unisex Ok Basketball MT   \n",
       "24             Cole Haan        Men GENERATION ZEROGRAND STITCHLITE   \n",
       "25  Heel & Buckle London                   Men Formal Leather Derby   \n",
       "26                 ASICS                        Women Running Shoes   \n",
       "27             J.FONTINI               Men Textured Leather Loafers   \n",
       "28             J.FONTINI               Men Textured Leather Loafers   \n",
       "29             J.FONTINI                          Men Solid Loafers   \n",
       "30             Florsheim                   Men Leather Formal Monks   \n",
       "31              Columbia              Women REDMOND V2 TrekkingShoe   \n",
       "32             J.FONTINI                 Men Leather Formal Loafers   \n",
       "33             J.FONTINI                 Men Leather Formal Loafers   \n",
       "34              Columbia             PEAKFREAK OUTDRY Trekking Shoe   \n",
       "35                  Geox               Men Printed Slip-On Sneakers   \n",
       "36           RARE RABBIT               Men Textured Leather Loafers   \n",
       "37              DAVINCHI                Men Formal Leather Slip-Ons   \n",
       "38              DAVINCHI                        Solid Slip On Shoes   \n",
       "39                  Geox                        Women Leather Pumps   \n",
       "40             J.FONTINI        Men Textured Leather Formal Loafers   \n",
       "41               Saint G                  Women Leather Block Heels   \n",
       "42             J.FONTINI           Men Solid Leather Formal Loafers   \n",
       "43             J.FONTINI                  Men Black Leather Loafers   \n",
       "44              DAVINCHI            Men Solid Leather Formal Derbys   \n",
       "45               Bugatti                          Men Walking Shoes   \n",
       "46         Royal Enfield                       Cabo WP Riding Boots   \n",
       "47                 ASICS              Men Colourblocked PU Sneakers   \n",
       "48          Sole To Soul            Platform Peep Toes with Buckles   \n",
       "49                  Nike               Men AIR MAX PRE-DAY Sneakers   \n",
       "\n",
       "                              Price  \n",
       "0                         Rs. 12999  \n",
       "1         Rs. 7649Rs. 8999(15% OFF)  \n",
       "2                         Rs. 11599  \n",
       "3         Rs. 8499Rs. 9999(15% OFF)  \n",
       "4          Rs. 9211Rs. 9799(6% OFF)  \n",
       "5                          Rs. 8999  \n",
       "6                          Rs. 7999  \n",
       "7                         Rs. 10999  \n",
       "8       Rs. 10710Rs. 11900(10% OFF)  \n",
       "9        Rs. 9099Rs. 12999(30% OFF)  \n",
       "10  Rs. 10500Rs. 10900(Rs. 400 OFF)  \n",
       "11                         Rs. 9999  \n",
       "12                         Rs. 9499  \n",
       "13       Rs. 9349Rs. 10999(15% OFF)  \n",
       "14                         Rs. 9290  \n",
       "15                         Rs. 8990  \n",
       "16                         Rs. 8990  \n",
       "17                         Rs. 7499  \n",
       "18                         Rs. 7900  \n",
       "19                         Rs. 7999  \n",
       "20        Rs. 7499Rs. 9999(25% OFF)  \n",
       "21                         Rs. 8575  \n",
       "22                         Rs. 7990  \n",
       "23                         Rs. 7999  \n",
       "24                        Rs. 11999  \n",
       "25                         Rs. 7990  \n",
       "26                         Rs. 7999  \n",
       "27                         Rs. 7990  \n",
       "28                         Rs. 8490  \n",
       "29                         Rs. 8990  \n",
       "30                         Rs. 9995  \n",
       "31                         Rs. 7999  \n",
       "32                         Rs. 7490  \n",
       "33                         Rs. 7490  \n",
       "34                         Rs. 9999  \n",
       "35                        Rs. 10999  \n",
       "36       Rs. 7699Rs. 10999(30% OFF)  \n",
       "37                         Rs. 8990  \n",
       "38                         Rs. 7990  \n",
       "39                         Rs. 8999  \n",
       "40                         Rs. 8990  \n",
       "41        Rs. 8550Rs. 9500(10% OFF)  \n",
       "42                         Rs. 9990  \n",
       "43                         Rs. 8490  \n",
       "44                         Rs. 9990  \n",
       "45        Rs. 7199Rs. 8999(20% OFF)  \n",
       "46         Rs. 8075Rs. 8500(5% OFF)  \n",
       "47                         Rs. 9999  \n",
       "48                         Rs. 7690  \n",
       "49      Rs. 12595Rs. 13995(10% OFF)  "
      ]
     },
     "execution_count": 304,
     "metadata": {},
     "output_type": "execute_result"
    }
   ],
   "source": [
    "shoes1=pd.DataFrame({'Brand':brand_name1,'Description':shoe_des1,'Price':price1})\n",
    "shoes1"
   ]
  },
  {
   "cell_type": "code",
   "execution_count": 305,
   "id": "b2709c9c",
   "metadata": {},
   "outputs": [],
   "source": [
    "driver.close()"
   ]
  },
  {
   "cell_type": "markdown",
   "id": "45522385",
   "metadata": {},
   "source": [
    "### Que.8"
   ]
  },
  {
   "cell_type": "code",
   "execution_count": 306,
   "id": "f77a8184",
   "metadata": {},
   "outputs": [],
   "source": [
    "driver=webdriver.Chrome('chromedriver.exe')\n",
    "time.sleep(2)"
   ]
  },
  {
   "cell_type": "code",
   "execution_count": 309,
   "id": "45f8e8de",
   "metadata": {},
   "outputs": [],
   "source": [
    "driver.get(\"https://www.amazon.in/\")"
   ]
  },
  {
   "cell_type": "code",
   "execution_count": 311,
   "id": "ad8e74f5",
   "metadata": {},
   "outputs": [],
   "source": [
    "search_f=driver.find_element_by_xpath(\"/html/body/div[1]/header/div/div[1]/div[2]/div/form/div[2]/div[1]/input\")\n",
    "search_f.send_keys(\"Laptop\")"
   ]
  },
  {
   "cell_type": "code",
   "execution_count": 313,
   "id": "b89e793b",
   "metadata": {},
   "outputs": [],
   "source": [
    "search_button=driver.find_element_by_xpath(\"/html/body/div[1]/header/div/div[1]/div[2]/div/form/div[3]/div/span/input\")\n",
    "search_button.click()"
   ]
  },
  {
   "cell_type": "code",
   "execution_count": 315,
   "id": "e3d82393",
   "metadata": {},
   "outputs": [],
   "source": [
    "i7_filter=driver.find_element_by_xpath(\"/html/body/div[1]/div[2]/div[1]/div[2]/div/div[3]/span/div[1]/div/div/div[6]/ul[5]/li[12]/span/a/div\")\n",
    "i7_filter.click()"
   ]
  },
  {
   "cell_type": "code",
   "execution_count": 316,
   "id": "27dad706",
   "metadata": {},
   "outputs": [],
   "source": [
    "url=\"https://www.amazon.in/s?k=Laptop&rh=n%3A1375424031%2Cp_n_feature_thirteen_browse-bin%3A12598163031&dc&crid=BYG07S4656GI&qid=1650952773&rnid=12598141031&sprefix=laptop%2Caps%2C478&ref=sr_nr_p_n_feature_thirteen_browse-bin_12\""
   ]
  },
  {
   "cell_type": "code",
   "execution_count": 317,
   "id": "df463034",
   "metadata": {},
   "outputs": [],
   "source": [
    "driver.get(url)"
   ]
  },
  {
   "cell_type": "code",
   "execution_count": 318,
   "id": "52627763",
   "metadata": {},
   "outputs": [],
   "source": [
    "lp_title=[]\n",
    "lp_rating=[]\n",
    "lp_price=[]"
   ]
  },
  {
   "cell_type": "code",
   "execution_count": 326,
   "id": "bf5a95e8",
   "metadata": {},
   "outputs": [
    {
     "data": {
      "text/plain": [
       "[<selenium.webdriver.remote.webelement.WebElement (session=\"99860416992bddf6be5b9fc12132fba6\", element=\"887a93bb-a09f-4c94-9d6b-221487aab9f5\")>,\n",
       " <selenium.webdriver.remote.webelement.WebElement (session=\"99860416992bddf6be5b9fc12132fba6\", element=\"e6b5d572-27a1-4602-8aa4-59befc2e4bfe\")>,\n",
       " <selenium.webdriver.remote.webelement.WebElement (session=\"99860416992bddf6be5b9fc12132fba6\", element=\"f1c24fdf-e081-422c-ab87-34db6ff2194f\")>,\n",
       " <selenium.webdriver.remote.webelement.WebElement (session=\"99860416992bddf6be5b9fc12132fba6\", element=\"702b825c-5770-4b48-a1ba-c4811c3e0b00\")>,\n",
       " <selenium.webdriver.remote.webelement.WebElement (session=\"99860416992bddf6be5b9fc12132fba6\", element=\"cdc224e3-57ac-47b4-82dd-297a7b0d965d\")>,\n",
       " <selenium.webdriver.remote.webelement.WebElement (session=\"99860416992bddf6be5b9fc12132fba6\", element=\"ef00d3c4-926d-470e-b655-07c22de45733\")>,\n",
       " <selenium.webdriver.remote.webelement.WebElement (session=\"99860416992bddf6be5b9fc12132fba6\", element=\"365777e1-85e3-4819-8b8a-7e4c0f41e1d1\")>,\n",
       " <selenium.webdriver.remote.webelement.WebElement (session=\"99860416992bddf6be5b9fc12132fba6\", element=\"10194966-b0e7-4d58-9bac-0117ec4c2c7f\")>,\n",
       " <selenium.webdriver.remote.webelement.WebElement (session=\"99860416992bddf6be5b9fc12132fba6\", element=\"9a4cb9cd-cc6f-4e96-9137-ab02e37e61bf\")>,\n",
       " <selenium.webdriver.remote.webelement.WebElement (session=\"99860416992bddf6be5b9fc12132fba6\", element=\"d522560a-c3b9-46ad-9f12-7e816bc98aad\")>]"
      ]
     },
     "execution_count": 326,
     "metadata": {},
     "output_type": "execute_result"
    }
   ],
   "source": [
    "title_tags=driver.find_elements_by_xpath(\"//h2[@class='a-size-mini a-spacing-none a-color-base s-line-clamp-2']\")\n",
    "title_tags[0:10]"
   ]
  },
  {
   "cell_type": "code",
   "execution_count": 327,
   "id": "b5d84266",
   "metadata": {},
   "outputs": [
    {
     "data": {
      "text/plain": [
       "['OMEN by HP- 11th Gen Intel Core i7 16.1-inch(40.9 cm) Micro-Edge, IPS, FHD Gaming Laptop (16GB RAM/1TB SSD/300 nits/GeForce RTX 3050 Graphics/Alexa/B&O/Backlit KB/Win 11/MSO, 16-B0351TX, Shadow Black',\n",
       " 'OMEN by HP 11th Gen Intel Core i7-11800H 16.1-inch(40.9 cm) FHD Flicker-Free Gaming Laptop (16GB/1TB SSD/144 Hz/RTX 3060 6GB Graphics/Windows 11/MS Office/2.32kg/ Shadow Black), 16-b0360TX',\n",
       " 'ASUS VivoBook 14 (2021), 14-inch (35.56 cms) FHD, Intel Core i7-1065G7 10th Gen, Thin and Light Laptop (16GB/512GB SSD/Integrated Graphics/Office 2021/Windows 11/Silver/1.6 Kg), X415JA-EK701WS',\n",
       " 'HP Pavilion 14, 11th Gen Intel Core i7-16GB RAM/1TB SSD 14 inch(35.6 cm) Laptop/Intel Iris Xe Graphics/Backlit Keyboard/Alexa/B&O Audio/Fast Charge/FPR/Win 11/MS Office, 14-dv1029TU,Natural Silver',\n",
       " 'LG Gram 16 inches Intel Evo 11th Gen Core i7 Ultra-Light Laptop (16 GB RAM, 512 GB SSD, New Windows 11 Home Preload, Iris Xe Graphics, USC -C x 2 (with Power), 1.19 kg, 16Z90P-G.AH85A2, Black)',\n",
       " 'Samsung Galaxy Book2 Pro Intel 12th Gen i7 EvoTM 33.78cm (13.3\") AMOLED Thin & Light Laptop (16 GB/512 GB SSD/Windows 11/MSO Home & Student 2021/Silver/0.87Kg), NP930XED-KB2IN',\n",
       " 'Acer Predator Helios 300 11th Gen Intel Core i9-11900H 15.6 inches FHD IPS Gaming Laptop (32GB/1TB SSD/Windows 11 Home/8GB Graphics/NVIDIA GeForce RTX 3070/300 Hz, Black, 2.3Kg) PH315-54',\n",
       " 'HP Pavilion x360 11th Gen Intel Core i7 14 inch(35.6 cm) FHD Multitouch 2-in-1 Laptop(16GB RAM/512GB SSD/B&O/Win 11/FPR/Backlit KB/Intel Iris Xe Graphics/Pen/Alexa/MS Office/Silver/1.52Kg) 14-dy1047TU',\n",
       " 'ASUS TUF Gaming F15 (2021) 15.6-inch (39.62 cms) FHD 144Hz, Intel Core i7-11800H 11th Gen, RTX 3050 4GB Graphics, Gaming Laptop (8GB/1TB SSD/Windows 10/Gray/2.3 Kg), FX566HCB-HN231T, Eclipse Gray',\n",
       " 'ASUS ZenBook Duo 14 (2021), Intel Evo Core i7-1165G7 11th Gen 14 inches FHD Dual-Screen Business Touch Laptop (16GB/1TB SSD/Iris Xe Graphics/Office 2019/Win 10 Home, Celestial Blue/1.57 Kg)']"
      ]
     },
     "execution_count": 327,
     "metadata": {},
     "output_type": "execute_result"
    }
   ],
   "source": [
    "for i in title_tags:\n",
    "    title=i.text\n",
    "    lp_title.append(title)\n",
    "lp_title[0:10]"
   ]
  },
  {
   "cell_type": "code",
   "execution_count": 328,
   "id": "feed4eac",
   "metadata": {},
   "outputs": [
    {
     "data": {
      "text/plain": [
       "[<selenium.webdriver.remote.webelement.WebElement (session=\"99860416992bddf6be5b9fc12132fba6\", element=\"926a8cf5-4bfa-42d3-b36c-4ef555d5a1b4\")>,\n",
       " <selenium.webdriver.remote.webelement.WebElement (session=\"99860416992bddf6be5b9fc12132fba6\", element=\"323c4eff-2547-465b-bf3d-74c156d8b298\")>,\n",
       " <selenium.webdriver.remote.webelement.WebElement (session=\"99860416992bddf6be5b9fc12132fba6\", element=\"c88dd9b5-2792-451a-8aa2-2ce8931bc797\")>,\n",
       " <selenium.webdriver.remote.webelement.WebElement (session=\"99860416992bddf6be5b9fc12132fba6\", element=\"7e491136-4564-4f95-a6a1-d54968e3c786\")>,\n",
       " <selenium.webdriver.remote.webelement.WebElement (session=\"99860416992bddf6be5b9fc12132fba6\", element=\"830a6cee-b596-4cf4-b284-d42e29fc5b7a\")>,\n",
       " <selenium.webdriver.remote.webelement.WebElement (session=\"99860416992bddf6be5b9fc12132fba6\", element=\"2f22406a-be17-46f1-bd53-599ea28722b8\")>,\n",
       " <selenium.webdriver.remote.webelement.WebElement (session=\"99860416992bddf6be5b9fc12132fba6\", element=\"287e7158-82cf-42bc-90db-9dfdc4636fac\")>,\n",
       " <selenium.webdriver.remote.webelement.WebElement (session=\"99860416992bddf6be5b9fc12132fba6\", element=\"78b9deb0-13a7-4a04-aeb0-a1aa5204064a\")>]"
      ]
     },
     "execution_count": 328,
     "metadata": {},
     "output_type": "execute_result"
    }
   ],
   "source": [
    "rate_tags=driver.find_elements_by_xpath(\"//i[@class='a-icon a-icon-star-small a-star-small-5 aok-align-bottom']\")\n",
    "rate_tags[0:10]"
   ]
  },
  {
   "cell_type": "code",
   "execution_count": 329,
   "id": "2d180085",
   "metadata": {},
   "outputs": [
    {
     "data": {
      "text/plain": [
       "['', '', '', '', '', '', '', '', '', '']"
      ]
     },
     "execution_count": 329,
     "metadata": {},
     "output_type": "execute_result"
    }
   ],
   "source": [
    "for i in rate_tags:\n",
    "    rate=i.text\n",
    "    lp_rating.append(rate)\n",
    "lp_rating[0:10]\n",
    "\n",
    "#the rating is in star form ,not number hence it shows empty"
   ]
  },
  {
   "cell_type": "code",
   "execution_count": 330,
   "id": "907c41dc",
   "metadata": {},
   "outputs": [
    {
     "data": {
      "text/plain": [
       "[<selenium.webdriver.remote.webelement.WebElement (session=\"99860416992bddf6be5b9fc12132fba6\", element=\"15ebd5a5-8ca2-43c9-a0fc-2a8bc73b5001\")>,\n",
       " <selenium.webdriver.remote.webelement.WebElement (session=\"99860416992bddf6be5b9fc12132fba6\", element=\"4f06033a-b897-43f1-9827-fb83fb7aca41\")>,\n",
       " <selenium.webdriver.remote.webelement.WebElement (session=\"99860416992bddf6be5b9fc12132fba6\", element=\"b381d1a8-053a-4561-933f-ff7cfd49bb6d\")>,\n",
       " <selenium.webdriver.remote.webelement.WebElement (session=\"99860416992bddf6be5b9fc12132fba6\", element=\"74d71df4-40c4-47cb-9694-635ae8f4f1bc\")>,\n",
       " <selenium.webdriver.remote.webelement.WebElement (session=\"99860416992bddf6be5b9fc12132fba6\", element=\"30abfe8a-9ede-4545-8a2e-049ab3a30427\")>,\n",
       " <selenium.webdriver.remote.webelement.WebElement (session=\"99860416992bddf6be5b9fc12132fba6\", element=\"308fb809-d853-43c8-8ff0-1fa752a9179b\")>,\n",
       " <selenium.webdriver.remote.webelement.WebElement (session=\"99860416992bddf6be5b9fc12132fba6\", element=\"c6a25702-11b7-4955-92a3-bcea006bb81b\")>,\n",
       " <selenium.webdriver.remote.webelement.WebElement (session=\"99860416992bddf6be5b9fc12132fba6\", element=\"1f51064c-3185-4be3-bf85-fb7fefe93134\")>,\n",
       " <selenium.webdriver.remote.webelement.WebElement (session=\"99860416992bddf6be5b9fc12132fba6\", element=\"4d473db6-e061-4c4e-9ba5-3a61c6695894\")>,\n",
       " <selenium.webdriver.remote.webelement.WebElement (session=\"99860416992bddf6be5b9fc12132fba6\", element=\"afa02ea9-b563-4fb7-84d6-bb8bbe0558f9\")>]"
      ]
     },
     "execution_count": 330,
     "metadata": {},
     "output_type": "execute_result"
    }
   ],
   "source": [
    "price_tags=driver.find_elements_by_xpath(\"//span[@class='a-price-whole']\")\n",
    "price_tags[0:10]"
   ]
  },
  {
   "cell_type": "code",
   "execution_count": 331,
   "id": "0db596f7",
   "metadata": {},
   "outputs": [
    {
     "data": {
      "text/plain": [
       "['1,24,990',\n",
       " '1,34,990',\n",
       " '57,490',\n",
       " '86,990',\n",
       " '89,611',\n",
       " '1,14,990',\n",
       " '1,69,990',\n",
       " '86,990',\n",
       " '92,990',\n",
       " '1,16,900']"
      ]
     },
     "execution_count": 331,
     "metadata": {},
     "output_type": "execute_result"
    }
   ],
   "source": [
    "for i in price_tags:\n",
    "    price=i.text\n",
    "    lp_price.append(price)\n",
    "lp_price[0:10]"
   ]
  },
  {
   "cell_type": "code",
   "execution_count": 332,
   "id": "162cdad1",
   "metadata": {},
   "outputs": [],
   "source": [
    "laptops=pd.DataFrame({\"Title\":lp_title[0:10],\"Ratings\":lp_rating[0:10],\"Price\":lp_price[0:10]})"
   ]
  },
  {
   "cell_type": "code",
   "execution_count": 333,
   "id": "8c5508f1",
   "metadata": {},
   "outputs": [
    {
     "data": {
      "text/html": [
       "<div>\n",
       "<style scoped>\n",
       "    .dataframe tbody tr th:only-of-type {\n",
       "        vertical-align: middle;\n",
       "    }\n",
       "\n",
       "    .dataframe tbody tr th {\n",
       "        vertical-align: top;\n",
       "    }\n",
       "\n",
       "    .dataframe thead th {\n",
       "        text-align: right;\n",
       "    }\n",
       "</style>\n",
       "<table border=\"1\" class=\"dataframe\">\n",
       "  <thead>\n",
       "    <tr style=\"text-align: right;\">\n",
       "      <th></th>\n",
       "      <th>Title</th>\n",
       "      <th>Ratings</th>\n",
       "      <th>Price</th>\n",
       "    </tr>\n",
       "  </thead>\n",
       "  <tbody>\n",
       "    <tr>\n",
       "      <th>0</th>\n",
       "      <td>OMEN by HP- 11th Gen Intel Core i7 16.1-inch(4...</td>\n",
       "      <td></td>\n",
       "      <td>1,24,990</td>\n",
       "    </tr>\n",
       "    <tr>\n",
       "      <th>1</th>\n",
       "      <td>OMEN by HP 11th Gen Intel Core i7-11800H 16.1-...</td>\n",
       "      <td></td>\n",
       "      <td>1,34,990</td>\n",
       "    </tr>\n",
       "    <tr>\n",
       "      <th>2</th>\n",
       "      <td>ASUS VivoBook 14 (2021), 14-inch (35.56 cms) F...</td>\n",
       "      <td></td>\n",
       "      <td>57,490</td>\n",
       "    </tr>\n",
       "    <tr>\n",
       "      <th>3</th>\n",
       "      <td>HP Pavilion 14, 11th Gen Intel Core i7-16GB RA...</td>\n",
       "      <td></td>\n",
       "      <td>86,990</td>\n",
       "    </tr>\n",
       "    <tr>\n",
       "      <th>4</th>\n",
       "      <td>LG Gram 16 inches Intel Evo 11th Gen Core i7 U...</td>\n",
       "      <td></td>\n",
       "      <td>89,611</td>\n",
       "    </tr>\n",
       "    <tr>\n",
       "      <th>5</th>\n",
       "      <td>Samsung Galaxy Book2 Pro Intel 12th Gen i7 Evo...</td>\n",
       "      <td></td>\n",
       "      <td>1,14,990</td>\n",
       "    </tr>\n",
       "    <tr>\n",
       "      <th>6</th>\n",
       "      <td>Acer Predator Helios 300 11th Gen Intel Core i...</td>\n",
       "      <td></td>\n",
       "      <td>1,69,990</td>\n",
       "    </tr>\n",
       "    <tr>\n",
       "      <th>7</th>\n",
       "      <td>HP Pavilion x360 11th Gen Intel Core i7 14 inc...</td>\n",
       "      <td></td>\n",
       "      <td>86,990</td>\n",
       "    </tr>\n",
       "    <tr>\n",
       "      <th>8</th>\n",
       "      <td>ASUS TUF Gaming F15 (2021) 15.6-inch (39.62 cm...</td>\n",
       "      <td></td>\n",
       "      <td>92,990</td>\n",
       "    </tr>\n",
       "    <tr>\n",
       "      <th>9</th>\n",
       "      <td>ASUS ZenBook Duo 14 (2021), Intel Evo Core i7-...</td>\n",
       "      <td></td>\n",
       "      <td>1,16,900</td>\n",
       "    </tr>\n",
       "  </tbody>\n",
       "</table>\n",
       "</div>"
      ],
      "text/plain": [
       "                                               Title Ratings     Price\n",
       "0  OMEN by HP- 11th Gen Intel Core i7 16.1-inch(4...          1,24,990\n",
       "1  OMEN by HP 11th Gen Intel Core i7-11800H 16.1-...          1,34,990\n",
       "2  ASUS VivoBook 14 (2021), 14-inch (35.56 cms) F...            57,490\n",
       "3  HP Pavilion 14, 11th Gen Intel Core i7-16GB RA...            86,990\n",
       "4  LG Gram 16 inches Intel Evo 11th Gen Core i7 U...            89,611\n",
       "5  Samsung Galaxy Book2 Pro Intel 12th Gen i7 Evo...          1,14,990\n",
       "6  Acer Predator Helios 300 11th Gen Intel Core i...          1,69,990\n",
       "7  HP Pavilion x360 11th Gen Intel Core i7 14 inc...            86,990\n",
       "8  ASUS TUF Gaming F15 (2021) 15.6-inch (39.62 cm...            92,990\n",
       "9  ASUS ZenBook Duo 14 (2021), Intel Evo Core i7-...          1,16,900"
      ]
     },
     "execution_count": 333,
     "metadata": {},
     "output_type": "execute_result"
    }
   ],
   "source": [
    "laptops"
   ]
  },
  {
   "cell_type": "code",
   "execution_count": 1,
   "id": "8226d752",
   "metadata": {},
   "outputs": [],
   "source": [
    "# ratings are not availible,because are are in image format"
   ]
  },
  {
   "cell_type": "code",
   "execution_count": 335,
   "id": "af13d063",
   "metadata": {},
   "outputs": [],
   "source": [
    "driver.close()"
   ]
  },
  {
   "cell_type": "markdown",
   "id": "fc435967",
   "metadata": {},
   "source": [
    "### Que.9"
   ]
  },
  {
   "cell_type": "code",
   "execution_count": 336,
   "id": "dc717062",
   "metadata": {},
   "outputs": [],
   "source": [
    "driver=webdriver.Chrome('chromedriver.exe')\n",
    "time.sleep(2)"
   ]
  },
  {
   "cell_type": "code",
   "execution_count": 337,
   "id": "f3397f19",
   "metadata": {},
   "outputs": [],
   "source": [
    "driver.get(\"https://www.ambitionbox.com/\")"
   ]
  },
  {
   "cell_type": "code",
   "execution_count": 338,
   "id": "dbe08c58",
   "metadata": {},
   "outputs": [],
   "source": [
    "job_button=driver.find_element_by_xpath(\"/html/body/div[1]/nav/nav/a[6]\")"
   ]
  },
  {
   "cell_type": "code",
   "execution_count": 339,
   "id": "f3e4159c",
   "metadata": {},
   "outputs": [],
   "source": [
    "job_button.click()"
   ]
  },
  {
   "cell_type": "code",
   "execution_count": 340,
   "id": "ea8eced3",
   "metadata": {},
   "outputs": [],
   "source": [
    "search_desg=driver.find_element_by_xpath(\"/html/body/div/div/div/div[2]/div[1]/div[1]/div/div/div/div/span/input\")\n",
    "search_desg.send_keys(\"Data Scientist\")"
   ]
  },
  {
   "cell_type": "code",
   "execution_count": 341,
   "id": "1ec17e8c",
   "metadata": {},
   "outputs": [],
   "source": [
    "search_button=driver.find_element_by_xpath(\"/html/body/div/div/div/div[2]/div[1]/div[1]/div/div/div/button/span\")\n",
    "search_button.click()"
   ]
  },
  {
   "cell_type": "code",
   "execution_count": 342,
   "id": "11d4dc99",
   "metadata": {},
   "outputs": [],
   "source": [
    "location_button=driver.find_element_by_xpath(\"/html/body/div/div/div/div[2]/div[1]/div[2]/div[1]/div/div/div/div[2]/div[1]/p\")\n",
    "location_button.click()"
   ]
  },
  {
   "cell_type": "code",
   "execution_count": 343,
   "id": "d1fa9a40",
   "metadata": {},
   "outputs": [],
   "source": [
    "location_input=driver.find_element_by_xpath(\"/html/body/div/div/div/div[2]/div[1]/div[2]/div[1]/div/div/div/div[2]/div[2]/div/div[2]/input\")\n"
   ]
  },
  {
   "cell_type": "code",
   "execution_count": 344,
   "id": "c438d091",
   "metadata": {},
   "outputs": [],
   "source": [
    "location_input.send_keys(\"Noida\")"
   ]
  },
  {
   "cell_type": "code",
   "execution_count": 345,
   "id": "85703b7f",
   "metadata": {},
   "outputs": [],
   "source": [
    "click_noida=driver.find_element_by_xpath(\"/html/body/div/div/div/div[2]/div[1]/div[2]/div[1]/div/div/div/div[2]/div[2]/div/div[3]/div[1]/div[1]/div/label\")\n",
    "click_noida.click()"
   ]
  },
  {
   "cell_type": "code",
   "execution_count": 346,
   "id": "b68c2fff",
   "metadata": {},
   "outputs": [],
   "source": [
    "url=\"https://www.ambitionbox.com/jobs/search?tag=Data%20Scientist&location=Noida\""
   ]
  },
  {
   "cell_type": "code",
   "execution_count": 347,
   "id": "34b10bd3",
   "metadata": {},
   "outputs": [],
   "source": [
    "driver.get(url)"
   ]
  },
  {
   "cell_type": "code",
   "execution_count": 348,
   "id": "3bfea2e9",
   "metadata": {},
   "outputs": [],
   "source": [
    "job_title=[]\n",
    "comp_name=[]\n",
    "location=[]\n",
    "exp_req=[]"
   ]
  },
  {
   "cell_type": "code",
   "execution_count": 349,
   "id": "c211955a",
   "metadata": {},
   "outputs": [
    {
     "data": {
      "text/plain": [
       "[<selenium.webdriver.remote.webelement.WebElement (session=\"d15c6c79b2fce3868400fea15a160830\", element=\"d92d9784-1665-496b-b7d2-c8463327b2e0\")>,\n",
       " <selenium.webdriver.remote.webelement.WebElement (session=\"d15c6c79b2fce3868400fea15a160830\", element=\"1de6caa5-3d85-4324-b1f7-f47ac0d699ba\")>,\n",
       " <selenium.webdriver.remote.webelement.WebElement (session=\"d15c6c79b2fce3868400fea15a160830\", element=\"3f25d940-db28-4ce3-833b-73020bcca01a\")>,\n",
       " <selenium.webdriver.remote.webelement.WebElement (session=\"d15c6c79b2fce3868400fea15a160830\", element=\"74bbe74d-5bb2-4b4a-810a-e8db07be8eab\")>,\n",
       " <selenium.webdriver.remote.webelement.WebElement (session=\"d15c6c79b2fce3868400fea15a160830\", element=\"e35e3a68-3928-4a54-b43a-46d95574890a\")>,\n",
       " <selenium.webdriver.remote.webelement.WebElement (session=\"d15c6c79b2fce3868400fea15a160830\", element=\"7e08511b-0782-4a3d-be05-8e4f4a457f4f\")>,\n",
       " <selenium.webdriver.remote.webelement.WebElement (session=\"d15c6c79b2fce3868400fea15a160830\", element=\"6284a44e-bc13-4d83-870d-a30d470ab116\")>,\n",
       " <selenium.webdriver.remote.webelement.WebElement (session=\"d15c6c79b2fce3868400fea15a160830\", element=\"83614030-eb01-479f-bbad-e287099dbfcc\")>,\n",
       " <selenium.webdriver.remote.webelement.WebElement (session=\"d15c6c79b2fce3868400fea15a160830\", element=\"94ebb951-1459-4bb8-82b6-3e5961be8df6\")>,\n",
       " <selenium.webdriver.remote.webelement.WebElement (session=\"d15c6c79b2fce3868400fea15a160830\", element=\"03a166b0-8471-4470-b047-3fc3d0081fa9\")>]"
      ]
     },
     "execution_count": 349,
     "metadata": {},
     "output_type": "execute_result"
    }
   ],
   "source": [
    "tit_tags=driver.find_elements_by_xpath(\"//a[@class='title noclick']\")\n",
    "tit_tags"
   ]
  },
  {
   "cell_type": "code",
   "execution_count": 350,
   "id": "67ac17b7",
   "metadata": {},
   "outputs": [
    {
     "data": {
      "text/plain": [
       "['Machine Learning Engineer',\n",
       " 'Data Scientist',\n",
       " 'Data Scientist with SAS',\n",
       " 'Hiring For Data Scientist + Python/R+ Predictive Modeling',\n",
       " 'Urgent Requirement || Data Scientist || Noida',\n",
       " 'Data Scientist - Machine Learning (5-14 yrs)',\n",
       " 'Data Scientist- Fresher Opening - Newgen Software Technologies',\n",
       " 'Senior Data Scientist',\n",
       " 'Data Analyst / Data Scientist',\n",
       " 'Data Scientist-II']"
      ]
     },
     "execution_count": 350,
     "metadata": {},
     "output_type": "execute_result"
    }
   ],
   "source": [
    "for i in tit_tags:\n",
    "    title=i.text\n",
    "    job_title.append(title)\n",
    "job_title"
   ]
  },
  {
   "cell_type": "code",
   "execution_count": 351,
   "id": "078b072c",
   "metadata": {},
   "outputs": [
    {
     "data": {
      "text/plain": [
       "[<selenium.webdriver.remote.webelement.WebElement (session=\"d15c6c79b2fce3868400fea15a160830\", element=\"7de549b2-429b-4b2b-bb40-548756b70376\")>,\n",
       " <selenium.webdriver.remote.webelement.WebElement (session=\"d15c6c79b2fce3868400fea15a160830\", element=\"bb296251-921a-4978-b230-4f62adf6edc8\")>,\n",
       " <selenium.webdriver.remote.webelement.WebElement (session=\"d15c6c79b2fce3868400fea15a160830\", element=\"32773e24-a2b6-4e69-ac32-64e631fe2e93\")>,\n",
       " <selenium.webdriver.remote.webelement.WebElement (session=\"d15c6c79b2fce3868400fea15a160830\", element=\"000c994f-dc04-4f1e-9605-9fd09e9ed651\")>,\n",
       " <selenium.webdriver.remote.webelement.WebElement (session=\"d15c6c79b2fce3868400fea15a160830\", element=\"769b4fb8-1231-47a2-93e6-16f534b17560\")>,\n",
       " <selenium.webdriver.remote.webelement.WebElement (session=\"d15c6c79b2fce3868400fea15a160830\", element=\"a0fb86c5-c28e-45a5-a0e6-67e08851f11d\")>,\n",
       " <selenium.webdriver.remote.webelement.WebElement (session=\"d15c6c79b2fce3868400fea15a160830\", element=\"55402f1a-84ae-4ccb-a1fd-0282ae3257d4\")>,\n",
       " <selenium.webdriver.remote.webelement.WebElement (session=\"d15c6c79b2fce3868400fea15a160830\", element=\"a953a953-77b6-49fd-9570-76033dd6c950\")>,\n",
       " <selenium.webdriver.remote.webelement.WebElement (session=\"d15c6c79b2fce3868400fea15a160830\", element=\"75884e47-457f-41b3-878b-bb001135bb7c\")>,\n",
       " <selenium.webdriver.remote.webelement.WebElement (session=\"d15c6c79b2fce3868400fea15a160830\", element=\"2e2606ae-acd4-4d20-868e-8b95176eaa26\")>]"
      ]
     },
     "execution_count": 351,
     "metadata": {},
     "output_type": "execute_result"
    }
   ],
   "source": [
    "comp_tags=driver.find_elements_by_xpath(\"//p[@class='company body-medium']\")\n",
    "comp_tags"
   ]
  },
  {
   "cell_type": "code",
   "execution_count": 352,
   "id": "dc551508",
   "metadata": {},
   "outputs": [
    {
     "data": {
      "text/plain": [
       "['GENPACT India Private Limited',\n",
       " 'GENPACT India Private Limited',\n",
       " 'Tech Mahindra Ltd',\n",
       " 'GENPACT India Private Limited',\n",
       " 'HCL Technologies',\n",
       " 'Zyoin',\n",
       " 'Newgen Software Technologies Ltd.',\n",
       " 'Pitney Bowes India Pvt Ltd',\n",
       " 'JK Technosoft Ltd',\n",
       " 'Microsoft India (R and D) Pvt Ltd']"
      ]
     },
     "execution_count": 352,
     "metadata": {},
     "output_type": "execute_result"
    }
   ],
   "source": [
    "for i in comp_tags:\n",
    "    company=i.text\n",
    "    comp_name.append(company)\n",
    "comp_name"
   ]
  },
  {
   "cell_type": "code",
   "execution_count": 353,
   "id": "625d21c9",
   "metadata": {},
   "outputs": [
    {
     "data": {
      "text/plain": [
       "[<selenium.webdriver.remote.webelement.WebElement (session=\"d15c6c79b2fce3868400fea15a160830\", element=\"48548ed2-e9f7-462d-809a-01573ed45d90\")>,\n",
       " <selenium.webdriver.remote.webelement.WebElement (session=\"d15c6c79b2fce3868400fea15a160830\", element=\"9ad09e97-b430-49b6-92d0-5ab81a5ac9a9\")>,\n",
       " <selenium.webdriver.remote.webelement.WebElement (session=\"d15c6c79b2fce3868400fea15a160830\", element=\"1624cb92-d139-40f4-927e-bc26902c039a\")>,\n",
       " <selenium.webdriver.remote.webelement.WebElement (session=\"d15c6c79b2fce3868400fea15a160830\", element=\"16d85260-1ca0-4642-8a82-07104b8985ec\")>,\n",
       " <selenium.webdriver.remote.webelement.WebElement (session=\"d15c6c79b2fce3868400fea15a160830\", element=\"e314e584-6c12-4219-8213-eef1cd9fb31b\")>,\n",
       " <selenium.webdriver.remote.webelement.WebElement (session=\"d15c6c79b2fce3868400fea15a160830\", element=\"e7073b4d-2c9d-46ba-90d4-ea02a9843de9\")>,\n",
       " <selenium.webdriver.remote.webelement.WebElement (session=\"d15c6c79b2fce3868400fea15a160830\", element=\"72745c8d-02a6-4172-8de3-9cf3f8714642\")>,\n",
       " <selenium.webdriver.remote.webelement.WebElement (session=\"d15c6c79b2fce3868400fea15a160830\", element=\"80a6e64f-b510-403d-940d-739f6f3cac7a\")>,\n",
       " <selenium.webdriver.remote.webelement.WebElement (session=\"d15c6c79b2fce3868400fea15a160830\", element=\"39dbc05c-a866-41b0-9ffd-a224ac6d5fe8\")>,\n",
       " <selenium.webdriver.remote.webelement.WebElement (session=\"d15c6c79b2fce3868400fea15a160830\", element=\"bfaaaa8c-9865-4ad8-ba3a-6a0fcb983235\")>,\n",
       " <selenium.webdriver.remote.webelement.WebElement (session=\"d15c6c79b2fce3868400fea15a160830\", element=\"9e652f87-0318-41e8-a55d-862b5fd92aba\")>]"
      ]
     },
     "execution_count": 353,
     "metadata": {},
     "output_type": "execute_result"
    }
   ],
   "source": [
    "loc_tags=driver.find_elements_by_xpath(\"//div[@class='entity loc']\")\n",
    "loc_tags"
   ]
  },
  {
   "cell_type": "code",
   "execution_count": 354,
   "id": "7469dfba",
   "metadata": {},
   "outputs": [
    {
     "data": {
      "text/plain": [
       "['Gurgaon/Gurugram, Noida',\n",
       " 'Gurgaon/Gurugram, Noida',\n",
       " 'Bengaluru/Bangalore, Hyderabad/Secunderabad, Gurgaon/Gurugram +1 more',\n",
       " 'Noida',\n",
       " 'Gurgaon/Gurugram, Noida',\n",
       " 'Delhi NCR, Noida',\n",
       " 'Bengaluru/Bangalore, Noida',\n",
       " 'Noida',\n",
       " 'Noida',\n",
       " 'Bengaluru/Bangalore, Noida, Hyderabad/Secunderabad',\n",
       " 'Noida']"
      ]
     },
     "execution_count": 354,
     "metadata": {},
     "output_type": "execute_result"
    }
   ],
   "source": [
    "for i in loc_tags:\n",
    "    loc=i.text\n",
    "    location.append(loc)\n",
    "location"
   ]
  },
  {
   "cell_type": "code",
   "execution_count": 355,
   "id": "e7650e29",
   "metadata": {},
   "outputs": [
    {
     "data": {
      "text/plain": [
       "[<selenium.webdriver.remote.webelement.WebElement (session=\"d15c6c79b2fce3868400fea15a160830\", element=\"f84837c2-09f1-47fa-8e8a-00ccb4a6d076\")>,\n",
       " <selenium.webdriver.remote.webelement.WebElement (session=\"d15c6c79b2fce3868400fea15a160830\", element=\"039f27ea-6f9f-4565-8d67-2722dd5f67e7\")>,\n",
       " <selenium.webdriver.remote.webelement.WebElement (session=\"d15c6c79b2fce3868400fea15a160830\", element=\"10a5735e-7fde-4597-b233-ed82a479ec97\")>,\n",
       " <selenium.webdriver.remote.webelement.WebElement (session=\"d15c6c79b2fce3868400fea15a160830\", element=\"23786362-a9c3-4759-a356-e889d1aa1914\")>,\n",
       " <selenium.webdriver.remote.webelement.WebElement (session=\"d15c6c79b2fce3868400fea15a160830\", element=\"0b603856-f276-46ed-be6d-541e2b359652\")>,\n",
       " <selenium.webdriver.remote.webelement.WebElement (session=\"d15c6c79b2fce3868400fea15a160830\", element=\"72414b43-38c7-4182-8a50-6d9b9123688e\")>,\n",
       " <selenium.webdriver.remote.webelement.WebElement (session=\"d15c6c79b2fce3868400fea15a160830\", element=\"fd6a2233-b15a-46a9-b0b6-d45d3d7648fe\")>,\n",
       " <selenium.webdriver.remote.webelement.WebElement (session=\"d15c6c79b2fce3868400fea15a160830\", element=\"34c9191a-536c-436a-a1c4-2fc8efbe22f1\")>,\n",
       " <selenium.webdriver.remote.webelement.WebElement (session=\"d15c6c79b2fce3868400fea15a160830\", element=\"99576f2f-521c-4bbc-8d14-9c5b37d4c581\")>,\n",
       " <selenium.webdriver.remote.webelement.WebElement (session=\"d15c6c79b2fce3868400fea15a160830\", element=\"60ce83af-fb50-4a08-86d8-12d954274e37\")>,\n",
       " <selenium.webdriver.remote.webelement.WebElement (session=\"d15c6c79b2fce3868400fea15a160830\", element=\"e97833a2-a6a2-47ab-956e-f9deed96c5a7\")>,\n",
       " <selenium.webdriver.remote.webelement.WebElement (session=\"d15c6c79b2fce3868400fea15a160830\", element=\"a45d0290-ff10-4a17-9f70-a7ec6d7c7fbb\")>,\n",
       " <selenium.webdriver.remote.webelement.WebElement (session=\"d15c6c79b2fce3868400fea15a160830\", element=\"5afe10bf-0507-46eb-92f7-21951aa3de39\")>,\n",
       " <selenium.webdriver.remote.webelement.WebElement (session=\"d15c6c79b2fce3868400fea15a160830\", element=\"ec0e7e0a-92a7-45c6-b001-f3ac14a86613\")>,\n",
       " <selenium.webdriver.remote.webelement.WebElement (session=\"d15c6c79b2fce3868400fea15a160830\", element=\"dc592028-75ad-48da-a685-2cf6512e5505\")>,\n",
       " <selenium.webdriver.remote.webelement.WebElement (session=\"d15c6c79b2fce3868400fea15a160830\", element=\"572a3d8f-d958-4b3e-bf44-28539528ec72\")>,\n",
       " <selenium.webdriver.remote.webelement.WebElement (session=\"d15c6c79b2fce3868400fea15a160830\", element=\"61cf8c1b-2179-4850-bf3d-81c850f3edbd\")>,\n",
       " <selenium.webdriver.remote.webelement.WebElement (session=\"d15c6c79b2fce3868400fea15a160830\", element=\"a1eed4c5-9bc8-4a52-b32e-d910c700fcac\")>,\n",
       " <selenium.webdriver.remote.webelement.WebElement (session=\"d15c6c79b2fce3868400fea15a160830\", element=\"30e3eb5c-b949-403e-9054-8ff3a9ed3dfb\")>,\n",
       " <selenium.webdriver.remote.webelement.WebElement (session=\"d15c6c79b2fce3868400fea15a160830\", element=\"a93a520f-ae78-4bbe-9b01-7aad9b25866f\")>,\n",
       " <selenium.webdriver.remote.webelement.WebElement (session=\"d15c6c79b2fce3868400fea15a160830\", element=\"90ad56c8-1855-43f3-8b03-2009b4f0af98\")>,\n",
       " <selenium.webdriver.remote.webelement.WebElement (session=\"d15c6c79b2fce3868400fea15a160830\", element=\"8d8a16ef-f990-46af-9a09-6251e8cb83fe\")>,\n",
       " <selenium.webdriver.remote.webelement.WebElement (session=\"d15c6c79b2fce3868400fea15a160830\", element=\"d0ab2fe0-510a-48c3-a2aa-0b9db96e9893\")>,\n",
       " <selenium.webdriver.remote.webelement.WebElement (session=\"d15c6c79b2fce3868400fea15a160830\", element=\"5cbe9bd9-a2ac-4b8d-834c-03a76f0e23d2\")>,\n",
       " <selenium.webdriver.remote.webelement.WebElement (session=\"d15c6c79b2fce3868400fea15a160830\", element=\"1a0397c6-85b3-4704-8b1d-178ff2f29ba6\")>,\n",
       " <selenium.webdriver.remote.webelement.WebElement (session=\"d15c6c79b2fce3868400fea15a160830\", element=\"1cd2099a-44e0-4613-baf1-c18490c64fc0\")>,\n",
       " <selenium.webdriver.remote.webelement.WebElement (session=\"d15c6c79b2fce3868400fea15a160830\", element=\"e3eb88fe-063f-4424-b61a-b8c075d9af6b\")>,\n",
       " <selenium.webdriver.remote.webelement.WebElement (session=\"d15c6c79b2fce3868400fea15a160830\", element=\"24da58f7-962e-4736-94bc-fd1996631a81\")>,\n",
       " <selenium.webdriver.remote.webelement.WebElement (session=\"d15c6c79b2fce3868400fea15a160830\", element=\"f7d522e3-cffc-4345-98c9-2ad5ce313193\")>,\n",
       " <selenium.webdriver.remote.webelement.WebElement (session=\"d15c6c79b2fce3868400fea15a160830\", element=\"c02dff5d-f156-406f-af00-1d602f42001e\")>,\n",
       " <selenium.webdriver.remote.webelement.WebElement (session=\"d15c6c79b2fce3868400fea15a160830\", element=\"a18f5139-a424-40a1-b816-ed184b7059d7\")>,\n",
       " <selenium.webdriver.remote.webelement.WebElement (session=\"d15c6c79b2fce3868400fea15a160830\", element=\"eccde7f7-5bba-46e0-ab8e-25a3bcd153dd\")>,\n",
       " <selenium.webdriver.remote.webelement.WebElement (session=\"d15c6c79b2fce3868400fea15a160830\", element=\"a02c11e6-d51a-45a6-8ec5-5a3ef3f107ba\")>,\n",
       " <selenium.webdriver.remote.webelement.WebElement (session=\"d15c6c79b2fce3868400fea15a160830\", element=\"cd690710-b4ce-42e4-9ba0-609edc558a89\")>,\n",
       " <selenium.webdriver.remote.webelement.WebElement (session=\"d15c6c79b2fce3868400fea15a160830\", element=\"bdf399d6-4882-44dc-8aaa-2d7b5887413c\")>,\n",
       " <selenium.webdriver.remote.webelement.WebElement (session=\"d15c6c79b2fce3868400fea15a160830\", element=\"bbcd7d9d-424a-44e4-a79a-39609f9bc3ec\")>,\n",
       " <selenium.webdriver.remote.webelement.WebElement (session=\"d15c6c79b2fce3868400fea15a160830\", element=\"8b2edeb5-1376-4f35-b2b1-7a95c4e1711f\")>,\n",
       " <selenium.webdriver.remote.webelement.WebElement (session=\"d15c6c79b2fce3868400fea15a160830\", element=\"a43949ba-4f65-4a77-a137-0ece0d39591f\")>,\n",
       " <selenium.webdriver.remote.webelement.WebElement (session=\"d15c6c79b2fce3868400fea15a160830\", element=\"26c0ca0e-c631-4417-836a-1d6d505002ad\")>,\n",
       " <selenium.webdriver.remote.webelement.WebElement (session=\"d15c6c79b2fce3868400fea15a160830\", element=\"1585a1ee-af18-4a8c-988e-583e1e478f97\")>,\n",
       " <selenium.webdriver.remote.webelement.WebElement (session=\"d15c6c79b2fce3868400fea15a160830\", element=\"606dd846-fc65-4dd1-b449-4793dd4c13ae\")>,\n",
       " <selenium.webdriver.remote.webelement.WebElement (session=\"d15c6c79b2fce3868400fea15a160830\", element=\"e6cf3e34-0251-40ec-8b0e-b6bafbf92b48\")>]"
      ]
     },
     "execution_count": 355,
     "metadata": {},
     "output_type": "execute_result"
    }
   ],
   "source": [
    "exp_tags=driver.find_elements_by_xpath(\"//p[@class='body-small-l']\")\n",
    "exp_tags"
   ]
  },
  {
   "cell_type": "code",
   "execution_count": 356,
   "id": "4e53eb68",
   "metadata": {},
   "outputs": [
    {
     "data": {
      "text/plain": [
       "['7-10 years',\n",
       " 'Not Disclosed',\n",
       " 'Gurgaon/Gurugram, Noida',\n",
       " '7-10 Yrs',\n",
       " 'Not Disclosed',\n",
       " 'Gurgaon/Gurugram, Noida',\n",
       " 'deep learning, nlp, Natural Language Processing +2 more',\n",
       " '7-12 Yrs',\n",
       " 'Not Disclosed',\n",
       " 'Bengaluru/Bangalore, Hyderabad/Secunderabad, Gurgaon/Gurugram +1 more',\n",
       " 'deep learning, python, machine learning',\n",
       " '3-6 Yrs',\n",
       " 'Not Disclosed',\n",
       " 'Noida',\n",
       " 'SAS, machine learning',\n",
       " '9-14 Yrs',\n",
       " 'Not Disclosed',\n",
       " 'Gurgaon/Gurugram, Noida',\n",
       " 'Predictive Modeling, R, python +4 more',\n",
       " '3-8 Yrs',\n",
       " 'Not Disclosed',\n",
       " 'Delhi NCR, Noida',\n",
       " 'NLP, Artificial Intelligence, Natural Language Processing +4 more',\n",
       " '5-14 Yrs',\n",
       " 'Bengaluru/Bangalore, Noida',\n",
       " 'Data Scientist, Data Management, PhD +6 more',\n",
       " '0-2 Yrs',\n",
       " '₹ 3-5 LPA',\n",
       " 'Noida',\n",
       " 'python, nlp, Statistical Analyses +1 more',\n",
       " '6-10 Yrs',\n",
       " 'Not Disclosed',\n",
       " 'Noida',\n",
       " 'Quest',\n",
       " '5-7 Yrs',\n",
       " 'Not Disclosed',\n",
       " 'Bengaluru/Bangalore, Noida, Hyderabad/Secunderabad',\n",
       " 'Data Visualization, Data Analysis, Machine Learning +6 more',\n",
       " '4-7 Yrs',\n",
       " 'Not Disclosed',\n",
       " 'Noida',\n",
       " 'System design, Intellectual property, Product management +7 more']"
      ]
     },
     "execution_count": 356,
     "metadata": {},
     "output_type": "execute_result"
    }
   ],
   "source": [
    "for i in exp_tags:\n",
    "    exper=i.text\n",
    "    exp_req.append(exper)\n",
    "exp_req"
   ]
  },
  {
   "cell_type": "code",
   "execution_count": 357,
   "id": "e023758d",
   "metadata": {},
   "outputs": [],
   "source": [
    "#there are the all have same class "
   ]
  },
  {
   "cell_type": "code",
   "execution_count": 358,
   "id": "09290dfb",
   "metadata": {},
   "outputs": [],
   "source": [
    "job=pd.DataFrame({'Job':job_title[:10],'Company Name':comp_name[:10],'Location':location[:10]})"
   ]
  },
  {
   "cell_type": "code",
   "execution_count": 359,
   "id": "caa1b9bc",
   "metadata": {},
   "outputs": [
    {
     "data": {
      "text/html": [
       "<div>\n",
       "<style scoped>\n",
       "    .dataframe tbody tr th:only-of-type {\n",
       "        vertical-align: middle;\n",
       "    }\n",
       "\n",
       "    .dataframe tbody tr th {\n",
       "        vertical-align: top;\n",
       "    }\n",
       "\n",
       "    .dataframe thead th {\n",
       "        text-align: right;\n",
       "    }\n",
       "</style>\n",
       "<table border=\"1\" class=\"dataframe\">\n",
       "  <thead>\n",
       "    <tr style=\"text-align: right;\">\n",
       "      <th></th>\n",
       "      <th>Job</th>\n",
       "      <th>Company Name</th>\n",
       "      <th>Location</th>\n",
       "    </tr>\n",
       "  </thead>\n",
       "  <tbody>\n",
       "    <tr>\n",
       "      <th>0</th>\n",
       "      <td>Machine Learning Engineer</td>\n",
       "      <td>GENPACT India Private Limited</td>\n",
       "      <td>Gurgaon/Gurugram, Noida</td>\n",
       "    </tr>\n",
       "    <tr>\n",
       "      <th>1</th>\n",
       "      <td>Data Scientist</td>\n",
       "      <td>GENPACT India Private Limited</td>\n",
       "      <td>Gurgaon/Gurugram, Noida</td>\n",
       "    </tr>\n",
       "    <tr>\n",
       "      <th>2</th>\n",
       "      <td>Data Scientist with SAS</td>\n",
       "      <td>Tech Mahindra Ltd</td>\n",
       "      <td>Bengaluru/Bangalore, Hyderabad/Secunderabad, G...</td>\n",
       "    </tr>\n",
       "    <tr>\n",
       "      <th>3</th>\n",
       "      <td>Hiring For Data Scientist + Python/R+ Predicti...</td>\n",
       "      <td>GENPACT India Private Limited</td>\n",
       "      <td>Noida</td>\n",
       "    </tr>\n",
       "    <tr>\n",
       "      <th>4</th>\n",
       "      <td>Urgent Requirement || Data Scientist || Noida</td>\n",
       "      <td>HCL Technologies</td>\n",
       "      <td>Gurgaon/Gurugram, Noida</td>\n",
       "    </tr>\n",
       "    <tr>\n",
       "      <th>5</th>\n",
       "      <td>Data Scientist - Machine Learning (5-14 yrs)</td>\n",
       "      <td>Zyoin</td>\n",
       "      <td>Delhi NCR, Noida</td>\n",
       "    </tr>\n",
       "    <tr>\n",
       "      <th>6</th>\n",
       "      <td>Data Scientist- Fresher Opening - Newgen Softw...</td>\n",
       "      <td>Newgen Software Technologies Ltd.</td>\n",
       "      <td>Bengaluru/Bangalore, Noida</td>\n",
       "    </tr>\n",
       "    <tr>\n",
       "      <th>7</th>\n",
       "      <td>Senior Data Scientist</td>\n",
       "      <td>Pitney Bowes India Pvt Ltd</td>\n",
       "      <td>Noida</td>\n",
       "    </tr>\n",
       "    <tr>\n",
       "      <th>8</th>\n",
       "      <td>Data Analyst / Data Scientist</td>\n",
       "      <td>JK Technosoft Ltd</td>\n",
       "      <td>Noida</td>\n",
       "    </tr>\n",
       "    <tr>\n",
       "      <th>9</th>\n",
       "      <td>Data Scientist-II</td>\n",
       "      <td>Microsoft India (R and D) Pvt Ltd</td>\n",
       "      <td>Bengaluru/Bangalore, Noida, Hyderabad/Secunder...</td>\n",
       "    </tr>\n",
       "  </tbody>\n",
       "</table>\n",
       "</div>"
      ],
      "text/plain": [
       "                                                 Job  \\\n",
       "0                          Machine Learning Engineer   \n",
       "1                                     Data Scientist   \n",
       "2                            Data Scientist with SAS   \n",
       "3  Hiring For Data Scientist + Python/R+ Predicti...   \n",
       "4      Urgent Requirement || Data Scientist || Noida   \n",
       "5       Data Scientist - Machine Learning (5-14 yrs)   \n",
       "6  Data Scientist- Fresher Opening - Newgen Softw...   \n",
       "7                              Senior Data Scientist   \n",
       "8                      Data Analyst / Data Scientist   \n",
       "9                                  Data Scientist-II   \n",
       "\n",
       "                        Company Name  \\\n",
       "0      GENPACT India Private Limited   \n",
       "1      GENPACT India Private Limited   \n",
       "2                  Tech Mahindra Ltd   \n",
       "3      GENPACT India Private Limited   \n",
       "4                   HCL Technologies   \n",
       "5                              Zyoin   \n",
       "6  Newgen Software Technologies Ltd.   \n",
       "7         Pitney Bowes India Pvt Ltd   \n",
       "8                  JK Technosoft Ltd   \n",
       "9  Microsoft India (R and D) Pvt Ltd   \n",
       "\n",
       "                                            Location  \n",
       "0                            Gurgaon/Gurugram, Noida  \n",
       "1                            Gurgaon/Gurugram, Noida  \n",
       "2  Bengaluru/Bangalore, Hyderabad/Secunderabad, G...  \n",
       "3                                              Noida  \n",
       "4                            Gurgaon/Gurugram, Noida  \n",
       "5                                   Delhi NCR, Noida  \n",
       "6                         Bengaluru/Bangalore, Noida  \n",
       "7                                              Noida  \n",
       "8                                              Noida  \n",
       "9  Bengaluru/Bangalore, Noida, Hyderabad/Secunder...  "
      ]
     },
     "execution_count": 359,
     "metadata": {},
     "output_type": "execute_result"
    }
   ],
   "source": [
    "job"
   ]
  },
  {
   "cell_type": "code",
   "execution_count": 360,
   "id": "4417c11e",
   "metadata": {},
   "outputs": [],
   "source": [
    "driver.close()"
   ]
  },
  {
   "cell_type": "code",
   "execution_count": null,
   "id": "93a2f417",
   "metadata": {},
   "outputs": [],
   "source": []
  },
  {
   "cell_type": "markdown",
   "id": "19186019",
   "metadata": {},
   "source": [
    "### Que.10"
   ]
  },
  {
   "cell_type": "code",
   "execution_count": 361,
   "id": "b4df535d",
   "metadata": {},
   "outputs": [],
   "source": [
    "driver=webdriver.Chrome(\"chromedriver.exe\")"
   ]
  },
  {
   "cell_type": "code",
   "execution_count": 362,
   "id": "702b9f37",
   "metadata": {},
   "outputs": [],
   "source": [
    "driver.get(\"https://www.ambitionbox.com/\")"
   ]
  },
  {
   "cell_type": "code",
   "execution_count": 363,
   "id": "a1e8de08",
   "metadata": {},
   "outputs": [],
   "source": [
    "salary_button=driver.find_element_by_xpath(\"/html/body/div[1]/nav/nav/a[4]\")\n",
    "salary_button.click()"
   ]
  },
  {
   "cell_type": "code",
   "execution_count": 364,
   "id": "b7cb2714",
   "metadata": {},
   "outputs": [],
   "source": [
    "search_desg=driver.find_element_by_xpath(\"/html/body/div/div/div/main/section[1]/div[2]/div[1]/span/input\")\n",
    "search_desg.send_keys(\"Data Scientist\")\n",
    "search_desg.click()"
   ]
  },
  {
   "cell_type": "code",
   "execution_count": 365,
   "id": "2c76f417",
   "metadata": {},
   "outputs": [],
   "source": [
    "comp_name=[]\n",
    "avg_sal=[]\n",
    "min_sal=[]\n",
    "max_sal=[]\n",
    "exp_req=[]"
   ]
  },
  {
   "cell_type": "code",
   "execution_count": 376,
   "id": "69d3f632",
   "metadata": {},
   "outputs": [],
   "source": [
    "com_tags=driver.find_elements_by_xpath(\"//div[@class='name']\")\n"
   ]
  },
  {
   "cell_type": "code",
   "execution_count": 377,
   "id": "c0d1f97b",
   "metadata": {},
   "outputs": [
    {
     "data": {
      "text/plain": [
       "['Google\\nbased on 11 salaries',\n",
       " 'Arista Networks\\nbased on 12 salaries',\n",
       " 'Microsoft Corporation\\nbased on 252 salaries',\n",
       " 'Goldman Sachs\\nbased on 16 salaries',\n",
       " 'Tekion\\nbased on 31 salaries',\n",
       " 'Flipkart\\nbased on 60 salaries',\n",
       " 'Servicenow Software Development India\\nbased on 52 salaries',\n",
       " 'Walmart\\nbased on 81 salaries',\n",
       " 'PayPal\\nbased on 26 salaries',\n",
       " 'Amazon\\nbased on 102 salaries',\n",
       " 'Walmart\\nbased on 11 salaries',\n",
       " 'Ab Inbev\\nbased on 31 salaries',\n",
       " 'Reliance Jio\\nbased on 10 salaries',\n",
       " 'ZS\\nbased on 15 salaries',\n",
       " 'Optum\\nbased on 28 salaries',\n",
       " 'Fractal Analytics\\nbased on 81 salaries',\n",
       " 'Tiger Analytics\\nbased on 46 salaries',\n",
       " 'UnitedHealth\\nbased on 53 salaries',\n",
       " 'Verizon\\nbased on 14 salaries',\n",
       " 'Ganit Business Solutions\\nbased on 13 salaries',\n",
       " 'Walmart\\nbased on 11 salaries',\n",
       " 'Ab Inbev\\nbased on 31 salaries',\n",
       " 'Reliance Jio\\nbased on 10 salaries',\n",
       " 'ZS\\nbased on 15 salaries',\n",
       " 'Optum\\nbased on 28 salaries',\n",
       " 'Fractal Analytics\\nbased on 81 salaries',\n",
       " 'Tiger Analytics\\nbased on 46 salaries',\n",
       " 'UnitedHealth\\nbased on 53 salaries',\n",
       " 'Verizon\\nbased on 14 salaries',\n",
       " 'Ganit Business Solutions\\nbased on 13 salaries',\n",
       " 'Walmart\\nbased on 11 salaries',\n",
       " 'Ab Inbev\\nbased on 31 salaries',\n",
       " 'Reliance Jio\\nbased on 10 salaries',\n",
       " 'ZS\\nbased on 15 salaries',\n",
       " 'Optum\\nbased on 28 salaries',\n",
       " 'Fractal Analytics\\nbased on 81 salaries',\n",
       " 'Tiger Analytics\\nbased on 46 salaries',\n",
       " 'UnitedHealth\\nbased on 53 salaries',\n",
       " 'Verizon\\nbased on 14 salaries',\n",
       " 'Ganit Business Solutions\\nbased on 13 salaries']"
      ]
     },
     "execution_count": 377,
     "metadata": {},
     "output_type": "execute_result"
    }
   ],
   "source": [
    "for i in com_tags:\n",
    "    comp=i.text\n",
    "    comp_name.append(comp)\n",
    "comp_name"
   ]
  },
  {
   "cell_type": "code",
   "execution_count": 371,
   "id": "3d9eeab9",
   "metadata": {},
   "outputs": [
    {
     "data": {
      "text/plain": [
       "[<selenium.webdriver.remote.webelement.WebElement (session=\"ef0c9adff2b6eb216f266615fa9f1532\", element=\"268b60ba-8a87-471b-91fb-eb7b526c0893\")>,\n",
       " <selenium.webdriver.remote.webelement.WebElement (session=\"ef0c9adff2b6eb216f266615fa9f1532\", element=\"92930e37-3879-44c9-95ac-e8ad99f8365d\")>,\n",
       " <selenium.webdriver.remote.webelement.WebElement (session=\"ef0c9adff2b6eb216f266615fa9f1532\", element=\"f18a06fb-86a3-40e3-a463-0532f4a994b2\")>,\n",
       " <selenium.webdriver.remote.webelement.WebElement (session=\"ef0c9adff2b6eb216f266615fa9f1532\", element=\"702e06f1-ac7b-4fb2-8dba-0bc4cb515b80\")>,\n",
       " <selenium.webdriver.remote.webelement.WebElement (session=\"ef0c9adff2b6eb216f266615fa9f1532\", element=\"b5f7edad-af95-4f66-9992-0d5fd167e4d6\")>,\n",
       " <selenium.webdriver.remote.webelement.WebElement (session=\"ef0c9adff2b6eb216f266615fa9f1532\", element=\"2a97ea12-546d-4140-a6b4-e76fa5830f51\")>,\n",
       " <selenium.webdriver.remote.webelement.WebElement (session=\"ef0c9adff2b6eb216f266615fa9f1532\", element=\"c41f6bda-1204-40bc-92c7-d14611331307\")>,\n",
       " <selenium.webdriver.remote.webelement.WebElement (session=\"ef0c9adff2b6eb216f266615fa9f1532\", element=\"827232e6-ed0f-4668-a361-55e3f31c5995\")>,\n",
       " <selenium.webdriver.remote.webelement.WebElement (session=\"ef0c9adff2b6eb216f266615fa9f1532\", element=\"df33ad4a-dfb6-4e7a-ae06-121cc64455b3\")>,\n",
       " <selenium.webdriver.remote.webelement.WebElement (session=\"ef0c9adff2b6eb216f266615fa9f1532\", element=\"7f26ec87-5870-40ca-8145-e08aeb31abdb\")>]"
      ]
     },
     "execution_count": 371,
     "metadata": {},
     "output_type": "execute_result"
    }
   ],
   "source": [
    "avg_sal_tags=driver.find_elements_by_xpath(\"//p[@class='averageCtc']\")\n",
    "avg_sal_tags"
   ]
  },
  {
   "cell_type": "code",
   "execution_count": 372,
   "id": "4bc06341",
   "metadata": {},
   "outputs": [
    {
     "data": {
      "text/plain": [
       "['₹ 29.7L',\n",
       " '₹ 20.5L',\n",
       " '₹ 18.9L',\n",
       " '₹ 15.9L',\n",
       " '₹ 15.4L',\n",
       " '₹ 15.1L',\n",
       " '₹ 14.8L',\n",
       " '₹ 14.0L',\n",
       " '₹ 12.7L',\n",
       " '₹ 12.4L']"
      ]
     },
     "execution_count": 372,
     "metadata": {},
     "output_type": "execute_result"
    }
   ],
   "source": [
    "for i in avg_sal_tags:\n",
    "    average=i.text\n",
    "    avg_sal.append(average)\n",
    "avg_sal"
   ]
  },
  {
   "cell_type": "code",
   "execution_count": 373,
   "id": "d7451f79",
   "metadata": {},
   "outputs": [
    {
     "data": {
      "text/plain": [
       "[<selenium.webdriver.remote.webelement.WebElement (session=\"ef0c9adff2b6eb216f266615fa9f1532\", element=\"4856dfab-56c5-4d9b-9ada-366756fcabf9\")>,\n",
       " <selenium.webdriver.remote.webelement.WebElement (session=\"ef0c9adff2b6eb216f266615fa9f1532\", element=\"83c086e9-01a7-4436-8354-cb541dd9c34a\")>,\n",
       " <selenium.webdriver.remote.webelement.WebElement (session=\"ef0c9adff2b6eb216f266615fa9f1532\", element=\"0eecc019-b9d5-442b-bc6c-525c849024d4\")>,\n",
       " <selenium.webdriver.remote.webelement.WebElement (session=\"ef0c9adff2b6eb216f266615fa9f1532\", element=\"a8c78215-0deb-41b2-afdc-7263186bb5df\")>,\n",
       " <selenium.webdriver.remote.webelement.WebElement (session=\"ef0c9adff2b6eb216f266615fa9f1532\", element=\"c2ef41c4-b937-45ca-961d-3bdf46d4b75e\")>,\n",
       " <selenium.webdriver.remote.webelement.WebElement (session=\"ef0c9adff2b6eb216f266615fa9f1532\", element=\"bb3bf588-9f90-4d9f-b5f9-50879461312c\")>,\n",
       " <selenium.webdriver.remote.webelement.WebElement (session=\"ef0c9adff2b6eb216f266615fa9f1532\", element=\"9a05fd82-d3e2-4fbb-9669-17d8c0aa5950\")>,\n",
       " <selenium.webdriver.remote.webelement.WebElement (session=\"ef0c9adff2b6eb216f266615fa9f1532\", element=\"41655db4-635d-4e8c-a50a-c12e64f6766c\")>,\n",
       " <selenium.webdriver.remote.webelement.WebElement (session=\"ef0c9adff2b6eb216f266615fa9f1532\", element=\"0da7c85e-6cce-4f2c-9d8e-cbb9ab6378b3\")>,\n",
       " <selenium.webdriver.remote.webelement.WebElement (session=\"ef0c9adff2b6eb216f266615fa9f1532\", element=\"99fe9e86-fb83-4117-b73d-593ca4c3a02f\")>,\n",
       " <selenium.webdriver.remote.webelement.WebElement (session=\"ef0c9adff2b6eb216f266615fa9f1532\", element=\"7e207615-aee4-4f03-8a59-f2b9eebefc05\")>,\n",
       " <selenium.webdriver.remote.webelement.WebElement (session=\"ef0c9adff2b6eb216f266615fa9f1532\", element=\"36338b39-7049-46c3-9f5f-622e607a11bc\")>,\n",
       " <selenium.webdriver.remote.webelement.WebElement (session=\"ef0c9adff2b6eb216f266615fa9f1532\", element=\"2b2bbe94-b2dd-4d48-ac3d-20264a31c894\")>,\n",
       " <selenium.webdriver.remote.webelement.WebElement (session=\"ef0c9adff2b6eb216f266615fa9f1532\", element=\"5619a32f-32d8-4a7a-bbb3-109f9cce9bcc\")>,\n",
       " <selenium.webdriver.remote.webelement.WebElement (session=\"ef0c9adff2b6eb216f266615fa9f1532\", element=\"9483dc1a-76ac-49c3-8bed-cf6887026bad\")>,\n",
       " <selenium.webdriver.remote.webelement.WebElement (session=\"ef0c9adff2b6eb216f266615fa9f1532\", element=\"3f8cb008-5955-487f-adb7-b88652ecbd7b\")>,\n",
       " <selenium.webdriver.remote.webelement.WebElement (session=\"ef0c9adff2b6eb216f266615fa9f1532\", element=\"64c010fd-c9b5-4dbe-a21d-774b3b41d68f\")>,\n",
       " <selenium.webdriver.remote.webelement.WebElement (session=\"ef0c9adff2b6eb216f266615fa9f1532\", element=\"93af2014-0729-4205-b3f6-435d7d00aa0d\")>,\n",
       " <selenium.webdriver.remote.webelement.WebElement (session=\"ef0c9adff2b6eb216f266615fa9f1532\", element=\"33ab7f74-0cd0-4634-b868-2d6fff96262c\")>,\n",
       " <selenium.webdriver.remote.webelement.WebElement (session=\"ef0c9adff2b6eb216f266615fa9f1532\", element=\"84bdc5ea-d942-4e07-b941-c5881a6baaa1\")>]"
      ]
     },
     "execution_count": 373,
     "metadata": {},
     "output_type": "execute_result"
    }
   ],
   "source": [
    "min_sal_tags=driver.find_elements_by_xpath(\"//div[@class='value body-medium']\")\n",
    "min_sal_tags"
   ]
  },
  {
   "cell_type": "code",
   "execution_count": 75,
   "id": "57878c30",
   "metadata": {},
   "outputs": [
    {
     "data": {
      "text/plain": [
       "['₹ 25.0L',\n",
       " '₹ 35.0L',\n",
       " '₹ 15.0L',\n",
       " '₹ 25.5L',\n",
       " '₹ 5.6L',\n",
       " '₹ 26.2L',\n",
       " '₹ 9.8L',\n",
       " '₹ 20.0L',\n",
       " '₹ 11.0L',\n",
       " '₹ 22.4L',\n",
       " '₹ 9.5L',\n",
       " '₹ 22.0L',\n",
       " '₹ 9.0L',\n",
       " '₹ 20.0L',\n",
       " '₹ 8.3L',\n",
       " '₹ 20.5L',\n",
       " '₹ 10.0L',\n",
       " '₹ 21.0L',\n",
       " '₹ 8.5L',\n",
       " '₹ 15.0L']"
      ]
     },
     "execution_count": 75,
     "metadata": {},
     "output_type": "execute_result"
    }
   ],
   "source": [
    "for i in min_sal_tags:\n",
    "    minimum=i.text\n",
    "    min_sal.append(minimum)\n",
    "min_sal"
   ]
  },
  {
   "cell_type": "code",
   "execution_count": 79,
   "id": "2874a2a4",
   "metadata": {},
   "outputs": [
    {
     "data": {
      "text/plain": [
       "['₹ 25.0L',\n",
       " '₹ 15.0L',\n",
       " '₹ 5.6L',\n",
       " '₹ 9.8L',\n",
       " '₹ 11.0L',\n",
       " '₹ 9.5L',\n",
       " '₹ 9.0L',\n",
       " '₹ 8.3L',\n",
       " '₹ 10.0L',\n",
       " '₹ 8.5L']"
      ]
     },
     "execution_count": 79,
     "metadata": {},
     "output_type": "execute_result"
    }
   ],
   "source": [
    "min_salary=min_sal[0::2]\n",
    "min_salary"
   ]
  },
  {
   "cell_type": "code",
   "execution_count": 81,
   "id": "3a6a17a7",
   "metadata": {},
   "outputs": [
    {
     "data": {
      "text/plain": [
       "['₹ 35.0L',\n",
       " '₹ 25.5L',\n",
       " '₹ 26.2L',\n",
       " '₹ 20.0L',\n",
       " '₹ 22.4L',\n",
       " '₹ 22.0L',\n",
       " '₹ 20.0L',\n",
       " '₹ 20.5L',\n",
       " '₹ 21.0L',\n",
       " '₹ 15.0L']"
      ]
     },
     "execution_count": 81,
     "metadata": {},
     "output_type": "execute_result"
    }
   ],
   "source": [
    "max_salary=min_sal[1::2]\n",
    "max_salary"
   ]
  },
  {
   "cell_type": "code",
   "execution_count": 83,
   "id": "2aa882dc",
   "metadata": {},
   "outputs": [],
   "source": [
    "df=pd.DataFrame({'Company':comp_name,'Average Salary':avg_sal,'Minimum Salary':min_salary,'Maximum Salary':max_salary})"
   ]
  },
  {
   "cell_type": "code",
   "execution_count": 84,
   "id": "eff6d6ef",
   "metadata": {},
   "outputs": [
    {
     "data": {
      "text/html": [
       "<div>\n",
       "<style scoped>\n",
       "    .dataframe tbody tr th:only-of-type {\n",
       "        vertical-align: middle;\n",
       "    }\n",
       "\n",
       "    .dataframe tbody tr th {\n",
       "        vertical-align: top;\n",
       "    }\n",
       "\n",
       "    .dataframe thead th {\n",
       "        text-align: right;\n",
       "    }\n",
       "</style>\n",
       "<table border=\"1\" class=\"dataframe\">\n",
       "  <thead>\n",
       "    <tr style=\"text-align: right;\">\n",
       "      <th></th>\n",
       "      <th>Company</th>\n",
       "      <th>Average Salary</th>\n",
       "      <th>Minimum Salary</th>\n",
       "      <th>Maximum Salary</th>\n",
       "    </tr>\n",
       "  </thead>\n",
       "  <tbody>\n",
       "    <tr>\n",
       "      <th>0</th>\n",
       "      <td>Walmart\\nbased on 11 salaries</td>\n",
       "      <td>₹ 29.7L</td>\n",
       "      <td>₹ 25.0L</td>\n",
       "      <td>₹ 35.0L</td>\n",
       "    </tr>\n",
       "    <tr>\n",
       "      <th>1</th>\n",
       "      <td>Ab Inbev\\nbased on 31 salaries</td>\n",
       "      <td>₹ 20.5L</td>\n",
       "      <td>₹ 15.0L</td>\n",
       "      <td>₹ 25.5L</td>\n",
       "    </tr>\n",
       "    <tr>\n",
       "      <th>2</th>\n",
       "      <td>Reliance Jio\\nbased on 10 salaries</td>\n",
       "      <td>₹ 18.9L</td>\n",
       "      <td>₹ 5.6L</td>\n",
       "      <td>₹ 26.2L</td>\n",
       "    </tr>\n",
       "    <tr>\n",
       "      <th>3</th>\n",
       "      <td>ZS\\nbased on 15 salaries</td>\n",
       "      <td>₹ 15.9L</td>\n",
       "      <td>₹ 9.8L</td>\n",
       "      <td>₹ 20.0L</td>\n",
       "    </tr>\n",
       "    <tr>\n",
       "      <th>4</th>\n",
       "      <td>Optum\\nbased on 28 salaries</td>\n",
       "      <td>₹ 15.4L</td>\n",
       "      <td>₹ 11.0L</td>\n",
       "      <td>₹ 22.4L</td>\n",
       "    </tr>\n",
       "    <tr>\n",
       "      <th>5</th>\n",
       "      <td>Fractal Analytics\\nbased on 81 salaries</td>\n",
       "      <td>₹ 15.1L</td>\n",
       "      <td>₹ 9.5L</td>\n",
       "      <td>₹ 22.0L</td>\n",
       "    </tr>\n",
       "    <tr>\n",
       "      <th>6</th>\n",
       "      <td>Tiger Analytics\\nbased on 46 salaries</td>\n",
       "      <td>₹ 14.8L</td>\n",
       "      <td>₹ 9.0L</td>\n",
       "      <td>₹ 20.0L</td>\n",
       "    </tr>\n",
       "    <tr>\n",
       "      <th>7</th>\n",
       "      <td>UnitedHealth\\nbased on 53 salaries</td>\n",
       "      <td>₹ 14.0L</td>\n",
       "      <td>₹ 8.3L</td>\n",
       "      <td>₹ 20.5L</td>\n",
       "    </tr>\n",
       "    <tr>\n",
       "      <th>8</th>\n",
       "      <td>Verizon\\nbased on 14 salaries</td>\n",
       "      <td>₹ 12.7L</td>\n",
       "      <td>₹ 10.0L</td>\n",
       "      <td>₹ 21.0L</td>\n",
       "    </tr>\n",
       "    <tr>\n",
       "      <th>9</th>\n",
       "      <td>Ganit Business Solutions\\nbased on 13 salaries</td>\n",
       "      <td>₹ 12.4L</td>\n",
       "      <td>₹ 8.5L</td>\n",
       "      <td>₹ 15.0L</td>\n",
       "    </tr>\n",
       "  </tbody>\n",
       "</table>\n",
       "</div>"
      ],
      "text/plain": [
       "                                          Company Average Salary  \\\n",
       "0                   Walmart\\nbased on 11 salaries        ₹ 29.7L   \n",
       "1                  Ab Inbev\\nbased on 31 salaries        ₹ 20.5L   \n",
       "2              Reliance Jio\\nbased on 10 salaries        ₹ 18.9L   \n",
       "3                        ZS\\nbased on 15 salaries        ₹ 15.9L   \n",
       "4                     Optum\\nbased on 28 salaries        ₹ 15.4L   \n",
       "5         Fractal Analytics\\nbased on 81 salaries        ₹ 15.1L   \n",
       "6           Tiger Analytics\\nbased on 46 salaries        ₹ 14.8L   \n",
       "7              UnitedHealth\\nbased on 53 salaries        ₹ 14.0L   \n",
       "8                   Verizon\\nbased on 14 salaries        ₹ 12.7L   \n",
       "9  Ganit Business Solutions\\nbased on 13 salaries        ₹ 12.4L   \n",
       "\n",
       "  Minimum Salary Maximum Salary  \n",
       "0        ₹ 25.0L        ₹ 35.0L  \n",
       "1        ₹ 15.0L        ₹ 25.5L  \n",
       "2         ₹ 5.6L        ₹ 26.2L  \n",
       "3         ₹ 9.8L        ₹ 20.0L  \n",
       "4        ₹ 11.0L        ₹ 22.4L  \n",
       "5         ₹ 9.5L        ₹ 22.0L  \n",
       "6         ₹ 9.0L        ₹ 20.0L  \n",
       "7         ₹ 8.3L        ₹ 20.5L  \n",
       "8        ₹ 10.0L        ₹ 21.0L  \n",
       "9         ₹ 8.5L        ₹ 15.0L  "
      ]
     },
     "execution_count": 84,
     "metadata": {},
     "output_type": "execute_result"
    }
   ],
   "source": [
    "df"
   ]
  },
  {
   "cell_type": "code",
   "execution_count": 85,
   "id": "1a43c5f6",
   "metadata": {},
   "outputs": [],
   "source": [
    "driver.close()"
   ]
  },
  {
   "cell_type": "code",
   "execution_count": null,
   "id": "5936ac6e",
   "metadata": {},
   "outputs": [],
   "source": []
  }
 ],
 "metadata": {
  "kernelspec": {
   "display_name": "Python 3 (ipykernel)",
   "language": "python",
   "name": "python3"
  },
  "language_info": {
   "codemirror_mode": {
    "name": "ipython",
    "version": 3
   },
   "file_extension": ".py",
   "mimetype": "text/x-python",
   "name": "python",
   "nbconvert_exporter": "python",
   "pygments_lexer": "ipython3",
   "version": "3.9.7"
  }
 },
 "nbformat": 4,
 "nbformat_minor": 5
}
