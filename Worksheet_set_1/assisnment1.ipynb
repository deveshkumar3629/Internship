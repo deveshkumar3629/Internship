{
 "cells": [
  {
   "cell_type": "raw",
   "id": "2ab1ca42",
   "metadata": {},
   "source": [
    "1.\tWhich of the following operators is used to calculate remainder in a division?\n",
    "Ans.  %\n",
    "2.\tIn python 2//3 is equal to?\n",
    "Ans. 0.666\n",
    "3.\tIn python, 6<<2 is equal to?\n",
    "Ans. 24\n",
    "4.\tIn python, 6&2 will give which of the following as output?\n",
    "Ans. 2\n",
    "5.\tIn python, 6|2 will give which of the following as output?\n",
    "Ans. 3\n",
    "6.\tWhat does the finally keyword denotes in python?\n",
    "Ans.  The finally block will be executed no matter if the try block raises an error or not.\n",
    "7.\tWhat does raise keyword is used for in python?\n",
    "Ans.It is used to raise an exception.\n",
    "8.\tWhich of the following is a common use case of yield keyword in python?\n",
    "Ans. In defining a generator.\n",
    "9.\tWhich of the following are the valid variable names?\n",
    "Ans.    A) _abc  and  C) abc2\t\n",
    "10.\tWhich of the following are the keywords in python?\n",
    "Ans.   Yield and raise.\n"
   ]
  },
  {
   "cell_type": "raw",
   "id": "99334d36",
   "metadata": {},
   "source": [
    "11. Write a python program to find the factorial of a number."
   ]
  },
  {
   "cell_type": "code",
   "execution_count": 1,
   "id": "d158e3b6",
   "metadata": {},
   "outputs": [
    {
     "name": "stdout",
     "output_type": "stream",
     "text": [
      "Enter a number: 7\n",
      "The factorial of 7 is 5040\n"
     ]
    }
   ],
   "source": [
    "# Python program to find the factorial of a number\n",
    "num = int(input(\"Enter a number: \"))\n",
    "\n",
    "factorial = 1\n",
    "\n",
    "# check if the number is negative, positive or zero\n",
    "if num < 0:\n",
    "    print(\"Sorry, factorial does not exist for negative numbers\")\n",
    "elif num == 0:\n",
    "    print(\"The factorial of 0 is 1\")\n",
    "else:\n",
    "    for i in range(1,num + 1):\n",
    "       factorial = factorial*i\n",
    "    print(\"The factorial of\",num,\"is\",factorial)"
   ]
  },
  {
   "cell_type": "raw",
   "id": "13d7ba58",
   "metadata": {},
   "source": [
    "12. Write a python program to find whether a number is prime or composite."
   ]
  },
  {
   "cell_type": "code",
   "execution_count": 3,
   "id": "b6537f82",
   "metadata": {},
   "outputs": [
    {
     "name": "stdout",
     "output_type": "stream",
     "text": [
      "Enter any number = 9\n",
      "9 is composite number\n"
     ]
    }
   ],
   "source": [
    "num = int(input(\"Enter any number = \"))\n",
    "if num > 1:\n",
    "    for i in range(2, num):\n",
    "        if (num % i) == 0:\n",
    "            print(num, \"is composite number\")\n",
    "            break\n",
    "    else:\n",
    "        print(num, \"is a prime number\")\n",
    "elif num == 0 or 1:\n",
    "    print(num, \"is a neither prime nor composite number\")\n",
    "else:\n",
    "    print(num, \"is not a prime number it is a composite number\")"
   ]
  },
  {
   "cell_type": "raw",
   "id": "8da75888",
   "metadata": {},
   "source": [
    "13. Write a python program to check whether a given string is palindrome or not."
   ]
  },
  {
   "cell_type": "code",
   "execution_count": 4,
   "id": "8271b46d",
   "metadata": {},
   "outputs": [
    {
     "name": "stdout",
     "output_type": "stream",
     "text": [
      "Enter a number:123454321\n",
      "The number is palindrome!\n"
     ]
    }
   ],
   "source": [
    "num=int(input(\"Enter a number:\"))\n",
    "temp=num\n",
    "rev=0\n",
    "while(num>0):\n",
    "    dig=num%10\n",
    "    rev=rev*10+dig\n",
    "    num=num//10\n",
    "if(temp==rev):\n",
    "    print(\"The number is palindrome!\")\n",
    "else:\n",
    "    print(\"Not a palindrome!\")"
   ]
  },
  {
   "cell_type": "code",
   "execution_count": 5,
   "id": "d605b932",
   "metadata": {},
   "outputs": [
    {
     "name": "stdout",
     "output_type": "stream",
     "text": [
      "Enter a string:432\n",
      "Not a palindrome\n"
     ]
    }
   ],
   "source": [
    "string=input((\"Enter a string:\"))\n",
    "if(string==string[::-1]):\n",
    "      print(\"The string is a palindrome\")\n",
    "else:\n",
    "      print(\"Not a palindrome\")"
   ]
  },
  {
   "cell_type": "raw",
   "id": "a56cc85c",
   "metadata": {},
   "source": [
    "14. Write a Python program to get the third side of right-angled triangle from two given sides."
   ]
  },
  {
   "cell_type": "code",
   "execution_count": 6,
   "id": "2ca4dbd4",
   "metadata": {},
   "outputs": [
    {
     "name": "stdout",
     "output_type": "stream",
     "text": [
      "Enter base =12\n",
      "Enter perp =5\n",
      "Hypotenus= 13.0\n"
     ]
    }
   ],
   "source": [
    "def pythogorus(base,perp):\n",
    "    hypo=((base)**2 + (perp)**2)**0.5\n",
    "    print('Hypotenus=',hypo)\n",
    "base=int(input('Enter base ='))\n",
    "perp=int(input('Enter perp ='))\n",
    "pythogorus(base,perp)"
   ]
  },
  {
   "cell_type": "raw",
   "id": "ebf8ab9f",
   "metadata": {},
   "source": [
    "15. Write a python program to print the frequency of each of the characters present in a given string."
   ]
  },
  {
   "cell_type": "code",
   "execution_count": 7,
   "id": "1fa3a2f7",
   "metadata": {},
   "outputs": [
    {
     "name": "stdout",
     "output_type": "stream",
     "text": [
      "{'i': 2, ' ': 5, 'a': 5, 'm': 3, 'd': 3, 'e': 2, 'v': 1, 's': 1, 'h': 1, 'k': 1, 'u': 1, 'r': 3, 'f': 2, 'o': 1, 'b': 1}\n"
     ]
    }
   ],
   "source": [
    "def charc_frequency(str1):\n",
    "    dict = {}\n",
    "    for n in str1:\n",
    "        keys = dict.keys()\n",
    "        if n in keys:\n",
    "            dict[n] += 1\n",
    "        else:\n",
    "            dict[n] = 1\n",
    "    return dict\n",
    "print(charc_frequency('i am devesh kumar from faridabad'))"
   ]
  },
  {
   "cell_type": "code",
   "execution_count": null,
   "id": "14e7d049",
   "metadata": {},
   "outputs": [],
   "source": []
  }
 ],
 "metadata": {
  "kernelspec": {
   "display_name": "Python 3",
   "language": "python",
   "name": "python3"
  },
  "language_info": {
   "codemirror_mode": {
    "name": "ipython",
    "version": 3
   },
   "file_extension": ".py",
   "mimetype": "text/x-python",
   "name": "python",
   "nbconvert_exporter": "python",
   "pygments_lexer": "ipython3",
   "version": "3.8.8"
  }
 },
 "nbformat": 4,
 "nbformat_minor": 5
}
